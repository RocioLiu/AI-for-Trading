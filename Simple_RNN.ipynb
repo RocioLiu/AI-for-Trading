{
  "nbformat": 4,
  "nbformat_minor": 0,
  "metadata": {
    "colab": {
      "name": "Simple_RNN.ipynb",
      "provenance": [],
      "collapsed_sections": [],
      "authorship_tag": "ABX9TyPr61+1zREb13YQJ5eQMSDo",
      "include_colab_link": true
    },
    "kernelspec": {
      "name": "python3",
      "display_name": "Python 3"
    },
    "language_info": {
      "name": "python"
    }
  },
  "cells": [
    {
      "cell_type": "markdown",
      "metadata": {
        "id": "view-in-github",
        "colab_type": "text"
      },
      "source": [
        "<a href=\"https://colab.research.google.com/github/RocioLiu/AI-for-Trading/blob/main/Simple_RNN.ipynb\" target=\"_parent\"><img src=\"https://colab.research.google.com/assets/colab-badge.svg\" alt=\"Open In Colab\"/></a>"
      ]
    },
    {
      "cell_type": "markdown",
      "metadata": {
        "id": "ydKfuCFn_APG"
      },
      "source": [
        "# **Simple RNN**\n",
        "In this notebook, we're going to train a simple RNN to do **time-series prediction**. Given some set of input data, it should be able to generate a prediction for the next time step!\n",
        "![](https://raw.githubusercontent.com/udacity/deep-learning-v2-pytorch/231590b713d54096cbd4cdf8944750517faa13d2/recurrent-neural-networks/time-series/assets/time_prediction.png)\n",
        "\n",
        "* First, we'll create our data\n",
        "* Then, define an RNN in PyTorch\n",
        "* Finally, we'll train our network and see how it performs"
      ]
    },
    {
      "cell_type": "markdown",
      "metadata": {
        "id": "9utQM8dH_oIL"
      },
      "source": [
        "### **Import resources and create data**"
      ]
    },
    {
      "cell_type": "code",
      "metadata": {
        "id": "sXW_et-b-znV"
      },
      "source": [
        "import torch\n",
        "from torch import nn\n",
        "import numpy as np\n",
        "import matplotlib.pyplot as plt\n",
        "%matplotlib inline"
      ],
      "execution_count": 1,
      "outputs": []
    },
    {
      "cell_type": "code",
      "metadata": {
        "colab": {
          "base_uri": "https://localhost:8080/",
          "height": 265
        },
        "id": "XKKT41Rf_szZ",
        "outputId": "9ec896b0-4ea9-4f6e-947e-00d47b48d1df"
      },
      "source": [
        "# how many time steps/data pts are in one batch of data\n",
        "seq_length = 20\n",
        "\n",
        "# generate evenly spaced data pts\n",
        "time_steps = np.linspace(0, np.pi, seq_length + 1)\n",
        "data = np.sin(time_steps)\n",
        "data.resize((seq_length + 1, 1)) # size becomes (seq_length+1, 1), adds an input_size(num of features) dimension\n",
        "\n",
        "x = data[:-1] # all but the last piece of data\n",
        "y = data[1:] # all but the first\n",
        "\n",
        "# display the data\n",
        "plt.plot(time_steps[1:], x, 'r.', label='input, x') # x\n",
        "plt.plot(time_steps[1:], y, 'b.', label='target, y') # y\n",
        "\n",
        "plt.legend(loc='best')\n",
        "plt.show()"
      ],
      "execution_count": 2,
      "outputs": [
        {
          "output_type": "display_data",
          "data": {
            "image/png": "[encoded data removed]",
            "text/plain": [
              "<Figure size 432x288 with 1 Axes>"
            ]
          },
          "metadata": {
            "needs_background": "light"
          }
        }
      ]
    },
    {
      "cell_type": "code",
      "metadata": {
        "colab": {
          "base_uri": "https://localhost:8080/"
        },
        "id": "KrK8foRdACEr",
        "outputId": "e93d733f-cadc-4d1a-eb58-d54f86b41fcc"
      },
      "source": [
        "print('time_steps size:', time_steps.shape)\n",
        "print('data size:', data.shape)"
      ],
      "execution_count": 3,
      "outputs": [
        {
          "output_type": "stream",
          "text": [
            "time_steps size: (21,)\n",
            "data size: (21, 1)\n"
          ],
          "name": "stdout"
        }
      ]
    },
    {
      "cell_type": "markdown",
      "metadata": {
        "id": "kM6Zo3EwE-dP"
      },
      "source": [
        "## **Define the RNN**\n",
        "Next, we define an RNN in PyTorch. We'll use nn.RNN to create an RNN layer, then we'll add a last, fully-connected layer to get the output size that we want. An RNN takes in a number of parameters:\n",
        "\n",
        "* **input_size** - the size of the input\n",
        "* **hidden_dim** - the number of features in the RNN output and in the hidden state\n",
        "* **n_layers** - the number of layers that make up the RNN, typically 1-3; greater than 1 means that you'll create a stacked RNN\n",
        "* **batch_first** - whether or not the input/output of the RNN will have the batch_size as the first dimension (batch_size, seq_length, hidden_dim)\n",
        "Take a look at the [RNN documentation](https://pytorch.org/docs/stable/generated/torch.nn.RNN.html#torch.nn.RNN) to read more about recurrent layers.\n",
        "\n",
        "After creating an RNN instance, the input of the RNN model should be:\n",
        "* **input** : tensor of shape `(L, N, H_in)` when `batch_first=False` or `(N, L, H_in)` when `batch_first=True` containing the features of the input sequence. \n",
        "* **h_0** : tensor of shape `(D * num_layers, N, H_out)` containing the initial hidden state for each element in the batch. Defaults to zeros if not provided.\n",
        "\n",
        "The output:\n",
        "* **output** : tensor of shape `(L, N, D * H_out)` when `batch_first=False` or `(N, L, D * H_out)` when `batch_first=True` containing the output features (`h_t`) from the last layer of the RNN, for each `t`.\n",
        "\n",
        "* **h_n** : tensor of shape (D * num_layers, N, H_out) containing the final hidden state for each element in the batch.\n",
        "\n",
        "Where \n",
        "* `N` = batch size\n",
        "* `L` = sequence length\n",
        "* `D` = 2 if bidirectional=True otherwise 1\n",
        "* `H_in` = input_size\n",
        "* `H_out` = hidden_size (i.e. hidden_dim)"
      ]
    },
    {
      "cell_type": "code",
      "metadata": {
        "id": "cDvkqwx5AV1H"
      },
      "source": [
        "class RNN(nn.Module):\n",
        "    def __init__(self, input_size, output_size, hidden_dim, n_layers):\n",
        "        super(RNN, self).__init__()\n",
        "\n",
        "        self.hidden_dim = hidden_dim\n",
        "\n",
        "        # define an RNN with specified parameters\n",
        "        # batch_first means that the first dim of the input and output will be the batch_size\n",
        "        self.rnn = nn.RNN(input_size, hidden_dim, n_layers, batch_first=True)\n",
        "\n",
        "        # last, fully-connected layer\n",
        "        self.fc = nn.Linear(hidden_dim, output_size)\n",
        "\n",
        "    def forward(self, x, hidden):\n",
        "        # x (batch_size, seq_length, input_size)\n",
        "        # hidden (n_layers, batch_size, hidden_dim)\n",
        "        # r_out (batch_size, time_step, hidden_size)\n",
        "        batch_size = x.size(0)\n",
        "\n",
        "        # get RNN outputs\n",
        "        r_out, hidden = self.rnn(x, hidden) # This produce the RNN output and a new hidden state\n",
        "        # shape output to be (batch_size*seq_length, hidden_dim)\n",
        "        # This is a flattening step where I'm preparing the output to be fed into a fully-connected layer\n",
        "        r_out = r_out.view(-1, self.hidden_dim) \n",
        "\n",
        "        # get final output\n",
        "        output = self.fc(r_out)\n",
        "\n",
        "        return output, hidden"
      ],
      "execution_count": 4,
      "outputs": []
    },
    {
      "cell_type": "markdown",
      "metadata": {
        "id": "AnvuuZz6OkI-"
      },
      "source": [
        "### **Check the input and output dimensions**\n",
        "As a check that your model is working as expected, test out how it responds to input data."
      ]
    },
    {
      "cell_type": "code",
      "metadata": {
        "colab": {
          "base_uri": "https://localhost:8080/"
        },
        "id": "JqFSsnu1Ojvh",
        "outputId": "d2c3504e-6597-47a6-e743-deea06e05f24"
      },
      "source": [
        "# test that dimensions are as expected\n",
        "test_rnn = RNN(input_size=1, output_size=1, hidden_dim=10, n_layers=2)\n",
        "\n",
        "# generate evenly spaced, test data pts\n",
        "time_steps = np.linspace(0, np.pi, seq_length)\n",
        "data = np.sin(time_steps)\n",
        "data.resize((seq_length, 1))\n",
        "\n",
        "test_input = torch.Tensor(data).unsqueeze(0) # give it a batch_size of 1 as first dimension\n",
        "print('Input size:', test_input.size())\n",
        "\n",
        "# test out rnn sizes\n",
        "test_out, test_h = test_rnn(test_input, None)\n",
        "print('Output size: ', test_out.size())\n",
        "print('Hidden state size: ', test_h.size())"
      ],
      "execution_count": 5,
      "outputs": [
        {
          "output_type": "stream",
          "text": [
            "Input size: torch.Size([1, 20, 1])\n",
            "Output size:  torch.Size([20, 1])\n",
            "Hidden state size:  torch.Size([2, 1, 10])\n"
          ],
          "name": "stdout"
        }
      ]
    },
    {
      "cell_type": "markdown",
      "metadata": {
        "id": "4T3cII6NWcK4"
      },
      "source": [
        "The output size is a 2D tensor. This is because in the forward function of our model definition smooshed the batch size and seqence length into one parameter (batch_size * seq_length, hidden_dim) = (20, 1).\n",
        "\n",
        "The final hidden state size is (n_layers, batch_size, H_out) = (2, 1, 10)"
      ]
    },
    {
      "cell_type": "markdown",
      "metadata": {
        "id": "6MvS1iecX7LF"
      },
      "source": [
        "## **Training the RNN**\n",
        "Next, we'll instantiate an RNN with some specified hyperparameters. Then train it over a series of steps, and see how it performs.\n",
        "\n"
      ]
    },
    {
      "cell_type": "code",
      "metadata": {
        "id": "6w5skXBPQGMM"
      },
      "source": [
        ""
      ],
      "execution_count": null,
      "outputs": []
    }
  ]
}
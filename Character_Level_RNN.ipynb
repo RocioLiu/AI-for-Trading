{
  "nbformat": 4,
  "nbformat_minor": 0,
  "metadata": {
    "colab": {
      "name": "Character_Level_RNN.ipynb",
      "provenance": [],
      "collapsed_sections": [],
      "authorship_tag": "ABX9TyPnz2ymJCUPZt6v25WnpCPc",
      "include_colab_link": true
    },
    "kernelspec": {
      "name": "python3",
      "display_name": "Python 3"
    },
    "language_info": {
      "name": "python"
    },
    "accelerator": "GPU"
  },
  "cells": [
    {
      "cell_type": "markdown",
      "metadata": {
        "id": "view-in-github",
        "colab_type": "text"
      },
      "source": [
        "<a href=\"https://colab.research.google.com/github/RocioLiu/AI-for-Trading/blob/main/Character_Level_RNN.ipynb\" target=\"_parent\"><img src=\"https://colab.research.google.com/assets/colab-badge.svg\" alt=\"Open In Colab\"/></a>"
      ]
    },
    {
      "cell_type": "markdown",
      "metadata": {
        "id": "wZMs4aPauV0R"
      },
      "source": [
        "# **Character-Level LSTM in PyTorch**\n",
        "In this notebook, I'll construct a character-level LSTM with PyTorch. The network will train character by character on some text, then generate new text character by character. As an example, I will train on Anna Karenina. **This model will be able to generate new text based on the text from the book!**\n",
        "\n",
        "This network is based off of Andrej Karpathy's [post on RNNs](http://karpathy.github.io/2015/05/21/rnn-effectiveness/) and [implementation in Torch](https://github.com/karpathy/char-rnn). Below is the general architecture of the character-wise RNN.\n",
        "\n",
        "![](https://raw.githubusercontent.com/udacity/deep-learning-v2-pytorch/7114a996e4edbb9570e57d3afa8848e8b0ebe6e0/recurrent-neural-networks/char-rnn/assets/charseq.jpeg)\n",
        "\n",
        "First let's load in our required resources for data loading and model creation."
      ]
    },
    {
      "cell_type": "code",
      "metadata": {
        "id": "UowU-zXruMjB"
      },
      "source": [
        "import numpy as np\n",
        "import os\n",
        "import torch\n",
        "from torch import nn\n",
        "import torch.nn.functional as F"
      ],
      "execution_count": 1,
      "outputs": []
    },
    {
      "cell_type": "markdown",
      "metadata": {
        "id": "nJw6GSV0v5tm"
      },
      "source": [
        "## **Load in Data**\n",
        "Then, we'll load the Anna Karenina text file and convert it into integers for our network to use."
      ]
    },
    {
      "cell_type": "code",
      "metadata": {
        "colab": {
          "resources": {
            "http://localhost:8080/nbextensions/google.colab/files.js": {
              "data": "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",
              "ok": true,
              "headers": [
                [
                  "content-type",
                  "application/javascript"
                ]
              ],
              "status": 200,
              "status_text": ""
            }
          },
          "base_uri": "https://localhost:8080/",
          "height": 73
        },
        "id": "AskS52ypwJWT",
        "outputId": "863de9fe-f013-40aa-ecfc-b9dcb9eafae2"
      },
      "source": [
        "from google.colab import files\n",
        "uploaded = files.upload()"
      ],
      "execution_count": 2,
      "outputs": [
        {
          "output_type": "display_data",
          "data": {
            "text/html": [
              "\n",
              "     <input type=\"file\" id=\"files-4d626e21-a3b2-4ee5-86a0-93a5bb409660\" name=\"files[]\" multiple disabled\n",
              "        style=\"border:none\" />\n",
              "     <output id=\"result-4d626e21-a3b2-4ee5-86a0-93a5bb409660\">\n",
              "      Upload widget is only available when the cell has been executed in the\n",
              "      current browser session. Please rerun this cell to enable.\n",
              "      </output>\n",
              "      <script src=\"/nbextensions/google.colab/files.js\"></script> "
            ],
            "text/plain": [
              "<IPython.core.display.HTML object>"
            ]
          },
          "metadata": {}
        },
        {
          "output_type": "stream",
          "text": [
            "Saving anna.txt to anna.txt\n"
          ],
          "name": "stdout"
        }
      ]
    },
    {
      "cell_type": "code",
      "metadata": {
        "id": "Wzr6pehHvgCX"
      },
      "source": [
        "# open text file and read in data as `text`\n",
        "with open('data/anna.txt', 'r') as f:\n",
        "    text = f.read()"
      ],
      "execution_count": 3,
      "outputs": []
    },
    {
      "cell_type": "markdown",
      "metadata": {
        "id": "0vRy25DYC-Zx"
      },
      "source": [
        "\n",
        "Let's check out the first 100 characters, make sure everything is peachy. According to the [American Book Review](http://americanbookreview.org/100bestlines.asp), this is the 6th best first line of a book ever."
      ]
    },
    {
      "cell_type": "code",
      "metadata": {
        "colab": {
          "base_uri": "https://localhost:8080/",
          "height": 35
        },
        "id": "Xv81iutr_R59",
        "outputId": "c889420d-2291-4c28-c96b-4661a7d6ec6f"
      },
      "source": [
        "text[:100]"
      ],
      "execution_count": 4,
      "outputs": [
        {
          "output_type": "execute_result",
          "data": {
            "application/vnd.google.colaboratory.intrinsic+json": {
              "type": "string"
            },
            "text/plain": [
              "'Chapter 1\\n\\n\\nHappy families are all alike; every unhappy family is unhappy in its own\\nway.\\n\\nEverythin'"
            ]
          },
          "metadata": {},
          "execution_count": 4
        }
      ]
    },
    {
      "cell_type": "markdown",
      "metadata": {
        "id": "2OPN3VySDd6F"
      },
      "source": [
        "### **Tokenization**\n",
        "In the cells, below, I'm creating a couple of **dictionaries** to convert the characters to and from integers. Encoding the characters as integers makes it easier to use as input in the network."
      ]
    },
    {
      "cell_type": "code",
      "metadata": {
        "id": "ZRF1d4b9CTLe"
      },
      "source": [
        "# encode the text and map each character to an integer and vice versa\n",
        "\n",
        "# we create two dictionaries:\n",
        "# 1. int2char, which maps integers to characters\n",
        "# 2. char2int, which maps characters to unique integers\n",
        "chars = tuple(set(text))\n",
        "int2char = dict(enumerate(chars))\n",
        "char2int = {ch: i for i, ch in int2char.items()}\n",
        "\n",
        "# encode the text\n",
        "encoded = np.array([char2int[ch] for ch in text])"
      ],
      "execution_count": 5,
      "outputs": []
    },
    {
      "cell_type": "markdown",
      "metadata": {
        "id": "97ovrelzTSEF"
      },
      "source": [
        "And we can see those same characters from above, encoded as integers."
      ]
    },
    {
      "cell_type": "code",
      "metadata": {
        "colab": {
          "base_uri": "https://localhost:8080/"
        },
        "id": "hl7zONmRRVb5",
        "outputId": "30f2c7f9-1d67-41fc-a0d0-d2ea190a6cdd"
      },
      "source": [
        "encoded[:100]"
      ],
      "execution_count": 6,
      "outputs": [
        {
          "output_type": "execute_result",
          "data": {
            "text/plain": [
              "array([41, 72, 53, 65,  3,  9, 52, 32, 42, 21, 21, 21, 40, 53, 65, 65, 62,\n",
              "       32, 69, 53, 30, 48, 66, 48,  9, 12, 32, 53, 52,  9, 32, 53, 66, 66,\n",
              "       32, 53, 66, 48, 19,  9, 49, 32,  9, 28,  9, 52, 62, 32, 67, 64, 72,\n",
              "       53, 65, 65, 62, 32, 69, 53, 30, 48, 66, 62, 32, 48, 12, 32, 67, 64,\n",
              "       72, 53, 65, 65, 62, 32, 48, 64, 32, 48,  3, 12, 32, 56, 55, 64, 21,\n",
              "       55, 53, 62, 50, 21, 21, 22, 28,  9, 52, 62,  3, 72, 48, 64])"
            ]
          },
          "metadata": {},
          "execution_count": 6
        }
      ]
    },
    {
      "cell_type": "markdown",
      "metadata": {
        "id": "8kCt2rlxTd9k"
      },
      "source": [
        "## **Pre-processing the data**\n",
        "As you can see in our char-RNN image above, our LSTM expects an input that is **one-hot encoded** meaning that each character is converted into an integer (via our created dictionary) and then converted into a column vector where only it's corresponding integer index will have the value of 1 and the rest of the vector will be filled with 0's. Since we're one-hot encoding the data, let's make a function to do that!"
      ]
    },
    {
      "cell_type": "code",
      "metadata": {
        "id": "wqGRNN3QD43S"
      },
      "source": [
        "def one_hot_encode(arr, n_labels):\n",
        "\n",
        "    # Initialize the encoded array\n",
        "    one_hot = np.zeros((np.multiply(*arr.shape), n_labels), dtype=np.float32)\n",
        "\n",
        "    # Fill the appropriate elements with ones\n",
        "    one_hot[np.arange(one_hot.shape[0]), arr.flatten()] = 1.\n",
        "\n",
        "    # Finally reshape it to get back to the original array\n",
        "    one_hot = one_hot.reshape((*arr.shape, n_labels))\n",
        "\n",
        "    return one_hot"
      ],
      "execution_count": 7,
      "outputs": []
    },
    {
      "cell_type": "code",
      "metadata": {
        "colab": {
          "base_uri": "https://localhost:8080/"
        },
        "id": "cs1xG2krb2nm",
        "outputId": "0225531b-0d17-4357-9629-3966e0bc9aae"
      },
      "source": [
        "# check that the function works as expected\n",
        "test_seq = np.array([[3, 5, 1]])\n",
        "one_hot = one_hot_encode(test_seq, 8)\n",
        "\n",
        "print(one_hot)"
      ],
      "execution_count": 8,
      "outputs": [
        {
          "output_type": "stream",
          "text": [
            "[[[0. 0. 0. 1. 0. 0. 0. 0.]\n",
            "  [0. 0. 0. 0. 0. 1. 0. 0.]\n",
            "  [0. 1. 0. 0. 0. 0. 0. 0.]]]\n"
          ],
          "name": "stdout"
        }
      ]
    },
    {
      "cell_type": "markdown",
      "metadata": {
        "id": "_RSgtTUxcY58"
      },
      "source": [
        "## **Making training mini-batches**\n",
        "To train on this data, we also want to create mini-batches for training. Remember that we want our batches to be multiple sequences of some desired number of sequence steps. Considering a simple example, our batches would look like this:\n",
        "\n",
        "[](https://raw.githubusercontent.com/udacity/deep-learning-v2-pytorch/7114a996e4edbb9570e57d3afa8848e8b0ebe6e0/recurrent-neural-networks/char-rnn/assets/sequence_batching%401x.png)\n",
        "\n",
        "In this example, we'll take the encoded characters (passed in as the arr parameter) and split them into multiple sequences, given by `batch_size`. Each of our sequences will be `seq_length` long."
      ]
    },
    {
      "cell_type": "markdown",
      "metadata": {
        "id": "C28Z9nWti99l"
      },
      "source": [
        "### **Creating Batches**\n",
        "**1. The first thing we need to do is discard some of the text so we only have completely full mini-batches.**\n",
        "\n",
        "Each batch contains $N \\times M$ characters, where $N$ is the batch size (the number of sequences in a batch) and $M$ is the seq_length or number of time steps in a sequence. Then, to get the total number of batches, $K$, that we can make from the array `arr`, you divide the length of `arr` by the number of characters per batch. Once you know the number of batches, you can get the total number of characters to keep from arr, $N * M * K$.\n",
        "\n",
        "**2. After that, we need to split arr into $N$ batches.**\n",
        "\n",
        "You can do this using `arr.reshape(size)` where size is a tuple containing the dimensions sizes of the reshaped array. We know we want $N$ sequences in a batch, so let's make that the size of the first dimension. For the second dimension, you can use -1 as a placeholder in the size, it'll fill up the array with the appropriate data for you. After this, you should have an array that is $N \\times (M * K)$.\n",
        "\n",
        "**3. Now that we have this array, we can iterate through it to get our mini-batches.**\n",
        "\n",
        "The idea is each batch is a $N \\times M$ window on the $N \\times (M * K)$ array. For each subsequent batch, the window moves over by `seq_length`. We also want to create both the input and target arrays. Remember that the targets are just the inputs shifted over by one character. The way I like to do this window is use range to take steps of size `n_steps` from $0$ to `arr.shape[1]`, the total number of tokens in each sequence. That way, the integers you get from range always point to the start of a batch, and each window is `seq_length` wide.\n",
        "\n",
        "**TODO:** Write the code for creating batches in the function below. The exercises in this notebook will not be easy. I've provided a notebook with solutions alongside this notebook. If you get stuck, checkout the solutions. The most important thing is that you don't copy and paste the code into here, type out the solution code yourself."
      ]
    },
    {
      "cell_type": "code",
      "metadata": {
        "id": "02qox7JwULKz"
      },
      "source": [
        "def get_batches(arr, batch_size, seq_length):\n",
        "    '''Create a generator that returns batches of size\n",
        "       batch_size x seq_length from arr.\n",
        "       \n",
        "       Arguments\n",
        "       ---------\n",
        "       arr: Array you want to make batches from\n",
        "       batch_size: Batch size, the number of sequences per batch\n",
        "       seq_length: Number of encoded chars in a sequence\n",
        "    '''\n",
        "    \n",
        "    ## TODO: Get the number of batches we can make\n",
        "    n_batches = len(arr) // (batch_size * seq_length)\n",
        "    \n",
        "    ## TODO: Keep only enough characters to make full batches\n",
        "    arr = arr[:(n_batches * batch_size * seq_length)]\n",
        "    \n",
        "    ## TODO: Reshape into batch_size rows\n",
        "    arr = arr.reshape((batch_size, -1))\n",
        "    \n",
        "    ## TODO: Iterate over the batches using a window of size seq_length\n",
        "    for n in range(0, arr.shape[1], seq_length):\n",
        "        # The features\n",
        "        x = arr[:, n:(n + seq_length)]\n",
        "        # The targets, shifted by one\n",
        "        y = np.zeros_like(x)\n",
        "        try:\n",
        "            #y = arr[:, (n + 1):(n + seq_length + 1)]\n",
        "            y[:, :-1], y[:, -1] = x[:, 1:], arr[:, n + seq_length]\n",
        "        except IndexError:\n",
        "            # make the last element of y equal to the first element in arr\n",
        "            y[:, :-1], y[:, -1] = x[:, 1:], arr[:, 0]\n",
        "        \n",
        "        yield x, y"
      ],
      "execution_count": 9,
      "outputs": []
    },
    {
      "cell_type": "markdown",
      "metadata": {
        "id": "fX3JLm67hFmX"
      },
      "source": [
        "### **Test Your Implementation**\n",
        "Now I'll make some data sets and we can check out what's going on as we batch data. Here, as an example, I'm going to use a batch size of 8 and 50 sequence steps."
      ]
    },
    {
      "cell_type": "code",
      "metadata": {
        "id": "Z2rYduiFcOA1"
      },
      "source": [
        "batches = get_batches(encoded, 8, 50)\n",
        "x, y = next(batches)"
      ],
      "execution_count": 10,
      "outputs": []
    },
    {
      "cell_type": "code",
      "metadata": {
        "id": "eLMjNQjGHEZd",
        "colab": {
          "base_uri": "https://localhost:8080/"
        },
        "outputId": "03877d88-4fb2-4f95-f950-2d72901cad54"
      },
      "source": [
        "# printing out the first 10 items in a sequence\n",
        "print('x\\n', x[:10, :10])\n",
        "print('\\ny\\n', y[:10, :10])"
      ],
      "execution_count": 11,
      "outputs": [
        {
          "output_type": "stream",
          "text": [
            "x\n",
            " [[41 72 53 65  3  9 52 32 42 21]\n",
            " [13 32 56 69 69 48 13 48 53 66]\n",
            " [32 53 32 62  9 53 52 32 53 69]\n",
            " [14 32 13 66 56 12  9 21  3 48]\n",
            " [14 32 18 52 53 28  9 21 14 56]\n",
            " [19 48 65 12 32 53 15 56 67  3]\n",
            " [32 64 56 32 12  3 52  9 64 18]\n",
            " [67 48 13 19 66 62 32 53 12 21]]\n",
            "\n",
            "y\n",
            " [[72 53 65  3  9 52 32 42 21 21]\n",
            " [32 56 69 69 48 13 48 53 66 32]\n",
            " [53 32 62  9 53 52 32 53 69  3]\n",
            " [32 13 66 56 12  9 21  3 48  9]\n",
            " [32 18 52 53 28  9 21 14 56 67]\n",
            " [48 65 12 32 53 15 56 67  3 33]\n",
            " [64 56 32 12  3 52  9 64 18  3]\n",
            " [48 13 19 66 62 32 53 12 21 65]]\n"
          ],
          "name": "stdout"
        }
      ]
    },
    {
      "cell_type": "markdown",
      "metadata": {
        "id": "t4ilp3OJj7oS"
      },
      "source": [
        "If you implemented `get_batches` correctly, the above output should look something like\n",
        "\n",
        "```\n",
        "    x  \n",
        "     [[25  8 60 11 45 27 28 73  1  2]  \n",
        "     [17  7 20 73 45  8 60 45 73 60]  \n",
        "     [27 20 80 73  7 28 73 60 73 65]  \n",
        "     [17 73 45  8 27 73 66  8 46 27]  \n",
        "     [73 17 60 12 73  8 27 28 73 45]  \n",
        "     [66 64 17 17 46  7 20 73 60 20]  \n",
        "     [73 76 20 20 60 73  8 60 80 73]  \n",
        "     [47 35 43  7 20 17 24 50 37 73]]  \n",
        "    \n",
        "    y\n",
        "     [[ 8 60 11 45 27 28 73  1  2  2]\n",
        "     [ 7 20 73 45  8 60 45 73 60 45]\n",
        "     [20 80 73  7 28 73 60 73 65  7]\n",
        "     [73 45  8 27 73 66  8 46 27 65]\n",
        "     [17 60 12 73  8 27 28 73 45 27]\n",
        "     [64 17 17 46  7 20 73 60 20 80]\n",
        "     [76 20 20 60 73  8 60 80 73 17]\n",
        "     [35 43  7 20 17 24 50 37 73 36]]     \n",
        "```\n",
        "\n",
        "although the exact numbers may be different. Check to make sure the data is shifted over one step for `y`.\n",
        "\n",
        "---"
      ]
    },
    {
      "cell_type": "markdown",
      "metadata": {
        "id": "rMkFtHARlrZR"
      },
      "source": [
        "## **Defining the network with PyTorch**\n",
        "Below is where you'll define the network.\n",
        "\n",
        "![](https://raw.githubusercontent.com/udacity/deep-learning-v2-pytorch/7114a996e4edbb9570e57d3afa8848e8b0ebe6e0/recurrent-neural-networks/char-rnn/assets/charRNN.png)\n",
        "\n",
        "\n",
        "Next, you'll use PyTorch to define the architecture of the network. We start by defining the layers and operations we want. Then, define a method for the forward pass. You've also been given a method for predicting characters.\n",
        "\n",
        "### **Model Structure**\n",
        "In `__init__` the suggested structure is as follows:\n",
        "\n",
        "* Create and store the necessary dictionaries (this has been done for you)\n",
        "* Define an LSTM layer that takes as params: an input size (the number of characters), a hidden layer size `n_hidden`, a number of layers n_layers, a dropout probability `drop_prob`, and a `batch_first` boolean (True, since we are batching)\n",
        "* Define a dropout layer with drop_prob  : [torch.nn.Dropout](https://pytorch.org/docs/stable/generated/torch.nn.Dropout.html#torch.nn.Dropout)\n",
        "* Define a fully-connected layer with params: input size n_hidden and output size (the number of characters) : [nn.Linear](https://pytorch.org/docs/stable/generated/torch.nn.Linear.html#torch.nn.Linear)\n",
        "* Finally, initialize the weights (again, this has been given)\n",
        "\n",
        "Note that some parameters have been named and given in the `__init__` function, and we use them and store them by doing something like `self.drop_prob = drop_prob`.\n",
        "\n",
        "---\n",
        "### **LSTM Inputs/Outputs**\n",
        "You can create a basic [LSTM layer](https://pytorch.org/docs/stable/generated/torch.nn.LSTM.html#torch.nn.LSTM) as follows\n",
        "\n",
        "```\n",
        "self.lstm = nn.LSTM(input_size, n_hidden, n_layers, \n",
        "                    dropout=drop_prob, batch_first=True)\n",
        "```\n",
        "where `input_size` is the number of characters this cell expects to see as sequential input, and `n_hidden` is the number of units in the hidden layers in the cell. And we can add dropout by adding a dropout parameter with a specified probability; this will automatically add dropout to the inputs or outputs. Finally, in the forward function, we can stack up the LSTM cells into layers using `.view`. With this, you pass in a list of cells and it will send the output of one cell into the next cell.\n",
        "\n",
        "We also need to create an initial hidden state of all zeros. This is done like so\n",
        "\n",
        "```\n",
        "self.init_hidden()\n",
        "```\n",
        "\n",
        "\n"
      ]
    },
    {
      "cell_type": "code",
      "metadata": {
        "colab": {
          "base_uri": "https://localhost:8080/"
        },
        "id": "pMzbF97JjmIk",
        "outputId": "aa007d9e-f1bc-4ae3-8320-305f154148a4"
      },
      "source": [
        "# check if GPU is available\n",
        "train_on_gpu = torch.cuda.is_available()\n",
        "if(train_on_gpu):\n",
        "    print('Training on GPU!')\n",
        "else: \n",
        "    print('No GPU available, training on CPU; consider making n_epochs very small.')"
      ],
      "execution_count": 12,
      "outputs": [
        {
          "output_type": "stream",
          "text": [
            "Training on GPU!\n"
          ],
          "name": "stdout"
        }
      ]
    },
    {
      "cell_type": "code",
      "metadata": {
        "id": "nm_vTVqDhqsd"
      },
      "source": [
        "class CharRNN(nn.Module):\n",
        "    \n",
        "    def __init__(self, tokens, n_hidden=256, n_layers=2,\n",
        "                               drop_prob=0.5, lr=0.001):\n",
        "        super().__init__()\n",
        "        self.drop_prob = drop_prob\n",
        "        self.n_layers = n_layers\n",
        "        self.n_hidden = n_hidden\n",
        "        self.lr = lr\n",
        "        \n",
        "        # creating character dictionaries\n",
        "        self.chars = tokens\n",
        "        self.int2char = dict(enumerate(self.chars))\n",
        "        self.char2int = {ch: ii for ii, ch in self.int2char.items()}\n",
        "        \n",
        "        ## TODO: define the layers of the model\n",
        "        # define the LSTM\n",
        "        #The input_size of lstm layer is the length of a one-hot encoded input character,\n",
        "        #and that's the length of my unique characters.\n",
        "        self.lstm = nn.LSTM(len(self.chars), n_hidden, n_layers, dropout=drop_prob, batch_first=True)\n",
        "        # define a dropout layer\n",
        "        self.dropout = nn.Dropout(drop_prob)\n",
        "        # define the final, fully-connected output layer\n",
        "        self.fc = nn.Linear(self.n_hidden, len(self.chars))\n",
        "      \n",
        "    \n",
        "    def forward(self, x, hidden):\n",
        "        ''' Forward pass through the network. \n",
        "            These inputs are x, and the hidden/cell state `hidden`. '''\n",
        "                \n",
        "        ## TODO: Get the outputs and the new hidden state from the lstm\n",
        "        l_out, hidden = self.lstm(x, hidden)\n",
        "        # padd through a dropout layer\n",
        "        out = self.dropout(l_out)\n",
        "        # Stack up LSTM outputs using view\n",
        "        # # you may need to use contiguous to reshape the output\n",
        "        out = out.contiguous().view(-1, self.n_hidden)\n",
        "        # put x through the fully-connected layer\n",
        "        out = self.fc(out)\n",
        "        \n",
        "        # return the final output and the hidden state\n",
        "        return out, hidden\n",
        "    \n",
        "    \n",
        "    def init_hidden(self, batch_size):\n",
        "        ''' Initializes hidden state '''\n",
        "        # Create two new tensors with sizes n_layers x batch_size x n_hidden,\n",
        "        # initialized to zero, for hidden state and cell state of LSTM\n",
        "        weight = next(self.parameters()).data\n",
        "        \n",
        "        if (train_on_gpu):\n",
        "            hidden = (weight.new(self.n_layers, batch_size, self.n_hidden).zero_().cuda(),\n",
        "                  weight.new(self.n_layers, batch_size, self.n_hidden).zero_().cuda())\n",
        "        else:\n",
        "            hidden = (weight.new(self.n_layers, batch_size, self.n_hidden).zero_(),\n",
        "                      weight.new(self.n_layers, batch_size, self.n_hidden).zero_())\n",
        "        \n",
        "        return hidden"
      ],
      "execution_count": 13,
      "outputs": []
    },
    {
      "cell_type": "markdown",
      "metadata": {
        "id": "lsoDpcF9W7i_"
      },
      "source": [
        "## **Time to train**\n",
        "The train function gives us the ability to set the number of epochs, the learning rate, and other parameters.\n",
        "\n",
        "Below we're using an Adam optimizer and cross entropy loss since we are looking at character class scores as output. We calculate the loss and perform backpropagation, as usual!\n",
        "\n",
        "A couple of details about training:\n",
        "\n",
        "* Within the batch loop, we detach the hidden state from its history; this time setting it equal to a new *tuple* variable because an LSTM has a hidden state that is a tuple of the hidden and cell states.\n",
        "* We use `clip_grad_norm_` to help prevent exploding gradients."
      ]
    },
    {
      "cell_type": "code",
      "metadata": {
        "id": "KgEcWyjVMbsy"
      },
      "source": [
        "def train(net, data, epochs=10, batch_size=10, seq_length=50, lr=0.001, clip=5, val_frac=0.1, print_every=10):\n",
        "    ''' Training a network \n",
        "    \n",
        "        Arguments\n",
        "        ---------\n",
        "        \n",
        "        net: CharRNN network\n",
        "        data: text data to train the network\n",
        "        epochs: Number of epochs to train\n",
        "        batch_size: Number of mini-sequences per mini-batch, aka batch size\n",
        "        seq_length: Number of character steps per mini-batch\n",
        "        lr: learning rate\n",
        "        clip: gradient clipping\n",
        "        val_frac: Fraction of data to hold out for validation\n",
        "        print_every: Number of steps for printing training and validation loss\n",
        "    \n",
        "    '''\n",
        "    net.train()\n",
        "    \n",
        "    opt = torch.optim.Adam(net.parameters(), lr=lr)\n",
        "    criterion = nn.CrossEntropyLoss()\n",
        "    \n",
        "    # create training and validation data\n",
        "    val_idx = int(len(data)*(1-val_frac))\n",
        "    data, val_data = data[:val_idx], data[val_idx:]\n",
        "    \n",
        "    if(train_on_gpu):\n",
        "        net.cuda()\n",
        "    \n",
        "    counter = 0\n",
        "    n_chars = len(net.chars)\n",
        "    for e in range(epochs):\n",
        "        # initialize hidden state\n",
        "        h = net.init_hidden(batch_size)\n",
        "        \n",
        "        for x, y in get_batches(data, batch_size, seq_length):\n",
        "            counter += 1\n",
        "            \n",
        "            # One-hot encode our data and make them Torch tensors\n",
        "            x = one_hot_encode(x, n_chars)\n",
        "            inputs, targets = torch.from_numpy(x), torch.from_numpy(y)\n",
        "            \n",
        "            if(train_on_gpu):\n",
        "                inputs, targets = inputs.cuda(), targets.cuda()\n",
        "\n",
        "            # Creating new variables for the hidden state, otherwise\n",
        "            # we'd backprop through the entire training history\n",
        "            h = tuple([each.data for each in h])\n",
        "\n",
        "            # zero accumulated gradients\n",
        "            net.zero_grad()\n",
        "            \n",
        "            # get the output from the model\n",
        "            output, h = net(inputs, h)\n",
        "            \n",
        "            # calculate the loss and perform backprop\n",
        "            loss = criterion(output, targets.view(batch_size*seq_length).long())\n",
        "            loss.backward()\n",
        "            # `clip_grad_norm` helps prevent the exploding gradient problem in RNNs / LSTMs.\n",
        "            nn.utils.clip_grad_norm_(net.parameters(), clip)\n",
        "            opt.step()\n",
        "            \n",
        "            # loss stats\n",
        "            if counter % print_every == 0:\n",
        "                # Get validation loss\n",
        "                val_h = net.init_hidden(batch_size)\n",
        "                val_losses = []\n",
        "                net.eval()\n",
        "                for x, y in get_batches(val_data, batch_size, seq_length):\n",
        "                    # One-hot encode our data and make them Torch tensors\n",
        "                    x = one_hot_encode(x, n_chars)\n",
        "                    x, y = torch.from_numpy(x), torch.from_numpy(y)\n",
        "                    \n",
        "                    # Creating new variables for the hidden state, otherwise\n",
        "                    # we'd backprop through the entire training history\n",
        "                    val_h = tuple([each.data for each in val_h])\n",
        "                    \n",
        "                    inputs, targets = x, y\n",
        "                    if(train_on_gpu):\n",
        "                        inputs, targets = inputs.cuda(), targets.cuda()\n",
        "\n",
        "                    output, val_h = net(inputs, val_h)\n",
        "                    val_loss = criterion(output, targets.view(batch_size*seq_length).long())\n",
        "                \n",
        "                    val_losses.append(val_loss.item())\n",
        "                \n",
        "                net.train() # reset to train mode after iterationg through validation data\n",
        "                \n",
        "                print(\"Epoch: {}/{}...\".format(e+1, epochs),\n",
        "                      \"Step: {}...\".format(counter),\n",
        "                      \"Loss: {:.4f}...\".format(loss.item()),\n",
        "                      \"Val Loss: {:.4f}\".format(np.mean(val_losses)))"
      ],
      "execution_count": 14,
      "outputs": []
    },
    {
      "cell_type": "markdown",
      "metadata": {
        "id": "Bim2QQNehT6T"
      },
      "source": [
        "## **Instantiating the model**\n",
        "Now we can actually train the network. First we'll create the network itself, with some given hyperparameters. Then, define the mini-batches sizes, and start training!"
      ]
    },
    {
      "cell_type": "code",
      "metadata": {
        "colab": {
          "base_uri": "https://localhost:8080/"
        },
        "id": "RQXl3Nm5hKLf",
        "outputId": "778d8f0e-4398-45f3-b5f5-90d223013a7e"
      },
      "source": [
        "## TODO: set your model hyperparameters\n",
        "# define and print the net\n",
        "n_hidden = 512\n",
        "n_layers = 2\n",
        "\n",
        "net = CharRNN(chars, n_hidden, n_layers)\n",
        "print(net)"
      ],
      "execution_count": 15,
      "outputs": [
        {
          "output_type": "stream",
          "text": [
            "CharRNN(\n",
            "  (lstm): LSTM(75, 512, num_layers=2, batch_first=True, dropout=0.5)\n",
            "  (dropout): Dropout(p=0.5, inplace=False)\n",
            "  (fc): Linear(in_features=512, out_features=75, bias=True)\n",
            ")\n"
          ],
          "name": "stdout"
        }
      ]
    },
    {
      "cell_type": "markdown",
      "metadata": {
        "id": "n5HaPgYzhuQS"
      },
      "source": [
        "### **Set your training hyperparameters!**"
      ]
    },
    {
      "cell_type": "code",
      "metadata": {
        "colab": {
          "base_uri": "https://localhost:8080/"
        },
        "id": "TlcOdXR6hlyf",
        "outputId": "0a408053-6024-4ada-cb97-32231fcde4dd"
      },
      "source": [
        "batch_size = 128\n",
        "seq_length = 100\n",
        "n_epochs =  20 # start small if you are just testing initial behavior\n",
        "\n",
        "# train the model\n",
        "train(net, encoded, epochs=n_epochs, batch_size=batch_size, seq_length=seq_length, lr=0.001, print_every=10)\n"
      ],
      "execution_count": 16,
      "outputs": [
        {
          "output_type": "stream",
          "text": [
            "Epoch: 1/20... Step: 10... Loss: 3.2186... Val Loss: 3.1343\n",
            "Epoch: 1/20... Step: 20... Loss: 3.1564... Val Loss: 3.1022\n",
            "Epoch: 1/20... Step: 30... Loss: 3.1493... Val Loss: 3.0948\n",
            "Epoch: 1/20... Step: 40... Loss: 3.1261... Val Loss: 3.0923\n",
            "Epoch: 1/20... Step: 50... Loss: 3.1408... Val Loss: 3.0890\n",
            "Epoch: 2/20... Step: 60... Loss: 3.1145... Val Loss: 3.0853\n",
            "Epoch: 2/20... Step: 70... Loss: 3.0965... Val Loss: 3.0776\n",
            "Epoch: 2/20... Step: 80... Loss: 3.0941... Val Loss: 3.0606\n",
            "Epoch: 2/20... Step: 90... Loss: 3.0621... Val Loss: 3.0154\n",
            "Epoch: 2/20... Step: 100... Loss: 2.9741... Val Loss: 2.9409\n",
            "Epoch: 2/20... Step: 110... Loss: 2.8587... Val Loss: 2.7998\n",
            "Epoch: 3/20... Step: 120... Loss: 2.8163... Val Loss: 2.7419\n",
            "Epoch: 3/20... Step: 130... Loss: 2.6558... Val Loss: 2.6026\n",
            "Epoch: 3/20... Step: 140... Loss: 2.5876... Val Loss: 2.5316\n",
            "Epoch: 3/20... Step: 150... Loss: 2.5623... Val Loss: 2.4786\n",
            "Epoch: 3/20... Step: 160... Loss: 2.4933... Val Loss: 2.4409\n",
            "Epoch: 4/20... Step: 170... Loss: 2.4295... Val Loss: 2.4066\n",
            "Epoch: 4/20... Step: 180... Loss: 2.4096... Val Loss: 2.3785\n",
            "Epoch: 4/20... Step: 190... Loss: 2.3732... Val Loss: 2.3444\n",
            "Epoch: 4/20... Step: 200... Loss: 2.3590... Val Loss: 2.3120\n",
            "Epoch: 4/20... Step: 210... Loss: 2.3453... Val Loss: 2.2886\n",
            "Epoch: 4/20... Step: 220... Loss: 2.2972... Val Loss: 2.2621\n",
            "Epoch: 5/20... Step: 230... Loss: 2.2707... Val Loss: 2.2339\n",
            "Epoch: 5/20... Step: 240... Loss: 2.2370... Val Loss: 2.2018\n",
            "Epoch: 5/20... Step: 250... Loss: 2.2150... Val Loss: 2.1777\n",
            "Epoch: 5/20... Step: 260... Loss: 2.1844... Val Loss: 2.1495\n",
            "Epoch: 5/20... Step: 270... Loss: 2.1905... Val Loss: 2.1268\n",
            "Epoch: 5/20... Step: 280... Loss: 2.1739... Val Loss: 2.1128\n",
            "Epoch: 6/20... Step: 290... Loss: 2.1258... Val Loss: 2.0839\n",
            "Epoch: 6/20... Step: 300... Loss: 2.1303... Val Loss: 2.0636\n",
            "Epoch: 6/20... Step: 310... Loss: 2.0928... Val Loss: 2.0481\n",
            "Epoch: 6/20... Step: 320... Loss: 2.0837... Val Loss: 2.0298\n",
            "Epoch: 6/20... Step: 330... Loss: 2.0691... Val Loss: 2.0117\n",
            "Epoch: 7/20... Step: 340... Loss: 2.0172... Val Loss: 1.9881\n",
            "Epoch: 7/20... Step: 350... Loss: 2.0099... Val Loss: 1.9756\n",
            "Epoch: 7/20... Step: 360... Loss: 2.0107... Val Loss: 1.9524\n",
            "Epoch: 7/20... Step: 370... Loss: 2.0193... Val Loss: 1.9399\n",
            "Epoch: 7/20... Step: 380... Loss: 1.9594... Val Loss: 1.9214\n",
            "Epoch: 7/20... Step: 390... Loss: 1.9488... Val Loss: 1.9069\n",
            "Epoch: 8/20... Step: 400... Loss: 1.9713... Val Loss: 1.8915\n",
            "Epoch: 8/20... Step: 410... Loss: 1.9343... Val Loss: 1.8748\n",
            "Epoch: 8/20... Step: 420... Loss: 1.9191... Val Loss: 1.8626\n",
            "Epoch: 8/20... Step: 430... Loss: 1.9215... Val Loss: 1.8483\n",
            "Epoch: 8/20... Step: 440... Loss: 1.8817... Val Loss: 1.8345\n",
            "Epoch: 9/20... Step: 450... Loss: 1.8528... Val Loss: 1.8202\n",
            "Epoch: 9/20... Step: 460... Loss: 1.8251... Val Loss: 1.8091\n",
            "Epoch: 9/20... Step: 470... Loss: 1.8243... Val Loss: 1.7992\n",
            "Epoch: 9/20... Step: 480... Loss: 1.8148... Val Loss: 1.7876\n",
            "Epoch: 9/20... Step: 490... Loss: 1.8306... Val Loss: 1.7778\n",
            "Epoch: 9/20... Step: 500... Loss: 1.8120... Val Loss: 1.7644\n",
            "Epoch: 10/20... Step: 510... Loss: 1.8005... Val Loss: 1.7549\n",
            "Epoch: 10/20... Step: 520... Loss: 1.7699... Val Loss: 1.7425\n",
            "Epoch: 10/20... Step: 530... Loss: 1.7750... Val Loss: 1.7377\n",
            "Epoch: 10/20... Step: 540... Loss: 1.7704... Val Loss: 1.7263\n",
            "Epoch: 10/20... Step: 550... Loss: 1.7670... Val Loss: 1.7151\n",
            "Epoch: 10/20... Step: 560... Loss: 1.7735... Val Loss: 1.7038\n",
            "Epoch: 11/20... Step: 570... Loss: 1.7407... Val Loss: 1.6970\n",
            "Epoch: 11/20... Step: 580... Loss: 1.7612... Val Loss: 1.6873\n",
            "Epoch: 11/20... Step: 590... Loss: 1.7032... Val Loss: 1.6794\n",
            "Epoch: 11/20... Step: 600... Loss: 1.7124... Val Loss: 1.6725\n",
            "Epoch: 11/20... Step: 610... Loss: 1.7046... Val Loss: 1.6665\n",
            "Epoch: 12/20... Step: 620... Loss: 1.6833... Val Loss: 1.6581\n",
            "Epoch: 12/20... Step: 630... Loss: 1.6718... Val Loss: 1.6470\n",
            "Epoch: 12/20... Step: 640... Loss: 1.6858... Val Loss: 1.6426\n",
            "Epoch: 12/20... Step: 650... Loss: 1.7106... Val Loss: 1.6337\n",
            "Epoch: 12/20... Step: 660... Loss: 1.6640... Val Loss: 1.6295\n",
            "Epoch: 12/20... Step: 670... Loss: 1.6622... Val Loss: 1.6217\n",
            "Epoch: 13/20... Step: 680... Loss: 1.6819... Val Loss: 1.6129\n",
            "Epoch: 13/20... Step: 690... Loss: 1.6705... Val Loss: 1.6053\n",
            "Epoch: 13/20... Step: 700... Loss: 1.6528... Val Loss: 1.6039\n",
            "Epoch: 13/20... Step: 710... Loss: 1.6556... Val Loss: 1.5970\n",
            "Epoch: 13/20... Step: 720... Loss: 1.6400... Val Loss: 1.5940\n",
            "Epoch: 14/20... Step: 730... Loss: 1.6142... Val Loss: 1.5837\n",
            "Epoch: 14/20... Step: 740... Loss: 1.5751... Val Loss: 1.5768\n",
            "Epoch: 14/20... Step: 750... Loss: 1.5955... Val Loss: 1.5725\n",
            "Epoch: 14/20... Step: 760... Loss: 1.5853... Val Loss: 1.5695\n",
            "Epoch: 14/20... Step: 770... Loss: 1.6034... Val Loss: 1.5640\n",
            "Epoch: 14/20... Step: 780... Loss: 1.5918... Val Loss: 1.5583\n",
            "Epoch: 15/20... Step: 790... Loss: 1.5737... Val Loss: 1.5535\n",
            "Epoch: 15/20... Step: 800... Loss: 1.5490... Val Loss: 1.5460\n",
            "Epoch: 15/20... Step: 810... Loss: 1.5525... Val Loss: 1.5390\n",
            "Epoch: 15/20... Step: 820... Loss: 1.5700... Val Loss: 1.5390\n",
            "Epoch: 15/20... Step: 830... Loss: 1.5670... Val Loss: 1.5320\n",
            "Epoch: 15/20... Step: 840... Loss: 1.5932... Val Loss: 1.5287\n",
            "Epoch: 16/20... Step: 850... Loss: 1.5560... Val Loss: 1.5259\n",
            "Epoch: 16/20... Step: 860... Loss: 1.5818... Val Loss: 1.5187\n",
            "Epoch: 16/20... Step: 870... Loss: 1.5191... Val Loss: 1.5189\n",
            "Epoch: 16/20... Step: 880... Loss: 1.5448... Val Loss: 1.5115\n",
            "Epoch: 16/20... Step: 890... Loss: 1.5268... Val Loss: 1.5123\n",
            "Epoch: 17/20... Step: 900... Loss: 1.5102... Val Loss: 1.5053\n",
            "Epoch: 17/20... Step: 910... Loss: 1.5018... Val Loss: 1.5000\n",
            "Epoch: 17/20... Step: 920... Loss: 1.5148... Val Loss: 1.4982\n",
            "Epoch: 17/20... Step: 930... Loss: 1.5597... Val Loss: 1.4977\n",
            "Epoch: 17/20... Step: 940... Loss: 1.5065... Val Loss: 1.4957\n",
            "Epoch: 17/20... Step: 950... Loss: 1.5059... Val Loss: 1.4900\n",
            "Epoch: 18/20... Step: 960... Loss: 1.5312... Val Loss: 1.4799\n",
            "Epoch: 18/20... Step: 970... Loss: 1.5235... Val Loss: 1.4780\n",
            "Epoch: 18/20... Step: 980... Loss: 1.5067... Val Loss: 1.4756\n",
            "Epoch: 18/20... Step: 990... Loss: 1.5197... Val Loss: 1.4718\n",
            "Epoch: 18/20... Step: 1000... Loss: 1.4867... Val Loss: 1.4672\n",
            "Epoch: 19/20... Step: 1010... Loss: 1.4843... Val Loss: 1.4632\n",
            "Epoch: 19/20... Step: 1020... Loss: 1.4449... Val Loss: 1.4600\n",
            "Epoch: 19/20... Step: 1030... Loss: 1.4604... Val Loss: 1.4613\n",
            "Epoch: 19/20... Step: 1040... Loss: 1.4523... Val Loss: 1.4575\n",
            "Epoch: 19/20... Step: 1050... Loss: 1.4721... Val Loss: 1.4522\n",
            "Epoch: 19/20... Step: 1060... Loss: 1.4722... Val Loss: 1.4509\n",
            "Epoch: 20/20... Step: 1070... Loss: 1.4485... Val Loss: 1.4520\n",
            "Epoch: 20/20... Step: 1080... Loss: 1.4284... Val Loss: 1.4439\n",
            "Epoch: 20/20... Step: 1090... Loss: 1.4321... Val Loss: 1.4409\n",
            "Epoch: 20/20... Step: 1100... Loss: 1.4465... Val Loss: 1.4406\n",
            "Epoch: 20/20... Step: 1110... Loss: 1.4597... Val Loss: 1.4396\n",
            "Epoch: 20/20... Step: 1120... Loss: 1.4824... Val Loss: 1.4319\n"
          ],
          "name": "stdout"
        }
      ]
    },
    {
      "cell_type": "markdown",
      "metadata": {
        "id": "3qU0Kr6TkNw-"
      },
      "source": [
        "## **Getting the best model**\n",
        "To set your hyperparameters to get the best performance, you'll want to watch the training and validation losses. If your training loss is much lower than the validation loss, you're overfitting. Increase regularization (more dropout) or use a smaller network. If the training and validation losses are close, you're underfitting so you can increase the size of the network.\n",
        "\n",
        "### **Hyperparameters**\n",
        "Here are the hyperparameters for the network.\n",
        "\n",
        "In defining the model:\n",
        "\n",
        "* `n_hidden` - The number of units in the hidden layers.\n",
        "* `n_layers` - Number of hidden LSTM layers to use.\n",
        "We assume that dropout probability and learning rate will be kept at the default, in this example.\n",
        "\n",
        "And in training:\n",
        "\n",
        "* `batch_size` - Number of sequences running through the network in one pass.\n",
        "* `seq_length` - Number of characters in the sequence the network is trained on. Larger is better typically, the network will learn more long range dependencies. But it takes longer to train. 100 is typically a good number here.\n",
        "* `lr` - Learning rate for training\n",
        "Here's some good advice from Andrej Karpathy on training the network. I'm going to copy it in here for your benefit, but also link to [where it originally came from](https://github.com/karpathy/char-rnn#tips-and-tricks).\n",
        "\n",
        "> ### **Tips and Tricks**\n",
        ">#### **Monitoring Validation Loss vs. Training Loss** ####\n",
        "If you're somewhat new to Machine Learning or Neural Networks it can take a bit of expertise to get good models. The most important quantity to keep track of is the difference between your training loss (printed during training) and the validation loss (printed once in a while when the RNN is run on the validation data (by default every 1000 iterations)). In particular:\n",
        "\n",
        ">If your training loss is much lower than validation loss then this means the network might be overfitting. Solutions to this are to decrease your network size, or to increase dropout. For example you could try dropout of 0.5 and so on.\n",
        "If your training/validation loss are about equal then your model is underfitting. Increase the size of your model (either number of layers or the raw number of neurons per layer)\n",
        "\n",
        ">#### **Approximate number of parameters**\n",
        "The two most important parameters that control the model are n_hidden and n_layers. I would advise that you always use n_layers of either 2/3. The n_hidden can be adjusted based on how much data you have. The two important quantities to keep track of here are:\n",
        "\n",
        ">* The number of parameters in your model. This is printed when you start training.\n",
        "* The size of your dataset. 1MB file is approximately 1 million characters.\n",
        "\n",
        ">These two should be about the same order of magnitude. It's a little tricky to tell. Here are some examples:\n",
        "* I have a 100MB dataset and I'm using the default parameter settings (which currently print 150K parameters). My data size is significantly larger (100 mil >> 0.15 mil), so I expect to heavily underfit. I am thinking I can comfortably afford to make n_hidden larger.\n",
        "* I have a 10MB dataset and running a 10 million parameter model. I'm slightly nervous and I'm carefully monitoring my validation loss. If it's larger than my training loss then I may want to try to increase dropout a bit and see if that helps the validation loss.\n",
        "\n",
        ">#### **Best models strategy** \n",
        "The winning strategy to obtaining very good models (if you have the compute time) is to always err on making the network larger (as large as you're willing to wait for it to compute) and then try different dropout values (between 0,1). Whatever model has the best validation performance (the loss, written in the checkpoint filename, low is good) is the one you should use in the end.\n",
        "\n",
        ">It is very common in deep learning to run many different models with many different hyperparameter settings, and in the end take whatever checkpoint gave the best validation performance.\n",
        "\n",
        ">By the way, the size of your training and validation splits are also parameters. Make sure you have a decent amount of data in your validation set or otherwise the validation performance will be noisy and not very informative."
      ]
    },
    {
      "cell_type": "markdown",
      "metadata": {
        "id": "1MMn0Cm6mylh"
      },
      "source": [
        "## **Checkpoint**\n",
        "After training, we'll save the model so we can load it again later if we need too. Here I'm saving the parameters needed to create the same architecture, the hidden layer hyperparameters and the text characters."
      ]
    },
    {
      "cell_type": "code",
      "metadata": {
        "id": "ZL7GGOqth0t-"
      },
      "source": [
        "# change the name, for saving multiple files\n",
        "model_name = 'rnn_x_epoch.net'\n",
        "\n",
        "checkpoint = {'n_hidden': net.n_hidden,\n",
        "              'n_layers': net.n_layers,\n",
        "              'state_dict': net.state_dict(),\n",
        "              'tokens': net.chars}\n",
        "\n",
        "with open(model_name, 'wb') as f:\n",
        "    torch.save(checkpoint, f)"
      ],
      "execution_count": 17,
      "outputs": []
    },
    {
      "cell_type": "markdown",
      "metadata": {
        "id": "-QFOouryH68d"
      },
      "source": [
        "---\n",
        "## **Making Predictions**\n",
        "Now that the model is trained, we'll want to sample from it and make predictions about next characters! To sample, we pass in a character and have the network predict the next character. Then we take that character, pass it back in, and get another predicted character. Just keep doing this and you'll generate a bunch of text!\n",
        "\n",
        "### **A note on the `predict` function**\n",
        "The output of our RNN is from a fully-connected layer and it outputs a **distribution of next-character scores**.\n",
        "\n",
        ">To actually get the next character, we apply a softmax function, which gives us a probability distribution that we can then sample to predict the next character.\n",
        "\n",
        "### **Top K sampling**\n",
        "Our predictions come from a categorical probability distribution over all the possible characters. We can make the sample text and make it more reasonable to handle (with less variables) by only considering some $K$ most probable characters. This will prevent the network from giving us completely absurd characters while allowing it to introduce some noise and randomness into the sampled text. Read more about [topk](https://pytorch.org/docs/stable/generated/torch.topk.html#torch.topk)."
      ]
    },
    {
      "cell_type": "code",
      "metadata": {
        "colab": {
          "base_uri": "https://localhost:8080/"
        },
        "id": "3l8-Ut_wRTc3",
        "outputId": "61b8a9ad-239c-487e-8ca1-53ab1948a4ae"
      },
      "source": [
        "x = torch.arange(1., 6.)\n",
        "print(x)\n",
        "torch.topk(x, 3)"
      ],
      "execution_count": 19,
      "outputs": [
        {
          "output_type": "stream",
          "text": [
            "tensor([1., 2., 3., 4., 5.])\n"
          ],
          "name": "stdout"
        },
        {
          "output_type": "execute_result",
          "data": {
            "text/plain": [
              "torch.return_types.topk(values=tensor([5., 4., 3.]), indices=tensor([4, 3, 2]))"
            ]
          },
          "metadata": {},
          "execution_count": 19
        }
      ]
    },
    {
      "cell_type": "code",
      "metadata": {
        "colab": {
          "base_uri": "https://localhost:8080/"
        },
        "id": "VpPxsm2lRgnC",
        "outputId": "8f47ed41-08de-495f-fbf4-dfc9f27e81c3"
      },
      "source": [
        "x.topk(3)"
      ],
      "execution_count": 21,
      "outputs": [
        {
          "output_type": "execute_result",
          "data": {
            "text/plain": [
              "torch.return_types.topk(values=tensor([5., 4., 3.]), indices=tensor([4, 3, 2]))"
            ]
          },
          "metadata": {},
          "execution_count": 21
        }
      ]
    },
    {
      "cell_type": "code",
      "metadata": {
        "id": "DfnWY2enm1rr"
      },
      "source": [
        "def predict(net, char, h=None, top_k=None):\n",
        "        ''' Given a character, predict the next character.\n",
        "            Returns the predicted character and the hidden state.\n",
        "        '''\n",
        "        \n",
        "        # tensor inputs\n",
        "        x = np.array([[net.char2int[char]]])\n",
        "        x = one_hot_encode(x, len(net.chars))\n",
        "        inputs = torch.from_numpy(x)\n",
        "        \n",
        "        if(train_on_gpu):\n",
        "            inputs = inputs.cuda()\n",
        "        \n",
        "        # detach hidden state from history\n",
        "        h = tuple([each.data for each in h])\n",
        "        # get the output of the model\n",
        "        out, h = net(inputs, h)\n",
        "\n",
        "        # get the character probabilities\n",
        "        p = F.softmax(out, dim=1).data\n",
        "        if(train_on_gpu):\n",
        "            p = p.cpu() # move to cpu\n",
        "        \n",
        "        # get top characters\n",
        "        if top_k is None:\n",
        "            top_ch = np.arange(len(net.chars))\n",
        "        else:\n",
        "            p, top_ch = p.topk(top_k)\n",
        "            top_ch = top_ch.numpy().squeeze()\n",
        "        \n",
        "        # select the likely next character with some element of randomness\n",
        "        p = p.numpy().squeeze()\n",
        "        char = np.random.choice(top_ch, p=p/p.sum())\n",
        "        \n",
        "        # return the encoded value of the predicted char and the hidden state\n",
        "        return net.int2char[char], h"
      ],
      "execution_count": 18,
      "outputs": []
    },
    {
      "cell_type": "markdown",
      "metadata": {
        "id": "bhkUR9ItQI-3"
      },
      "source": [
        "### **Priming and generating text**\n",
        "Typically you'll want to prime the network so you can build up a hidden state. Otherwise the network will start out generating characters at random. In general the first bunch of characters will be a little rough since it hasn't built up a long history of characters to predict from."
      ]
    },
    {
      "cell_type": "code",
      "metadata": {
        "id": "AomKeLujJ4yB"
      },
      "source": [
        "h = tuple([each.data for each in h])"
      ],
      "execution_count": null,
      "outputs": []
    },
    {
      "cell_type": "code",
      "metadata": {
        "colab": {
          "base_uri": "https://localhost:8080/",
          "height": 162
        },
        "id": "LbH1LCNMTZjr",
        "outputId": "28b2aa9c-03e3-4c4e-8829-ceeb2fa56edb"
      },
      "source": [
        "h"
      ],
      "execution_count": 22,
      "outputs": [
        {
          "output_type": "error",
          "ename": "NameError",
          "evalue": "ignored",
          "traceback": [
            "\u001b[0;31m---------------------------------------------------------------------------\u001b[0m",
            "\u001b[0;31mNameError\u001b[0m                                 Traceback (most recent call last)",
            "\u001b[0;32m<ipython-input-22-244aa7266b3f>\u001b[0m in \u001b[0;36m<module>\u001b[0;34m()\u001b[0m\n\u001b[0;32m----> 1\u001b[0;31m \u001b[0mh\u001b[0m\u001b[0;34m\u001b[0m\u001b[0;34m\u001b[0m\u001b[0m\n\u001b[0m",
            "\u001b[0;31mNameError\u001b[0m: name 'h' is not defined"
          ]
        }
      ]
    },
    {
      "cell_type": "code",
      "metadata": {
        "id": "m6d0HBijTaCp"
      },
      "source": [
        ""
      ],
      "execution_count": null,
      "outputs": []
    }
  ]
}
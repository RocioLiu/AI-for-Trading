{
 "cells": [
  {
   "cell_type": "markdown",
   "metadata": {},
   "source": [
    "# Sentiment Analysis with an RNN\n",
    "\n",
    "In this notebook, you'll implement a recurrent neural network that performs sentiment analysis. \n",
    ">Using an RNN rather than a strictly feedforward network is more accurate since we can include information about the *sequence* of words. \n",
    "\n",
    "Here we'll use a dataset of movie reviews, accompanied by sentiment labels: positive or negative.\n",
    "\n",
    "<img src=\"assets/reviews_ex.png\" width=40%>\n",
    "\n",
    "### Network Architecture\n",
    "\n",
    "The architecture for this network is shown below.\n",
    "\n",
    "<img src=\"assets/network_diagram.png\" width=40%>\n",
    "\n",
    ">**First, we'll pass in words to an embedding layer.** We need an embedding layer because we have tens of thousands of words, so we'll need a more efficient representation for our input data than one-hot encoded vectors. You should have seen this before from the Word2Vec lesson. You can actually train an embedding with the Skip-gram Word2Vec model and use those embeddings as input, here. However, it's good enough to just have an embedding layer and let the network learn a different embedding table on its own. *In this case, the embedding layer is for dimensionality reduction, rather than for learning semantic representations.*\n",
    "\n",
    ">**After input words are passed to an embedding layer, the new embeddings will be passed to LSTM cells.** The LSTM cells will add *recurrent* connections to the network and give us the ability to include information about the *sequence* of words in the movie review data. \n",
    "\n",
    ">**Finally, the LSTM outputs will go to a sigmoid output layer.** We're using a sigmoid function because positive and negative = 1 and 0, respectively, and a sigmoid will output predicted, sentiment values between 0-1. \n",
    "\n",
    "We don't care about the sigmoid outputs except for the **very last one**; we can ignore the rest. We'll calculate the loss by comparing the output at the last time step and the training label (pos or neg)."
   ]
  },
  {
   "cell_type": "markdown",
   "metadata": {},
   "source": [
    "---\n",
    "### Load in and visualize the data"
   ]
  },
  {
   "cell_type": "code",
   "execution_count": 1,
   "metadata": {},
   "outputs": [],
   "source": [
    "import numpy as np\n",
    "\n",
    "# read data from text files\n",
    "with open('data/reviews.txt', 'r') as f:\n",
    "    reviews = f.read()\n",
    "with open('data/labels.txt', 'r') as f:\n",
    "    labels = f.read()"
   ]
  },
  {
   "cell_type": "code",
   "execution_count": 2,
   "metadata": {},
   "outputs": [
    {
     "name": "stdout",
     "output_type": "stream",
     "text": [
      "bromwell high is a cartoon comedy . it ran at the same time as some other programs about school life  such as  teachers  . my   years in the teaching profession lead me to believe that bromwell high  s satire is much closer to reality than is  teachers  . the scramble to survive financially  the insightful students who can see right through their pathetic teachers  pomp  the pettiness of the whole situation  all remind me of the schools i knew and their students . when i saw the episode in which a student repeatedly tried to burn down the school  i immediately recalled . . . . . . . . . at . . . . . . . . . . high . a classic line inspector i  m here to sack one of your teachers . student welcome to bromwell high . i expect that many adults of my age think that bromwell high is far fetched . what a pity that it isn  t   \n",
      "story of a man who has unnatural feelings for a pig . starts out with a opening scene that is a terrific example of absurd comedy . a formal orchestra audience is turned into an insane  violent mob by the crazy chantings of it  s singers . unfortunately it stays absurd the whole time with no general narrative eventually making it just too off putting . even those from the era should be turned off . the cryptic dialogue would make shakespeare seem easy to a third grader . on a technical level it  s better than you might think with some good cinematography by future great vilmos zsigmond . future stars sally kirkland and frederic forrest can be seen briefly .  \n",
      "homelessness  or houselessness as george carlin stated  has been an issue for years but never a plan to help those on the street that were once considered human who did everything from going to school  work  or vote for the matter . most people think of the homeless as just a lost cause while worrying about things such as racism  the war on iraq  pressuring kids to succeed  technology  the elections  inflation  or worrying if they  ll be next to end up on the streets .  br    br   but what if y\n",
      "\n",
      "positive\n",
      "negative\n",
      "po\n"
     ]
    }
   ],
   "source": [
    "print(reviews[:2000])\n",
    "print()\n",
    "print(labels[:20])"
   ]
  },
  {
   "cell_type": "markdown",
   "metadata": {},
   "source": [
    "## Data pre-processing\n",
    "\n",
    "The first step when building a neural network model is getting your data into the proper form to feed into the network. Since we're using embedding layers, we'll need to encode each word with an integer. We'll also want to clean it up a bit.\n",
    "\n",
    "You can see an example of the reviews data above. Here are the processing steps, we'll want to take:\n",
    ">* We'll want to get rid of periods and extraneous punctuation.\n",
    "* Also, you might notice that the reviews are delimited with newline characters `\\n`. To deal with those, I'm going to split the text into each review using `\\n` as the delimiter. \n",
    "* Then I can combined all the reviews back together into one big string.\n",
    "\n",
    "First, let's remove all punctuation. Then get all the text without the newlines and split it into individual words."
   ]
  },
  {
   "cell_type": "code",
   "execution_count": 3,
   "metadata": {},
   "outputs": [
    {
     "name": "stdout",
     "output_type": "stream",
     "text": [
      "!\"#$%&'()*+,-./:;<=>?@[\\]^_`{|}~\n"
     ]
    }
   ],
   "source": [
    "from string import punctuation\n",
    "\n",
    "print(punctuation)\n",
    "\n",
    "# get rid of punctuation\n",
    "reviews = reviews.lower() # lowercase, standardize\n",
    "all_text = ''.join([c for c in reviews if c not in punctuation])"
   ]
  },
  {
   "cell_type": "code",
   "execution_count": 4,
   "metadata": {},
   "outputs": [
    {
     "data": {
      "text/plain": [
       "'bromwell high is a cartoon comedy  it ran at the same time as some other programs about school life  such as  teachers   my   years in the teaching profession lead me to believe that bromwell high  s satire is much closer to reality than is  teachers   the scramble to survive financially  the insightful students who can see right through their pathetic teachers  pomp  the pettiness of the whole situation  all remind me of the schools i knew and their students  when i saw the episode in which a student repeatedly tried to burn down the school  i immediately recalled          at           high  a classic line inspector i  m here to sack one of your teachers  student welcome to bromwell high  i expect that many adults of my age think that bromwell high is far fetched  what a pity that it isn  t   \\nstory of a man who has unnatural feelings for a pig  starts out with a opening scene that is a terrific example of absurd comedy  a formal orchestra audience is turned into an insane  violent mob by the crazy chantings of it  s singers  unfortunately it stays absurd the whole time with no general narrative eventually making it just too off putting  even those from the era should be turned off  the cryptic dialogue would make shakespeare seem easy to a third grader  on a technical level it  s better than you might think with some good cinematography by future great vilmos zsigmond  future stars sally kirkland and frederic forrest can be seen briefly   \\nhomelessness  or houselessness as george carlin stated  has been an issue for years but never a plan to help those on the street that were once considered human who did everything from going to school  work  or vote for the matter  most people think of the homeless as just a lost cause while worrying about things such as racism  the war on iraq  pressuring kids to succeed  technology  the elections  inflation  or worrying if they  ll be next to end up on the streets   br    br   but what if you were given a bet to live on the st'"
      ]
     },
     "execution_count": 4,
     "metadata": {},
     "output_type": "execute_result"
    }
   ],
   "source": [
    "all_text[:2000]"
   ]
  },
  {
   "cell_type": "code",
   "execution_count": 5,
   "metadata": {},
   "outputs": [],
   "source": [
    "# split every review by new lines and spaces \n",
    "# since we know that different reviews are separated by '\\n'\n",
    "reviews_split = all_text.split('\\n')\n",
    "all_text = ' '.join(reviews_split)\n",
    "\n",
    "# create a list of words\n",
    "words = all_text.split()"
   ]
  },
  {
   "cell_type": "code",
   "execution_count": 6,
   "metadata": {},
   "outputs": [
    {
     "data": {
      "text/plain": [
       "['bromwell high is a cartoon comedy  it ran at the same time as some other programs about school life  such as  teachers   my   years in the teaching profession lead me to believe that bromwell high  s satire is much closer to reality than is  teachers   the scramble to survive financially  the insightful students who can see right through their pathetic teachers  pomp  the pettiness of the whole situation  all remind me of the schools i knew and their students  when i saw the episode in which a student repeatedly tried to burn down the school  i immediately recalled          at           high  a classic line inspector i  m here to sack one of your teachers  student welcome to bromwell high  i expect that many adults of my age think that bromwell high is far fetched  what a pity that it isn  t   ',\n",
       " 'story of a man who has unnatural feelings for a pig  starts out with a opening scene that is a terrific example of absurd comedy  a formal orchestra audience is turned into an insane  violent mob by the crazy chantings of it  s singers  unfortunately it stays absurd the whole time with no general narrative eventually making it just too off putting  even those from the era should be turned off  the cryptic dialogue would make shakespeare seem easy to a third grader  on a technical level it  s better than you might think with some good cinematography by future great vilmos zsigmond  future stars sally kirkland and frederic forrest can be seen briefly   ',\n",
       " 'homelessness  or houselessness as george carlin stated  has been an issue for years but never a plan to help those on the street that were once considered human who did everything from going to school  work  or vote for the matter  most people think of the homeless as just a lost cause while worrying about things such as racism  the war on iraq  pressuring kids to succeed  technology  the elections  inflation  or worrying if they  ll be next to end up on the streets   br    br   but what if you were given a bet to live on the streets for a month without the luxuries you once had from a home  the entertainment sets  a bathroom  pictures on the wall  a computer  and everything you once treasure to see what it  s like to be homeless  that is goddard bolt  s lesson   br    br   mel brooks  who directs  who stars as bolt plays a rich man who has everything in the world until deciding to make a bet with a sissy rival  jeffery tambor  to see if he can live in the streets for thirty days without the luxuries if bolt succeeds  he can do what he wants with a future project of making more buildings  the bet  s on where bolt is thrown on the street with a bracelet on his leg to monitor his every move where he can  t step off the sidewalk  he  s given the nickname pepto by a vagrant after it  s written on his forehead where bolt meets other characters including a woman by the name of molly  lesley ann warren  an ex  dancer who got divorce before losing her home  and her pals sailor  howard morris  and fumes  teddy wilson  who are already used to the streets  they  re survivors  bolt isn  t  he  s not used to reaching mutual agreements like he once did when being rich where it  s fight or flight  kill or be killed   br    br   while the love connection between molly and bolt wasn  t necessary to plot  i found  life stinks  to be one of mel brooks  observant films where prior to being a comedy  it shows a tender side compared to his slapstick work such as blazing saddles  young frankenstein  or spaceballs for the matter  to show what it  s like having something valuable before losing it the next day or on the other hand making a stupid bet like all rich people do when they don  t know what to do with their money  maybe they should give it to the homeless instead of using it like monopoly money   br    br   or maybe this film will inspire you to help others   ']"
      ]
     },
     "execution_count": 6,
     "metadata": {},
     "output_type": "execute_result"
    }
   ],
   "source": [
    "reviews_split[:3]"
   ]
  },
  {
   "cell_type": "code",
   "execution_count": 7,
   "metadata": {},
   "outputs": [
    {
     "data": {
      "text/plain": [
       "'bromwell high is a cartoon comedy  it ran at the same time as some other programs about school life  such as  teachers   my   years in the teaching profession lead me to believe that bromwell high  s satire is much closer to reality than is  teachers   the scramble to survive financially  the insightful students who can see right through their pathetic teachers  pomp  the pettiness of the whole situation  all remind me of the schools i knew and their students  when i saw the episode in which a student repeatedly tried to burn down the school  i immediately recalled          at           high  a classic line inspector i  m here to sack one of your teachers  student welcome to bromwell high  i expect that many adults of my age think that bromwell high is far fetched  what a pity that it isn  t    story of a man who has unnatural feelings for a pig  starts out with a opening scene that is a terrific example of absurd comedy  a formal orchestra audience is turned into an insane  violent mob by the crazy chantings of it  s singers  unfortunately it stays absurd the whole time with no general narrative eventually making it just too off putting  even those from the era should be turned off  the cryptic dialogue would make shakespeare seem easy to a third grader  on a technical level it  s better than you might think with some good cinematography by future great vilmos zsigmond  future stars sally kirkland and frederic forrest can be seen briefly    homelessness  or houselessness as george carlin stated  has been an issue for years but never a plan to help those on the street that were once considered human who did everything from going to school  work  or vote for the matter  most people think of the homeless as just a lost cause while worrying about things such as racism  the war on iraq  pressuring kids to succeed  technology  the elections  inflation  or worrying if they  ll be next to end up on the streets   br    br   but what if you were given a bet to live on the st'"
      ]
     },
     "execution_count": 7,
     "metadata": {},
     "output_type": "execute_result"
    }
   ],
   "source": [
    "all_text[:2000]"
   ]
  },
  {
   "cell_type": "code",
   "execution_count": 8,
   "metadata": {},
   "outputs": [
    {
     "data": {
      "text/plain": [
       "['bromwell',\n",
       " 'high',\n",
       " 'is',\n",
       " 'a',\n",
       " 'cartoon',\n",
       " 'comedy',\n",
       " 'it',\n",
       " 'ran',\n",
       " 'at',\n",
       " 'the',\n",
       " 'same',\n",
       " 'time',\n",
       " 'as',\n",
       " 'some',\n",
       " 'other',\n",
       " 'programs',\n",
       " 'about',\n",
       " 'school',\n",
       " 'life',\n",
       " 'such',\n",
       " 'as',\n",
       " 'teachers',\n",
       " 'my',\n",
       " 'years',\n",
       " 'in',\n",
       " 'the',\n",
       " 'teaching',\n",
       " 'profession',\n",
       " 'lead',\n",
       " 'me']"
      ]
     },
     "execution_count": 8,
     "metadata": {},
     "output_type": "execute_result"
    }
   ],
   "source": [
    "words[:30]"
   ]
  },
  {
   "cell_type": "markdown",
   "metadata": {},
   "source": [
    "### Encoding the words\n",
    "\n",
    "The embedding lookup requires that we pass in integers to our network. The easiest way to do this is to create dictionaries that map the words in the vocabulary to integers. Then we can convert each of our reviews into integers so they can be passed into the network.\n",
    "\n",
    "> **Exercise:** Now you're going to encode the words with integers. Build a dictionary that maps words to integers. Later we're going to pad our input vectors with zeros, so make sure the integers **start at 1, not 0**.\n",
    "> Also, convert the reviews to integers and store the reviews in a new list called `reviews_ints`. "
   ]
  },
  {
   "cell_type": "code",
   "execution_count": 9,
   "metadata": {},
   "outputs": [],
   "source": [
    "# feel free to use this import \n",
    "from collections import Counter\n",
    "\n",
    "## Build a dictionary that maps words to integers\n",
    "words_count = Counter(words)\n",
    "sorted_vocab = sorted(words_count, key=words_count.get, reverse=True)\n",
    "vocab_to_int = {word: (idx+1) for idx, word in enumerate(sorted_vocab)}\n",
    "\n",
    "## use the dict to tokenize each review in reviews_split\n",
    "## store the tokenized reviews in reviews_ints\n",
    "reviews_ints = []\n",
    "for review in reviews_split:\n",
    "    reviews_ints.append([vocab_to_int[w] for w in review.split()])\n"
   ]
  },
  {
   "cell_type": "markdown",
   "metadata": {},
   "source": [
    "**Test your code**\n",
    "\n",
    "As a text that you've implemented the dictionary correctly, print out the number of unique words in your vocabulary and the contents of the first, tokenized review."
   ]
  },
  {
   "cell_type": "code",
   "execution_count": 10,
   "metadata": {},
   "outputs": [
    {
     "name": "stdout",
     "output_type": "stream",
     "text": [
      "Unique words:  74072\n",
      "\n",
      "Tokenized review: \n",
      " [[21025, 308, 6, 3, 1050, 207, 8, 2138, 32, 1, 171, 57, 15, 49, 81, 5785, 44, 382, 110, 140, 15, 5194, 60, 154, 9, 1, 4975, 5852, 475, 71, 5, 260, 12, 21025, 308, 13, 1978, 6, 74, 2395, 5, 613, 73, 6, 5194, 1, 24103, 5, 1983, 10166, 1, 5786, 1499, 36, 51, 66, 204, 145, 67, 1199, 5194, 19869, 1, 37442, 4, 1, 221, 883, 31, 2988, 71, 4, 1, 5787, 10, 686, 2, 67, 1499, 54, 10, 216, 1, 383, 9, 62, 3, 1406, 3686, 783, 5, 3483, 180, 1, 382, 10, 1212, 13583, 32, 308, 3, 349, 341, 2913, 10, 143, 127, 5, 7690, 30, 4, 129, 5194, 1406, 2326, 5, 21025, 308, 10, 528, 12, 109, 1448, 4, 60, 543, 102, 12, 21025, 308, 6, 227, 4146, 48, 3, 2211, 12, 8, 215, 23]]\n"
     ]
    }
   ],
   "source": [
    "# stats about vocabulary\n",
    "print('Unique words: ', len(vocab_to_int))  # should ~ 74000+\n",
    "print()\n",
    "\n",
    "# print tokens in first review\n",
    "print('Tokenized review: \\n', reviews_ints[:1])"
   ]
  },
  {
   "cell_type": "markdown",
   "metadata": {},
   "source": [
    "### Encoding the labels\n",
    "\n",
    "Our labels are \"positive\" or \"negative\". To use these labels in our network, we need to convert them to 0 and 1.\n",
    "\n",
    "> **Exercise:** Convert labels from `positive` and `negative` to 1 and 0, respectively, and place those in a new list, `encoded_labels`."
   ]
  },
  {
   "cell_type": "code",
   "execution_count": 11,
   "metadata": {},
   "outputs": [
    {
     "data": {
      "text/plain": [
       "array([1, 0, 1, ..., 1, 0, 0])"
      ]
     },
     "execution_count": 11,
     "metadata": {},
     "output_type": "execute_result"
    }
   ],
   "source": [
    "# 1=positive, 0=negative label conversion\n",
    "encoded_labels = np.array([1 if label == 'positive' else 0 for label in labels.split('\\n')])\n",
    "encoded_labels"
   ]
  },
  {
   "cell_type": "markdown",
   "metadata": {},
   "source": [
    "### Removing Outliers\n",
    "\n",
    "As an additional pre-processing step, we want to make sure that our reviews are in good shape for standard processing. That is, our network will expect a standard input text size, and so, we'll want to shape our reviews into a specific length. We'll approach this task in two main steps:\n",
    "\n",
    "1. Getting rid of extremely long or short reviews; the outliers\n",
    "2. Padding/truncating the remaining data so that we have reviews of the same length.\n",
    "\n",
    "<img src=\"assets/outliers_padding_ex.png\" width=40%>\n",
    "\n",
    "Before we pad our review text, we should check for reviews of extremely short or long lengths; outliers that may mess with our training."
   ]
  },
  {
   "cell_type": "code",
   "execution_count": 12,
   "metadata": {},
   "outputs": [
    {
     "name": "stdout",
     "output_type": "stream",
     "text": [
      "Zero-length reviews: 1\n",
      "Maximum review length: 2514\n"
     ]
    }
   ],
   "source": [
    "# outlier review stats\n",
    "review_lens = Counter([len(x) for x in reviews_ints])\n",
    "print(\"Zero-length reviews: {}\".format(review_lens[0]))\n",
    "print(\"Maximum review length: {}\".format(max(review_lens)))"
   ]
  },
  {
   "cell_type": "markdown",
   "metadata": {},
   "source": [
    "Okay, a couple issues here. We seem to have one review with zero length. And, the maximum review length is way too many steps for our RNN. We'll have to remove any super short reviews and truncate super long reviews. This removes outliers and should allow our model to train more efficiently.\n",
    "\n",
    "> **Exercise:** First, remove *any* reviews with zero length from the `reviews_ints` list and their corresponding label in `encoded_labels`."
   ]
  },
  {
   "cell_type": "code",
   "execution_count": 13,
   "metadata": {},
   "outputs": [
    {
     "name": "stdout",
     "output_type": "stream",
     "text": [
      "Number of reviews before removing outliers:  25001\n",
      "Number of reviews after removing outliers:  25000\n"
     ]
    }
   ],
   "source": [
    "print('Number of reviews before removing outliers: ', len(reviews_ints))\n",
    "\n",
    "## remove any reviews/labels with zero length from the reviews_ints list.\n",
    "\n",
    "idx_non_zero = [idx for idx, review in enumerate(reviews_ints) if len(review) != 0]\n",
    "reviews_ints = [reviews_ints[idx] for idx in idx_non_zero]\n",
    "encoded_labels = np.array([encoded_labels[idx] for idx in idx_non_zero])\n",
    "\n",
    "print('Number of reviews after removing outliers: ', len(reviews_ints))"
   ]
  },
  {
   "cell_type": "markdown",
   "metadata": {},
   "source": [
    "---\n",
    "## Padding sequences\n",
    "\n",
    "To deal with both short and very long reviews, we'll pad or truncate all our reviews to a specific length. For reviews shorter than some `seq_length`, we'll pad with 0s. For reviews longer than `seq_length`, we can truncate them to the first `seq_length` words. A good `seq_length`, in this case, is 200.\n",
    "\n",
    "> **Exercise:** Define a function that returns an array `features` that contains the padded data, of a standard size, that we'll pass to the network. \n",
    "* The data should come from `review_ints`, since we want to feed integers to the network. \n",
    "* Each row should be `seq_length` elements long. \n",
    "* For reviews shorter than `seq_length` words, **left pad** with 0s. That is, if the review is `['best', 'movie', 'ever']`, `[117, 18, 128]` as integers, the row will look like `[0, 0, 0, ..., 0, 117, 18, 128]`. \n",
    "* For reviews longer than `seq_length`, use only the first `seq_length` words as the feature vector.\n",
    "\n",
    "As a small example, if the `seq_length=10` and an input review is: \n",
    "```\n",
    "[117, 18, 128]\n",
    "```\n",
    "The resultant, padded sequence should be: \n",
    "\n",
    "```\n",
    "[0, 0, 0, 0, 0, 0, 0, 117, 18, 128]\n",
    "```\n",
    "\n",
    "**Your final `features` array should be a 2D array, with as many rows as there are reviews, and as many columns as the specified `seq_length`.**\n",
    "\n",
    "This isn't trivial and there are a bunch of ways to do this. But, if you're going to be building your own deep learning networks, you're going to have to get used to preparing your data."
   ]
  },
  {
   "cell_type": "code",
   "execution_count": 14,
   "metadata": {},
   "outputs": [],
   "source": [
    "def pad_features(reviews_ints, seq_length):\n",
    "    ''' Return features of review_ints, where each review is padded with 0's \n",
    "        or truncated to the input seq_length.\n",
    "    '''\n",
    "    ## implement function\n",
    "    \n",
    "    pad_with_zero = np.array([([0]*(seq_length - len(review)) + review) if len(review) < seq_length \n",
    "                              else review[:seq_length] for review in reviews_ints])\n",
    "    features = np.array(pad_with_zero).reshape(len(reviews_ints), -1)\n",
    "    \n",
    "    return features"
   ]
  },
  {
   "cell_type": "code",
   "execution_count": 15,
   "metadata": {},
   "outputs": [
    {
     "name": "stdout",
     "output_type": "stream",
     "text": [
      "[[    0     0     0     0     0     0     0     0     0     0]\n",
      " [    0     0     0     0     0     0     0     0     0     0]\n",
      " [22382    42 46418    15   706 17139  3389    47    77    35]\n",
      " [ 4505   505    15     3  3342   162  8312  1652     6  4819]\n",
      " [    0     0     0     0     0     0     0     0     0     0]\n",
      " [    0     0     0     0     0     0     0     0     0     0]\n",
      " [    0     0     0     0     0     0     0     0     0     0]\n",
      " [    0     0     0     0     0     0     0     0     0     0]\n",
      " [    0     0     0     0     0     0     0     0     0     0]\n",
      " [   54    10    14   116    60   798   552    71   364     5]\n",
      " [    0     0     0     0     0     0     0     0     0     0]\n",
      " [    0     0     0     0     0     0     0     0     0     0]\n",
      " [    0     0     0     0     0     0     0     0     0     0]\n",
      " [    1   330   578    34     3   162   748  2731     9   325]\n",
      " [    9    11 10171  5305  1946   689   444    22   280   673]\n",
      " [    0     0     0     0     0     0     0     0     0     0]\n",
      " [    1   307 10399  2069  1565  6202  6528  3288 17946 10628]\n",
      " [    0     0     0     0     0     0     0     0     0     0]\n",
      " [   21   122  2069  1565   515  8181    88     6  1325  1182]\n",
      " [    1    20     6    76    40     6    58    81    95     5]\n",
      " [   54    10    84   329 26230 46427    63    10    14   614]\n",
      " [   11    20     6    30  1436 32317  3769   690 15100     6]\n",
      " [    0     0     0     0     0     0     0     0     0     0]\n",
      " [    0     0     0     0     0     0     0     0     0     0]\n",
      " [   40    26   109 17952  1422     9     1   327     4   125]\n",
      " [    0     0     0     0     0     0     0     0     0     0]\n",
      " [   10   499     1   307 10399    55    74     8    13    30]\n",
      " [    0     0     0     0     0     0     0     0     0     0]\n",
      " [    0     0     0     0     0     0     0     0     0     0]\n",
      " [    0     0     0     0     0     0     0     0     0     0]]\n"
     ]
    }
   ],
   "source": [
    "# Test your implementation!\n",
    "\n",
    "seq_length = 200\n",
    "\n",
    "features = pad_features(reviews_ints, seq_length=seq_length)\n",
    "\n",
    "## test statements - do not change - ##\n",
    "assert len(features)==len(reviews_ints), \"Your features should have as many rows as reviews.\"\n",
    "assert len(features[0])==seq_length, \"Each feature row should contain seq_length values.\"\n",
    "\n",
    "# print first 10 values of the first 30 batches \n",
    "print(features[:30,:10])"
   ]
  },
  {
   "cell_type": "markdown",
   "metadata": {},
   "source": [
    "## Training, Validation, Test\n",
    "\n",
    "With our data in nice shape, we'll split it into training, validation, and test sets.\n",
    "\n",
    "> **Exercise:** Create the training, validation, and test sets. \n",
    "* You'll need to create sets for the features and the labels, `train_x` and `train_y`, for example. \n",
    "* Define a split fraction, `split_frac` as the fraction of data to **keep** in the training set. Usually this is set to 0.8 or 0.9. \n",
    "* Whatever data is left will be split in half to create the validation and *testing* data."
   ]
  },
  {
   "cell_type": "code",
   "execution_count": 16,
   "metadata": {},
   "outputs": [
    {
     "name": "stdout",
     "output_type": "stream",
     "text": [
      "                    Feature Shapes:\n",
      "Train set:          (20000, 200)\n",
      "Validation set:     (2500, 200)\n",
      "Test set:           (2500, 200)\n"
     ]
    }
   ],
   "source": [
    "split_frac = 0.8\n",
    "\n",
    "## split data into training, validation, and test data (features and labels, x and y)\n",
    "split_idx = int(len(features)*split_frac)\n",
    "train_x, train_y = features[:split_idx, :], encoded_labels[:split_idx]\n",
    "\n",
    "second_split_idx = split_idx + int(len(features) * round((1-split_frac)*0.5, 2))\n",
    "val_x, val_y = features[split_idx:second_split_idx, :], encoded_labels[split_idx:second_split_idx]\n",
    "test_x, test_y = features[second_split_idx:, :], encoded_labels[second_split_idx:]\n",
    "\n",
    "## print out the shapes of your resultant feature data\n",
    "print(f\"{' ': <20}{'Feature Shapes:': <15}\")\n",
    "print(f\"{'Train set:':<20}{train_x.shape}\")\n",
    "print(f\"{'Validation set:': <20}{val_x.shape}\")\n",
    "print(f\"{'Test set:': <20}{test_x.shape}\")\n"
   ]
  },
  {
   "cell_type": "markdown",
   "metadata": {},
   "source": [
    "**Check your work**\n",
    "\n",
    "With train, validation, and test fractions equal to 0.8, 0.1, 0.1, respectively, the final, feature data shapes should look like:\n",
    "```\n",
    "                    Feature Shapes:\n",
    "Train set: \t\t (20000, 200) \n",
    "Validation set: \t(2500, 200) \n",
    "Test set: \t\t  (2500, 200)\n",
    "```"
   ]
  },
  {
   "cell_type": "markdown",
   "metadata": {},
   "source": [
    "---\n",
    "## DataLoaders and Batching\n",
    "\n",
    "After creating training, test, and validation data, we can create DataLoaders for this data by following two steps:\n",
    "1. Create a known format for accessing our data, using [TensorDataset](https://pytorch.org/docs/stable/data.html#) which takes in an input set of data and a target set of data with the same first dimension, and creates a dataset.\n",
    "2. Create DataLoaders and batch our training, validation, and test Tensor datasets.\n",
    "\n",
    "```\n",
    "train_data = TensorDataset(torch.from_numpy(train_x), torch.from_numpy(train_y))\n",
    "train_loader = DataLoader(train_data, batch_size=batch_size)\n",
    "```\n",
    "\n",
    "This is an alternative to creating a generator function for batching our data into full batches."
   ]
  },
  {
   "cell_type": "code",
   "execution_count": 17,
   "metadata": {},
   "outputs": [],
   "source": [
    "import torch\n",
    "from torch.utils.data import TensorDataset, DataLoader\n",
    "\n",
    "# create Tensor datasets\n",
    "train_data = TensorDataset(torch.from_numpy(train_x), torch.from_numpy(train_y))\n",
    "valid_data = TensorDataset(torch.from_numpy(val_x), torch.from_numpy(val_y))\n",
    "test_data = TensorDataset(torch.from_numpy(test_x), torch.from_numpy(test_y))\n",
    "\n",
    "# dataloaders\n",
    "batch_size = 50\n",
    "\n",
    "# make sure to SHUFFLE your data\n",
    "train_loader = DataLoader(train_data, shuffle=True, batch_size=batch_size)\n",
    "valid_loader = DataLoader(valid_data, shuffle=True, batch_size=batch_size)\n",
    "test_loader = DataLoader(test_data, shuffle=True, batch_size=batch_size)"
   ]
  },
  {
   "cell_type": "markdown",
   "metadata": {},
   "source": [
    "Take a look at the train_data:"
   ]
  },
  {
   "cell_type": "code",
   "execution_count": 18,
   "metadata": {},
   "outputs": [
    {
     "data": {
      "text/plain": [
       "20000"
      ]
     },
     "execution_count": 18,
     "metadata": {},
     "output_type": "execute_result"
    }
   ],
   "source": [
    "len(train_data)"
   ]
  },
  {
   "cell_type": "code",
   "execution_count": 19,
   "metadata": {},
   "outputs": [
    {
     "data": {
      "text/plain": [
       "(tensor([     0,      0,      0,      0,      0,      0,      0,      0,\n",
       "              0,      0,      0,      0,      0,      0,      0,      0,\n",
       "              0,      0,      0,      0,      0,      0,      0,      0,\n",
       "              0,      0,      0,      0,      0,      0,      0,      0,\n",
       "              0,      0,      0,      0,      0,      0,      0,      0,\n",
       "              0,      0,      0,      0,      0,      0,      0,      0,\n",
       "              0,      0,      0,      0,      0,      0,      0,      0,\n",
       "              0,      0,      0,      0,  21025,    308,      6,      3,\n",
       "           1050,    207,      8,   2138,     32,      1,    171,     57,\n",
       "             15,     49,     81,   5785,     44,    382,    110,    140,\n",
       "             15,   5194,     60,    154,      9,      1,   4975,   5852,\n",
       "            475,     71,      5,    260,     12,  21025,    308,     13,\n",
       "           1978,      6,     74,   2395,      5,    613,     73,      6,\n",
       "           5194,      1,  24103,      5,   1983,  10166,      1,   5786,\n",
       "           1499,     36,     51,     66,    204,    145,     67,   1199,\n",
       "           5194,  19869,      1,  37442,      4,      1,    221,    883,\n",
       "             31,   2988,     71,      4,      1,   5787,     10,    686,\n",
       "              2,     67,   1499,     54,     10,    216,      1,    383,\n",
       "              9,     62,      3,   1406,   3686,    783,      5,   3483,\n",
       "            180,      1,    382,     10,   1212,  13583,     32,    308,\n",
       "              3,    349,    341,   2913,     10,    143,    127,      5,\n",
       "           7690,     30,      4,    129,   5194,   1406,   2326,      5,\n",
       "          21025,    308,     10,    528,     12,    109,   1448,      4,\n",
       "             60,    543,    102,     12,  21025,    308,      6,    227,\n",
       "           4146,     48,      3,   2211,     12,      8,    215,     23]),\n",
       " tensor(1))"
      ]
     },
     "execution_count": 19,
     "metadata": {},
     "output_type": "execute_result"
    }
   ],
   "source": [
    "train_data[0]"
   ]
  },
  {
   "cell_type": "code",
   "execution_count": 20,
   "metadata": {},
   "outputs": [
    {
     "data": {
      "text/plain": [
       "200"
      ]
     },
     "execution_count": 20,
     "metadata": {},
     "output_type": "execute_result"
    }
   ],
   "source": [
    "len(train_data[0][0])"
   ]
  },
  {
   "cell_type": "markdown",
   "metadata": {},
   "source": [
    "Take a look at the train_loader:"
   ]
  },
  {
   "cell_type": "code",
   "execution_count": 21,
   "metadata": {},
   "outputs": [
    {
     "data": {
      "text/plain": [
       "400"
      ]
     },
     "execution_count": 21,
     "metadata": {},
     "output_type": "execute_result"
    }
   ],
   "source": [
    "len(train_loader) # since the batch_size = 50, so we got 400 batches."
   ]
  },
  {
   "cell_type": "code",
   "execution_count": 22,
   "metadata": {},
   "outputs": [
    {
     "name": "stdout",
     "output_type": "stream",
     "text": [
      "Sample input size:  torch.Size([50, 200])\n",
      "Sample input: \n",
      " tensor([[     0,      0,      0,  ...,      5,     92,   1077],\n",
      "        [    10,    206,    954,  ...,   3585,     15,     72],\n",
      "        [   249,    154,     28,  ...,   2371,      2,   1275],\n",
      "        ...,\n",
      "        [     0,      0,      0,  ...,    869,      1,    267],\n",
      "        [    11,      6,    179,  ...,    111,    201,      2],\n",
      "        [     0,      0,      0,  ...,     11,   1889,     18]])\n",
      "\n",
      "Sample label size:  torch.Size([50])\n",
      "Sample label: \n",
      " tensor([ 1,  0,  1,  0,  0,  1,  1,  0,  1,  0,  0,  1,  0,  1,\n",
      "         0,  0,  0,  1,  1,  1,  0,  1,  1,  1,  1,  1,  0,  0,\n",
      "         0,  1,  0,  0,  1,  0,  0,  0,  1,  0,  0,  0,  1,  0,\n",
      "         0,  1,  0,  1,  0,  0,  1,  0])\n"
     ]
    }
   ],
   "source": [
    "# obtain one batch of training data\n",
    "dataiter = iter(train_loader)\n",
    "sample_x, sample_y = dataiter.next()\n",
    "\n",
    "print('Sample input size: ', sample_x.size()) # batch_size, seq_length\n",
    "print('Sample input: \\n', sample_x)\n",
    "print()\n",
    "print('Sample label size: ', sample_y.size()) # batch_size\n",
    "print('Sample label: \\n', sample_y)"
   ]
  },
  {
   "cell_type": "code",
   "execution_count": 23,
   "metadata": {},
   "outputs": [
    {
     "data": {
      "text/plain": [
       "torch.Size([200])"
      ]
     },
     "execution_count": 23,
     "metadata": {},
     "output_type": "execute_result"
    }
   ],
   "source": [
    "sample_x[0].size()"
   ]
  },
  {
   "cell_type": "markdown",
   "metadata": {},
   "source": [
    "---\n",
    "# Sentiment Network with PyTorch\n",
    "\n",
    "Below is where you'll define the network.\n",
    "\n",
    "<img src=\"assets/network_diagram.png\" width=40%>\n",
    "\n",
    "The layers are as follows:\n",
    "1. An [embedding layer](https://pytorch.org/docs/stable/nn.html#embedding) that converts our word tokens (integers) into embeddings of a specific size.\n",
    "2. An [LSTM layer](https://pytorch.org/docs/stable/nn.html#lstm) defined by a hidden_state size and number of layers\n",
    "3. A fully-connected output layer that maps the LSTM layer outputs to a desired output_size\n",
    "4. A sigmoid activation layer which turns all outputs into a value 0-1; return **only the last sigmoid output** as the output of this network.\n",
    "\n",
    "### The Embedding Layer\n",
    "\n",
    "We need to add an [embedding layer](https://pytorch.org/docs/stable/nn.html#embedding) because there are 74000+ words in our vocabulary. It is massively inefficient to one-hot encode that many classes. So, instead of one-hot encoding, we can have an embedding layer and use that layer as a lookup table. You could train an embedding layer using Word2Vec, then load it here. But, it's fine to just make a new layer, using it for only dimensionality reduction, and let the network learn the weights.\n",
    "\n",
    "\n",
    "### The LSTM Layer(s)\n",
    "\n",
    "We'll create an [LSTM](https://pytorch.org/docs/stable/nn.html#lstm) to use in our recurrent network, which takes in an input_size, a hidden_dim, a number of layers, a dropout probability (for dropout between multiple layers), and a batch_first parameter.\n",
    "\n",
    "Most of the time, you're network will have better performance with more layers; between 2-3. Adding more layers allows the network to learn really complex relationships. \n",
    "\n",
    "> **Exercise:** Complete the `__init__`, `forward`, and `init_hidden` functions for the SentimentRNN model class.\n",
    "\n",
    "Note: `init_hidden` should initialize the hidden and cell state of an lstm layer to all zeros, and move those state to GPU, if available."
   ]
  },
  {
   "cell_type": "code",
   "execution_count": 24,
   "metadata": {},
   "outputs": [
    {
     "name": "stdout",
     "output_type": "stream",
     "text": [
      "Training on GPU.\n"
     ]
    }
   ],
   "source": [
    "# First checking if GPU is available\n",
    "train_on_gpu=torch.cuda.is_available()\n",
    "\n",
    "if(train_on_gpu):\n",
    "    print('Training on GPU.')\n",
    "else:\n",
    "    print('No GPU available, training on CPU.')"
   ]
  },
  {
   "cell_type": "code",
   "execution_count": 26,
   "metadata": {},
   "outputs": [
    {
     "data": {
      "text/plain": [
       "'Tesla K80'"
      ]
     },
     "execution_count": 26,
     "metadata": {},
     "output_type": "execute_result"
    }
   ],
   "source": [
    "torch.cuda.get_device_name(0)"
   ]
  },
  {
   "cell_type": "code",
   "execution_count": 27,
   "metadata": {},
   "outputs": [],
   "source": [
    "import torch.nn as nn\n",
    "import torch.nn.functional as F\n",
    "\n",
    "class SentimentRNN(nn.Module):\n",
    "    \"\"\"\n",
    "    The RNN model that will be used to perform Sentiment analysis.\n",
    "    \"\"\"\n",
    "\n",
    "    def __init__(self, vocab_size, output_size, embedding_dim, hidden_dim, n_layers, drop_prob=0.5):\n",
    "        \"\"\"\n",
    "        Initialize the model by setting up the layers.\n",
    "        \"\"\"\n",
    "        super(SentimentRNN, self).__init__()\n",
    "\n",
    "        self.output_size = output_size\n",
    "        self.n_layers = n_layers\n",
    "        self.hidden_dim = hidden_dim\n",
    "        \n",
    "        # define all layers\n",
    "        self.embedding = nn.Embedding(vocab_size, embedding_dim)\n",
    "        self.lstm = nn.LSTM(embedding_dim, hidden_dim, n_layers, dropout=drop_prob, batch_first=True)\n",
    "        self.dropout = nn.Dropout(drop_prob)\n",
    "        self.fc = nn.Linear(hidden_dim, output_size)\n",
    "        \n",
    "\n",
    "    def forward(self, x, hidden):\n",
    "        \"\"\"\n",
    "        Perform a forward pass of our model on some input and hidden state.\n",
    "        \"\"\"\n",
    "        batch_size = x.size(0)\n",
    "        \n",
    "        embed_input = self.embedding(x)\n",
    "        lstm_out, hidden = self.lstm(embed_input, hidden)\n",
    "        \n",
    "        # Stack up LSTM outputs (cells) into layers using view to pass to the last linear layer\n",
    "        lstm_out = lstm_out.contiguous().view(-1, self.hidden_dim)\n",
    "        \n",
    "        dropout_out = self.dropout(lstm_out)\n",
    "        sig_out = F.sigmoid(self.fc(dropout_out))\n",
    "        \n",
    "        # reshape to be batch_size first\n",
    "        sig_out = sig_out.view(batch_size, -1)\n",
    "        sig_out = sig_out[:, -1] # get last of these sigmoid output for a batch of input data\n",
    "        \n",
    "        # return last sigmoid output and hidden state\n",
    "        return sig_out, hidden\n",
    "    \n",
    "    \n",
    "    def init_hidden(self, batch_size):\n",
    "        ''' Initializes hidden state '''\n",
    "        # Create two new tensors with sizes n_layers x batch_size x hidden_dim,\n",
    "        # initialized to zero, for hidden state and cell state of LSTM\n",
    "        weight = next(self.parameters()).data\n",
    "        \n",
    "        if (train_on_gpu):\n",
    "            hidden = (weight.new(self.n_layers, batch_size, self.hidden_dim).zero_().cuda(),\n",
    "                     weight.new(self.n_layers, batch_size, self.hidden_dim).zero_().cuda())\n",
    "        else:\n",
    "            hidden = (weight.new(self.n_layers, batch_size, self.hidden_dim).zero_(),\n",
    "                     weight.new(self.n_layers, batch_size, self.hidden_dim).zero_())\n",
    "        \n",
    "        return hidden\n",
    "        "
   ]
  },
  {
   "cell_type": "markdown",
   "metadata": {},
   "source": [
    "#### `__init__` explanation\n",
    "First I have an **embedding layer**, which should take in the size of our vocabulary (our number of integer tokens) and produce an embedding of `embedding_dim` size. So, as this model trains, this is going to create and embedding lookup table that has as many rows as we have word integers, and as many columns as the embedding dimension.\n",
    "\n",
    "Then, I have an **LSTM layer**, which takes in inputs of `embedding_dim size`. So, it's accepting embeddings as inputs, and producing an output and hidden state of a hidden size. I am also specifying a number of layers, and a dropout value, and finally, I’m setting `batch_first` to True because we are using DataLoaders to batch our data like that!\n",
    "\n",
    "Then, the LSTM outputs are passed to a dropout layer and then a fully-connected, linear layer that will produce `output_size` number of outputs. And finally, I’ve defined a sigmoid layer to convert the output to a value between 0-1.\n",
    "\n",
    "\n",
    "#### `forward` explanation\n",
    "So, first, I'm getting the `batch_size` of my input x, which I’ll use for shaping my data. Then, I'm passing x through the embedding layer first, to get my embeddings as output\n",
    "\n",
    "These embeddings are passed to my lstm layer, alongside a hidden state, and this returns an `lstm_output` and a new `hidden` state! Then I'm going to stack up the outputs of my LSTM to pass to my last linear layer.\n",
    "\n",
    "Then I keep going, passing the reshaped `lstm_output` to a dropout layer and my linear layer, which should return a specified number of outputs that I will pass to my sigmoid activation function.\n",
    "\n",
    "Now, I want to make sure that I’m returning *only* the **last** of these sigmoid outputs for a batch of input data, so, I’m going to shape these outputs into a shape that is `batch_size` first. Then I'm getting the last bacth by called `sig_out[:, -1]`, and that’s going to give me the batch of last labels that I want!\n",
    "\n",
    "Finally, I am returning that output and the hidden state produced by the LSTM layer.\n",
    "\n",
    "Some references:  \n",
    "* [What does contiguous() do?](https://stackoverflow.com/questions/48915810/pytorch-what-does-contiguous-do)\n",
    "* [What does next(self.parameters()).data mean?](https://discuss.pytorch.org/t/what-does-next-self-parameters-data-mean/1458)"
   ]
  },
  {
   "cell_type": "markdown",
   "metadata": {},
   "source": [
    "## Instantiate the network\n",
    "\n",
    "Here, we'll instantiate the network. First up, defining the hyperparameters.\n",
    "\n",
    "* `vocab_size`: Size of our vocabulary or the range of values for our input, word tokens.\n",
    "* `output_size`: Size of our desired output; the number of class scores we want to output (pos/neg).\n",
    "* `embedding_dim`: Number of columns in the embedding lookup table; size of our embeddings.\n",
    "* `hidden_dim`: Number of units in the hidden layers of our LSTM cells. Usually larger is better performance wise. Common values are 128, 256, 512, etc.\n",
    "* `n_layers`: Number of LSTM layers in the network. Typically between 1-3\n",
    "\n",
    "> **Exercise:** Define the model  hyperparameters.\n",
    "\n",
    "**explanation**  \n",
    "The main thing to note here is our `vocab_size`.\n",
    "This is actually the length of our `vocab_to_int` dictionary (all our unique words) **plus one** to account for the `0`-token that we added, when we padded our input features. So, if you do data pre-processing, you may end up with one or two extra, special tokens that you’ll need to account for, in this parameter!\n",
    "\n",
    "Then, I want my `output_size` to be 1; this will be a sigmoid value between 0 and 1, indicating whether a review is positive or negative.\n",
    "\n",
    "Then I have my embedding and hidden dimension. The embedding dimension is just a smaller representation of my vocabulary of 70k words and I think any value between like 200 and 500 or so would work, here. I’ve chosen 400. Similarly, for our hidden dimension, I think 256 hidden features should be enough to distinguish between positive and negative reviews.\n",
    "\n"
   ]
  },
  {
   "cell_type": "code",
   "execution_count": 28,
   "metadata": {},
   "outputs": [
    {
     "name": "stdout",
     "output_type": "stream",
     "text": [
      "SentimentRNN(\n",
      "  (embedding): Embedding(74073, 400)\n",
      "  (lstm): LSTM(400, 256, num_layers=2, batch_first=True, dropout=0.5)\n",
      "  (dropout): Dropout(p=0.5)\n",
      "  (fc): Linear(in_features=256, out_features=1, bias=True)\n",
      ")\n"
     ]
    }
   ],
   "source": [
    "# Instantiate the model w/ hyperparams\n",
    "vocab_size = len(vocab_to_int) + 1 # +1 for the 0 padding + our word tokens\n",
    "output_size = 1\n",
    "embedding_dim = 400 \n",
    "hidden_dim = 256\n",
    "n_layers = 2\n",
    "\n",
    "net = SentimentRNN(vocab_size, output_size, embedding_dim, hidden_dim, n_layers)\n",
    "\n",
    "print(net)"
   ]
  },
  {
   "cell_type": "code",
   "execution_count": 29,
   "metadata": {},
   "outputs": [
    {
     "name": "stdout",
     "output_type": "stream",
     "text": [
      "embedding.weight \n",
      " torch.Size([74073, 400]) \n",
      " tensor([[ 7.3473e-01, -1.0042e+00,  9.4739e-01,  ..., -1.1844e+00,\n",
      "          1.0332e+00,  3.9230e-02],\n",
      "        [-8.1363e-01,  5.3528e-01,  8.8931e-02,  ..., -1.5622e+00,\n",
      "          2.2673e-01,  4.2355e-01],\n",
      "        [-5.2322e-01, -9.7771e-01, -9.8378e-01,  ..., -1.0507e+00,\n",
      "         -1.0947e-01,  1.3418e+00],\n",
      "        ...,\n",
      "        [ 1.2947e+00,  9.0049e-01,  1.7667e-01,  ...,  7.9022e-02,\n",
      "          7.4619e-01,  9.3697e-01],\n",
      "        [ 6.3992e-01,  6.5243e-01,  2.7347e-01,  ...,  1.4384e+00,\n",
      "          2.0968e+00, -1.6089e+00],\n",
      "        [ 1.0293e+00,  1.0281e+00,  1.0113e+00,  ...,  2.9609e-01,\n",
      "         -1.9169e-01, -1.8470e-01]]) \n",
      "\n",
      "\n",
      "lstm.weight_ih_l0 \n",
      " torch.Size([1024, 400]) \n",
      " tensor(1.00000e-02 *\n",
      "       [[ 1.3503, -2.9266, -1.4867,  ..., -4.8004,  2.5943,  4.7235],\n",
      "        [-3.6844, -2.8933,  1.9239,  ..., -2.0369,  3.0217, -4.6357],\n",
      "        [ 3.2097, -1.3418, -1.7657,  ...,  0.6468,  4.9968,  2.7202],\n",
      "        ...,\n",
      "        [ 0.8420,  3.3897, -0.4019,  ..., -4.6364, -4.5597,  0.4582],\n",
      "        [-1.4560,  1.0532,  1.7571,  ...,  4.6950, -3.1771,  5.5324],\n",
      "        [-4.7921, -0.4510, -4.4237,  ..., -1.2701,  4.7760,  6.1324]]) \n",
      "\n",
      "\n",
      "lstm.weight_hh_l0 \n",
      " torch.Size([1024, 256]) \n",
      " tensor([[ 2.1694e-02,  2.9903e-02,  4.7867e-03,  ...,  2.8598e-04,\n",
      "         -8.8304e-03,  5.7253e-02],\n",
      "        [ 1.8911e-02,  2.8143e-02,  1.6135e-02,  ...,  5.7601e-02,\n",
      "         -4.1662e-02,  5.0746e-02],\n",
      "        [-4.6652e-02,  6.9515e-03,  1.7103e-02,  ...,  3.4927e-02,\n",
      "         -5.2409e-02, -8.5679e-03],\n",
      "        ...,\n",
      "        [ 4.0362e-02,  4.1544e-02, -6.0978e-02,  ..., -7.6659e-03,\n",
      "         -2.2214e-02, -2.8381e-02],\n",
      "        [-2.5725e-02,  1.6405e-02,  4.5938e-03,  ...,  5.6884e-02,\n",
      "          7.0731e-03,  1.8226e-02],\n",
      "        [ 3.6916e-02, -5.7594e-02,  5.8719e-02,  ...,  5.9446e-02,\n",
      "          4.4148e-02, -1.5680e-02]]) \n",
      "\n",
      "\n",
      "lstm.bias_ih_l0 \n",
      " torch.Size([1024]) \n",
      " tensor(1.00000e-02 *\n",
      "       [ 1.6806, -0.2331, -3.9359,  ...,  5.4515,  0.5685,  1.3631]) \n",
      "\n",
      "\n",
      "lstm.bias_hh_l0 \n",
      " torch.Size([1024]) \n",
      " tensor(1.00000e-02 *\n",
      "       [ 3.9408,  0.1103,  5.7541,  ..., -0.6483, -5.0385, -2.6952]) \n",
      "\n",
      "\n",
      "lstm.weight_ih_l1 \n",
      " torch.Size([1024, 256]) \n",
      " tensor([[ 3.0780e-02, -3.8989e-02, -5.8387e-02,  ..., -5.3805e-02,\n",
      "          6.1713e-02,  1.8407e-02],\n",
      "        [-9.4527e-03,  3.1202e-02, -3.3987e-02,  ...,  2.9911e-02,\n",
      "          2.4990e-03, -2.4900e-02],\n",
      "        [ 2.6464e-02,  5.0207e-02,  4.3507e-03,  ..., -3.6818e-03,\n",
      "          2.2867e-02,  9.1156e-03],\n",
      "        ...,\n",
      "        [ 5.6064e-02,  4.8745e-02, -1.8975e-02,  ...,  4.1193e-02,\n",
      "         -4.1570e-02, -4.5390e-02],\n",
      "        [-3.5648e-02, -1.1412e-02,  2.1718e-02,  ...,  5.7502e-02,\n",
      "          5.8417e-02, -1.0287e-03],\n",
      "        [ 3.1194e-02,  9.2210e-03, -6.0192e-02,  ..., -5.3748e-04,\n",
      "         -6.0177e-02,  3.3352e-02]]) \n",
      "\n",
      "\n",
      "lstm.weight_hh_l1 \n",
      " torch.Size([1024, 256]) \n",
      " tensor([[ 5.8407e-03, -3.4411e-02, -1.8679e-03,  ..., -1.6245e-02,\n",
      "          2.8029e-02,  2.3477e-02],\n",
      "        [-1.5035e-02,  5.2583e-02,  2.6453e-02,  ...,  4.1074e-03,\n",
      "          1.4231e-02, -6.1815e-02],\n",
      "        [-5.2941e-02, -4.4558e-02,  1.6964e-02,  ...,  4.4318e-02,\n",
      "          3.1943e-02,  5.2687e-02],\n",
      "        ...,\n",
      "        [-4.3707e-02,  4.6665e-02,  2.6261e-02,  ...,  1.4572e-02,\n",
      "         -5.7696e-02,  2.2674e-02],\n",
      "        [-3.5785e-03, -6.0133e-02, -4.4893e-04,  ..., -3.1136e-03,\n",
      "          5.0916e-02,  2.7386e-02],\n",
      "        [ 5.1882e-02, -4.2286e-02, -4.4885e-02,  ..., -7.0402e-03,\n",
      "          1.5920e-02,  3.5645e-02]]) \n",
      "\n",
      "\n",
      "lstm.bias_ih_l1 \n",
      " torch.Size([1024]) \n",
      " tensor(1.00000e-02 *\n",
      "       [-5.7393, -6.0519, -3.5439,  ..., -4.5396, -4.1676, -4.4436]) \n",
      "\n",
      "\n",
      "lstm.bias_hh_l1 \n",
      " torch.Size([1024]) \n",
      " tensor(1.00000e-02 *\n",
      "       [ 0.5116,  1.9859, -0.4489,  ...,  0.2450,  5.7120,  5.4673]) \n",
      "\n",
      "\n",
      "fc.weight \n",
      " torch.Size([1, 256]) \n",
      " tensor(1.00000e-02 *\n",
      "       [[ 2.3196,  1.5506, -3.9045, -4.7896, -1.7064, -0.8932, -2.1065,\n",
      "          2.1798, -6.0012,  1.4516, -0.5092, -0.6434,  0.2648,  4.5130,\n",
      "          4.9720,  5.3027,  0.3766, -5.2255,  0.1181, -0.1808,  3.0279,\n",
      "          5.0620, -5.4040, -4.0358,  0.5268,  5.5007, -4.0288,  0.5534,\n",
      "          5.1443,  5.9225,  3.7899, -1.8855, -2.2843,  3.1592,  5.4797,\n",
      "          1.6545, -1.8394, -1.7504,  6.0291, -4.7246, -1.9845, -6.0191,\n",
      "          2.7266, -3.2844, -3.5733, -0.4204, -1.5372, -3.8806,  0.3024,\n",
      "          1.9084, -0.1677, -3.4495, -1.4990,  1.8869, -4.5893,  0.0742,\n",
      "         -5.1431,  5.0418, -3.9873,  0.0358, -0.0816, -0.2878,  5.0515,\n",
      "         -3.8227,  3.6926, -1.8021, -4.8013, -3.8784, -0.7043, -4.7993,\n",
      "          4.3268, -1.0947,  6.0335,  0.9680,  4.6173,  1.4862, -2.0970,\n",
      "         -1.4151,  4.5920,  3.7332, -2.6470, -6.1015, -2.2475,  5.3737,\n",
      "          0.5874,  4.6376, -0.5964,  1.3769,  1.2565,  4.9308,  3.1542,\n",
      "         -1.9883,  4.2695, -2.9806,  0.5648, -0.0583,  4.8154, -3.1776,\n",
      "          1.5149,  3.3701,  0.2011,  3.5525, -1.5241,  4.3229,  0.5680,\n",
      "         -0.2740, -5.2420, -1.0758, -1.1038, -2.2198,  2.2819,  2.7728,\n",
      "          4.7648,  5.1059,  2.4887,  3.9118,  6.1342, -0.3987, -0.6789,\n",
      "          5.5561, -4.6027,  0.7259, -3.0683, -5.6842,  5.4717, -5.6144,\n",
      "          1.0989,  6.1913, -5.3725, -4.1295, -3.3291,  2.1764, -2.2366,\n",
      "          3.9874,  3.3483,  1.2209, -2.3655, -0.1375,  4.6025,  2.9329,\n",
      "         -5.9161,  4.9969,  1.2865,  2.7788, -2.2234,  0.6826, -6.1639,\n",
      "         -6.1769, -5.8866,  1.2913,  0.4666,  1.1143,  3.2476,  4.7088,\n",
      "          3.9412,  1.3098,  5.1831, -4.5435, -1.1104, -1.2841, -5.6308,\n",
      "         -1.0945,  2.2328,  0.1225, -3.0052,  6.0137,  2.1522, -5.9296,\n",
      "         -0.5171,  0.2846,  0.2441, -6.0517, -4.1307, -4.8739, -6.0564,\n",
      "         -2.8236, -2.4450, -5.7693,  0.1231,  1.8339, -1.6967, -3.7013,\n",
      "         -1.0445,  1.8697,  5.6294,  4.5438, -4.6304, -5.6006, -0.6752,\n",
      "          5.5127,  5.3875, -5.2621, -1.8174,  1.3393,  4.2833, -0.6415,\n",
      "          4.2190, -1.3159, -0.6460, -6.0746,  4.5500,  0.6256,  0.8912,\n",
      "          1.5643,  2.4465, -0.0958, -2.3469, -3.2290, -5.1459,  2.7648,\n",
      "         -0.6710,  2.6988,  1.9612, -1.0081,  1.1858,  5.8186,  3.4283,\n",
      "          1.6720,  0.0344, -6.1135, -2.8306, -3.4589,  1.8468, -4.6688,\n",
      "         -5.9265, -6.2414,  1.3635, -2.6736,  1.2861,  5.6203, -1.0958,\n",
      "          5.2260, -2.6883, -0.8872,  6.0912, -4.5132,  6.1132, -3.7974,\n",
      "         -5.5236, -5.3035,  2.5144, -3.6103, -0.6055,  5.1340,  4.3140,\n",
      "          0.6892,  5.8159, -3.7789,  1.8336, -2.8154, -2.4955,  4.2687,\n",
      "          2.9388, -1.4610,  0.0418,  3.0206]]) \n",
      "\n",
      "\n",
      "fc.bias \n",
      " torch.Size([1]) \n",
      " tensor(1.00000e-02 *\n",
      "       [ 1.7682]) \n",
      "\n",
      "\n"
     ]
    }
   ],
   "source": [
    "for name, param in net.named_parameters():\n",
    "    if param.requires_grad:\n",
    "        print(name, '\\n', param.size(),'\\n', param.data, '\\n\\n')"
   ]
  },
  {
   "cell_type": "code",
   "execution_count": 30,
   "metadata": {},
   "outputs": [
    {
     "name": "stdout",
     "output_type": "stream",
     "text": [
      "0\n",
      "Parameters' shape: torch.Size([74073, 400])\n",
      "Parameter containing:\n",
      "tensor([[ 7.3473e-01, -1.0042e+00,  9.4739e-01,  ..., -1.1844e+00,\n",
      "          1.0332e+00,  3.9230e-02],\n",
      "        [-8.1363e-01,  5.3528e-01,  8.8931e-02,  ..., -1.5622e+00,\n",
      "          2.2673e-01,  4.2355e-01],\n",
      "        [-5.2322e-01, -9.7771e-01, -9.8378e-01,  ..., -1.0507e+00,\n",
      "         -1.0947e-01,  1.3418e+00],\n",
      "        ...,\n",
      "        [ 1.2947e+00,  9.0049e-01,  1.7667e-01,  ...,  7.9022e-02,\n",
      "          7.4619e-01,  9.3697e-01],\n",
      "        [ 6.3992e-01,  6.5243e-01,  2.7347e-01,  ...,  1.4384e+00,\n",
      "          2.0968e+00, -1.6089e+00],\n",
      "        [ 1.0293e+00,  1.0281e+00,  1.0113e+00,  ...,  2.9609e-01,\n",
      "         -1.9169e-01, -1.8470e-01]]) \n",
      "\n",
      "\n",
      "1\n",
      "Parameters' shape: torch.Size([1024, 400])\n",
      "Parameter containing:\n",
      "tensor(1.00000e-02 *\n",
      "       [[ 1.3503, -2.9266, -1.4867,  ..., -4.8004,  2.5943,  4.7235],\n",
      "        [-3.6844, -2.8933,  1.9239,  ..., -2.0369,  3.0217, -4.6357],\n",
      "        [ 3.2097, -1.3418, -1.7657,  ...,  0.6468,  4.9968,  2.7202],\n",
      "        ...,\n",
      "        [ 0.8420,  3.3897, -0.4019,  ..., -4.6364, -4.5597,  0.4582],\n",
      "        [-1.4560,  1.0532,  1.7571,  ...,  4.6950, -3.1771,  5.5324],\n",
      "        [-4.7921, -0.4510, -4.4237,  ..., -1.2701,  4.7760,  6.1324]]) \n",
      "\n",
      "\n",
      "2\n",
      "Parameters' shape: torch.Size([1024, 256])\n",
      "Parameter containing:\n",
      "tensor([[ 2.1694e-02,  2.9903e-02,  4.7867e-03,  ...,  2.8598e-04,\n",
      "         -8.8304e-03,  5.7253e-02],\n",
      "        [ 1.8911e-02,  2.8143e-02,  1.6135e-02,  ...,  5.7601e-02,\n",
      "         -4.1662e-02,  5.0746e-02],\n",
      "        [-4.6652e-02,  6.9515e-03,  1.7103e-02,  ...,  3.4927e-02,\n",
      "         -5.2409e-02, -8.5679e-03],\n",
      "        ...,\n",
      "        [ 4.0362e-02,  4.1544e-02, -6.0978e-02,  ..., -7.6659e-03,\n",
      "         -2.2214e-02, -2.8381e-02],\n",
      "        [-2.5725e-02,  1.6405e-02,  4.5938e-03,  ...,  5.6884e-02,\n",
      "          7.0731e-03,  1.8226e-02],\n",
      "        [ 3.6916e-02, -5.7594e-02,  5.8719e-02,  ...,  5.9446e-02,\n",
      "          4.4148e-02, -1.5680e-02]]) \n",
      "\n",
      "\n",
      "3\n",
      "Parameters' shape: torch.Size([1024])\n",
      "Parameter containing:\n",
      "tensor(1.00000e-02 *\n",
      "       [ 1.6806, -0.2331, -3.9359,  ...,  5.4515,  0.5685,  1.3631]) \n",
      "\n",
      "\n",
      "4\n",
      "Parameters' shape: torch.Size([1024])\n",
      "Parameter containing:\n",
      "tensor(1.00000e-02 *\n",
      "       [ 3.9408,  0.1103,  5.7541,  ..., -0.6483, -5.0385, -2.6952]) \n",
      "\n",
      "\n",
      "5\n",
      "Parameters' shape: torch.Size([1024, 256])\n",
      "Parameter containing:\n",
      "tensor([[ 3.0780e-02, -3.8989e-02, -5.8387e-02,  ..., -5.3805e-02,\n",
      "          6.1713e-02,  1.8407e-02],\n",
      "        [-9.4527e-03,  3.1202e-02, -3.3987e-02,  ...,  2.9911e-02,\n",
      "          2.4990e-03, -2.4900e-02],\n",
      "        [ 2.6464e-02,  5.0207e-02,  4.3507e-03,  ..., -3.6818e-03,\n",
      "          2.2867e-02,  9.1156e-03],\n",
      "        ...,\n",
      "        [ 5.6064e-02,  4.8745e-02, -1.8975e-02,  ...,  4.1193e-02,\n",
      "         -4.1570e-02, -4.5390e-02],\n",
      "        [-3.5648e-02, -1.1412e-02,  2.1718e-02,  ...,  5.7502e-02,\n",
      "          5.8417e-02, -1.0287e-03],\n",
      "        [ 3.1194e-02,  9.2210e-03, -6.0192e-02,  ..., -5.3748e-04,\n",
      "         -6.0177e-02,  3.3352e-02]]) \n",
      "\n",
      "\n",
      "6\n",
      "Parameters' shape: torch.Size([1024, 256])\n",
      "Parameter containing:\n",
      "tensor([[ 5.8407e-03, -3.4411e-02, -1.8679e-03,  ..., -1.6245e-02,\n",
      "          2.8029e-02,  2.3477e-02],\n",
      "        [-1.5035e-02,  5.2583e-02,  2.6453e-02,  ...,  4.1074e-03,\n",
      "          1.4231e-02, -6.1815e-02],\n",
      "        [-5.2941e-02, -4.4558e-02,  1.6964e-02,  ...,  4.4318e-02,\n",
      "          3.1943e-02,  5.2687e-02],\n",
      "        ...,\n",
      "        [-4.3707e-02,  4.6665e-02,  2.6261e-02,  ...,  1.4572e-02,\n",
      "         -5.7696e-02,  2.2674e-02],\n",
      "        [-3.5785e-03, -6.0133e-02, -4.4893e-04,  ..., -3.1136e-03,\n",
      "          5.0916e-02,  2.7386e-02],\n",
      "        [ 5.1882e-02, -4.2286e-02, -4.4885e-02,  ..., -7.0402e-03,\n",
      "          1.5920e-02,  3.5645e-02]]) \n",
      "\n",
      "\n",
      "7\n",
      "Parameters' shape: torch.Size([1024])\n",
      "Parameter containing:\n",
      "tensor(1.00000e-02 *\n",
      "       [-5.7393, -6.0519, -3.5439,  ..., -4.5396, -4.1676, -4.4436]) \n",
      "\n",
      "\n",
      "8\n",
      "Parameters' shape: torch.Size([1024])\n",
      "Parameter containing:\n",
      "tensor(1.00000e-02 *\n",
      "       [ 0.5116,  1.9859, -0.4489,  ...,  0.2450,  5.7120,  5.4673]) \n",
      "\n",
      "\n",
      "9\n",
      "Parameters' shape: torch.Size([1, 256])\n",
      "Parameter containing:\n",
      "tensor(1.00000e-02 *\n",
      "       [[ 2.3196,  1.5506, -3.9045, -4.7896, -1.7064, -0.8932, -2.1065,\n",
      "          2.1798, -6.0012,  1.4516, -0.5092, -0.6434,  0.2648,  4.5130,\n",
      "          4.9720,  5.3027,  0.3766, -5.2255,  0.1181, -0.1808,  3.0279,\n",
      "          5.0620, -5.4040, -4.0358,  0.5268,  5.5007, -4.0288,  0.5534,\n",
      "          5.1443,  5.9225,  3.7899, -1.8855, -2.2843,  3.1592,  5.4797,\n",
      "          1.6545, -1.8394, -1.7504,  6.0291, -4.7246, -1.9845, -6.0191,\n",
      "          2.7266, -3.2844, -3.5733, -0.4204, -1.5372, -3.8806,  0.3024,\n",
      "          1.9084, -0.1677, -3.4495, -1.4990,  1.8869, -4.5893,  0.0742,\n",
      "         -5.1431,  5.0418, -3.9873,  0.0358, -0.0816, -0.2878,  5.0515,\n",
      "         -3.8227,  3.6926, -1.8021, -4.8013, -3.8784, -0.7043, -4.7993,\n",
      "          4.3268, -1.0947,  6.0335,  0.9680,  4.6173,  1.4862, -2.0970,\n",
      "         -1.4151,  4.5920,  3.7332, -2.6470, -6.1015, -2.2475,  5.3737,\n",
      "          0.5874,  4.6376, -0.5964,  1.3769,  1.2565,  4.9308,  3.1542,\n",
      "         -1.9883,  4.2695, -2.9806,  0.5648, -0.0583,  4.8154, -3.1776,\n",
      "          1.5149,  3.3701,  0.2011,  3.5525, -1.5241,  4.3229,  0.5680,\n",
      "         -0.2740, -5.2420, -1.0758, -1.1038, -2.2198,  2.2819,  2.7728,\n",
      "          4.7648,  5.1059,  2.4887,  3.9118,  6.1342, -0.3987, -0.6789,\n",
      "          5.5561, -4.6027,  0.7259, -3.0683, -5.6842,  5.4717, -5.6144,\n",
      "          1.0989,  6.1913, -5.3725, -4.1295, -3.3291,  2.1764, -2.2366,\n",
      "          3.9874,  3.3483,  1.2209, -2.3655, -0.1375,  4.6025,  2.9329,\n",
      "         -5.9161,  4.9969,  1.2865,  2.7788, -2.2234,  0.6826, -6.1639,\n",
      "         -6.1769, -5.8866,  1.2913,  0.4666,  1.1143,  3.2476,  4.7088,\n",
      "          3.9412,  1.3098,  5.1831, -4.5435, -1.1104, -1.2841, -5.6308,\n",
      "         -1.0945,  2.2328,  0.1225, -3.0052,  6.0137,  2.1522, -5.9296,\n",
      "         -0.5171,  0.2846,  0.2441, -6.0517, -4.1307, -4.8739, -6.0564,\n",
      "         -2.8236, -2.4450, -5.7693,  0.1231,  1.8339, -1.6967, -3.7013,\n",
      "         -1.0445,  1.8697,  5.6294,  4.5438, -4.6304, -5.6006, -0.6752,\n",
      "          5.5127,  5.3875, -5.2621, -1.8174,  1.3393,  4.2833, -0.6415,\n",
      "          4.2190, -1.3159, -0.6460, -6.0746,  4.5500,  0.6256,  0.8912,\n",
      "          1.5643,  2.4465, -0.0958, -2.3469, -3.2290, -5.1459,  2.7648,\n",
      "         -0.6710,  2.6988,  1.9612, -1.0081,  1.1858,  5.8186,  3.4283,\n",
      "          1.6720,  0.0344, -6.1135, -2.8306, -3.4589,  1.8468, -4.6688,\n",
      "         -5.9265, -6.2414,  1.3635, -2.6736,  1.2861,  5.6203, -1.0958,\n",
      "          5.2260, -2.6883, -0.8872,  6.0912, -4.5132,  6.1132, -3.7974,\n",
      "         -5.5236, -5.3035,  2.5144, -3.6103, -0.6055,  5.1340,  4.3140,\n",
      "          0.6892,  5.8159, -3.7789,  1.8336, -2.8154, -2.4955,  4.2687,\n",
      "          2.9388, -1.4610,  0.0418,  3.0206]]) \n",
      "\n",
      "\n",
      "10\n",
      "Parameters' shape: torch.Size([1])\n",
      "Parameter containing:\n",
      "tensor(1.00000e-02 *\n",
      "       [ 1.7682]) \n",
      "\n",
      "\n"
     ]
    }
   ],
   "source": [
    "for i, param in enumerate(net.parameters()):\n",
    "    print(f\"{i}\")\n",
    "    print(f\"Parameters' shape: {param.size()}\")\n",
    "    print(param, \"\\n\\n\")"
   ]
  },
  {
   "cell_type": "markdown",
   "metadata": {},
   "source": [
    "---\n",
    "## Training\n",
    "\n",
    "Below is the typical training code. If you want to do this yourself, feel free to delete all this code and implement it yourself. You can also add code to save a model by name.\n",
    "\n",
    ">We'll also be using a new kind of cross entropy loss, which is designed to work with a single Sigmoid output. [BCELoss](https://pytorch.org/docs/stable/nn.html#bceloss), or **Binary Cross Entropy Loss**, applies cross entropy loss to a single value between 0 and 1.\n",
    "\n",
    "We also have some data and training hyparameters:\n",
    "\n",
    "* `lr`: Learning rate for our optimizer.\n",
    "* `epochs`: Number of times to iterate through the training dataset.\n",
    "* `clip`: The maximum gradient value to clip at (to prevent exploding gradients)."
   ]
  },
  {
   "cell_type": "code",
   "execution_count": 31,
   "metadata": {},
   "outputs": [],
   "source": [
    "# loss and optimization functions\n",
    "lr=0.001\n",
    "\n",
    "criterion = nn.BCELoss()\n",
    "optimizer = torch.optim.Adam(net.parameters(), lr=lr)\n"
   ]
  },
  {
   "cell_type": "markdown",
   "metadata": {},
   "source": [
    "**Output, target format**  \n",
    "You should also notice that, in the training loop, we are making sure that our outputs are squeezed so that they do not have an empty dimension `output.squeeze()` and the labels are float tensors, `labels.float()`. Then we perform backpropagation as usual.\n",
    "\n",
    "**Train and eval mode**  \n",
    "Below, you can also see that we switch between train and evaluation mode when the model is training versus when it is being evaluated on validation data!\n",
    "\n",
    "**Training Loop**  \n",
    "Below, you’ll see a usual training loop.\n",
    "\n",
    "I’m actually only going to do four epochs of training because that's about when I noticed the validation loss stop decreasing.\n",
    "\n",
    "* You can see that I am initializing my hidden state before entering the batch loop then have my usual detachment from history for the hidden state and backpropagation steps.\n",
    "* I’m getting my input and label data from my train_dataloader. Then applying my model to the inputs and comparing the outputs and the true labels.\n",
    "* I also have some code that checks performance on my validation set, which, if you want, may be a great thing to use to decide when to stop training or which best model to save!\n",
    "\n"
   ]
  },
  {
   "cell_type": "code",
   "execution_count": 32,
   "metadata": {},
   "outputs": [
    {
     "name": "stdout",
     "output_type": "stream",
     "text": [
      "Epochs: 1/4\n",
      "Step: 100\n",
      "Training Loss: 0.645993\n",
      "Val Loss: 0.651901\n",
      "Epochs: 1/4\n",
      "Step: 200\n",
      "Training Loss: 0.633080\n",
      "Val Loss: 0.608370\n",
      "Epochs: 1/4\n",
      "Step: 300\n",
      "Training Loss: 0.701707\n",
      "Val Loss: 0.679176\n",
      "Epochs: 1/4\n",
      "Step: 400\n",
      "Training Loss: 0.524595\n",
      "Val Loss: 0.574106\n",
      "Epochs: 2/4\n",
      "Step: 500\n",
      "Training Loss: 0.675588\n",
      "Val Loss: 0.723481\n",
      "Epochs: 2/4\n",
      "Step: 600\n",
      "Training Loss: 0.388468\n",
      "Val Loss: 0.501509\n",
      "Epochs: 2/4\n",
      "Step: 700\n",
      "Training Loss: 0.550559\n",
      "Val Loss: 0.489166\n",
      "Epochs: 2/4\n",
      "Step: 800\n",
      "Training Loss: 0.568085\n",
      "Val Loss: 0.473631\n",
      "Epochs: 3/4\n",
      "Step: 900\n",
      "Training Loss: 0.341139\n",
      "Val Loss: 0.471989\n",
      "Epochs: 3/4\n",
      "Step: 1000\n",
      "Training Loss: 0.270800\n",
      "Val Loss: 0.460088\n",
      "Epochs: 3/4\n",
      "Step: 1100\n",
      "Training Loss: 0.312699\n",
      "Val Loss: 0.424213\n",
      "Epochs: 3/4\n",
      "Step: 1200\n",
      "Training Loss: 0.327611\n",
      "Val Loss: 0.421898\n",
      "Epochs: 4/4\n",
      "Step: 1300\n",
      "Training Loss: 0.276552\n",
      "Val Loss: 0.485910\n",
      "Epochs: 4/4\n",
      "Step: 1400\n",
      "Training Loss: 0.189786\n",
      "Val Loss: 0.469591\n",
      "Epochs: 4/4\n",
      "Step: 1500\n",
      "Training Loss: 0.100684\n",
      "Val Loss: 0.486532\n",
      "Epochs: 4/4\n",
      "Step: 1600\n",
      "Training Loss: 0.131334\n",
      "Val Loss: 0.484428\n"
     ]
    }
   ],
   "source": [
    "# training params\n",
    "\n",
    "epochs = 4 # 3-4 is approx where I noticed the validation loss stop decreasing\n",
    "\n",
    "counter = 0\n",
    "print_every = 100\n",
    "clip=5 # gradient clipping\n",
    "\n",
    "# move model to GPU, if available\n",
    "if(train_on_gpu):\n",
    "    net.cuda()\n",
    "\n",
    "net.train()\n",
    "# train for some number of epochs\n",
    "for e in range(epochs):\n",
    "    # initialize hidden state\n",
    "    h = net.init_hidden(batch_size)\n",
    "    train_losses = []\n",
    "    # batch loop. 400 batches in an epoch\n",
    "    for inputs, labels in train_loader:\n",
    "        counter += 1\n",
    "\n",
    "        if(train_on_gpu):\n",
    "            inputs, labels = inputs.cuda(), labels.cuda()\n",
    "\n",
    "        # Creating new variables for the hidden state, otherwise\n",
    "        # we'd backprop through the entire training history\n",
    "        h = tuple([each.data for each in h])\n",
    "\n",
    "        # zero accumulated gradients\n",
    "        net.zero_grad()\n",
    "\n",
    "        # get the output from the model\n",
    "        output, h = net(inputs, h)\n",
    "\n",
    "        # calculate the loss and perform backprop\n",
    "        loss = criterion(output.squeeze(), labels.float())\n",
    "        loss.backward()\n",
    "        # `clip_grad_norm` helps prevent the exploding gradient problem in RNNs / LSTMs.\n",
    "        nn.utils.clip_grad_norm_(net.parameters(), clip)\n",
    "        optimizer.step()\n",
    "\n",
    "        # loss stats\n",
    "        if counter % print_every == 0:\n",
    "            # Get validation loss\n",
    "            val_h = net.init_hidden(batch_size)\n",
    "            val_losses = []\n",
    "            net.eval()\n",
    "            for inputs, labels in valid_loader:\n",
    "\n",
    "                # Creating new variables for the hidden state, otherwise\n",
    "                # we'd backprop through the entire training history\n",
    "                val_h = tuple([each.data for each in val_h])\n",
    "\n",
    "                if(train_on_gpu):\n",
    "                    inputs, labels = inputs.cuda(), labels.cuda()\n",
    "\n",
    "                output, val_h = net(inputs, val_h)\n",
    "                val_loss = criterion(output.squeeze(), labels.float())\n",
    "\n",
    "                val_losses.append(val_loss.item())\n",
    "            train_losses.append(loss.item())\n",
    "\n",
    "            net.train()\n",
    "#             print(\"Epoch: {}/{}...\".format(e+1, epochs),\n",
    "#                   \"Step: {}...\".format(counter),\n",
    "#                   \"Loss: {:.6f}...\".format(loss.item()),\n",
    "#                   \"Val Loss: {:.6f}\".format(np.mean(val_losses)))\n",
    "            print(f\"Epochs: {e+1}/{epochs}\")\n",
    "            print(f\"Step: {counter}\")\n",
    "            print(f\"Training Loss: {loss.item():.6f}\")\n",
    "            print(f\"Val Loss: {np.mean(val_losses):.6f}\")"
   ]
  },
  {
   "cell_type": "code",
   "execution_count": 33,
   "metadata": {},
   "outputs": [],
   "source": [
    "%matplotlib inline\n",
    "# to solve the problem that the matplotlib doesn't show well in Retina monitor\n",
    "%config InlineBackend.figure_format = 'retina'\n",
    "\n",
    "import matplotlib.pyplot as plt"
   ]
  },
  {
   "cell_type": "code",
   "execution_count": 35,
   "metadata": {},
   "outputs": [
    {
     "data": {
      "text/plain": [
       "[0.27655163407325745,\n",
       " 0.1897861659526825,\n",
       " 0.10068357735872269,\n",
       " 0.13133399188518524]"
      ]
     },
     "execution_count": 35,
     "metadata": {},
     "output_type": "execute_result"
    }
   ],
   "source": [
    "train_losses"
   ]
  },
  {
   "cell_type": "code",
   "execution_count": 36,
   "metadata": {},
   "outputs": [
    {
     "data": {
      "text/plain": [
       "[0.9373332858085632,\n",
       " 0.6558409929275513,\n",
       " 0.4182702302932739,\n",
       " 0.5791690945625305,\n",
       " 0.6310943365097046,\n",
       " 0.5185996294021606,\n",
       " 0.5035785436630249,\n",
       " 0.6460574269294739,\n",
       " 0.2096582055091858,\n",
       " 0.6695799827575684,\n",
       " 0.2968742847442627,\n",
       " 0.6684099435806274,\n",
       " 0.4319697916507721,\n",
       " 0.40196555852890015,\n",
       " 0.5985202193260193,\n",
       " 0.5314143300056458,\n",
       " 0.4212159216403961,\n",
       " 0.4562329947948456,\n",
       " 0.38410723209381104,\n",
       " 0.5404505729675293,\n",
       " 0.6802917718887329,\n",
       " 0.4721421003341675,\n",
       " 0.5239503979682922,\n",
       " 0.7624731659889221,\n",
       " 0.4550796151161194,\n",
       " 0.6600810885429382,\n",
       " 0.26364997029304504,\n",
       " 0.33598005771636963,\n",
       " 0.43424731492996216,\n",
       " 0.7109949588775635,\n",
       " 0.40750983357429504,\n",
       " 0.283979594707489,\n",
       " 0.4064551591873169,\n",
       " 0.8072720170021057,\n",
       " 0.4049954116344452,\n",
       " 0.5481422543525696,\n",
       " 0.42198359966278076,\n",
       " 0.3722608983516693,\n",
       " 0.4167032241821289,\n",
       " 0.40439078211784363,\n",
       " 0.4682973027229309,\n",
       " 0.25734943151474,\n",
       " 0.31719455122947693,\n",
       " 0.3645804524421692,\n",
       " 0.2506864070892334,\n",
       " 0.3913460671901703,\n",
       " 0.40234375,\n",
       " 0.5074201226234436,\n",
       " 0.3910443186759949,\n",
       " 0.5982353687286377]"
      ]
     },
     "execution_count": 36,
     "metadata": {},
     "output_type": "execute_result"
    }
   ],
   "source": [
    "val_losses"
   ]
  },
  {
   "cell_type": "code",
   "execution_count": 34,
   "metadata": {},
   "outputs": [
    {
     "data": {
      "text/plain": [
       "<matplotlib.legend.Legend at 0x7faa14cc6d68>"
      ]
     },
     "execution_count": 34,
     "metadata": {},
     "output_type": "execute_result"
    },
    {
     "data": {
      "image/png": "[encoded data removed]",
      "text/plain": [
       "<matplotlib.figure.Figure at 0x7faa14d6a208>"
      ]
     },
     "metadata": {
      "image/png": {
       "height": 250,
       "width": 373
      },
      "needs_background": "light"
     },
     "output_type": "display_data"
    }
   ],
   "source": [
    "plt.plot(train_losses, label='Training loss')\n",
    "plt.plot(val_losses, label='Validation loss')\n",
    "plt.legend(frameon=False)"
   ]
  },
  {
   "cell_type": "markdown",
   "metadata": {},
   "source": [
    "Make sure to take a look at how training **and** validation loss decrease during training! Then, once you're satisfied with your trained model, you can test it out in a couple ways to see how it behaves on new data!"
   ]
  },
  {
   "cell_type": "markdown",
   "metadata": {},
   "source": [
    "---\n",
    "## Testing\n",
    "\n",
    "There are a few ways to test your network.\n",
    "\n",
    "* **Test data performance:** First, we'll see how our trained model performs on all of our defined test_data, above. We'll calculate the average loss and accuracy over the test data.\n",
    "\n",
    "* **Inference on user-generated data:** Second, we'll see if we can input just one example review at a time (without a label), and see what the trained model predicts. Looking at new, user input data like this, and predicting an output label, is called **inference**.\n",
    "\n",
    "I’m doing this by looking at the **rounded value** of our output. Recall that this is a sigmoid output between 0-1 and so rounding this value will give us an integer that is the most likely label: 0 or 1. Then I’m comparing that predicted label to the true label; if it matches, I record that as a correctly-labeled test review.\n",
    "\n",
    "**Some references:**\n",
    "* [torch.eq()](https://pytorch.org/docs/stable/generated/torch.eq.html)"
   ]
  },
  {
   "cell_type": "code",
   "execution_count": 37,
   "metadata": {},
   "outputs": [
    {
     "name": "stdout",
     "output_type": "stream",
     "text": [
      "Test loss: 0.525\n",
      "Test accuracy: 0.805\n"
     ]
    }
   ],
   "source": [
    "# Get test data loss and accuracy\n",
    "\n",
    "test_losses = [] # track loss\n",
    "num_correct = 0\n",
    "\n",
    "# init hidden state\n",
    "h = net.init_hidden(batch_size)\n",
    "\n",
    "net.eval()\n",
    "# iterate over test data\n",
    "for inputs, labels in test_loader:\n",
    "\n",
    "    # Creating new variables for the hidden state, otherwise\n",
    "    # we'd backprop through the entire training history\n",
    "    h = tuple([each.data for each in h])\n",
    "\n",
    "    if(train_on_gpu):\n",
    "        inputs, labels = inputs.cuda(), labels.cuda()\n",
    "    \n",
    "    # get predicted outputs\n",
    "    output, h = net(inputs, h)\n",
    "    \n",
    "    # calculate loss\n",
    "    test_loss = criterion(output.squeeze(), labels.float())\n",
    "    test_losses.append(test_loss.item())\n",
    "    \n",
    "    # convert output probabilities to predicted class (0 or 1)\n",
    "    pred = torch.round(output.squeeze())  # rounds to the nearest integer\n",
    "    \n",
    "    # compare predictions to true label\n",
    "    correct_tensor = pred.eq(labels.float().view_as(pred))\n",
    "    correct = np.squeeze(correct_tensor.numpy()) if not train_on_gpu else np.squeeze(correct_tensor.cpu().numpy())\n",
    "    num_correct += np.sum(correct)\n",
    "\n",
    "\n",
    "# -- stats! -- ##\n",
    "# avg test loss\n",
    "print(f\"Test loss: {np.mean(test_losses):.3f}\")\n",
    "\n",
    "# accuracy over all test data\n",
    "test_acc = num_correct/len(test_loader.dataset)\n",
    "print(f\"Test accuracy: {test_acc:.3f}\")"
   ]
  },
  {
   "cell_type": "markdown",
   "metadata": {},
   "source": [
    "### Inference on a test review\n",
    "\n",
    "Let's put all these pieces together! One of the coolest ways to test a model like this is to give it user-generated data, without any true label, and see what happens. So, in this case, that data will just be a single string: a review that you can write and here’s just one `test_reviewas` an example:\n",
    "\n",
    "You can change this test_review to any text that you want. Read it and think: is it pos or neg? Then see if your model predicts correctly!\n",
    "    \n",
    "> **Exercise:** Write a `predict` function that takes in a trained net, a plain `text_review`, and a `sequence length`, and prints out a custom statement for a positive or negative review!\n",
    "* You can use any functions that you've already defined or define any helper functions you want to complete `predict`, but it should just take in a trained net, a text review, and a sequence length.\n"
   ]
  },
  {
   "cell_type": "code",
   "execution_count": 38,
   "metadata": {},
   "outputs": [],
   "source": [
    "# negative test review\n",
    "test_review_neg = 'The worst movie I have seen; acting was terrible and I want my money back. This movie had bad acting and the dialogue was slow.'\n"
   ]
  },
  {
   "cell_type": "markdown",
   "metadata": {},
   "source": [
    "#### Pre-process the `test_review`\n",
    "The first thing we'll have to do it to process the `test_review`, so that it is converted into a tensor that our model can see as input. In fact, this involves quite a lot of pre-processing, but nothing that you haven't seen before!\n",
    "\n",
    "I broke this down into a series of steps.\n",
    "\n",
    "I have a helper function `tokenize_review` that is responsible for doing some data processing on my test_review.\n",
    "\n",
    "It takes in my test_review, and then does a couple of things:\n",
    "\n",
    "1. First, I convert my `test_review` to lowercase, and remove any punctuation, so I’m left with all text.\n",
    "2. Then I breaks it into individual words with split(), and I’m left with a list of words in the review.\n",
    "3. I encode those words using the `vocab_to_int` dictionary that we already defined, near the start of this lesson.\n",
    "Now, I am assuming a few things here, including: this review is one review, not a batch, and that this review only includes words *already* in our dictionary, and in this case that will be true, but you can add code to handle unknown characters, I just didn’t do that in my model."
   ]
  },
  {
   "cell_type": "code",
   "execution_count": 42,
   "metadata": {},
   "outputs": [],
   "source": [
    "from string import punctuation\n",
    "\n",
    "def tokenize_review(test_review):\n",
    "    '''\n",
    "    test_review: (str) a review.\n",
    "    '''\n",
    "    # lowercase\n",
    "    test_review = test_review.lower()\n",
    "    \n",
    "    # get rid of punctuation\n",
    "    all_text = ''.join([c for c in test_review if c not in punctuation])\n",
    "    \n",
    "    # splitting by spaces\n",
    "    test_words = all_text.split()\n",
    "    \n",
    "    # tokens\n",
    "    test_ints = []\n",
    "    test_ints.append([vocab_to_int[w] for w in test_words])\n",
    "    \n",
    "    return test_ints"
   ]
  },
  {
   "cell_type": "code",
   "execution_count": 46,
   "metadata": {},
   "outputs": [],
   "source": [
    "def predict(net, test_review, sequence_length=200):\n",
    "    ''' Prints out whether a give review is predicted to be \n",
    "        positive or negative in sentiment, using a trained model.\n",
    "        \n",
    "        params:\n",
    "        net - A trained net \n",
    "        test_review - a review made of normal text and punctuation\n",
    "        sequence_length - the padded length of a review\n",
    "        '''\n",
    "    \n",
    "    net.eval()\n",
    "    \n",
    "    # tokenize review\n",
    "    test_ints = tokenize_review(test_review)\n",
    "    \n",
    "    # pad tokenized sequence\n",
    "    features = pad_features(reviews_ints, sequence_length)\n",
    "    \n",
    "    # convert to tensor\n",
    "    features_tensor = torch.from_numpy(features)\n",
    "    \n",
    "    batch_size = features_tensor.size(0)\n",
    "    \n",
    "    # initialize hidden state\n",
    "    h = net.init_hidden(batch_size)\n",
    "    \n",
    "    if (train_on_gpu):\n",
    "        features_tensor = features_tensor.cuda()\n",
    "        \n",
    "    # get the output from the model\n",
    "    output, h = net(features_tensor, h)\n",
    "    \n",
    "    # convert output probabilities to predicted class (0 or 1)\n",
    "    pred = torch.round(output.squeeze())\n",
    "    # printing output value, before rounding\n",
    "    print(f\"Predicting value: {pred:.6f}\")\n",
    "    \n",
    "    # print custom response based on whether test_review is pos/neg\n",
    "    if pred.item() == 1:\n",
    "        print(\"Positive review\")\n",
    "    else:\n",
    "        print(\"Negative review\")\n",
    "    \n",
    "        "
   ]
  },
  {
   "cell_type": "code",
   "execution_count": 47,
   "metadata": {},
   "outputs": [],
   "source": [
    "# positive test review\n",
    "test_review_pos = 'This movie had the best acting and the dialogue was so good. I loved it.'\n"
   ]
  },
  {
   "cell_type": "code",
   "execution_count": 48,
   "metadata": {},
   "outputs": [
    {
     "ename": "RuntimeError",
     "evalue": "cuda runtime error (2) : out of memory at /opt/conda/conda-bld/pytorch_1524584710464/work/aten/src/THC/generic/THCStorage.cu:58",
     "output_type": "error",
     "traceback": [
      "\u001b[0;31m---------------------------------------------------------------------------\u001b[0m",
      "\u001b[0;31mRuntimeError\u001b[0m                              Traceback (most recent call last)",
      "\u001b[0;32m<ipython-input-48-969818a38cef>\u001b[0m in \u001b[0;36m<module>\u001b[0;34m()\u001b[0m\n\u001b[1;32m      2\u001b[0m \u001b[0;31m# try negative and positive reviews!\u001b[0m\u001b[0;34m\u001b[0m\u001b[0;34m\u001b[0m\u001b[0m\n\u001b[1;32m      3\u001b[0m \u001b[0mseq_length\u001b[0m\u001b[0;34m=\u001b[0m\u001b[0;36m200\u001b[0m\u001b[0;34m\u001b[0m\u001b[0m\n\u001b[0;32m----> 4\u001b[0;31m \u001b[0mpredict\u001b[0m\u001b[0;34m(\u001b[0m\u001b[0mnet\u001b[0m\u001b[0;34m,\u001b[0m \u001b[0mtest_review_neg\u001b[0m\u001b[0;34m,\u001b[0m \u001b[0mseq_length\u001b[0m\u001b[0;34m)\u001b[0m\u001b[0;34m\u001b[0m\u001b[0m\n\u001b[0m",
      "\u001b[0;32m<ipython-input-46-5de3674999df>\u001b[0m in \u001b[0;36mpredict\u001b[0;34m(net, test_review, sequence_length)\u001b[0m\n\u001b[1;32m     29\u001b[0m \u001b[0;34m\u001b[0m\u001b[0m\n\u001b[1;32m     30\u001b[0m     \u001b[0;31m# get the output from the model\u001b[0m\u001b[0;34m\u001b[0m\u001b[0;34m\u001b[0m\u001b[0m\n\u001b[0;32m---> 31\u001b[0;31m     \u001b[0moutput\u001b[0m\u001b[0;34m,\u001b[0m \u001b[0mh\u001b[0m \u001b[0;34m=\u001b[0m \u001b[0mnet\u001b[0m\u001b[0;34m(\u001b[0m\u001b[0mfeatures_tensor\u001b[0m\u001b[0;34m,\u001b[0m \u001b[0mh\u001b[0m\u001b[0;34m)\u001b[0m\u001b[0;34m\u001b[0m\u001b[0m\n\u001b[0m\u001b[1;32m     32\u001b[0m \u001b[0;34m\u001b[0m\u001b[0m\n\u001b[1;32m     33\u001b[0m     \u001b[0;31m# convert output probabilities to predicted class (0 or 1)\u001b[0m\u001b[0;34m\u001b[0m\u001b[0;34m\u001b[0m\u001b[0m\n",
      "\u001b[0;32m/opt/conda/lib/python3.6/site-packages/torch/nn/modules/module.py\u001b[0m in \u001b[0;36m__call__\u001b[0;34m(self, *input, **kwargs)\u001b[0m\n\u001b[1;32m    489\u001b[0m             \u001b[0mresult\u001b[0m \u001b[0;34m=\u001b[0m \u001b[0mself\u001b[0m\u001b[0;34m.\u001b[0m\u001b[0m_slow_forward\u001b[0m\u001b[0;34m(\u001b[0m\u001b[0;34m*\u001b[0m\u001b[0minput\u001b[0m\u001b[0;34m,\u001b[0m \u001b[0;34m**\u001b[0m\u001b[0mkwargs\u001b[0m\u001b[0;34m)\u001b[0m\u001b[0;34m\u001b[0m\u001b[0m\n\u001b[1;32m    490\u001b[0m         \u001b[0;32melse\u001b[0m\u001b[0;34m:\u001b[0m\u001b[0;34m\u001b[0m\u001b[0m\n\u001b[0;32m--> 491\u001b[0;31m             \u001b[0mresult\u001b[0m \u001b[0;34m=\u001b[0m \u001b[0mself\u001b[0m\u001b[0;34m.\u001b[0m\u001b[0mforward\u001b[0m\u001b[0;34m(\u001b[0m\u001b[0;34m*\u001b[0m\u001b[0minput\u001b[0m\u001b[0;34m,\u001b[0m \u001b[0;34m**\u001b[0m\u001b[0mkwargs\u001b[0m\u001b[0;34m)\u001b[0m\u001b[0;34m\u001b[0m\u001b[0m\n\u001b[0m\u001b[1;32m    492\u001b[0m         \u001b[0;32mfor\u001b[0m \u001b[0mhook\u001b[0m \u001b[0;32min\u001b[0m \u001b[0mself\u001b[0m\u001b[0;34m.\u001b[0m\u001b[0m_forward_hooks\u001b[0m\u001b[0;34m.\u001b[0m\u001b[0mvalues\u001b[0m\u001b[0;34m(\u001b[0m\u001b[0;34m)\u001b[0m\u001b[0;34m:\u001b[0m\u001b[0;34m\u001b[0m\u001b[0m\n\u001b[1;32m    493\u001b[0m             \u001b[0mhook_result\u001b[0m \u001b[0;34m=\u001b[0m \u001b[0mhook\u001b[0m\u001b[0;34m(\u001b[0m\u001b[0mself\u001b[0m\u001b[0;34m,\u001b[0m \u001b[0minput\u001b[0m\u001b[0;34m,\u001b[0m \u001b[0mresult\u001b[0m\u001b[0;34m)\u001b[0m\u001b[0;34m\u001b[0m\u001b[0m\n",
      "\u001b[0;32m<ipython-input-27-85dcdd7c57cc>\u001b[0m in \u001b[0;36mforward\u001b[0;34m(self, x, hidden)\u001b[0m\n\u001b[1;32m     31\u001b[0m \u001b[0;34m\u001b[0m\u001b[0m\n\u001b[1;32m     32\u001b[0m         \u001b[0membed_input\u001b[0m \u001b[0;34m=\u001b[0m \u001b[0mself\u001b[0m\u001b[0;34m.\u001b[0m\u001b[0membedding\u001b[0m\u001b[0;34m(\u001b[0m\u001b[0mx\u001b[0m\u001b[0;34m)\u001b[0m\u001b[0;34m\u001b[0m\u001b[0m\n\u001b[0;32m---> 33\u001b[0;31m         \u001b[0mlstm_out\u001b[0m\u001b[0;34m,\u001b[0m \u001b[0mhidden\u001b[0m \u001b[0;34m=\u001b[0m \u001b[0mself\u001b[0m\u001b[0;34m.\u001b[0m\u001b[0mlstm\u001b[0m\u001b[0;34m(\u001b[0m\u001b[0membed_input\u001b[0m\u001b[0;34m,\u001b[0m \u001b[0mhidden\u001b[0m\u001b[0;34m)\u001b[0m\u001b[0;34m\u001b[0m\u001b[0m\n\u001b[0m\u001b[1;32m     34\u001b[0m \u001b[0;34m\u001b[0m\u001b[0m\n\u001b[1;32m     35\u001b[0m         \u001b[0;31m# Stack up LSTM outputs (cells) into layers using view to pass to the last linear layer\u001b[0m\u001b[0;34m\u001b[0m\u001b[0;34m\u001b[0m\u001b[0m\n",
      "\u001b[0;32m/opt/conda/lib/python3.6/site-packages/torch/nn/modules/module.py\u001b[0m in \u001b[0;36m__call__\u001b[0;34m(self, *input, **kwargs)\u001b[0m\n\u001b[1;32m    489\u001b[0m             \u001b[0mresult\u001b[0m \u001b[0;34m=\u001b[0m \u001b[0mself\u001b[0m\u001b[0;34m.\u001b[0m\u001b[0m_slow_forward\u001b[0m\u001b[0;34m(\u001b[0m\u001b[0;34m*\u001b[0m\u001b[0minput\u001b[0m\u001b[0;34m,\u001b[0m \u001b[0;34m**\u001b[0m\u001b[0mkwargs\u001b[0m\u001b[0;34m)\u001b[0m\u001b[0;34m\u001b[0m\u001b[0m\n\u001b[1;32m    490\u001b[0m         \u001b[0;32melse\u001b[0m\u001b[0;34m:\u001b[0m\u001b[0;34m\u001b[0m\u001b[0m\n\u001b[0;32m--> 491\u001b[0;31m             \u001b[0mresult\u001b[0m \u001b[0;34m=\u001b[0m \u001b[0mself\u001b[0m\u001b[0;34m.\u001b[0m\u001b[0mforward\u001b[0m\u001b[0;34m(\u001b[0m\u001b[0;34m*\u001b[0m\u001b[0minput\u001b[0m\u001b[0;34m,\u001b[0m \u001b[0;34m**\u001b[0m\u001b[0mkwargs\u001b[0m\u001b[0;34m)\u001b[0m\u001b[0;34m\u001b[0m\u001b[0m\n\u001b[0m\u001b[1;32m    492\u001b[0m         \u001b[0;32mfor\u001b[0m \u001b[0mhook\u001b[0m \u001b[0;32min\u001b[0m \u001b[0mself\u001b[0m\u001b[0;34m.\u001b[0m\u001b[0m_forward_hooks\u001b[0m\u001b[0;34m.\u001b[0m\u001b[0mvalues\u001b[0m\u001b[0;34m(\u001b[0m\u001b[0;34m)\u001b[0m\u001b[0;34m:\u001b[0m\u001b[0;34m\u001b[0m\u001b[0m\n\u001b[1;32m    493\u001b[0m             \u001b[0mhook_result\u001b[0m \u001b[0;34m=\u001b[0m \u001b[0mhook\u001b[0m\u001b[0;34m(\u001b[0m\u001b[0mself\u001b[0m\u001b[0;34m,\u001b[0m \u001b[0minput\u001b[0m\u001b[0;34m,\u001b[0m \u001b[0mresult\u001b[0m\u001b[0;34m)\u001b[0m\u001b[0;34m\u001b[0m\u001b[0m\n",
      "\u001b[0;32m/opt/conda/lib/python3.6/site-packages/torch/nn/modules/rnn.py\u001b[0m in \u001b[0;36mforward\u001b[0;34m(self, input, hx)\u001b[0m\n\u001b[1;32m    190\u001b[0m             \u001b[0mflat_weight\u001b[0m\u001b[0;34m=\u001b[0m\u001b[0mflat_weight\u001b[0m\u001b[0;34m\u001b[0m\u001b[0m\n\u001b[1;32m    191\u001b[0m         )\n\u001b[0;32m--> 192\u001b[0;31m         \u001b[0moutput\u001b[0m\u001b[0;34m,\u001b[0m \u001b[0mhidden\u001b[0m \u001b[0;34m=\u001b[0m \u001b[0mfunc\u001b[0m\u001b[0;34m(\u001b[0m\u001b[0minput\u001b[0m\u001b[0;34m,\u001b[0m \u001b[0mself\u001b[0m\u001b[0;34m.\u001b[0m\u001b[0mall_weights\u001b[0m\u001b[0;34m,\u001b[0m \u001b[0mhx\u001b[0m\u001b[0;34m,\u001b[0m \u001b[0mbatch_sizes\u001b[0m\u001b[0;34m)\u001b[0m\u001b[0;34m\u001b[0m\u001b[0m\n\u001b[0m\u001b[1;32m    193\u001b[0m         \u001b[0;32mif\u001b[0m \u001b[0mis_packed\u001b[0m\u001b[0;34m:\u001b[0m\u001b[0;34m\u001b[0m\u001b[0m\n\u001b[1;32m    194\u001b[0m             \u001b[0moutput\u001b[0m \u001b[0;34m=\u001b[0m \u001b[0mPackedSequence\u001b[0m\u001b[0;34m(\u001b[0m\u001b[0moutput\u001b[0m\u001b[0;34m,\u001b[0m \u001b[0mbatch_sizes\u001b[0m\u001b[0;34m)\u001b[0m\u001b[0;34m\u001b[0m\u001b[0m\n",
      "\u001b[0;32m/opt/conda/lib/python3.6/site-packages/torch/nn/_functions/rnn.py\u001b[0m in \u001b[0;36mforward\u001b[0;34m(input, *fargs, **fkwargs)\u001b[0m\n\u001b[1;32m    321\u001b[0m             \u001b[0mfunc\u001b[0m \u001b[0;34m=\u001b[0m \u001b[0mdecorator\u001b[0m\u001b[0;34m(\u001b[0m\u001b[0mfunc\u001b[0m\u001b[0;34m)\u001b[0m\u001b[0;34m\u001b[0m\u001b[0m\n\u001b[1;32m    322\u001b[0m \u001b[0;34m\u001b[0m\u001b[0m\n\u001b[0;32m--> 323\u001b[0;31m         \u001b[0;32mreturn\u001b[0m \u001b[0mfunc\u001b[0m\u001b[0;34m(\u001b[0m\u001b[0minput\u001b[0m\u001b[0;34m,\u001b[0m \u001b[0;34m*\u001b[0m\u001b[0mfargs\u001b[0m\u001b[0;34m,\u001b[0m \u001b[0;34m**\u001b[0m\u001b[0mfkwargs\u001b[0m\u001b[0;34m)\u001b[0m\u001b[0;34m\u001b[0m\u001b[0m\n\u001b[0m\u001b[1;32m    324\u001b[0m \u001b[0;34m\u001b[0m\u001b[0m\n\u001b[1;32m    325\u001b[0m     \u001b[0;32mreturn\u001b[0m \u001b[0mforward\u001b[0m\u001b[0;34m\u001b[0m\u001b[0m\n",
      "\u001b[0;32m/opt/conda/lib/python3.6/site-packages/torch/nn/_functions/rnn.py\u001b[0m in \u001b[0;36mforward\u001b[0;34m(input, weight, hx, batch_sizes)\u001b[0m\n\u001b[1;32m    285\u001b[0m             \u001b[0mbatch_first\u001b[0m\u001b[0;34m,\u001b[0m \u001b[0mdropout\u001b[0m\u001b[0;34m,\u001b[0m \u001b[0mtrain\u001b[0m\u001b[0;34m,\u001b[0m \u001b[0mbool\u001b[0m\u001b[0;34m(\u001b[0m\u001b[0mbidirectional\u001b[0m\u001b[0;34m)\u001b[0m\u001b[0;34m,\u001b[0m\u001b[0;34m\u001b[0m\u001b[0m\n\u001b[1;32m    286\u001b[0m             \u001b[0mlist\u001b[0m\u001b[0;34m(\u001b[0m\u001b[0mbatch_sizes\u001b[0m\u001b[0;34m.\u001b[0m\u001b[0mdata\u001b[0m\u001b[0;34m)\u001b[0m \u001b[0;32mif\u001b[0m \u001b[0mvariable_length\u001b[0m \u001b[0;32melse\u001b[0m \u001b[0;34m(\u001b[0m\u001b[0;34m)\u001b[0m\u001b[0;34m,\u001b[0m\u001b[0;34m\u001b[0m\u001b[0m\n\u001b[0;32m--> 287\u001b[0;31m             dropout_ts)\n\u001b[0m\u001b[1;32m    288\u001b[0m \u001b[0;34m\u001b[0m\u001b[0m\n\u001b[1;32m    289\u001b[0m         \u001b[0;32mif\u001b[0m \u001b[0mcx\u001b[0m \u001b[0;32mis\u001b[0m \u001b[0;32mnot\u001b[0m \u001b[0;32mNone\u001b[0m\u001b[0;34m:\u001b[0m\u001b[0;34m\u001b[0m\u001b[0m\n",
      "\u001b[0;31mRuntimeError\u001b[0m: cuda runtime error (2) : out of memory at /opt/conda/conda-bld/pytorch_1524584710464/work/aten/src/THC/generic/THCStorage.cu:58"
     ]
    }
   ],
   "source": [
    "# call function\n",
    "# try negative and positive reviews!\n",
    "seq_length=200\n",
    "predict(net, test_review_neg, seq_length)"
   ]
  },
  {
   "cell_type": "markdown",
   "metadata": {},
   "source": [
    "### Try out test_reviews of your own!\n",
    "\n",
    "Now that you have a trained model and a predict function, you can pass in _any_ kind of text and this model will predict whether the text has a positive or negative sentiment. Push this model to its limits and try to find what words it associates with positive or negative.\n",
    "\n",
    "Later, you'll learn how to deploy a model like this to a production environment so that it can respond to any kind of user data put into a web app!"
   ]
  },
  {
   "cell_type": "code",
   "execution_count": null,
   "metadata": {
    "collapsed": true
   },
   "outputs": [],
   "source": []
  }
 ],
 "metadata": {
  "kernelspec": {
   "display_name": "Python 3",
   "language": "python",
   "name": "python3"
  },
  "language_info": {
   "codemirror_mode": {
    "name": "ipython",
    "version": 3
   },
   "file_extension": ".py",
   "mimetype": "text/x-python",
   "name": "python",
   "nbconvert_exporter": "python",
   "pygments_lexer": "ipython3",
   "version": "3.6.3"
  }
 },
 "nbformat": 4,
 "nbformat_minor": 2
}

{
 "cells": [
  {
   "cell_type": "markdown",
   "metadata": {},
   "source": [
    "# Sentiment Analysis with an RNN\n",
    "\n",
    "In this notebook, you'll implement a recurrent neural network that performs sentiment analysis. \n",
    ">Using an RNN rather than a strictly feedforward network is more accurate since we can include information about the *sequence* of words. \n",
    "\n",
    "Here we'll use a dataset of movie reviews, accompanied by sentiment labels: positive or negative.\n",
    "\n",
    "<img src=\"assets/reviews_ex.png\" width=40%>\n",
    "\n",
    "### Network Architecture\n",
    "\n",
    "The architecture for this network is shown below.\n",
    "\n",
    "<img src=\"assets/network_diagram.png\" width=40%>\n",
    "\n",
    ">**First, we'll pass in words to an embedding layer.** We need an embedding layer because we have tens of thousands of words, so we'll need a more efficient representation for our input data than one-hot encoded vectors. You should have seen this before from the Word2Vec lesson. You can actually train an embedding with the Skip-gram Word2Vec model and use those embeddings as input, here. However, it's good enough to just have an embedding layer and let the network learn a different embedding table on its own. *In this case, the embedding layer is for dimensionality reduction, rather than for learning semantic representations.*\n",
    "\n",
    ">**After input words are passed to an embedding layer, the new embeddings will be passed to LSTM cells.** The LSTM cells will add *recurrent* connections to the network and give us the ability to include information about the *sequence* of words in the movie review data. \n",
    "\n",
    ">**Finally, the LSTM outputs will go to a sigmoid output layer.** We're using a sigmoid function because positive and negative = 1 and 0, respectively, and a sigmoid will output predicted, sentiment values between 0-1. \n",
    "\n",
    "We don't care about the sigmoid outputs except for the **very last one**; we can ignore the rest. We'll calculate the loss by comparing the output at the last time step and the training label (pos or neg)."
   ]
  },
  {
   "cell_type": "markdown",
   "metadata": {},
   "source": [
    "---\n",
    "### Load in and visualize the data"
   ]
  },
  {
   "cell_type": "code",
   "execution_count": 1,
   "metadata": {},
   "outputs": [],
   "source": [
    "import numpy as np\n",
    "\n",
    "# read data from text files\n",
    "with open('data/reviews.txt', 'r') as f:\n",
    "    reviews = f.read()\n",
    "with open('data/labels.txt', 'r') as f:\n",
    "    labels = f.read()"
   ]
  },
  {
   "cell_type": "code",
   "execution_count": 2,
   "metadata": {},
   "outputs": [
    {
     "name": "stdout",
     "output_type": "stream",
     "text": [
      "bromwell high is a cartoon comedy . it ran at the same time as some other programs about school life  such as  teachers  . my   years in the teaching profession lead me to believe that bromwell high  s satire is much closer to reality than is  teachers  . the scramble to survive financially  the insightful students who can see right through their pathetic teachers  pomp  the pettiness of the whole situation  all remind me of the schools i knew and their students . when i saw the episode in which a student repeatedly tried to burn down the school  i immediately recalled . . . . . . . . . at . . . . . . . . . . high . a classic line inspector i  m here to sack one of your teachers . student welcome to bromwell high . i expect that many adults of my age think that bromwell high is far fetched . what a pity that it isn  t   \n",
      "story of a man who has unnatural feelings for a pig . starts out with a opening scene that is a terrific example of absurd comedy . a formal orchestra audience is turned into an insane  violent mob by the crazy chantings of it  s singers . unfortunately it stays absurd the whole time with no general narrative eventually making it just too off putting . even those from the era should be turned off . the cryptic dialogue would make shakespeare seem easy to a third grader . on a technical level it  s better than you might think with some good cinematography by future great vilmos zsigmond . future stars sally kirkland and frederic forrest can be seen briefly .  \n",
      "homelessness  or houselessness as george carlin stated  has been an issue for years but never a plan to help those on the street that were once considered human who did everything from going to school  work  or vote for the matter . most people think of the homeless as just a lost cause while worrying about things such as racism  the war on iraq  pressuring kids to succeed  technology  the elections  inflation  or worrying if they  ll be next to end up on the streets .  br    br   but what if y\n",
      "\n",
      "positive\n",
      "negative\n",
      "po\n"
     ]
    }
   ],
   "source": [
    "print(reviews[:2000])\n",
    "print()\n",
    "print(labels[:20])"
   ]
  },
  {
   "cell_type": "markdown",
   "metadata": {},
   "source": [
    "## Data pre-processing\n",
    "\n",
    "The first step when building a neural network model is getting your data into the proper form to feed into the network. Since we're using embedding layers, we'll need to encode each word with an integer. We'll also want to clean it up a bit.\n",
    "\n",
    "You can see an example of the reviews data above. Here are the processing steps, we'll want to take:\n",
    ">* We'll want to get rid of periods and extraneous punctuation.\n",
    "* Also, you might notice that the reviews are delimited with newline characters `\\n`. To deal with those, I'm going to split the text into each review using `\\n` as the delimiter. \n",
    "* Then I can combined all the reviews back together into one big string.\n",
    "\n",
    "First, let's remove all punctuation. Then get all the text without the newlines and split it into individual words."
   ]
  },
  {
   "cell_type": "code",
   "execution_count": 3,
   "metadata": {},
   "outputs": [
    {
     "name": "stdout",
     "output_type": "stream",
     "text": [
      "!\"#$%&'()*+,-./:;<=>?@[\\]^_`{|}~\n"
     ]
    }
   ],
   "source": [
    "from string import punctuation\n",
    "\n",
    "print(punctuation)\n",
    "\n",
    "# get rid of punctuation\n",
    "reviews = reviews.lower() # lowercase, standardize\n",
    "all_text = ''.join([c for c in reviews if c not in punctuation])"
   ]
  },
  {
   "cell_type": "code",
   "execution_count": 4,
   "metadata": {},
   "outputs": [
    {
     "data": {
      "text/plain": [
       "'bromwell high is a cartoon comedy  it ran at the same time as some other programs about school life  such as  teachers   my   years in the teaching profession lead me to believe that bromwell high  s satire is much closer to reality than is  teachers   the scramble to survive financially  the insightful students who can see right through their pathetic teachers  pomp  the pettiness of the whole situation  all remind me of the schools i knew and their students  when i saw the episode in which a student repeatedly tried to burn down the school  i immediately recalled          at           high  a classic line inspector i  m here to sack one of your teachers  student welcome to bromwell high  i expect that many adults of my age think that bromwell high is far fetched  what a pity that it isn  t   \\nstory of a man who has unnatural feelings for a pig  starts out with a opening scene that is a terrific example of absurd comedy  a formal orchestra audience is turned into an insane  violent mob by the crazy chantings of it  s singers  unfortunately it stays absurd the whole time with no general narrative eventually making it just too off putting  even those from the era should be turned off  the cryptic dialogue would make shakespeare seem easy to a third grader  on a technical level it  s better than you might think with some good cinematography by future great vilmos zsigmond  future stars sally kirkland and frederic forrest can be seen briefly   \\nhomelessness  or houselessness as george carlin stated  has been an issue for years but never a plan to help those on the street that were once considered human who did everything from going to school  work  or vote for the matter  most people think of the homeless as just a lost cause while worrying about things such as racism  the war on iraq  pressuring kids to succeed  technology  the elections  inflation  or worrying if they  ll be next to end up on the streets   br    br   but what if you were given a bet to live on the st'"
      ]
     },
     "execution_count": 4,
     "metadata": {},
     "output_type": "execute_result"
    }
   ],
   "source": [
    "all_text[:2000]"
   ]
  },
  {
   "cell_type": "code",
   "execution_count": 5,
   "metadata": {},
   "outputs": [],
   "source": [
    "# split every review by new lines and spaces \n",
    "# since we know that different reviews are separated by '\\n'\n",
    "reviews_split = all_text.split('\\n')\n",
    "all_text = ' '.join(reviews_split)\n",
    "\n",
    "# create a list of words\n",
    "words = all_text.split()"
   ]
  },
  {
   "cell_type": "code",
   "execution_count": 6,
   "metadata": {},
   "outputs": [
    {
     "data": {
      "text/plain": [
       "['bromwell high is a cartoon comedy  it ran at the same time as some other programs about school life  such as  teachers   my   years in the teaching profession lead me to believe that bromwell high  s satire is much closer to reality than is  teachers   the scramble to survive financially  the insightful students who can see right through their pathetic teachers  pomp  the pettiness of the whole situation  all remind me of the schools i knew and their students  when i saw the episode in which a student repeatedly tried to burn down the school  i immediately recalled          at           high  a classic line inspector i  m here to sack one of your teachers  student welcome to bromwell high  i expect that many adults of my age think that bromwell high is far fetched  what a pity that it isn  t   ',\n",
       " 'story of a man who has unnatural feelings for a pig  starts out with a opening scene that is a terrific example of absurd comedy  a formal orchestra audience is turned into an insane  violent mob by the crazy chantings of it  s singers  unfortunately it stays absurd the whole time with no general narrative eventually making it just too off putting  even those from the era should be turned off  the cryptic dialogue would make shakespeare seem easy to a third grader  on a technical level it  s better than you might think with some good cinematography by future great vilmos zsigmond  future stars sally kirkland and frederic forrest can be seen briefly   ',\n",
       " 'homelessness  or houselessness as george carlin stated  has been an issue for years but never a plan to help those on the street that were once considered human who did everything from going to school  work  or vote for the matter  most people think of the homeless as just a lost cause while worrying about things such as racism  the war on iraq  pressuring kids to succeed  technology  the elections  inflation  or worrying if they  ll be next to end up on the streets   br    br   but what if you were given a bet to live on the streets for a month without the luxuries you once had from a home  the entertainment sets  a bathroom  pictures on the wall  a computer  and everything you once treasure to see what it  s like to be homeless  that is goddard bolt  s lesson   br    br   mel brooks  who directs  who stars as bolt plays a rich man who has everything in the world until deciding to make a bet with a sissy rival  jeffery tambor  to see if he can live in the streets for thirty days without the luxuries if bolt succeeds  he can do what he wants with a future project of making more buildings  the bet  s on where bolt is thrown on the street with a bracelet on his leg to monitor his every move where he can  t step off the sidewalk  he  s given the nickname pepto by a vagrant after it  s written on his forehead where bolt meets other characters including a woman by the name of molly  lesley ann warren  an ex  dancer who got divorce before losing her home  and her pals sailor  howard morris  and fumes  teddy wilson  who are already used to the streets  they  re survivors  bolt isn  t  he  s not used to reaching mutual agreements like he once did when being rich where it  s fight or flight  kill or be killed   br    br   while the love connection between molly and bolt wasn  t necessary to plot  i found  life stinks  to be one of mel brooks  observant films where prior to being a comedy  it shows a tender side compared to his slapstick work such as blazing saddles  young frankenstein  or spaceballs for the matter  to show what it  s like having something valuable before losing it the next day or on the other hand making a stupid bet like all rich people do when they don  t know what to do with their money  maybe they should give it to the homeless instead of using it like monopoly money   br    br   or maybe this film will inspire you to help others   ']"
      ]
     },
     "execution_count": 6,
     "metadata": {},
     "output_type": "execute_result"
    }
   ],
   "source": [
    "reviews_split[:3]"
   ]
  },
  {
   "cell_type": "code",
   "execution_count": 7,
   "metadata": {},
   "outputs": [
    {
     "data": {
      "text/plain": [
       "'bromwell high is a cartoon comedy  it ran at the same time as some other programs about school life  such as  teachers   my   years in the teaching profession lead me to believe that bromwell high  s satire is much closer to reality than is  teachers   the scramble to survive financially  the insightful students who can see right through their pathetic teachers  pomp  the pettiness of the whole situation  all remind me of the schools i knew and their students  when i saw the episode in which a student repeatedly tried to burn down the school  i immediately recalled          at           high  a classic line inspector i  m here to sack one of your teachers  student welcome to bromwell high  i expect that many adults of my age think that bromwell high is far fetched  what a pity that it isn  t    story of a man who has unnatural feelings for a pig  starts out with a opening scene that is a terrific example of absurd comedy  a formal orchestra audience is turned into an insane  violent mob by the crazy chantings of it  s singers  unfortunately it stays absurd the whole time with no general narrative eventually making it just too off putting  even those from the era should be turned off  the cryptic dialogue would make shakespeare seem easy to a third grader  on a technical level it  s better than you might think with some good cinematography by future great vilmos zsigmond  future stars sally kirkland and frederic forrest can be seen briefly    homelessness  or houselessness as george carlin stated  has been an issue for years but never a plan to help those on the street that were once considered human who did everything from going to school  work  or vote for the matter  most people think of the homeless as just a lost cause while worrying about things such as racism  the war on iraq  pressuring kids to succeed  technology  the elections  inflation  or worrying if they  ll be next to end up on the streets   br    br   but what if you were given a bet to live on the st'"
      ]
     },
     "execution_count": 7,
     "metadata": {},
     "output_type": "execute_result"
    }
   ],
   "source": [
    "all_text[:2000]"
   ]
  },
  {
   "cell_type": "code",
   "execution_count": 8,
   "metadata": {},
   "outputs": [
    {
     "data": {
      "text/plain": [
       "['bromwell',\n",
       " 'high',\n",
       " 'is',\n",
       " 'a',\n",
       " 'cartoon',\n",
       " 'comedy',\n",
       " 'it',\n",
       " 'ran',\n",
       " 'at',\n",
       " 'the',\n",
       " 'same',\n",
       " 'time',\n",
       " 'as',\n",
       " 'some',\n",
       " 'other',\n",
       " 'programs',\n",
       " 'about',\n",
       " 'school',\n",
       " 'life',\n",
       " 'such',\n",
       " 'as',\n",
       " 'teachers',\n",
       " 'my',\n",
       " 'years',\n",
       " 'in',\n",
       " 'the',\n",
       " 'teaching',\n",
       " 'profession',\n",
       " 'lead',\n",
       " 'me']"
      ]
     },
     "execution_count": 8,
     "metadata": {},
     "output_type": "execute_result"
    }
   ],
   "source": [
    "words[:30]"
   ]
  },
  {
   "cell_type": "markdown",
   "metadata": {},
   "source": [
    "### Encoding the words\n",
    "\n",
    "The embedding lookup requires that we pass in integers to our network. The easiest way to do this is to create dictionaries that map the words in the vocabulary to integers. Then we can convert each of our reviews into integers so they can be passed into the network.\n",
    "\n",
    "> **Exercise:** Now you're going to encode the words with integers. Build a dictionary that maps words to integers. Later we're going to pad our input vectors with zeros, so make sure the integers **start at 1, not 0**.\n",
    "> Also, convert the reviews to integers and store the reviews in a new list called `reviews_ints`. "
   ]
  },
  {
   "cell_type": "code",
   "execution_count": 9,
   "metadata": {},
   "outputs": [],
   "source": [
    "# feel free to use this import \n",
    "from collections import Counter\n",
    "\n",
    "## Build a dictionary that maps words to integers\n",
    "words_count = Counter(words)\n",
    "sorted_vocab = sorted(words_count, key=words_count.get, reverse=True)\n",
    "vocab_to_int = {word: (idx+1) for idx, word in enumerate(sorted_vocab)}\n",
    "\n",
    "## use the dict to tokenize each review in reviews_split\n",
    "## store the tokenized reviews in reviews_ints\n",
    "reviews_ints = []\n",
    "for review in reviews_split:\n",
    "    reviews_ints.append([vocab_to_int[w] for w in review.split()])\n"
   ]
  },
  {
   "cell_type": "markdown",
   "metadata": {},
   "source": [
    "**Test your code**\n",
    "\n",
    "As a text that you've implemented the dictionary correctly, print out the number of unique words in your vocabulary and the contents of the first, tokenized review."
   ]
  },
  {
   "cell_type": "code",
   "execution_count": 10,
   "metadata": {},
   "outputs": [
    {
     "name": "stdout",
     "output_type": "stream",
     "text": [
      "Unique words:  74072\n",
      "\n",
      "Tokenized review: \n",
      " [[21025, 308, 6, 3, 1050, 207, 8, 2138, 32, 1, 171, 57, 15, 49, 81, 5785, 44, 382, 110, 140, 15, 5194, 60, 154, 9, 1, 4975, 5852, 475, 71, 5, 260, 12, 21025, 308, 13, 1978, 6, 74, 2395, 5, 613, 73, 6, 5194, 1, 24103, 5, 1983, 10166, 1, 5786, 1499, 36, 51, 66, 204, 145, 67, 1199, 5194, 19869, 1, 37442, 4, 1, 221, 883, 31, 2988, 71, 4, 1, 5787, 10, 686, 2, 67, 1499, 54, 10, 216, 1, 383, 9, 62, 3, 1406, 3686, 783, 5, 3483, 180, 1, 382, 10, 1212, 13583, 32, 308, 3, 349, 341, 2913, 10, 143, 127, 5, 7690, 30, 4, 129, 5194, 1406, 2326, 5, 21025, 308, 10, 528, 12, 109, 1448, 4, 60, 543, 102, 12, 21025, 308, 6, 227, 4146, 48, 3, 2211, 12, 8, 215, 23]]\n"
     ]
    }
   ],
   "source": [
    "# stats about vocabulary\n",
    "print('Unique words: ', len(vocab_to_int))  # should ~ 74000+\n",
    "print()\n",
    "\n",
    "# print tokens in first review\n",
    "print('Tokenized review: \\n', reviews_ints[:1])"
   ]
  },
  {
   "cell_type": "markdown",
   "metadata": {},
   "source": [
    "### Encoding the labels\n",
    "\n",
    "Our labels are \"positive\" or \"negative\". To use these labels in our network, we need to convert them to 0 and 1.\n",
    "\n",
    "> **Exercise:** Convert labels from `positive` and `negative` to 1 and 0, respectively, and place those in a new list, `encoded_labels`."
   ]
  },
  {
   "cell_type": "code",
   "execution_count": 11,
   "metadata": {},
   "outputs": [
    {
     "data": {
      "text/plain": [
       "array([1, 0, 1, ..., 1, 0, 0])"
      ]
     },
     "execution_count": 11,
     "metadata": {},
     "output_type": "execute_result"
    }
   ],
   "source": [
    "# 1=positive, 0=negative label conversion\n",
    "encoded_labels = np.array([1 if label == 'positive' else 0 for label in labels.split('\\n')])\n",
    "encoded_labels"
   ]
  },
  {
   "cell_type": "markdown",
   "metadata": {},
   "source": [
    "### Removing Outliers\n",
    "\n",
    "As an additional pre-processing step, we want to make sure that our reviews are in good shape for standard processing. That is, our network will expect a standard input text size, and so, we'll want to shape our reviews into a specific length. We'll approach this task in two main steps:\n",
    "\n",
    "1. Getting rid of extremely long or short reviews; the outliers\n",
    "2. Padding/truncating the remaining data so that we have reviews of the same length.\n",
    "\n",
    "<img src=\"assets/outliers_padding_ex.png\" width=40%>\n",
    "\n",
    "Before we pad our review text, we should check for reviews of extremely short or long lengths; outliers that may mess with our training."
   ]
  },
  {
   "cell_type": "code",
   "execution_count": 12,
   "metadata": {},
   "outputs": [
    {
     "name": "stdout",
     "output_type": "stream",
     "text": [
      "Zero-length reviews: 1\n",
      "Maximum review length: 2514\n"
     ]
    }
   ],
   "source": [
    "# outlier review stats\n",
    "review_lens = Counter([len(x) for x in reviews_ints])\n",
    "print(\"Zero-length reviews: {}\".format(review_lens[0]))\n",
    "print(\"Maximum review length: {}\".format(max(review_lens)))"
   ]
  },
  {
   "cell_type": "markdown",
   "metadata": {},
   "source": [
    "Okay, a couple issues here. We seem to have one review with zero length. And, the maximum review length is way too many steps for our RNN. We'll have to remove any super short reviews and truncate super long reviews. This removes outliers and should allow our model to train more efficiently.\n",
    "\n",
    "> **Exercise:** First, remove *any* reviews with zero length from the `reviews_ints` list and their corresponding label in `encoded_labels`."
   ]
  },
  {
   "cell_type": "code",
   "execution_count": 13,
   "metadata": {},
   "outputs": [
    {
     "name": "stdout",
     "output_type": "stream",
     "text": [
      "Number of reviews before removing outliers:  25001\n",
      "Number of reviews after removing outliers:  25000\n"
     ]
    }
   ],
   "source": [
    "print('Number of reviews before removing outliers: ', len(reviews_ints))\n",
    "\n",
    "## remove any reviews/labels with zero length from the reviews_ints list.\n",
    "\n",
    "idx_non_zero = [idx for idx, review in enumerate(reviews_ints) if len(review) != 0]\n",
    "reviews_ints = [reviews_ints[idx] for idx in idx_non_zero]\n",
    "encoded_labels = np.array([encoded_labels[idx] for idx in idx_non_zero])\n",
    "\n",
    "print('Number of reviews after removing outliers: ', len(reviews_ints))"
   ]
  },
  {
   "cell_type": "markdown",
   "metadata": {},
   "source": [
    "---\n",
    "## Padding sequences\n",
    "\n",
    "To deal with both short and very long reviews, we'll pad or truncate all our reviews to a specific length. For reviews shorter than some `seq_length`, we'll pad with 0s. For reviews longer than `seq_length`, we can truncate them to the first `seq_length` words. A good `seq_length`, in this case, is 200.\n",
    "\n",
    "> **Exercise:** Define a function that returns an array `features` that contains the padded data, of a standard size, that we'll pass to the network. \n",
    "* The data should come from `review_ints`, since we want to feed integers to the network. \n",
    "* Each row should be `seq_length` elements long. \n",
    "* For reviews shorter than `seq_length` words, **left pad** with 0s. That is, if the review is `['best', 'movie', 'ever']`, `[117, 18, 128]` as integers, the row will look like `[0, 0, 0, ..., 0, 117, 18, 128]`. \n",
    "* For reviews longer than `seq_length`, use only the first `seq_length` words as the feature vector.\n",
    "\n",
    "As a small example, if the `seq_length=10` and an input review is: \n",
    "```\n",
    "[117, 18, 128]\n",
    "```\n",
    "The resultant, padded sequence should be: \n",
    "\n",
    "```\n",
    "[0, 0, 0, 0, 0, 0, 0, 117, 18, 128]\n",
    "```\n",
    "\n",
    "**Your final `features` array should be a 2D array, with as many rows as there are reviews, and as many columns as the specified `seq_length`.**\n",
    "\n",
    "This isn't trivial and there are a bunch of ways to do this. But, if you're going to be building your own deep learning networks, you're going to have to get used to preparing your data."
   ]
  },
  {
   "cell_type": "code",
   "execution_count": 14,
   "metadata": {},
   "outputs": [],
   "source": [
    "def pad_features(reviews_ints, seq_length):\n",
    "    ''' Return features of review_ints, where each review is padded with 0's \n",
    "        or truncated to the input seq_length.\n",
    "    '''\n",
    "    ## implement function\n",
    "    \n",
    "    pad_with_zero = np.array([([0]*(seq_length - len(review)) + review) if len(review) < seq_length \n",
    "                              else review[:seq_length] for review in reviews_ints])\n",
    "    features = np.array(pad_with_zero).reshape(len(reviews_ints), -1)\n",
    "    \n",
    "    return features"
   ]
  },
  {
   "cell_type": "code",
   "execution_count": 15,
   "metadata": {},
   "outputs": [
    {
     "name": "stdout",
     "output_type": "stream",
     "text": [
      "[[    0     0     0     0     0     0     0     0     0     0]\n",
      " [    0     0     0     0     0     0     0     0     0     0]\n",
      " [22382    42 46418    15   706 17139  3389    47    77    35]\n",
      " [ 4505   505    15     3  3342   162  8312  1652     6  4819]\n",
      " [    0     0     0     0     0     0     0     0     0     0]\n",
      " [    0     0     0     0     0     0     0     0     0     0]\n",
      " [    0     0     0     0     0     0     0     0     0     0]\n",
      " [    0     0     0     0     0     0     0     0     0     0]\n",
      " [    0     0     0     0     0     0     0     0     0     0]\n",
      " [   54    10    14   116    60   798   552    71   364     5]\n",
      " [    0     0     0     0     0     0     0     0     0     0]\n",
      " [    0     0     0     0     0     0     0     0     0     0]\n",
      " [    0     0     0     0     0     0     0     0     0     0]\n",
      " [    1   330   578    34     3   162   748  2731     9   325]\n",
      " [    9    11 10171  5305  1946   689   444    22   280   673]\n",
      " [    0     0     0     0     0     0     0     0     0     0]\n",
      " [    1   307 10399  2069  1565  6202  6528  3288 17946 10628]\n",
      " [    0     0     0     0     0     0     0     0     0     0]\n",
      " [   21   122  2069  1565   515  8181    88     6  1325  1182]\n",
      " [    1    20     6    76    40     6    58    81    95     5]\n",
      " [   54    10    84   329 26230 46427    63    10    14   614]\n",
      " [   11    20     6    30  1436 32317  3769   690 15100     6]\n",
      " [    0     0     0     0     0     0     0     0     0     0]\n",
      " [    0     0     0     0     0     0     0     0     0     0]\n",
      " [   40    26   109 17952  1422     9     1   327     4   125]\n",
      " [    0     0     0     0     0     0     0     0     0     0]\n",
      " [   10   499     1   307 10399    55    74     8    13    30]\n",
      " [    0     0     0     0     0     0     0     0     0     0]\n",
      " [    0     0     0     0     0     0     0     0     0     0]\n",
      " [    0     0     0     0     0     0     0     0     0     0]]\n"
     ]
    }
   ],
   "source": [
    "# Test your implementation!\n",
    "\n",
    "seq_length = 200\n",
    "\n",
    "features = pad_features(reviews_ints, seq_length=seq_length)\n",
    "\n",
    "## test statements - do not change - ##\n",
    "assert len(features)==len(reviews_ints), \"Your features should have as many rows as reviews.\"\n",
    "assert len(features[0])==seq_length, \"Each feature row should contain seq_length values.\"\n",
    "\n",
    "# print first 10 values of the first 30 batches \n",
    "print(features[:30,:10])"
   ]
  },
  {
   "cell_type": "markdown",
   "metadata": {},
   "source": [
    "## Training, Validation, Test\n",
    "\n",
    "With our data in nice shape, we'll split it into training, validation, and test sets.\n",
    "\n",
    "> **Exercise:** Create the training, validation, and test sets. \n",
    "* You'll need to create sets for the features and the labels, `train_x` and `train_y`, for example. \n",
    "* Define a split fraction, `split_frac` as the fraction of data to **keep** in the training set. Usually this is set to 0.8 or 0.9. \n",
    "* Whatever data is left will be split in half to create the validation and *testing* data."
   ]
  },
  {
   "cell_type": "code",
   "execution_count": 16,
   "metadata": {},
   "outputs": [
    {
     "name": "stdout",
     "output_type": "stream",
     "text": [
      "                    Feature Shapes:\n",
      "Train set:          (20000, 200)\n",
      "Validation set:     (2500, 200)\n",
      "Test set:           (2500, 200)\n"
     ]
    }
   ],
   "source": [
    "split_frac = 0.8\n",
    "\n",
    "## split data into training, validation, and test data (features and labels, x and y)\n",
    "split_idx = int(len(features)*split_frac)\n",
    "train_x, train_y = features[:split_idx, :], encoded_labels[:split_idx]\n",
    "\n",
    "second_split_idx = split_idx + int(len(features) * round((1-split_frac)*0.5, 2))\n",
    "val_x, val_y = features[split_idx:second_split_idx, :], encoded_labels[split_idx:second_split_idx]\n",
    "test_x, test_y = features[second_split_idx:, :], encoded_labels[second_split_idx:]\n",
    "\n",
    "## print out the shapes of your resultant feature data\n",
    "print(f\"{' ': <20}{'Feature Shapes:': <15}\")\n",
    "print(f\"{'Train set:':<20}{train_x.shape}\")\n",
    "print(f\"{'Validation set:': <20}{val_x.shape}\")\n",
    "print(f\"{'Test set:': <20}{test_x.shape}\")\n"
   ]
  },
  {
   "cell_type": "markdown",
   "metadata": {},
   "source": [
    "**Check your work**\n",
    "\n",
    "With train, validation, and test fractions equal to 0.8, 0.1, 0.1, respectively, the final, feature data shapes should look like:\n",
    "```\n",
    "                    Feature Shapes:\n",
    "Train set: \t\t (20000, 200) \n",
    "Validation set: \t(2500, 200) \n",
    "Test set: \t\t  (2500, 200)\n",
    "```"
   ]
  },
  {
   "cell_type": "markdown",
   "metadata": {},
   "source": [
    "---\n",
    "## DataLoaders and Batching\n",
    "\n",
    "After creating training, test, and validation data, we can create DataLoaders for this data by following two steps:\n",
    "1. Create a known format for accessing our data, using [TensorDataset](https://pytorch.org/docs/stable/data.html#) which takes in an input set of data and a target set of data with the same first dimension, and creates a dataset.\n",
    "2. Create DataLoaders and batch our training, validation, and test Tensor datasets.\n",
    "\n",
    "```\n",
    "train_data = TensorDataset(torch.from_numpy(train_x), torch.from_numpy(train_y))\n",
    "train_loader = DataLoader(train_data, batch_size=batch_size)\n",
    "```\n",
    "\n",
    "This is an alternative to creating a generator function for batching our data into full batches."
   ]
  },
  {
   "cell_type": "code",
   "execution_count": 17,
   "metadata": {},
   "outputs": [],
   "source": [
    "import torch\n",
    "from torch.utils.data import TensorDataset, DataLoader\n",
    "\n",
    "# create Tensor datasets\n",
    "train_data = TensorDataset(torch.from_numpy(train_x), torch.from_numpy(train_y))\n",
    "valid_data = TensorDataset(torch.from_numpy(val_x), torch.from_numpy(val_y))\n",
    "test_data = TensorDataset(torch.from_numpy(test_x), torch.from_numpy(test_y))\n",
    "\n",
    "# dataloaders\n",
    "batch_size = 50\n",
    "\n",
    "# make sure to SHUFFLE your data\n",
    "train_loader = DataLoader(train_data, shuffle=True, batch_size=batch_size)\n",
    "valid_loader = DataLoader(valid_data, shuffle=True, batch_size=batch_size)\n",
    "test_loader = DataLoader(test_data, shuffle=True, batch_size=batch_size)"
   ]
  },
  {
   "cell_type": "markdown",
   "metadata": {},
   "source": [
    "Take a look at the train_data:"
   ]
  },
  {
   "cell_type": "code",
   "execution_count": 26,
   "metadata": {},
   "outputs": [
    {
     "data": {
      "text/plain": [
       "20000"
      ]
     },
     "execution_count": 26,
     "metadata": {},
     "output_type": "execute_result"
    }
   ],
   "source": [
    "len(train_data)"
   ]
  },
  {
   "cell_type": "code",
   "execution_count": 27,
   "metadata": {},
   "outputs": [
    {
     "data": {
      "text/plain": [
       "(tensor([     0,      0,      0,      0,      0,      0,      0,      0,\n",
       "              0,      0,      0,      0,      0,      0,      0,      0,\n",
       "              0,      0,      0,      0,      0,      0,      0,      0,\n",
       "              0,      0,      0,      0,      0,      0,      0,      0,\n",
       "              0,      0,      0,      0,      0,      0,      0,      0,\n",
       "              0,      0,      0,      0,      0,      0,      0,      0,\n",
       "              0,      0,      0,      0,      0,      0,      0,      0,\n",
       "              0,      0,      0,      0,  21025,    308,      6,      3,\n",
       "           1050,    207,      8,   2138,     32,      1,    171,     57,\n",
       "             15,     49,     81,   5785,     44,    382,    110,    140,\n",
       "             15,   5194,     60,    154,      9,      1,   4975,   5852,\n",
       "            475,     71,      5,    260,     12,  21025,    308,     13,\n",
       "           1978,      6,     74,   2395,      5,    613,     73,      6,\n",
       "           5194,      1,  24103,      5,   1983,  10166,      1,   5786,\n",
       "           1499,     36,     51,     66,    204,    145,     67,   1199,\n",
       "           5194,  19869,      1,  37442,      4,      1,    221,    883,\n",
       "             31,   2988,     71,      4,      1,   5787,     10,    686,\n",
       "              2,     67,   1499,     54,     10,    216,      1,    383,\n",
       "              9,     62,      3,   1406,   3686,    783,      5,   3483,\n",
       "            180,      1,    382,     10,   1212,  13583,     32,    308,\n",
       "              3,    349,    341,   2913,     10,    143,    127,      5,\n",
       "           7690,     30,      4,    129,   5194,   1406,   2326,      5,\n",
       "          21025,    308,     10,    528,     12,    109,   1448,      4,\n",
       "             60,    543,    102,     12,  21025,    308,      6,    227,\n",
       "           4146,     48,      3,   2211,     12,      8,    215,     23]),\n",
       " tensor(1))"
      ]
     },
     "execution_count": 27,
     "metadata": {},
     "output_type": "execute_result"
    }
   ],
   "source": [
    "train_data[0]"
   ]
  },
  {
   "cell_type": "markdown",
   "metadata": {},
   "source": [
    "Take a look at the train_loader:"
   ]
  },
  {
   "cell_type": "code",
   "execution_count": 29,
   "metadata": {},
   "outputs": [
    {
     "data": {
      "text/plain": [
       "400"
      ]
     },
     "execution_count": 29,
     "metadata": {},
     "output_type": "execute_result"
    }
   ],
   "source": [
    "len(train_loader) # since the batch_size = 50, so we got 400 batches."
   ]
  },
  {
   "cell_type": "code",
   "execution_count": 18,
   "metadata": {},
   "outputs": [
    {
     "name": "stdout",
     "output_type": "stream",
     "text": [
      "Sample input size:  torch.Size([50, 200])\n",
      "Sample input: \n",
      " tensor([[   101,    255,    108,  ...,     62,   2233,     60],\n",
      "        [     0,      0,      0,  ...,      4,   1128,   1281],\n",
      "        [     0,      0,      0,  ...,    576,     23,    763],\n",
      "        ...,\n",
      "        [    11,     18,    166,  ...,      3,     85,     63],\n",
      "        [     0,      0,      0,  ...,  14546,      6,      3],\n",
      "        [     0,      0,      0,  ...,    516,      2,    321]])\n",
      "\n",
      "Sample label size:  torch.Size([50])\n",
      "Sample label: \n",
      " tensor([ 0,  0,  0,  1,  1,  1,  1,  0,  1,  1,  1,  0,  0,  0,\n",
      "         0,  1,  0,  1,  1,  0,  1,  0,  1,  1,  0,  0,  1,  0,\n",
      "         1,  1,  1,  1,  1,  1,  0,  1,  0,  1,  1,  0,  1,  1,\n",
      "         0,  1,  0,  0,  1,  0,  1,  1])\n"
     ]
    }
   ],
   "source": [
    "# obtain one batch of training data\n",
    "dataiter = iter(train_loader)\n",
    "sample_x, sample_y = dataiter.next()\n",
    "\n",
    "print('Sample input size: ', sample_x.size()) # batch_size, seq_length\n",
    "print('Sample input: \\n', sample_x)\n",
    "print()\n",
    "print('Sample label size: ', sample_y.size()) # batch_size\n",
    "print('Sample label: \\n', sample_y)"
   ]
  },
  {
   "cell_type": "markdown",
   "metadata": {},
   "source": [
    "---\n",
    "# Sentiment Network with PyTorch\n",
    "\n",
    "Below is where you'll define the network.\n",
    "\n",
    "<img src=\"assets/network_diagram.png\" width=40%>\n",
    "\n",
    "The layers are as follows:\n",
    "1. An [embedding layer](https://pytorch.org/docs/stable/nn.html#embedding) that converts our word tokens (integers) into embeddings of a specific size.\n",
    "2. An [LSTM layer](https://pytorch.org/docs/stable/nn.html#lstm) defined by a hidden_state size and number of layers\n",
    "3. A fully-connected output layer that maps the LSTM layer outputs to a desired output_size\n",
    "4. A sigmoid activation layer which turns all outputs into a value 0-1; return **only the last sigmoid output** as the output of this network.\n",
    "\n",
    "### The Embedding Layer\n",
    "\n",
    "We need to add an [embedding layer](https://pytorch.org/docs/stable/nn.html#embedding) because there are 74000+ words in our vocabulary. It is massively inefficient to one-hot encode that many classes. So, instead of one-hot encoding, we can have an embedding layer and use that layer as a lookup table. You could train an embedding layer using Word2Vec, then load it here. But, it's fine to just make a new layer, using it for only dimensionality reduction, and let the network learn the weights.\n",
    "\n",
    "\n",
    "### The LSTM Layer(s)\n",
    "\n",
    "We'll create an [LSTM](https://pytorch.org/docs/stable/nn.html#lstm) to use in our recurrent network, which takes in an input_size, a hidden_dim, a number of layers, a dropout probability (for dropout between multiple layers), and a batch_first parameter.\n",
    "\n",
    "Most of the time, you're network will have better performance with more layers; between 2-3. Adding more layers allows the network to learn really complex relationships. \n",
    "\n",
    "> **Exercise:** Complete the `__init__`, `forward`, and `init_hidden` functions for the SentimentRNN model class.\n",
    "\n",
    "Note: `init_hidden` should initialize the hidden and cell state of an lstm layer to all zeros, and move those state to GPU, if available."
   ]
  },
  {
   "cell_type": "code",
   "execution_count": 19,
   "metadata": {},
   "outputs": [
    {
     "name": "stdout",
     "output_type": "stream",
     "text": [
      "No GPU available, training on CPU.\n"
     ]
    }
   ],
   "source": [
    "# First checking if GPU is available\n",
    "train_on_gpu=torch.cuda.is_available()\n",
    "\n",
    "if(train_on_gpu):\n",
    "    print('Training on GPU.')\n",
    "else:\n",
    "    print('No GPU available, training on CPU.')"
   ]
  },
  {
   "cell_type": "code",
   "execution_count": 147,
   "metadata": {},
   "outputs": [],
   "source": [
    "#torch.cuda.get_device_name(0)"
   ]
  },
  {
   "cell_type": "code",
   "execution_count": 32,
   "metadata": {},
   "outputs": [],
   "source": [
    "import torch.nn as nn\n",
    "import torch.nn.functional as F\n",
    "\n",
    "class SentimentRNN(nn.Module):\n",
    "    \"\"\"\n",
    "    The RNN model that will be used to perform Sentiment analysis.\n",
    "    \"\"\"\n",
    "\n",
    "    def __init__(self, vocab_size, output_size, embedding_dim, hidden_dim, n_layers, drop_prob=0.5):\n",
    "        \"\"\"\n",
    "        Initialize the model by setting up the layers.\n",
    "        \"\"\"\n",
    "        super(SentimentRNN, self).__init__()\n",
    "\n",
    "        self.output_size = output_size\n",
    "        self.n_layers = n_layers\n",
    "        self.hidden_dim = hidden_dim\n",
    "        \n",
    "        # define all layers\n",
    "        self.embedding = nn.Embedding(vocab_size, embedding_dim)\n",
    "        self.lstm = nn.LSTM(embedding_dim, hidden_dim, n_layers, dropout=drop_prob, batch_first=True)\n",
    "        self.dropout = nn.Dropout(drop_prob)\n",
    "        self.fc = nn.Linear(hidden_dim, output_size)\n",
    "        \n",
    "\n",
    "    def forward(self, x, hidden):\n",
    "        \"\"\"\n",
    "        Perform a forward pass of our model on some input and hidden state.\n",
    "        \"\"\"\n",
    "        batch_size = x.size(0)\n",
    "        \n",
    "        embed_input = self.embedding(x)\n",
    "        lstm_out, hidden = self.lstm(embed_input, hidden)\n",
    "        \n",
    "        # Stack up LSTM outputs (cells) into layers using view to pass to the last linear layer\n",
    "        lstm_out = lstm_out.contiguous.view(-1, self.hidden_dim)\n",
    "        \n",
    "        dropout_out = self.dropout(lstm_out)\n",
    "        sig_out = F.sigmoid(self.fc(dropout_out))\n",
    "        \n",
    "        # reshape to be batch_size first\n",
    "        sig_out = sig_out.view(batch_size, -1)\n",
    "        sig_out = sig_out[:, -1] # get last batch of labels\n",
    "        \n",
    "        # return last sigmoid output and hidden state\n",
    "        return sig_out, hidden\n",
    "    \n",
    "    \n",
    "    def init_hidden(self, batch_size):\n",
    "        ''' Initializes hidden state '''\n",
    "        # Create two new tensors with sizes n_layers x batch_size x hidden_dim,\n",
    "        # initialized to zero, for hidden state and cell state of LSTM\n",
    "        if (train_on_gpu):\n",
    "            hidden = (weight.new(self.n_layers, self.batch_size, self.hidden_dim).zero_().cuda(),\n",
    "                     weight.new(self.n_layers, self.batch_size, self.hidden_dim).zero_().cuda())\n",
    "        else:\n",
    "            hidden = (weight.new(self.n_layers, self.batch_size, self.hidden_dim).zero_(),\n",
    "                     weight.new(self.n_layers, self.batch_size, self.hidden_dim).zero_())\n",
    "        \n",
    "        return hidden\n",
    "        "
   ]
  },
  {
   "cell_type": "markdown",
   "metadata": {},
   "source": [
    "#### `forward` explanation\n",
    "So, first, I'm getting the `batch_size` of my input x, which I’ll use for shaping my data. Then, I'm passing x through the embedding layer first, to get my embeddings as output\n",
    "\n",
    "These embeddings are passed to my lstm layer, alongside a hidden state, and this returns an `lstm_output` and a new `hidden` state! Then I'm going to stack up the outputs of my LSTM to pass to my last linear layer.\n",
    "\n",
    "Then I keep going, passing the reshaped `lstm_output` to a dropout layer and my linear layer, which should return a specified number of outputs that I will pass to my sigmoid activation function.\n",
    "\n",
    "Now, I want to make sure that I’m returning *only* the **last** of these sigmoid outputs for a batch of input data, so, I’m going to shape these outputs into a shape that is `batch_size` first. Then I'm getting the last bacth by called `sig_out[:, -1]`, and that’s going to give me the batch of last labels that I want!\n",
    "\n",
    "Finally, I am returning that output and the hidden state produced by the LSTM layer."
   ]
  },
  {
   "cell_type": "markdown",
   "metadata": {},
   "source": [
    "## Instantiate the network\n",
    "\n",
    "Here, we'll instantiate the network. First up, defining the hyperparameters.\n",
    "\n",
    "* `vocab_size`: Size of our vocabulary or the range of values for our input, word tokens.\n",
    "* `output_size`: Size of our desired output; the number of class scores we want to output (pos/neg).\n",
    "* `embedding_dim`: Number of columns in the embedding lookup table; size of our embeddings.\n",
    "* `hidden_dim`: Number of units in the hidden layers of our LSTM cells. Usually larger is better performance wise. Common values are 128, 256, 512, etc.\n",
    "* `n_layers`: Number of LSTM layers in the network. Typically between 1-3\n",
    "\n",
    "> **Exercise:** Define the model  hyperparameters.\n"
   ]
  },
  {
   "cell_type": "code",
   "execution_count": 33,
   "metadata": {},
   "outputs": [
    {
     "name": "stdout",
     "output_type": "stream",
     "text": [
      "SentimentRNN(\n",
      "  (embedding): Embedding(74073, 400)\n",
      "  (lstm): LSTM(400, 256, num_layers=2, batch_first=True, dropout=0.5)\n",
      "  (dropout): Dropout(p=0.5)\n",
      "  (fc): Linear(in_features=256, out_features=1, bias=True)\n",
      ")\n"
     ]
    }
   ],
   "source": [
    "# Instantiate the model w/ hyperparams\n",
    "vocab_size = len(vocab_to_int) + 1 # +1 for the 0 padding + our word tokens\n",
    "output_size = 1\n",
    "embedding_dim = 400 \n",
    "hidden_dim = 256\n",
    "n_layers = 2\n",
    "\n",
    "net = SentimentRNN(vocab_size, output_size, embedding_dim, hidden_dim, n_layers)\n",
    "\n",
    "print(net)"
   ]
  },
  {
   "cell_type": "code",
   "execution_count": 45,
   "metadata": {},
   "outputs": [
    {
     "name": "stdout",
     "output_type": "stream",
     "text": [
      "embedding.weight \n",
      " torch.Size([74073, 400]) \n",
      " tensor([[ 0.4344,  0.3412, -0.0547,  ..., -1.0948, -0.2331, -0.7543],\n",
      "        [ 0.8995, -0.3589, -0.2220,  ...,  0.6554,  0.1958,  1.0314],\n",
      "        [ 1.5178,  0.9661, -0.0567,  ...,  1.4117,  0.4233, -0.5177],\n",
      "        ...,\n",
      "        [-0.1760, -0.5179, -0.0612,  ...,  0.8090,  0.7181, -0.1599],\n",
      "        [ 1.1296, -0.5820, -0.7048,  ..., -1.3385, -0.7798, -0.4018],\n",
      "        [ 0.7124, -0.2241,  1.5942,  ..., -0.3885, -0.5168, -0.0239]]) \n",
      "\n",
      "\n",
      "lstm.weight_ih_l0 \n",
      " torch.Size([1024, 400]) \n",
      " tensor([[-4.9527e-02,  1.9056e-02,  4.9261e-02,  ...,  3.0094e-02,\n",
      "          3.2307e-02,  7.7579e-03],\n",
      "        [ 1.4557e-02, -1.0621e-02,  6.1076e-02,  ..., -2.9507e-02,\n",
      "          6.0264e-03,  3.3658e-02],\n",
      "        [-3.3326e-02,  1.3374e-02, -4.8705e-02,  ..., -4.1390e-02,\n",
      "          3.8010e-02,  5.7830e-02],\n",
      "        ...,\n",
      "        [ 4.7846e-02,  4.8299e-02,  2.8601e-02,  ..., -3.7046e-03,\n",
      "          3.6427e-02,  3.7543e-02],\n",
      "        [-1.5358e-02,  3.5560e-02,  4.7062e-02,  ...,  3.5872e-02,\n",
      "         -2.7293e-02,  6.0123e-02],\n",
      "        [-1.1004e-02,  2.8177e-02, -3.6289e-02,  ..., -2.0977e-02,\n",
      "         -5.1992e-02,  9.3364e-03]]) \n",
      "\n",
      "\n",
      "lstm.weight_hh_l0 \n",
      " torch.Size([1024, 256]) \n",
      " tensor([[ 3.4738e-02,  4.2866e-02, -1.2174e-02,  ..., -5.1975e-02,\n",
      "         -2.1556e-02,  3.5969e-02],\n",
      "        [-1.2361e-02, -1.0980e-02, -2.6767e-03,  ..., -9.7629e-03,\n",
      "          4.4477e-02, -1.9188e-02],\n",
      "        [ 4.8881e-02,  4.6382e-02,  4.4956e-02,  ..., -2.3211e-02,\n",
      "          1.2088e-03, -3.1892e-02],\n",
      "        ...,\n",
      "        [-5.6300e-02, -2.5898e-02, -2.5416e-02,  ...,  5.3773e-02,\n",
      "          1.3700e-02, -2.6602e-02],\n",
      "        [ 2.3835e-02,  5.5404e-02,  4.0486e-04,  ..., -2.8839e-02,\n",
      "          1.9117e-02,  4.6327e-02],\n",
      "        [ 1.4949e-02,  6.2836e-03,  2.6739e-02,  ...,  2.3165e-02,\n",
      "          2.5291e-02,  5.4675e-02]]) \n",
      "\n",
      "\n",
      "lstm.bias_ih_l0 \n",
      " torch.Size([1024]) \n",
      " tensor(1.00000e-02 *\n",
      "       [ 5.6290, -4.9876, -4.2452,  ...,  6.0719,  5.8274, -3.2338]) \n",
      "\n",
      "\n",
      "lstm.bias_hh_l0 \n",
      " torch.Size([1024]) \n",
      " tensor(1.00000e-02 *\n",
      "       [ 2.8209,  0.1686,  0.5249,  ..., -1.7839, -6.0653,  3.1250]) \n",
      "\n",
      "\n",
      "lstm.weight_ih_l1 \n",
      " torch.Size([1024, 256]) \n",
      " tensor([[ 3.7053e-02,  2.8091e-02, -5.9299e-02,  ..., -2.4226e-02,\n",
      "          5.0219e-02,  1.1269e-02],\n",
      "        [ 6.4705e-03, -2.2512e-02, -5.0023e-02,  ..., -1.8282e-02,\n",
      "          2.0457e-02, -3.1849e-02],\n",
      "        [-4.0524e-03, -1.3910e-02, -2.1968e-02,  ..., -5.1460e-02,\n",
      "         -3.2220e-02, -5.9539e-02],\n",
      "        ...,\n",
      "        [-9.2981e-03, -3.0687e-02, -3.2141e-02,  ...,  6.1119e-02,\n",
      "          4.3497e-02,  4.4582e-02],\n",
      "        [-1.2757e-02, -3.3208e-02,  5.7240e-02,  ..., -2.9876e-03,\n",
      "         -3.0847e-02, -3.1413e-02],\n",
      "        [-5.0327e-02,  3.3592e-02,  2.8965e-02,  ...,  5.5715e-02,\n",
      "         -9.2174e-03, -4.9541e-02]]) \n",
      "\n",
      "\n",
      "lstm.weight_hh_l1 \n",
      " torch.Size([1024, 256]) \n",
      " tensor([[-1.5966e-02, -5.6920e-02, -4.7247e-02,  ..., -1.8480e-02,\n",
      "         -4.9417e-02, -3.0087e-02],\n",
      "        [ 6.1977e-02,  5.4911e-02, -2.1584e-02,  ...,  2.2061e-02,\n",
      "         -5.7319e-02,  5.2574e-02],\n",
      "        [ 4.8168e-02,  4.6436e-02,  5.8869e-02,  ...,  4.7737e-02,\n",
      "          1.9038e-02, -6.1952e-02],\n",
      "        ...,\n",
      "        [ 3.1712e-02,  1.8897e-04,  4.3422e-02,  ...,  1.1768e-02,\n",
      "         -5.4064e-03,  2.9261e-02],\n",
      "        [ 1.4368e-02,  2.5455e-02, -1.0364e-02,  ..., -1.6161e-02,\n",
      "         -2.8889e-02, -4.1206e-02],\n",
      "        [ 5.7275e-02,  5.8889e-02, -2.7950e-03,  ..., -2.0187e-02,\n",
      "          2.5572e-03,  5.1543e-02]]) \n",
      "\n",
      "\n",
      "lstm.bias_ih_l1 \n",
      " torch.Size([1024]) \n",
      " tensor(1.00000e-02 *\n",
      "       [-2.7093, -0.9486,  0.0373,  ...,  1.2730,  3.9506,  5.3790]) \n",
      "\n",
      "\n",
      "lstm.bias_hh_l1 \n",
      " torch.Size([1024]) \n",
      " tensor(1.00000e-02 *\n",
      "       [ 0.6868,  0.7461,  1.3547,  ...,  3.7250,  5.1412, -3.8760]) \n",
      "\n",
      "\n",
      "fc.weight \n",
      " torch.Size([1, 256]) \n",
      " tensor(1.00000e-02 *\n",
      "       [[ 5.6143,  1.8283, -5.5196, -6.0969, -2.6265,  4.9231, -4.9864,\n",
      "          3.0709,  1.7418, -1.6264, -1.6414, -3.5829, -1.9586, -0.2508,\n",
      "         -2.1849,  3.1297,  3.1601,  2.0630,  4.8191,  1.5746,  0.8680,\n",
      "          5.7249,  6.0291, -4.2460,  4.7792,  1.3069, -1.2676, -0.9374,\n",
      "          1.2722, -5.7508, -5.2861, -4.7381,  1.8512,  5.4903,  2.9296,\n",
      "         -5.4061,  0.1642, -5.8955,  4.1983, -4.4734,  0.7816,  2.5830,\n",
      "          4.7061,  4.5167, -1.0795,  1.0578,  4.7532, -5.0703,  1.3539,\n",
      "         -5.3155,  6.1099, -5.0053,  2.6279, -2.7004,  5.7362, -1.3439,\n",
      "          5.9398, -3.5481,  5.8295, -5.2478,  0.0920, -0.6061, -3.5300,\n",
      "          0.4324,  4.5801, -4.0235,  4.9242,  5.5045,  2.0530,  1.7906,\n",
      "          2.7433,  6.2029,  4.7245,  0.1399, -3.5942, -0.1510,  5.2120,\n",
      "         -2.3773, -0.4083, -3.0947, -6.1033,  3.1313,  6.0954,  3.6427,\n",
      "          3.5068, -6.2480,  1.0785, -2.1642, -1.6374, -4.7124,  5.5256,\n",
      "         -4.8698, -6.1450,  6.1674, -3.5376,  0.9358,  3.4624,  2.4791,\n",
      "         -2.6036, -4.9309, -5.5203, -5.9587, -2.1763,  1.2909, -6.1951,\n",
      "          4.2626,  4.6575,  4.6434, -0.2318, -1.1429,  5.6089, -6.0986,\n",
      "          2.9755, -3.4943,  1.2725, -4.6578, -3.6970,  2.4914,  3.5891,\n",
      "         -3.4773, -3.5675, -2.1815, -2.0024,  1.1827, -2.0894,  4.5915,\n",
      "          5.9346,  4.0384, -2.9098,  2.3027, -2.5767,  1.2596, -1.3542,\n",
      "          5.5344,  1.6788, -4.6848,  2.5978, -2.1800,  0.2798,  1.1857,\n",
      "         -5.0707, -2.7558,  3.5194, -1.8924,  1.2222, -3.3445,  0.7473,\n",
      "          1.3413,  1.7209,  4.9250,  1.5717,  1.8294, -4.0633,  4.8782,\n",
      "         -5.4891,  4.3523,  1.0254, -2.1692, -3.7453,  4.3251,  4.4390,\n",
      "          4.3734,  4.8154,  4.1281, -3.1156,  5.9898, -4.1154,  2.2886,\n",
      "          0.6228,  4.2023,  3.9924, -1.0506, -0.0032,  4.4665, -0.9342,\n",
      "         -0.6826,  4.7963, -5.2799, -2.7242,  1.8065, -5.5310,  2.0828,\n",
      "         -4.0583,  2.1313, -4.6970, -3.3028, -0.2292, -1.0075, -2.7509,\n",
      "          2.4274, -4.5155, -5.3037, -4.8111, -4.1780, -2.1782,  1.2908,\n",
      "          1.4046, -3.1262, -3.4285, -5.5848, -1.3615,  4.3840,  2.9963,\n",
      "          0.7611, -1.3079,  2.1342,  1.5660,  4.7817,  3.9994, -1.9968,\n",
      "          6.1870, -0.9677,  2.4623, -0.7016, -6.0837,  4.0268,  0.2064,\n",
      "          2.0240,  1.3098, -4.5441,  3.2508, -3.7845,  2.1539, -2.0825,\n",
      "          4.5460,  0.2228,  6.2440,  1.5395, -0.7330,  0.2887, -3.5433,\n",
      "         -0.9171, -3.5963,  0.3607, -1.4376, -0.7710, -4.8991, -0.7472,\n",
      "         -4.8355, -3.9380, -0.0463, -1.3101,  5.7160, -2.4875, -5.3731,\n",
      "         -1.6229,  0.3351, -1.6415, -3.7089,  6.0729, -2.3196,  1.1975,\n",
      "          2.6286,  6.1131, -2.7502,  1.4012]]) \n",
      "\n",
      "\n",
      "fc.bias \n",
      " torch.Size([1]) \n",
      " tensor(1.00000e-02 *\n",
      "       [-3.1911]) \n",
      "\n",
      "\n"
     ]
    }
   ],
   "source": [
    "for name, param in net.named_parameters():\n",
    "    if param.requires_grad:\n",
    "        print(name, '\\n', param.size(),'\\n', param.data, '\\n\\n')"
   ]
  },
  {
   "cell_type": "code",
   "execution_count": 40,
   "metadata": {},
   "outputs": [
    {
     "name": "stdout",
     "output_type": "stream",
     "text": [
      "0\n",
      "Parameters' shape: torch.Size([74073, 400])\n",
      "Parameter containing:\n",
      "tensor([[ 0.4344,  0.3412, -0.0547,  ..., -1.0948, -0.2331, -0.7543],\n",
      "        [ 0.8995, -0.3589, -0.2220,  ...,  0.6554,  0.1958,  1.0314],\n",
      "        [ 1.5178,  0.9661, -0.0567,  ...,  1.4117,  0.4233, -0.5177],\n",
      "        ...,\n",
      "        [-0.1760, -0.5179, -0.0612,  ...,  0.8090,  0.7181, -0.1599],\n",
      "        [ 1.1296, -0.5820, -0.7048,  ..., -1.3385, -0.7798, -0.4018],\n",
      "        [ 0.7124, -0.2241,  1.5942,  ..., -0.3885, -0.5168, -0.0239]]) \n",
      "\n",
      "\n",
      "1\n",
      "Parameters' shape: torch.Size([1024, 400])\n",
      "Parameter containing:\n",
      "tensor([[-4.9527e-02,  1.9056e-02,  4.9261e-02,  ...,  3.0094e-02,\n",
      "          3.2307e-02,  7.7579e-03],\n",
      "        [ 1.4557e-02, -1.0621e-02,  6.1076e-02,  ..., -2.9507e-02,\n",
      "          6.0264e-03,  3.3658e-02],\n",
      "        [-3.3326e-02,  1.3374e-02, -4.8705e-02,  ..., -4.1390e-02,\n",
      "          3.8010e-02,  5.7830e-02],\n",
      "        ...,\n",
      "        [ 4.7846e-02,  4.8299e-02,  2.8601e-02,  ..., -3.7046e-03,\n",
      "          3.6427e-02,  3.7543e-02],\n",
      "        [-1.5358e-02,  3.5560e-02,  4.7062e-02,  ...,  3.5872e-02,\n",
      "         -2.7293e-02,  6.0123e-02],\n",
      "        [-1.1004e-02,  2.8177e-02, -3.6289e-02,  ..., -2.0977e-02,\n",
      "         -5.1992e-02,  9.3364e-03]]) \n",
      "\n",
      "\n",
      "2\n",
      "Parameters' shape: torch.Size([1024, 256])\n",
      "Parameter containing:\n",
      "tensor([[ 3.4738e-02,  4.2866e-02, -1.2174e-02,  ..., -5.1975e-02,\n",
      "         -2.1556e-02,  3.5969e-02],\n",
      "        [-1.2361e-02, -1.0980e-02, -2.6767e-03,  ..., -9.7629e-03,\n",
      "          4.4477e-02, -1.9188e-02],\n",
      "        [ 4.8881e-02,  4.6382e-02,  4.4956e-02,  ..., -2.3211e-02,\n",
      "          1.2088e-03, -3.1892e-02],\n",
      "        ...,\n",
      "        [-5.6300e-02, -2.5898e-02, -2.5416e-02,  ...,  5.3773e-02,\n",
      "          1.3700e-02, -2.6602e-02],\n",
      "        [ 2.3835e-02,  5.5404e-02,  4.0486e-04,  ..., -2.8839e-02,\n",
      "          1.9117e-02,  4.6327e-02],\n",
      "        [ 1.4949e-02,  6.2836e-03,  2.6739e-02,  ...,  2.3165e-02,\n",
      "          2.5291e-02,  5.4675e-02]]) \n",
      "\n",
      "\n",
      "3\n",
      "Parameters' shape: torch.Size([1024])\n",
      "Parameter containing:\n",
      "tensor(1.00000e-02 *\n",
      "       [ 5.6290, -4.9876, -4.2452,  ...,  6.0719,  5.8274, -3.2338]) \n",
      "\n",
      "\n",
      "4\n",
      "Parameters' shape: torch.Size([1024])\n",
      "Parameter containing:\n",
      "tensor(1.00000e-02 *\n",
      "       [ 2.8209,  0.1686,  0.5249,  ..., -1.7839, -6.0653,  3.1250]) \n",
      "\n",
      "\n",
      "5\n",
      "Parameters' shape: torch.Size([1024, 256])\n",
      "Parameter containing:\n",
      "tensor([[ 3.7053e-02,  2.8091e-02, -5.9299e-02,  ..., -2.4226e-02,\n",
      "          5.0219e-02,  1.1269e-02],\n",
      "        [ 6.4705e-03, -2.2512e-02, -5.0023e-02,  ..., -1.8282e-02,\n",
      "          2.0457e-02, -3.1849e-02],\n",
      "        [-4.0524e-03, -1.3910e-02, -2.1968e-02,  ..., -5.1460e-02,\n",
      "         -3.2220e-02, -5.9539e-02],\n",
      "        ...,\n",
      "        [-9.2981e-03, -3.0687e-02, -3.2141e-02,  ...,  6.1119e-02,\n",
      "          4.3497e-02,  4.4582e-02],\n",
      "        [-1.2757e-02, -3.3208e-02,  5.7240e-02,  ..., -2.9876e-03,\n",
      "         -3.0847e-02, -3.1413e-02],\n",
      "        [-5.0327e-02,  3.3592e-02,  2.8965e-02,  ...,  5.5715e-02,\n",
      "         -9.2174e-03, -4.9541e-02]]) \n",
      "\n",
      "\n",
      "6\n",
      "Parameters' shape: torch.Size([1024, 256])\n",
      "Parameter containing:\n",
      "tensor([[-1.5966e-02, -5.6920e-02, -4.7247e-02,  ..., -1.8480e-02,\n",
      "         -4.9417e-02, -3.0087e-02],\n",
      "        [ 6.1977e-02,  5.4911e-02, -2.1584e-02,  ...,  2.2061e-02,\n",
      "         -5.7319e-02,  5.2574e-02],\n",
      "        [ 4.8168e-02,  4.6436e-02,  5.8869e-02,  ...,  4.7737e-02,\n",
      "          1.9038e-02, -6.1952e-02],\n",
      "        ...,\n",
      "        [ 3.1712e-02,  1.8897e-04,  4.3422e-02,  ...,  1.1768e-02,\n",
      "         -5.4064e-03,  2.9261e-02],\n",
      "        [ 1.4368e-02,  2.5455e-02, -1.0364e-02,  ..., -1.6161e-02,\n",
      "         -2.8889e-02, -4.1206e-02],\n",
      "        [ 5.7275e-02,  5.8889e-02, -2.7950e-03,  ..., -2.0187e-02,\n",
      "          2.5572e-03,  5.1543e-02]]) \n",
      "\n",
      "\n",
      "7\n",
      "Parameters' shape: torch.Size([1024])\n",
      "Parameter containing:\n",
      "tensor(1.00000e-02 *\n",
      "       [-2.7093, -0.9486,  0.0373,  ...,  1.2730,  3.9506,  5.3790]) \n",
      "\n",
      "\n",
      "8\n",
      "Parameters' shape: torch.Size([1024])\n",
      "Parameter containing:\n",
      "tensor(1.00000e-02 *\n",
      "       [ 0.6868,  0.7461,  1.3547,  ...,  3.7250,  5.1412, -3.8760]) \n",
      "\n",
      "\n",
      "9\n",
      "Parameters' shape: torch.Size([1, 256])\n",
      "Parameter containing:\n",
      "tensor(1.00000e-02 *\n",
      "       [[ 5.6143,  1.8283, -5.5196, -6.0969, -2.6265,  4.9231, -4.9864,\n",
      "          3.0709,  1.7418, -1.6264, -1.6414, -3.5829, -1.9586, -0.2508,\n",
      "         -2.1849,  3.1297,  3.1601,  2.0630,  4.8191,  1.5746,  0.8680,\n",
      "          5.7249,  6.0291, -4.2460,  4.7792,  1.3069, -1.2676, -0.9374,\n",
      "          1.2722, -5.7508, -5.2861, -4.7381,  1.8512,  5.4903,  2.9296,\n",
      "         -5.4061,  0.1642, -5.8955,  4.1983, -4.4734,  0.7816,  2.5830,\n",
      "          4.7061,  4.5167, -1.0795,  1.0578,  4.7532, -5.0703,  1.3539,\n",
      "         -5.3155,  6.1099, -5.0053,  2.6279, -2.7004,  5.7362, -1.3439,\n",
      "          5.9398, -3.5481,  5.8295, -5.2478,  0.0920, -0.6061, -3.5300,\n",
      "          0.4324,  4.5801, -4.0235,  4.9242,  5.5045,  2.0530,  1.7906,\n",
      "          2.7433,  6.2029,  4.7245,  0.1399, -3.5942, -0.1510,  5.2120,\n",
      "         -2.3773, -0.4083, -3.0947, -6.1033,  3.1313,  6.0954,  3.6427,\n",
      "          3.5068, -6.2480,  1.0785, -2.1642, -1.6374, -4.7124,  5.5256,\n",
      "         -4.8698, -6.1450,  6.1674, -3.5376,  0.9358,  3.4624,  2.4791,\n",
      "         -2.6036, -4.9309, -5.5203, -5.9587, -2.1763,  1.2909, -6.1951,\n",
      "          4.2626,  4.6575,  4.6434, -0.2318, -1.1429,  5.6089, -6.0986,\n",
      "          2.9755, -3.4943,  1.2725, -4.6578, -3.6970,  2.4914,  3.5891,\n",
      "         -3.4773, -3.5675, -2.1815, -2.0024,  1.1827, -2.0894,  4.5915,\n",
      "          5.9346,  4.0384, -2.9098,  2.3027, -2.5767,  1.2596, -1.3542,\n",
      "          5.5344,  1.6788, -4.6848,  2.5978, -2.1800,  0.2798,  1.1857,\n",
      "         -5.0707, -2.7558,  3.5194, -1.8924,  1.2222, -3.3445,  0.7473,\n",
      "          1.3413,  1.7209,  4.9250,  1.5717,  1.8294, -4.0633,  4.8782,\n",
      "         -5.4891,  4.3523,  1.0254, -2.1692, -3.7453,  4.3251,  4.4390,\n",
      "          4.3734,  4.8154,  4.1281, -3.1156,  5.9898, -4.1154,  2.2886,\n",
      "          0.6228,  4.2023,  3.9924, -1.0506, -0.0032,  4.4665, -0.9342,\n",
      "         -0.6826,  4.7963, -5.2799, -2.7242,  1.8065, -5.5310,  2.0828,\n",
      "         -4.0583,  2.1313, -4.6970, -3.3028, -0.2292, -1.0075, -2.7509,\n",
      "          2.4274, -4.5155, -5.3037, -4.8111, -4.1780, -2.1782,  1.2908,\n",
      "          1.4046, -3.1262, -3.4285, -5.5848, -1.3615,  4.3840,  2.9963,\n",
      "          0.7611, -1.3079,  2.1342,  1.5660,  4.7817,  3.9994, -1.9968,\n",
      "          6.1870, -0.9677,  2.4623, -0.7016, -6.0837,  4.0268,  0.2064,\n",
      "          2.0240,  1.3098, -4.5441,  3.2508, -3.7845,  2.1539, -2.0825,\n",
      "          4.5460,  0.2228,  6.2440,  1.5395, -0.7330,  0.2887, -3.5433,\n",
      "         -0.9171, -3.5963,  0.3607, -1.4376, -0.7710, -4.8991, -0.7472,\n",
      "         -4.8355, -3.9380, -0.0463, -1.3101,  5.7160, -2.4875, -5.3731,\n",
      "         -1.6229,  0.3351, -1.6415, -3.7089,  6.0729, -2.3196,  1.1975,\n",
      "          2.6286,  6.1131, -2.7502,  1.4012]]) \n",
      "\n",
      "\n",
      "10\n",
      "Parameters' shape: torch.Size([1])\n",
      "Parameter containing:\n",
      "tensor(1.00000e-02 *\n",
      "       [-3.1911]) \n",
      "\n",
      "\n"
     ]
    }
   ],
   "source": [
    "for i, param in enumerate(net.parameters()):\n",
    "    print(f\"{i}\")\n",
    "    print(f\"Parameters' shape: {param.size()}\")\n",
    "    print(param, \"\\n\\n\")"
   ]
  },
  {
   "cell_type": "markdown",
   "metadata": {},
   "source": [
    "---\n",
    "## Training\n",
    "\n",
    "Below is the typical training code. If you want to do this yourself, feel free to delete all this code and implement it yourself. You can also add code to save a model by name.\n",
    "\n",
    ">We'll also be using a new kind of cross entropy loss, which is designed to work with a single Sigmoid output. [BCELoss](https://pytorch.org/docs/stable/nn.html#bceloss), or **Binary Cross Entropy Loss**, applies cross entropy loss to a single value between 0 and 1.\n",
    "\n",
    "We also have some data and training hyparameters:\n",
    "\n",
    "* `lr`: Learning rate for our optimizer.\n",
    "* `epochs`: Number of times to iterate through the training dataset.\n",
    "* `clip`: The maximum gradient value to clip at (to prevent exploding gradients)."
   ]
  },
  {
   "cell_type": "code",
   "execution_count": null,
   "metadata": {
    "collapsed": true
   },
   "outputs": [],
   "source": [
    "# loss and optimization functions\n",
    "lr=0.001\n",
    "\n",
    "criterion = nn.BCELoss()\n",
    "optimizer = torch.optim.Adam(net.parameters(), lr=lr)\n"
   ]
  },
  {
   "cell_type": "code",
   "execution_count": null,
   "metadata": {
    "collapsed": true
   },
   "outputs": [],
   "source": [
    "# training params\n",
    "\n",
    "epochs = 4 # 3-4 is approx where I noticed the validation loss stop decreasing\n",
    "\n",
    "counter = 0\n",
    "print_every = 100\n",
    "clip=5 # gradient clipping\n",
    "\n",
    "# move model to GPU, if available\n",
    "if(train_on_gpu):\n",
    "    net.cuda()\n",
    "\n",
    "net.train()\n",
    "# train for some number of epochs\n",
    "for e in range(epochs):\n",
    "    # initialize hidden state\n",
    "    h = net.init_hidden(batch_size)\n",
    "\n",
    "    # batch loop\n",
    "    for inputs, labels in train_loader:\n",
    "        counter += 1\n",
    "\n",
    "        if(train_on_gpu):\n",
    "            inputs, labels = inputs.cuda(), labels.cuda()\n",
    "\n",
    "        # Creating new variables for the hidden state, otherwise\n",
    "        # we'd backprop through the entire training history\n",
    "        h = tuple([each.data for each in h])\n",
    "\n",
    "        # zero accumulated gradients\n",
    "        net.zero_grad()\n",
    "\n",
    "        # get the output from the model\n",
    "        output, h = net(inputs, h)\n",
    "\n",
    "        # calculate the loss and perform backprop\n",
    "        loss = criterion(output.squeeze(), labels.float())\n",
    "        loss.backward()\n",
    "        # `clip_grad_norm` helps prevent the exploding gradient problem in RNNs / LSTMs.\n",
    "        nn.utils.clip_grad_norm_(net.parameters(), clip)\n",
    "        optimizer.step()\n",
    "\n",
    "        # loss stats\n",
    "        if counter % print_every == 0:\n",
    "            # Get validation loss\n",
    "            val_h = net.init_hidden(batch_size)\n",
    "            val_losses = []\n",
    "            net.eval()\n",
    "            for inputs, labels in valid_loader:\n",
    "\n",
    "                # Creating new variables for the hidden state, otherwise\n",
    "                # we'd backprop through the entire training history\n",
    "                val_h = tuple([each.data for each in val_h])\n",
    "\n",
    "                if(train_on_gpu):\n",
    "                    inputs, labels = inputs.cuda(), labels.cuda()\n",
    "\n",
    "                output, val_h = net(inputs, val_h)\n",
    "                val_loss = criterion(output.squeeze(), labels.float())\n",
    "\n",
    "                val_losses.append(val_loss.item())\n",
    "\n",
    "            net.train()\n",
    "            print(\"Epoch: {}/{}...\".format(e+1, epochs),\n",
    "                  \"Step: {}...\".format(counter),\n",
    "                  \"Loss: {:.6f}...\".format(loss.item()),\n",
    "                  \"Val Loss: {:.6f}\".format(np.mean(val_losses)))"
   ]
  },
  {
   "cell_type": "markdown",
   "metadata": {},
   "source": [
    "---\n",
    "## Testing\n",
    "\n",
    "There are a few ways to test your network.\n",
    "\n",
    "* **Test data performance:** First, we'll see how our trained model performs on all of our defined test_data, above. We'll calculate the average loss and accuracy over the test data.\n",
    "\n",
    "* **Inference on user-generated data:** Second, we'll see if we can input just one example review at a time (without a label), and see what the trained model predicts. Looking at new, user input data like this, and predicting an output label, is called **inference**."
   ]
  },
  {
   "cell_type": "code",
   "execution_count": null,
   "metadata": {
    "collapsed": true
   },
   "outputs": [],
   "source": [
    "# Get test data loss and accuracy\n",
    "\n",
    "test_losses = [] # track loss\n",
    "num_correct = 0\n",
    "\n",
    "# init hidden state\n",
    "h = net.init_hidden(batch_size)\n",
    "\n",
    "net.eval()\n",
    "# iterate over test data\n",
    "for inputs, labels in test_loader:\n",
    "\n",
    "    # Creating new variables for the hidden state, otherwise\n",
    "    # we'd backprop through the entire training history\n",
    "    h = tuple([each.data for each in h])\n",
    "\n",
    "    if(train_on_gpu):\n",
    "        inputs, labels = inputs.cuda(), labels.cuda()\n",
    "    \n",
    "    # get predicted outputs\n",
    "    output, h = net(inputs, h)\n",
    "    \n",
    "    # calculate loss\n",
    "    test_loss = criterion(output.squeeze(), labels.float())\n",
    "    test_losses.append(test_loss.item())\n",
    "    \n",
    "    # convert output probabilities to predicted class (0 or 1)\n",
    "    pred = torch.round(output.squeeze())  # rounds to the nearest integer\n",
    "    \n",
    "    # compare predictions to true label\n",
    "    correct_tensor = pred.eq(labels.float().view_as(pred))\n",
    "    correct = np.squeeze(correct_tensor.numpy()) if not train_on_gpu else np.squeeze(correct_tensor.cpu().numpy())\n",
    "    num_correct += np.sum(correct)\n",
    "\n",
    "\n",
    "# -- stats! -- ##\n",
    "# avg test loss\n",
    "print(\"Test loss: {:.3f}\".format(np.mean(test_losses)))\n",
    "\n",
    "# accuracy over all test data\n",
    "test_acc = num_correct/len(test_loader.dataset)\n",
    "print(\"Test accuracy: {:.3f}\".format(test_acc))"
   ]
  },
  {
   "cell_type": "markdown",
   "metadata": {},
   "source": [
    "### Inference on a test review\n",
    "\n",
    "You can change this test_review to any text that you want. Read it and think: is it pos or neg? Then see if your model predicts correctly!\n",
    "    \n",
    "> **Exercise:** Write a `predict` function that takes in a trained net, a plain text_review, and a sequence length, and prints out a custom statement for a positive or negative review!\n",
    "* You can use any functions that you've already defined or define any helper functions you want to complete `predict`, but it should just take in a trained net, a text review, and a sequence length.\n"
   ]
  },
  {
   "cell_type": "code",
   "execution_count": null,
   "metadata": {
    "collapsed": true
   },
   "outputs": [],
   "source": [
    "# negative test review\n",
    "test_review_neg = 'The worst movie I have seen; acting was terrible and I want my money back. This movie had bad acting and the dialogue was slow.'\n"
   ]
  },
  {
   "cell_type": "code",
   "execution_count": null,
   "metadata": {
    "collapsed": true
   },
   "outputs": [],
   "source": [
    "def predict(net, test_review, sequence_length=200):\n",
    "    ''' Prints out whether a give review is predicted to be \n",
    "        positive or negative in sentiment, using a trained model.\n",
    "        \n",
    "        params:\n",
    "        net - A trained net \n",
    "        test_review - a review made of normal text and punctuation\n",
    "        sequence_length - the padded length of a review\n",
    "        '''\n",
    "    \n",
    "    \n",
    "    # print custom response based on whether test_review is pos/neg\n",
    "    \n",
    "        "
   ]
  },
  {
   "cell_type": "code",
   "execution_count": null,
   "metadata": {},
   "outputs": [],
   "source": [
    "# positive test review\n",
    "test_review_pos = 'This movie had the best acting and the dialogue was so good. I loved it.'\n"
   ]
  },
  {
   "cell_type": "code",
   "execution_count": null,
   "metadata": {
    "collapsed": true
   },
   "outputs": [],
   "source": [
    "# call function\n",
    "# try negative and positive reviews!\n",
    "seq_length=200\n",
    "predict(net, test_review_neg, seq_length)"
   ]
  },
  {
   "cell_type": "markdown",
   "metadata": {},
   "source": [
    "### Try out test_reviews of your own!\n",
    "\n",
    "Now that you have a trained model and a predict function, you can pass in _any_ kind of text and this model will predict whether the text has a positive or negative sentiment. Push this model to its limits and try to find what words it associates with positive or negative.\n",
    "\n",
    "Later, you'll learn how to deploy a model like this to a production environment so that it can respond to any kind of user data put into a web app!"
   ]
  },
  {
   "cell_type": "code",
   "execution_count": null,
   "metadata": {
    "collapsed": true
   },
   "outputs": [],
   "source": []
  }
 ],
 "metadata": {
  "kernelspec": {
   "display_name": "Python 3",
   "language": "python",
   "name": "python3"
  },
  "language_info": {
   "codemirror_mode": {
    "name": "ipython",
    "version": 3
   },
   "file_extension": ".py",
   "mimetype": "text/x-python",
   "name": "python",
   "nbconvert_exporter": "python",
   "pygments_lexer": "ipython3",
   "version": "3.6.3"
  }
 },
 "nbformat": 4,
 "nbformat_minor": 2
}

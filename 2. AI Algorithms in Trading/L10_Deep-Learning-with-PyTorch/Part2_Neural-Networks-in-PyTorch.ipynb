{
 "cells": [
  {
   "cell_type": "markdown",
   "metadata": {},
   "source": [
    "# Neural networks with PyTorch\n",
    "\n",
    "Deep learning networks tend to be massive with dozens or hundreds of layers, that's where the term \"deep\" comes from. You can build one of these deep networks using only weight matrices as we did in the previous notebook, but in general it's very cumbersome and difficult to implement. PyTorch has a nice module `nn` that provides a nice way to efficiently build large neural networks."
   ]
  },
  {
   "cell_type": "code",
   "execution_count": 1,
   "metadata": {},
   "outputs": [],
   "source": [
    "# Import necessary packages\n",
    "\n",
    "%matplotlib inline\n",
    "%config InlineBackend.figure_format = 'retina'\n",
    "\n",
    "import numpy as np\n",
    "import torch\n",
    "\n",
    "import helper\n",
    "\n",
    "import matplotlib.pyplot as plt"
   ]
  },
  {
   "cell_type": "markdown",
   "metadata": {},
   "source": [
    "\n",
    "Now we're going to build a larger network that can solve a (formerly) difficult problem, identifying text in an image. Here we'll use the MNIST dataset which consists of greyscale handwritten digits. Each image is 28x28 pixels, you can see a sample below\n",
    "\n",
    "<img src='assets/mnist.png'>\n",
    "\n",
    "Our goal is to build a neural network that can take one of these images and predict the digit in the image.\n",
    "\n",
    "First up, we need to get our dataset. This is provided through the `torchvision` package. The code below will download the MNIST dataset, then create training and test datasets for us. Don't worry too much about the details here, you'll learn more about this later."
   ]
  },
  {
   "cell_type": "code",
   "execution_count": 2,
   "metadata": {},
   "outputs": [
    {
     "name": "stdout",
     "output_type": "stream",
     "text": [
      "Downloading http://yann.lecun.com/exdb/mnist/train-images-idx3-ubyte.gz\n",
      "Downloading http://yann.lecun.com/exdb/mnist/train-labels-idx1-ubyte.gz\n",
      "Downloading http://yann.lecun.com/exdb/mnist/t10k-images-idx3-ubyte.gz\n",
      "Downloading http://yann.lecun.com/exdb/mnist/t10k-labels-idx1-ubyte.gz\n",
      "Processing...\n",
      "Done!\n"
     ]
    }
   ],
   "source": [
    "### Run this cell\n",
    "\n",
    "from torchvision import datasets, transforms\n",
    "\n",
    "# Define a transform to normalize the data\n",
    "transform = transforms.Compose([transforms.ToTensor(),\n",
    "                              transforms.Normalize((0.5,), (0.5,)),\n",
    "                              ]) # transforms.Normalize(1 channel mean, std)\n",
    "\n",
    "# Download and load the training data\n",
    "trainset = datasets.MNIST('~/.pytorch/MNIST_data/', download=True, train=True, transform=transform)\n",
    "trainloader = torch.utils.data.DataLoader(trainset, batch_size=64, shuffle=True)"
   ]
  },
  {
   "cell_type": "code",
   "execution_count": 8,
   "metadata": {},
   "outputs": [
    {
     "name": "stdout",
     "output_type": "stream",
     "text": [
      "/home/workspace/deep-learning-v2-pytorch/intro-to-pytorch\r\n"
     ]
    }
   ],
   "source": [
    "!pwd"
   ]
  },
  {
   "cell_type": "markdown",
   "metadata": {},
   "source": [
    "We have the training data loaded into `trainloader` and we make that an iterator with `iter(trainloader)`. Later, we'll use this to loop through the dataset for training, like\n",
    "\n",
    "```python\n",
    "for image, label in trainloader:\n",
    "    ## do things with images and labels\n",
    "```\n",
    "\n",
    "You'll notice I created the `trainloader` with a batch size of 64, and `shuffle=True`. The batch size is the number of images we get in one iteration from the data loader and pass through our network, often called a *batch*. And `shuffle=True` tells it to shuffle the dataset every time we start going through the data loader again. But here I'm just grabbing the first batch so we can check out the data. We can see below that `images` is just a tensor with size `(64, 1, 28, 28)`. So, 64 images per batch, 1 color channel, and 28x28 images."
   ]
  },
  {
   "cell_type": "code",
   "execution_count": 3,
   "metadata": {},
   "outputs": [
    {
     "name": "stdout",
     "output_type": "stream",
     "text": [
      "<class 'torch.Tensor'>\n",
      "torch.Size([64, 1, 28, 28])\n",
      "torch.Size([64])\n"
     ]
    }
   ],
   "source": [
    "dataiter = iter(trainloader)\n",
    "images, labels = dataiter.next()\n",
    "print(type(images))\n",
    "print(images.shape)\n",
    "print(labels.shape)"
   ]
  },
  {
   "cell_type": "markdown",
   "metadata": {},
   "source": [
    "This is what one of the images looks like. "
   ]
  },
  {
   "cell_type": "code",
   "execution_count": 4,
   "metadata": {},
   "outputs": [
    {
     "data": {
      "image/png": "[encoded data removed]",
      "text/plain": [
       "<matplotlib.figure.Figure at 0x7f79a9e0e1d0>"
      ]
     },
     "metadata": {
      "image/png": {
       "height": 250,
       "width": 253
      },
      "needs_background": "light"
     },
     "output_type": "display_data"
    }
   ],
   "source": [
    "plt.imshow(images[1].numpy().squeeze(), cmap='Greys_r');"
   ]
  },
  {
   "cell_type": "markdown",
   "metadata": {},
   "source": [
    "First, let's try to build a simple network for this dataset using weight matrices and matrix multiplications. Then, we'll see how to do it using PyTorch's `nn` module which provides a much more convenient and powerful method for defining network architectures.\n",
    "\n",
    "The networks you've seen so far are called *fully-connected* or *dense* networks. Each unit in one layer is connected to each unit in the next layer. In fully-connected networks, the input to each layer must be a one-dimensional vector (which can be stacked into a 2D tensor as a batch of multiple examples). However, our images are 28x28 2D tensors, so we need to convert them into 1D vectors. Thinking about sizes, we need to convert the batch of images with shape `(64, 1, 28, 28)` to a have a shape of `(64, 784)`, 784 is 28 times 28. This is typically called *flattening*, we flattened the 2D images into 1D vectors.\n",
    "\n",
    "Previously you built a network with one output unit. Here we need 10 output units, one for each digit. We want our network to predict the digit shown in an image, so what we'll do is calculate probabilities that the image is of any one digit or class. This ends up being a discrete probability distribution over the classes (digits) that tells us the most likely class for the image. That means we need 10 output units for the 10 classes (digits). We'll see how to convert the network output into a probability distribution next.\n",
    "\n",
    "> **Exercise:** Flatten the batch of images `images`. Then build a multi-layer network with 784 input units, 256 hidden units, and 10 output units using random tensors for the weights and biases. For now, use a sigmoid activation for the hidden layer. Leave the output layer without an activation, we'll add one that gives us a probability distribution next."
   ]
  },
  {
   "cell_type": "code",
   "execution_count": 5,
   "metadata": {},
   "outputs": [
    {
     "data": {
      "text/plain": [
       "torch.Size([64, 784])"
      ]
     },
     "execution_count": 5,
     "metadata": {},
     "output_type": "execute_result"
    }
   ],
   "source": [
    "images.view((-1, 28*28)).shape"
   ]
  },
  {
   "cell_type": "code",
   "execution_count": 6,
   "metadata": {},
   "outputs": [
    {
     "name": "stdout",
     "output_type": "stream",
     "text": [
      "torch.Size([64, 10])\n",
      "\n",
      "tensor([[  5.5660,   5.5357, -11.9669,   9.2615,  -9.9829,  10.5099,\n",
      "           1.3744,   0.8271,   3.5917,   6.1468],\n",
      "        [ 13.7086,   0.3331, -10.2343,  11.2625,  -7.9003,   9.8179,\n",
      "          -0.6382,  -5.8904,   2.8472,   0.5746],\n",
      "        [  7.7594,   5.4435,   0.3225,   8.1277,  -1.0888,  15.4553,\n",
      "           3.3785,  13.8604,   3.7656,   4.6421],\n",
      "        [ -0.4612,  -1.6571, -11.0590,   3.3877,  -9.5060,  11.0619,\n",
      "          -2.4650,  -5.5335,   3.1421,  -7.1328],\n",
      "        [  9.0241,   0.2509,  -8.1333,   4.0100,  -1.7920,   9.1393,\n",
      "           3.1940,   2.7425,  14.0050,   2.3277],\n",
      "        [ -0.7457,   1.0240,  -9.2456,   5.4597,  -5.6634,   8.7026,\n",
      "           3.2731,   9.6125,   6.8662,  -0.7455],\n",
      "        [ 10.7593,   1.4304, -10.2181,   7.0839,  -5.7588,   6.2417,\n",
      "           4.9548,  -2.9337,   6.5122,   0.0224],\n",
      "        [  1.5074,   5.8773, -19.3382,   8.0038,  -6.0460,  11.7617,\n",
      "          -1.3458,   6.2872,  -0.4432,   6.5673],\n",
      "        [  6.6841,   1.3413,  -3.8349,  16.0455,  -6.6017,  10.5001,\n",
      "           4.3198,  -2.0520,  -4.8225,   8.1700],\n",
      "        [  8.8790,  -0.3688, -11.1846,   3.5783, -16.3740,   8.2288,\n",
      "           1.2018,   5.4449,   0.0928, -12.2736],\n",
      "        [  5.2449,  -0.9249, -15.1503,  -0.3475,   1.5695,  13.4155,\n",
      "           5.6902,  11.1248,   5.8187,   2.4892],\n",
      "        [  3.0368,   2.1324,  -4.9098,   8.4711, -11.1750,   8.9165,\n",
      "          -2.8252,  20.8081,  -1.7615,   3.1210],\n",
      "        [ 19.6285,  -1.6070,   0.0051,   6.9275,   0.2840,   6.8454,\n",
      "           5.2373,  15.8229,   6.0227,   6.5636],\n",
      "        [ -0.5464,   4.2572, -20.2253,   7.3133,   0.6979,  15.6485,\n",
      "           7.5593,   1.6436,   4.9800,   6.5446],\n",
      "        [  3.1442,  -0.7520,  -6.3625,   3.2577,  -5.7587,   3.4870,\n",
      "           0.0922,  10.7325,  -0.8286,   3.8475],\n",
      "        [ 10.5290,   2.8075, -10.2657,   6.9004,  13.5904,   4.4675,\n",
      "           2.0231,  -1.5420,  10.1878,  -3.1216],\n",
      "        [  3.5693,  -1.2981,  -4.7245,  16.1433, -10.8290,  22.3651,\n",
      "          -6.8127,  -2.2949,   2.9869,   9.1544],\n",
      "        [  8.2931,  -3.1089,  -2.7118,   6.5596,  -2.6601,   4.9980,\n",
      "           6.5439,  -3.8608,   4.0935,  -0.7255],\n",
      "        [  2.2750,   5.1339, -14.1563,   8.1574,  -9.0794,  14.4831,\n",
      "         -15.4230,   0.9361,   5.1025,  -0.3912],\n",
      "        [  5.5851,   3.7455, -16.5650,   6.7726,  -3.9365,  11.8220,\n",
      "           1.9410,   3.5561,   1.0868,   2.3556],\n",
      "        [  1.4687,  -1.9898,  -5.7358,   4.6817,  -8.1266,   9.7481,\n",
      "           4.0468,   1.2837,   5.7905,  -8.6336],\n",
      "        [ -0.2750,   1.2277,  -1.6683,   5.8586,   0.7526,   2.8932,\n",
      "          -3.3366,  -2.8669,   3.5335,   6.8731],\n",
      "        [  9.6239,   5.3290,  -1.6960,   3.1455,   0.9235,   4.4195,\n",
      "           4.2530,  -6.4519,   0.9581,   0.7645],\n",
      "        [ 17.3309,  -1.0731,  -2.6292,  17.7546,  -9.6661,   4.6441,\n",
      "           4.1688,  -5.8188,   3.5284,   4.7874],\n",
      "        [  1.5505,   1.8245, -11.4018,   1.5405,  -4.6997,  11.8746,\n",
      "          -3.5051,   6.2292,   5.2281,  -0.9853],\n",
      "        [ -2.3113,   6.3068, -10.8768,   4.5601,   3.8121,  14.8448,\n",
      "           8.0690,   1.8783,  -1.7032,  -3.5376],\n",
      "        [ 13.4686,   5.2401,  -9.2303,  10.0012,  -2.8502,   4.3064,\n",
      "          -4.4926,   3.8782,   3.5254,   1.7719],\n",
      "        [ -0.1190,   3.3505,  -1.5330,  10.0980,  -8.6162,   8.6146,\n",
      "           0.0590,  -1.0390,   2.2490,   1.9863],\n",
      "        [ 12.2978,   6.9529, -13.1819,   3.1488,  -5.9129,  13.9160,\n",
      "           1.1869,   5.2193,   7.0597,   0.9123],\n",
      "        [  1.0671,  -2.2332,  -5.7748,   6.7063,  -8.7981,   6.2746,\n",
      "          -1.9957,   0.2282,   4.0065,   1.9660],\n",
      "        [  7.6005,  -3.5677, -11.2865,   6.5274,  -3.4175,  10.6028,\n",
      "           3.1614,   7.5593,  -1.8165,  -6.9762],\n",
      "        [  5.8953,   3.0282,  -9.3465,   5.0789, -11.8137,  10.3243,\n",
      "          -0.6286,   8.7612,   5.4916,  -1.8794],\n",
      "        [ 10.3173,  -0.6121, -16.5671,   9.0941,   0.2597,   8.0306,\n",
      "           4.2506, -11.6917,   2.2289,   3.8890],\n",
      "        [ 18.0075,  -6.0843, -18.3809,  12.8485,  -1.7997,  12.9892,\n",
      "          -1.8893,   2.3714,   4.4304,   0.2524],\n",
      "        [ 16.4381,  -2.9591, -16.3996,   2.4361,   8.1567,   7.1825,\n",
      "           9.8114,   6.1788,   9.2130,   5.5346],\n",
      "        [  1.1138,   6.1416,  -3.9819,   9.8762,  -5.2241,   6.8263,\n",
      "          10.1772,  -5.2130,   2.2731,   2.5553],\n",
      "        [  1.0813,   5.7602, -19.8363,   7.6547,   6.8592,   5.4206,\n",
      "           5.2589,  10.2837,   0.9950,  -3.5697],\n",
      "        [  5.7802,  -1.4160, -17.1196,   9.3260,   3.6420,  11.3140,\n",
      "           6.6345,   6.1642,   7.5866,   0.3065],\n",
      "        [ 10.2393,   0.7576, -16.2774,  10.9099,  -2.1271,   6.8767,\n",
      "          -2.1940,   2.7431,   5.9880,  -3.3985],\n",
      "        [  6.8067,  -6.2279,  -1.2697,   1.2600, -11.4857,  11.3070,\n",
      "          10.6271,   0.4449,   5.7988,  -7.9922],\n",
      "        [  6.0055,  -4.0901,  -0.7875,   4.5626,  -9.1402,   7.5262,\n",
      "          -4.0710,  10.5248,   6.5945,  -0.9036],\n",
      "        [  3.7548,   1.7875, -16.4853,  -0.5117,  17.2430,  20.3046,\n",
      "           8.6540,  -3.3465,   7.2105,  -0.0973],\n",
      "        [  9.3867,   2.9319,  -9.6734,  -1.5726, -12.0762,  10.8069,\n",
      "           1.1183,   4.0915,   2.2867,   1.1049],\n",
      "        [ 11.9438,  -6.9863, -11.2374,  14.6654,  -9.5055,   6.2933,\n",
      "          -0.8636,  -3.8266,   7.0789,  -3.0547],\n",
      "        [  7.1870,   5.2934, -10.9968,  16.5035, -10.0021,  20.6069,\n",
      "          -5.3779,  -1.3116,  -2.2820,   5.5063],\n",
      "        [  7.4026,   2.9812,  -9.7996,   5.4860, -14.5732,   9.0181,\n",
      "           2.2670,   7.6622,   0.6021,   3.6332],\n",
      "        [ 10.7450,   0.8122, -14.1490,   2.1631,  -0.4610,   7.1427,\n",
      "           2.1051,  11.3559,   5.6307,  -0.1930],\n",
      "        [  6.8640,   1.6765,  -1.3495,   9.0607,  -1.4156,   4.6365,\n",
      "           3.6211,  -0.8843,   5.4609,   2.3368],\n",
      "        [  9.7331,   0.1592, -12.0935,  11.4132,  -2.8522,   6.9815,\n",
      "          -4.3218,   4.7702,   7.6038,  -1.0199],\n",
      "        [ 10.8492,   3.4748,  -8.1932,   1.4833, -16.9864,  10.4392,\n",
      "           2.8972,   5.5959,   2.4519,   1.6135],\n",
      "        [  4.9500,   5.1357,  -3.2219,   9.7229,  -1.4587,   8.2227,\n",
      "           0.0633,  -9.0431,   6.0504,  -4.8420],\n",
      "        [ -2.1975,   1.5647,  -9.3085,  12.2588,  -4.1987,  12.4539,\n",
      "           5.6069,   5.8967,   1.4180,  -5.3033],\n",
      "        [  6.4553,   2.0929,  -4.3759,  13.9830,  -2.2105,  10.1978,\n",
      "          -4.6440,   6.2351,  -1.1372,   6.4078],\n",
      "        [ 15.0953,   2.3096, -15.7845,  12.3669,  -0.9650,   9.5580,\n",
      "           2.9259,  -0.8187,   0.6078,   4.4645],\n",
      "        [  5.4296,  -3.9732,  -5.1529,   1.5493,  -0.8242,  18.1960,\n",
      "           8.6574,  -5.0052,   1.7989,  -5.9255],\n",
      "        [ 13.2216,   9.7440,  -9.5111,  -0.3489,  -3.8031,  11.1643,\n",
      "          -1.4651,   0.1048,   6.8889,  -3.2884],\n",
      "        [ 17.3479,   3.1478, -10.7357,   0.9026,  -2.3630,   6.5457,\n",
      "           8.2518,   5.9494,   9.1643,   2.8487],\n",
      "        [  4.5101,   5.1861, -12.3607,   7.7401,  -0.1886,  14.6644,\n",
      "           2.4211,  -4.4438,   3.4731,  -5.4211],\n",
      "        [  8.0754,   3.1685,   3.0544,  12.1866,  -2.6846,  11.3109,\n",
      "          11.1161,  -0.5250,  10.3809,  -2.5946],\n",
      "        [  8.2871,  -0.0166, -12.6607,   7.9631,   0.7266,   5.5209,\n",
      "           5.5060,   1.1599,   5.0938,  -1.7511],\n",
      "        [ 13.6957,   3.3934, -17.6679,   1.5810,   2.9215,  14.4414,\n",
      "          -6.5613,   9.6873,   7.1354,   2.2800],\n",
      "        [ -6.9955,   3.5309, -10.9195,   2.9522,  -3.0342,  16.1484,\n",
      "           2.2992,   6.5541,   1.5339,  -0.4114],\n",
      "        [ 16.6467,  -5.0007, -12.6928,   8.7930,  -4.6541,   9.8235,\n",
      "           1.3391,  -3.5744,   6.4837,  -9.1595],\n",
      "        [  2.4978,   2.3995,  -9.7581,  10.3646,  -1.0453,   6.1236,\n",
      "           0.6076,  -6.8570,   2.1212,  -5.0211]])\n"
     ]
    }
   ],
   "source": [
    "## Your solution\n",
    "torch.manual_seed(34)\n",
    "\n",
    "def activation(x):\n",
    "    return 1 / (1 + torch.exp(-x))\n",
    "\n",
    "inputs = images.view((-1, 28*28))  #images.view(images.shape[0], -1)\n",
    "\n",
    "n_input = inputs.shape[1]\n",
    "n_hidden = 256\n",
    "n_output = 10\n",
    "\n",
    "w1 = torch.randn((n_input, n_hidden))\n",
    "w2 = torch.randn((n_hidden, n_output))\n",
    "\n",
    "b1 = torch.randn(n_hidden)\n",
    "b2 = torch.randn(n_output)\n",
    "\n",
    "h = activation(torch.mm(inputs, w1) + b1)\n",
    "\n",
    "# output of your network, should have shape (64,10)\n",
    "out = torch.mm(h, w2) + b2\n",
    "print(out.shape)\n",
    "print()\n",
    "print(out)"
   ]
  },
  {
   "cell_type": "markdown",
   "metadata": {},
   "source": [
    "Now we have 10 outputs for our network. We want to pass in an image to our network and get out a probability distribution over the classes that tells us the likely class(es) the image belongs to. Something that looks like this:\n",
    "<img src='assets/image_distribution.png' width=500px>\n",
    "\n",
    "Here we see that the probability for each class is roughly the same. This is representing an untrained network, it hasn't seen any data yet so it just returns a uniform distribution with equal probabilities for each class.\n",
    "\n",
    "To calculate this probability distribution, we often use the [**softmax** function](https://en.wikipedia.org/wiki/Softmax_function). Mathematically this looks like\n",
    "\n",
    "$$\n",
    "\\Large \\sigma(x_i) = \\cfrac{e^{x_i}}{\\sum_k^K{e^{x_k}}}\n",
    "$$\n",
    "\n",
    "What this does is squish each input $x_i$ between 0 and 1 and normalizes the values to give you a proper probability distribution where the probabilites sum up to one.\n",
    "\n",
    "> **Exercise:** Implement a function `softmax` that performs the softmax calculation and returns probability distributions for each example in the batch. Note that you'll need to pay attention to the shapes when doing this. If you have a tensor `a` with shape `(64, 10)` and a tensor `b` with shape `(64,)`, doing `a/b` will give you an error because PyTorch will try to do the division across the columns (called broadcasting) but you'll get a size mismatch. The way to think about this is for each of the 64 examples, you only want to divide by one value, the sum in the denominator. So you need `b` to have a shape of `(64, 1)`. This way PyTorch will divide the 10 values in each row of `a` by the one value in each row of `b`. Pay attention to how you take the sum as well. You'll need to define the `dim` keyword in `torch.sum`. Setting `dim=0` takes the sum across the rows while `dim=1` takes the sum across the columns."
   ]
  },
  {
   "cell_type": "code",
   "execution_count": 11,
   "metadata": {},
   "outputs": [
    {
     "data": {
      "text/plain": [
       "torch.Size([64])"
      ]
     },
     "execution_count": 11,
     "metadata": {},
     "output_type": "execute_result"
    }
   ],
   "source": [
    "torch.sum(torch.exp(out), dim=1).shape"
   ]
  },
  {
   "cell_type": "code",
   "execution_count": 13,
   "metadata": {},
   "outputs": [
    {
     "data": {
      "text/plain": [
       "torch.Size([64, 1])"
      ]
     },
     "execution_count": 13,
     "metadata": {},
     "output_type": "execute_result"
    }
   ],
   "source": [
    "torch.sum(torch.exp(out), dim=1).view(-1, 1).shape"
   ]
  },
  {
   "cell_type": "code",
   "execution_count": 14,
   "metadata": {},
   "outputs": [
    {
     "name": "stdout",
     "output_type": "stream",
     "text": [
      "torch.Size([64, 10])\n",
      "tensor([ 1.0000,  1.0000,  1.0000,  1.0000,  1.0000,  1.0000,  1.0000,\n",
      "         1.0000,  1.0000,  1.0000,  1.0000,  1.0000,  1.0000,  1.0000,\n",
      "         1.0000,  1.0000,  1.0000,  1.0000,  1.0000,  1.0000,  1.0000,\n",
      "         1.0000,  1.0000,  1.0000,  1.0000,  1.0000,  1.0000,  1.0000,\n",
      "         1.0000,  1.0000,  1.0000,  1.0000,  1.0000,  1.0000,  1.0000,\n",
      "         1.0000,  1.0000,  1.0000,  1.0000,  1.0000,  1.0000,  1.0000,\n",
      "         1.0000,  1.0000,  1.0000,  1.0000,  1.0000,  1.0000,  1.0000,\n",
      "         1.0000,  1.0000,  1.0000,  1.0000,  1.0000,  1.0000,  1.0000,\n",
      "         1.0000,  1.0000,  1.0000,  1.0000,  1.0000,  1.0000,  1.0000,\n",
      "         1.0000])\n"
     ]
    }
   ],
   "source": [
    "def softmax(x):\n",
    "    ## TODO: Implement the softmax function here\n",
    "    return torch.exp(x) / torch.sum(torch.exp(x), dim=1).view(-1, 1)\n",
    "\n",
    "# Here, out should be the output of the network in the previous excercise with shape (64,10)\n",
    "probabilities = softmax(out)\n",
    "\n",
    "# Does it have the right shape? Should be (64, 10)\n",
    "print(probabilities.shape)\n",
    "# Does it sum to 1?\n",
    "print(probabilities.sum(dim=1))"
   ]
  },
  {
   "cell_type": "markdown",
   "metadata": {},
   "source": [
    "## Building networks with PyTorch\n",
    "\n",
    "PyTorch provides a module `nn` that makes building networks much simpler. Here I'll show you how to build the same one as above with 784 inputs, 256 hidden units, 10 output units and a softmax output."
   ]
  },
  {
   "cell_type": "code",
   "execution_count": 17,
   "metadata": {},
   "outputs": [],
   "source": [
    "from torch import nn"
   ]
  },
  {
   "cell_type": "code",
   "execution_count": 18,
   "metadata": {},
   "outputs": [],
   "source": [
    "class Network(nn.Module):\n",
    "    def __init__(self):\n",
    "        super().__init__()\n",
    "        \n",
    "        # Inputs to hidden layer linear transformation\n",
    "        self.hidden = nn.Linear(784, 256)\n",
    "        # Output layer, 10 units - one for each digit\n",
    "        self.output = nn.Linear(256, 10)\n",
    "        \n",
    "        # Define sigmoid activation and softmax output \n",
    "        self.sigmoid = nn.Sigmoid()\n",
    "        self.softmax = nn.Softmax(dim=1)\n",
    "        \n",
    "    def forward(self, x):\n",
    "        # Pass the input tensor through each of our operations\n",
    "        x = self.hidden(x)\n",
    "        x = self.sigmoid(x)\n",
    "        x = self.output(x)\n",
    "        x = self.softmax(x)\n",
    "        \n",
    "        return x"
   ]
  },
  {
   "cell_type": "markdown",
   "metadata": {},
   "source": [
    "Let's go through this bit by bit.\n",
    "\n",
    "```python\n",
    "class Network(nn.Module):\n",
    "```\n",
    "\n",
    "Here we're inheriting from `nn.Module`. Combined with `super().__init__()` this creates a class that tracks the architecture and provides a lot of useful methods and attributes. It is mandatory to inherit from `nn.Module` when you're creating a class for your network. The name of the class itself can be anything.\n",
    "\n",
    "```python\n",
    "self.hidden = nn.Linear(784, 256)\n",
    "```\n",
    "\n",
    "This line creates a module for a linear transformation, $x\\mathbf{W} + b$, with 784 inputs and 256 outputs and assigns it to `self.hidden`. The module automatically creates the weight and bias tensors which we'll use in the `forward` method. You can access the weight and bias tensors once the network (`net`) is created with `net.hidden.weight` and `net.hidden.bias`.\n",
    "\n",
    "```python\n",
    "self.output = nn.Linear(256, 10)\n",
    "```\n",
    "\n",
    "Similarly, this creates another linear transformation with 256 inputs and 10 outputs.\n",
    "\n",
    "```python\n",
    "self.sigmoid = nn.Sigmoid()\n",
    "self.softmax = nn.Softmax(dim=1)\n",
    "```\n",
    "\n",
    "Here I defined operations for the sigmoid activation and softmax output. Setting `dim=1` in `nn.Softmax(dim=1)` calculates softmax across the columns.\n",
    "\n",
    "```python\n",
    "def forward(self, x):\n",
    "```\n",
    "\n",
    "PyTorch networks created with `nn.Module` must have a `forward` method defined. It takes in a tensor `x` and passes it through the operations you defined in the `__init__` method.\n",
    "\n",
    "```python\n",
    "x = self.hidden(x)\n",
    "x = self.sigmoid(x)\n",
    "x = self.output(x)\n",
    "x = self.softmax(x)\n",
    "```\n",
    "\n",
    "Here the input tensor `x` is passed through each operation a reassigned to `x`. We can see that the input tensor goes through the hidden layer, then a sigmoid function, then the output layer, and finally the softmax function. It doesn't matter what you name the variables here, as long as the inputs and outputs of the operations match the network architecture you want to build. The order in which you define things in the `__init__` method doesn't matter, but you'll need to sequence the operations correctly in the `forward` method.\n",
    "\n",
    "Now we can create a `Network` object."
   ]
  },
  {
   "cell_type": "code",
   "execution_count": 19,
   "metadata": {},
   "outputs": [
    {
     "data": {
      "text/plain": [
       "Network(\n",
       "  (hidden): Linear(in_features=784, out_features=256, bias=True)\n",
       "  (output): Linear(in_features=256, out_features=10, bias=True)\n",
       "  (sigmoid): Sigmoid()\n",
       "  (softmax): Softmax()\n",
       ")"
      ]
     },
     "execution_count": 19,
     "metadata": {},
     "output_type": "execute_result"
    }
   ],
   "source": [
    "# Create the network and look at it's text representation\n",
    "model = Network()\n",
    "model"
   ]
  },
  {
   "cell_type": "markdown",
   "metadata": {},
   "source": [
    "You can define the network somewhat more concisely and clearly using the `torch.nn.functional` module. This is the most common way you'll see networks defined as many operations are simple element-wise functions. We normally import this module as `F`, `import torch.nn.functional as F`."
   ]
  },
  {
   "cell_type": "code",
   "execution_count": 30,
   "metadata": {},
   "outputs": [],
   "source": [
    "import torch.nn.functional as F\n",
    "\n",
    "class Network(nn.Module):\n",
    "    def __init__(self):\n",
    "        super().__init__()\n",
    "        # Inputs to hidden layer linear transformation\n",
    "        self.hidden = nn.Linear(784, 256)\n",
    "        # Output layer, 10 units - one for each digit\n",
    "        self.output = nn.Linear(256, 10)\n",
    "        \n",
    "    def forward(self, x):\n",
    "        # Hidden layer with sigmoid activation\n",
    "        x = F.sigmoid(self.hidden(x))\n",
    "        # Output layer with softmax activation\n",
    "        x = F.softmax(self.output(x), dim=1)\n",
    "        \n",
    "        return x"
   ]
  },
  {
   "cell_type": "code",
   "execution_count": 31,
   "metadata": {},
   "outputs": [
    {
     "data": {
      "text/plain": [
       "Network(\n",
       "  (hidden): Linear(in_features=784, out_features=256, bias=True)\n",
       "  (output): Linear(in_features=256, out_features=10, bias=True)\n",
       ")"
      ]
     },
     "execution_count": 31,
     "metadata": {},
     "output_type": "execute_result"
    }
   ],
   "source": [
    "model = Network()\n",
    "model"
   ]
  },
  {
   "cell_type": "markdown",
   "metadata": {},
   "source": [
    "### Activation functions\n",
    "\n",
    "So far we've only been looking at the softmax activation, but in general any function can be used as an activation function. The only requirement is that for a network to approximate a non-linear function, the activation functions must be non-linear. Here are a few more examples of common activation functions: Tanh (hyperbolic tangent), and ReLU (rectified linear unit).\n",
    "\n",
    "<img src=\"assets/activation.png\" width=700px>\n",
    "\n",
    "In practice, the ReLU function is used almost exclusively as the activation function for hidden layers."
   ]
  },
  {
   "cell_type": "markdown",
   "metadata": {},
   "source": [
    "### Your Turn to Build a Network\n",
    "\n",
    "<img src=\"assets/mlp_mnist.png\" width=600px>\n",
    "\n",
    "> **Exercise:** Create a network with 784 input units, a hidden layer with 128 units and a ReLU activation, then a hidden layer with 64 units and a ReLU activation, and finally an output layer with a softmax activation as shown above. You can use a ReLU activation with the `nn.ReLU` module or `F.relu` function."
   ]
  },
  {
   "cell_type": "code",
   "execution_count": 44,
   "metadata": {
    "scrolled": true
   },
   "outputs": [],
   "source": [
    "## Your solution here\n",
    "from torch import nn\n",
    "import torch.nn.functional as F\n",
    "\n",
    "class Network(nn.Module):\n",
    "    def __init__(self):\n",
    "        super().__init__()\n",
    "        \n",
    "        self.fc1 = nn.Linear(784, 128)\n",
    "        self.fc2 = nn.Linear(128, 64)\n",
    "        self.fc3  = nn.Linear(64, 10)\n",
    "        \n",
    "    def forward(self, x):\n",
    "        x = F.relu(self.fc1(x))\n",
    "        x = F.relu(self.fc2(x))\n",
    "        x = F.softmax(self.fc3(x), dim=1)\n",
    "        \n",
    "        return x"
   ]
  },
  {
   "cell_type": "code",
   "execution_count": 45,
   "metadata": {},
   "outputs": [
    {
     "data": {
      "text/plain": [
       "Network(\n",
       "  (fc1): Linear(in_features=784, out_features=128, bias=True)\n",
       "  (fc2): Linear(in_features=128, out_features=64, bias=True)\n",
       "  (fc3): Linear(in_features=64, out_features=10, bias=True)\n",
       ")"
      ]
     },
     "execution_count": 45,
     "metadata": {},
     "output_type": "execute_result"
    }
   ],
   "source": [
    "model = Network()\n",
    "model"
   ]
  },
  {
   "cell_type": "markdown",
   "metadata": {},
   "source": [
    "### Initializing weights and biases\n",
    "\n",
    "The weights and such are automatically initialized for you, but it's possible to customize how they are initialized. The weights and biases are tensors attached to the layer you defined, you can get them with `model.fc1.weight` for instance."
   ]
  },
  {
   "cell_type": "code",
   "execution_count": 46,
   "metadata": {},
   "outputs": [
    {
     "name": "stdout",
     "output_type": "stream",
     "text": [
      "Parameter containing:\n",
      "tensor([[-1.6283e-02,  3.0684e-02,  3.0668e-02,  ...,  1.9077e-02,\n",
      "          7.0808e-03, -2.3929e-02],\n",
      "        [ 2.7844e-02,  3.2972e-03, -6.9361e-03,  ..., -2.8732e-02,\n",
      "          5.7899e-03, -1.6940e-02],\n",
      "        [ 2.7226e-02,  2.6253e-02,  2.6319e-02,  ..., -1.0077e-02,\n",
      "          7.3378e-03, -2.4627e-03],\n",
      "        ...,\n",
      "        [-2.3272e-02,  6.4139e-03, -3.3867e-02,  ..., -1.4974e-02,\n",
      "         -1.0428e-02,  5.0834e-03],\n",
      "        [ 2.4099e-02,  1.5755e-02, -2.4554e-03,  ...,  1.3942e-02,\n",
      "          1.9853e-02,  3.8951e-04],\n",
      "        [-1.4537e-02,  4.8671e-05, -2.8397e-02,  ..., -2.7575e-02,\n",
      "          2.7972e-02, -3.0830e-03]])\n",
      "Parameter containing:\n",
      "tensor(1.00000e-02 *\n",
      "       [-1.2062,  0.6778, -2.7030,  2.1894,  3.2805,  0.1674,  2.2558,\n",
      "        -3.3875, -0.0199,  0.8457,  0.7203,  3.1340, -1.5482,  0.5261,\n",
      "        -0.9566,  2.6207,  1.7910,  0.0781, -1.0227,  3.5251, -3.1963,\n",
      "        -3.3516, -1.0915, -2.0990,  1.0311, -0.2909,  1.1616,  2.8494,\n",
      "         2.9342,  0.0331,  3.4854, -1.7683, -0.5961,  0.9415, -1.9590,\n",
      "        -2.8508, -1.1439, -2.9645,  2.5810,  1.8154, -2.5419,  0.5440,\n",
      "        -1.7467, -2.2657,  0.3925, -2.9212, -1.8290, -0.2452,  3.1079,\n",
      "         2.7752, -0.5047, -2.9159, -1.4971, -1.9054,  2.6701,  0.9550,\n",
      "         1.1775,  2.8283, -0.7118, -1.6632, -2.6428,  0.6159, -1.4408,\n",
      "         2.9742,  2.1704,  3.0822, -2.3053,  1.9258, -3.5380,  2.8593,\n",
      "         0.4678, -2.9389, -1.0661, -1.9638, -1.0807,  0.1749,  0.1727,\n",
      "        -1.2812, -0.9242,  1.0676,  1.0014, -1.3358, -0.1149, -2.3454,\n",
      "         0.8724, -0.1360,  0.6507, -0.2899, -2.0164,  2.3200, -3.4474,\n",
      "        -2.5755, -2.2363, -0.0636, -2.5059,  0.0397, -1.8148,  0.7686,\n",
      "         0.7665,  1.3207,  0.6180, -0.8940, -1.1961,  2.6230,  2.1826,\n",
      "        -1.0787, -0.1371,  0.8686, -1.8070, -3.3380, -2.0977,  0.8360,\n",
      "        -1.2250,  0.9561, -3.5289, -2.7285,  0.2054,  1.4353, -1.1563,\n",
      "        -3.5693,  1.1662,  0.9263, -1.1070, -3.3064,  2.4057, -1.1266,\n",
      "        -1.2280, -2.3475])\n"
     ]
    }
   ],
   "source": [
    "print(model.fc1.weight)\n",
    "print(model.fc1.bias)"
   ]
  },
  {
   "cell_type": "markdown",
   "metadata": {},
   "source": [
    "For custom initialization, we want to modify these tensors in place. These are actually autograd *Variables*, so we need to get back the actual tensors with `model.fc1.weight.data`. Once we have the tensors, we can fill them with zeros (for biases) or random normal values."
   ]
  },
  {
   "cell_type": "code",
   "execution_count": 47,
   "metadata": {},
   "outputs": [
    {
     "data": {
      "text/plain": [
       "tensor([ 0.,  0.,  0.,  0.,  0.,  0.,  0.,  0.,  0.,  0.,  0.,  0.,\n",
       "         0.,  0.,  0.,  0.,  0.,  0.,  0.,  0.,  0.,  0.,  0.,  0.,\n",
       "         0.,  0.,  0.,  0.,  0.,  0.,  0.,  0.,  0.,  0.,  0.,  0.,\n",
       "         0.,  0.,  0.,  0.,  0.,  0.,  0.,  0.,  0.,  0.,  0.,  0.,\n",
       "         0.,  0.,  0.,  0.,  0.,  0.,  0.,  0.,  0.,  0.,  0.,  0.,\n",
       "         0.,  0.,  0.,  0.,  0.,  0.,  0.,  0.,  0.,  0.,  0.,  0.,\n",
       "         0.,  0.,  0.,  0.,  0.,  0.,  0.,  0.,  0.,  0.,  0.,  0.,\n",
       "         0.,  0.,  0.,  0.,  0.,  0.,  0.,  0.,  0.,  0.,  0.,  0.,\n",
       "         0.,  0.,  0.,  0.,  0.,  0.,  0.,  0.,  0.,  0.,  0.,  0.,\n",
       "         0.,  0.,  0.,  0.,  0.,  0.,  0.,  0.,  0.,  0.,  0.,  0.,\n",
       "         0.,  0.,  0.,  0.,  0.,  0.,  0.,  0.])"
      ]
     },
     "execution_count": 47,
     "metadata": {},
     "output_type": "execute_result"
    }
   ],
   "source": [
    "# Set biases to all zeros\n",
    "model.fc1.bias.data.fill_(0)"
   ]
  },
  {
   "cell_type": "code",
   "execution_count": 48,
   "metadata": {},
   "outputs": [
    {
     "data": {
      "text/plain": [
       "tensor([[-6.1764e-03,  1.1498e-04,  3.4438e-03,  ...,  1.4017e-02,\n",
       "         -1.5545e-03,  6.0785e-03],\n",
       "        [-3.4157e-03, -4.4179e-03, -9.0983e-03,  ..., -3.8068e-03,\n",
       "         -5.1982e-05, -9.4178e-04],\n",
       "        [ 1.1758e-02,  5.3898e-04, -5.4352e-03,  ..., -2.9122e-03,\n",
       "          1.5243e-02, -1.4715e-03],\n",
       "        ...,\n",
       "        [ 5.6016e-03, -1.4596e-03, -8.6563e-03,  ..., -7.0651e-03,\n",
       "          1.9903e-03, -4.3511e-03],\n",
       "        [ 8.5612e-03,  4.7399e-03, -9.9467e-03,  ...,  2.1774e-03,\n",
       "          1.9385e-02, -9.6649e-04],\n",
       "        [ 4.6807e-03, -1.6398e-02,  4.5868e-03,  ..., -5.6469e-03,\n",
       "          1.3144e-02,  5.0085e-03]])"
      ]
     },
     "execution_count": 48,
     "metadata": {},
     "output_type": "execute_result"
    }
   ],
   "source": [
    "# sample from random normal with standard dev = 0.01\n",
    "model.fc1.weight.data.normal_(std=0.01)"
   ]
  },
  {
   "cell_type": "markdown",
   "metadata": {},
   "source": [
    "### Forward pass\n",
    "\n",
    "Now that we have a network, let's see what happens when we pass in an image."
   ]
  },
  {
   "cell_type": "code",
   "execution_count": 49,
   "metadata": {},
   "outputs": [
    {
     "data": {
      "image/png": "[encoded data removed]",
      "text/plain": [
       "<matplotlib.figure.Figure at 0x7f794cd8f3c8>"
      ]
     },
     "metadata": {
      "image/png": {
       "height": 224,
       "width": 423
      },
      "needs_background": "light"
     },
     "output_type": "display_data"
    }
   ],
   "source": [
    "# Grab some data \n",
    "dataiter = iter(trainloader)\n",
    "images, labels = dataiter.next()\n",
    "\n",
    "# Resize images into a 1D vector, new shape is (batch size, color channels, image pixels) \n",
    "images.resize_(64, 1, 784)\n",
    "# or images.resize_(images.shape[0], 1, 784) to automatically get batch size\n",
    "\n",
    "# Forward pass through the network\n",
    "img_idx = 0\n",
    "ps = model.forward(images[img_idx,:])\n",
    "\n",
    "img = images[img_idx]\n",
    "helper.view_classify(img.view(1, 28, 28), ps)"
   ]
  },
  {
   "cell_type": "markdown",
   "metadata": {},
   "source": [
    "As you can see above, our network has basically no idea what this digit is. It's because we haven't trained it yet, all the weights are random!\n",
    "\n",
    "### Using `nn.Sequential`\n",
    "\n",
    "PyTorch provides a convenient way to build networks like this where a tensor is passed sequentially through operations, `nn.Sequential` ([documentation](https://pytorch.org/docs/master/nn.html#torch.nn.Sequential)). Using this to build the equivalent network:"
   ]
  },
  {
   "cell_type": "code",
   "execution_count": 50,
   "metadata": {},
   "outputs": [
    {
     "name": "stdout",
     "output_type": "stream",
     "text": [
      "Sequential(\n",
      "  (0): Linear(in_features=784, out_features=128, bias=True)\n",
      "  (1): ReLU()\n",
      "  (2): Linear(in_features=128, out_features=64, bias=True)\n",
      "  (3): ReLU()\n",
      "  (4): Linear(in_features=64, out_features=10, bias=True)\n",
      "  (5): Softmax()\n",
      ")\n"
     ]
    },
    {
     "data": {
      "image/png": "[encoded data removed]",
      "text/plain": [
       "<matplotlib.figure.Figure at 0x7f795295e048>"
      ]
     },
     "metadata": {
      "image/png": {
       "height": 224,
       "width": 423
      },
      "needs_background": "light"
     },
     "output_type": "display_data"
    }
   ],
   "source": [
    "# Hyperparameters for our network\n",
    "input_size = 784\n",
    "hidden_sizes = [128, 64]\n",
    "output_size = 10\n",
    "\n",
    "# Build a feed-forward network\n",
    "model = nn.Sequential(nn.Linear(input_size, hidden_sizes[0]),\n",
    "                      nn.ReLU(),\n",
    "                      nn.Linear(hidden_sizes[0], hidden_sizes[1]),\n",
    "                      nn.ReLU(),\n",
    "                      nn.Linear(hidden_sizes[1], output_size),\n",
    "                      nn.Softmax(dim=1))\n",
    "print(model)\n",
    "\n",
    "# Forward pass through the network and display output\n",
    "images, labels = next(iter(trainloader))\n",
    "images.resize_(images.shape[0], 1, 784)\n",
    "ps = model.forward(images[0,:])\n",
    "helper.view_classify(images[0].view(1, 28, 28), ps)"
   ]
  },
  {
   "cell_type": "markdown",
   "metadata": {},
   "source": [
    "Here our model is the same as before: 784 input units, a hidden layer with 128 units, ReLU activation, 64 unit hidden layer, another ReLU, then the output layer with 10 units, and the softmax output.\n",
    "\n",
    "The operations are availble by passing in the appropriate index. For example, if you want to get first Linear operation and look at the weights, you'd use `model[0]`."
   ]
  },
  {
   "cell_type": "code",
   "execution_count": 51,
   "metadata": {},
   "outputs": [
    {
     "name": "stdout",
     "output_type": "stream",
     "text": [
      "Linear(in_features=784, out_features=128, bias=True)\n"
     ]
    },
    {
     "data": {
      "text/plain": [
       "Parameter containing:\n",
       "tensor([[-1.8680e-03, -1.0037e-02,  1.1150e-02,  ...,  1.5448e-02,\n",
       "          9.2869e-03, -2.3564e-02],\n",
       "        [-3.0719e-02, -9.4685e-03, -6.5053e-03,  ...,  2.2476e-02,\n",
       "          3.2103e-02,  3.5537e-02],\n",
       "        [ 2.6926e-02, -8.7067e-03, -5.5629e-03,  ...,  9.7052e-03,\n",
       "          2.1201e-02,  3.0967e-02],\n",
       "        ...,\n",
       "        [ 6.1777e-03,  1.0248e-02, -3.4339e-02,  ..., -1.7368e-02,\n",
       "         -1.0340e-02, -2.7543e-02],\n",
       "        [-2.4094e-03, -1.0451e-02, -6.4637e-03,  ..., -2.1230e-02,\n",
       "         -8.9517e-03,  2.7158e-02],\n",
       "        [ 2.1056e-02, -3.4643e-02,  2.0395e-02,  ...,  1.3797e-02,\n",
       "          8.2505e-03,  1.2757e-02]])"
      ]
     },
     "execution_count": 51,
     "metadata": {},
     "output_type": "execute_result"
    }
   ],
   "source": [
    "print(model[0])\n",
    "model[0].weight"
   ]
  },
  {
   "cell_type": "markdown",
   "metadata": {},
   "source": [
    "You can also pass in an `OrderedDict` to name the individual layers and operations, instead of using incremental integers. Note that dictionary keys must be unique, so _each operation must have a different name_."
   ]
  },
  {
   "cell_type": "code",
   "execution_count": 52,
   "metadata": {},
   "outputs": [
    {
     "data": {
      "text/plain": [
       "Sequential(\n",
       "  (fc1): Linear(in_features=784, out_features=128, bias=True)\n",
       "  (relu1): ReLU()\n",
       "  (fc2): Linear(in_features=128, out_features=64, bias=True)\n",
       "  (relu2): ReLU()\n",
       "  (output): Linear(in_features=64, out_features=10, bias=True)\n",
       "  (softmax): Softmax()\n",
       ")"
      ]
     },
     "execution_count": 52,
     "metadata": {},
     "output_type": "execute_result"
    }
   ],
   "source": [
    "from collections import OrderedDict\n",
    "model = nn.Sequential(OrderedDict([\n",
    "                      ('fc1', nn.Linear(input_size, hidden_sizes[0])),\n",
    "                      ('relu1', nn.ReLU()),\n",
    "                      ('fc2', nn.Linear(hidden_sizes[0], hidden_sizes[1])),\n",
    "                      ('relu2', nn.ReLU()),\n",
    "                      ('output', nn.Linear(hidden_sizes[1], output_size)),\n",
    "                      ('softmax', nn.Softmax(dim=1))]))\n",
    "model"
   ]
  },
  {
   "cell_type": "markdown",
   "metadata": {},
   "source": [
    "Now you can access layers either by integer or the name"
   ]
  },
  {
   "cell_type": "code",
   "execution_count": 53,
   "metadata": {},
   "outputs": [
    {
     "name": "stdout",
     "output_type": "stream",
     "text": [
      "Linear(in_features=784, out_features=128, bias=True)\n",
      "Linear(in_features=784, out_features=128, bias=True)\n"
     ]
    }
   ],
   "source": [
    "print(model[0])\n",
    "print(model.fc1)"
   ]
  },
  {
   "cell_type": "markdown",
   "metadata": {},
   "source": [
    "In the next notebook, we'll see how we can train a neural network to accuractly predict the numbers appearing in the MNIST images."
   ]
  }
 ],
 "metadata": {
  "kernelspec": {
   "display_name": "Python 3",
   "language": "python",
   "name": "python3"
  },
  "language_info": {
   "codemirror_mode": {
    "name": "ipython",
    "version": 3
   },
   "file_extension": ".py",
   "mimetype": "text/x-python",
   "name": "python",
   "nbconvert_exporter": "python",
   "pygments_lexer": "ipython3",
   "version": "3.6.3"
  }
 },
 "nbformat": 4,
 "nbformat_minor": 2
}

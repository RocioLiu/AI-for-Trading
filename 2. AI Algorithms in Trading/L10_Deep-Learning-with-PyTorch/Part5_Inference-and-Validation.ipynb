{
 "cells": [
  {
   "cell_type": "markdown",
   "metadata": {},
   "source": [
    "# Inference and Validation\n",
    "\n",
    "Now that you have a trained network, you can use it for making predictions. This is typically called **inference**, a term borrowed from statistics. However, neural networks have a tendency to perform *too well* on the training data and aren't able to generalize to data that hasn't been seen before. This is called **overfitting** and it impairs inference performance. To test for overfitting while training, we measure the performance on data not in the training set called the **validation** set. We avoid overfitting through regularization such as dropout while monitoring the validation performance during training. In this notebook, I'll show you how to do this in PyTorch. \n",
    "\n",
    "As usual, let's start by loading the dataset through torchvision. You'll learn more about torchvision and loading data in a later part. This time we'll be taking advantage of the test set which you can get by setting `train=False` here:\n",
    "\n",
    "```python\n",
    "testset = datasets.FashionMNIST('~/.pytorch/F_MNIST_data/', download=True, train=False, transform=transform)\n",
    "```\n",
    "\n",
    "The test set contains images just like the training set. Typically you'll see 10-20% of the original dataset held out for testing and validation with the rest being used for training."
   ]
  },
  {
   "cell_type": "code",
   "execution_count": 1,
   "metadata": {},
   "outputs": [
    {
     "name": "stdout",
     "output_type": "stream",
     "text": [
      "Downloading http://fashion-mnist.s3-website.eu-central-1.amazonaws.com/train-images-idx3-ubyte.gz\n",
      "Downloading http://fashion-mnist.s3-website.eu-central-1.amazonaws.com/train-labels-idx1-ubyte.gz\n",
      "Downloading http://fashion-mnist.s3-website.eu-central-1.amazonaws.com/t10k-images-idx3-ubyte.gz\n",
      "Downloading http://fashion-mnist.s3-website.eu-central-1.amazonaws.com/t10k-labels-idx1-ubyte.gz\n",
      "Processing...\n",
      "Done!\n"
     ]
    }
   ],
   "source": [
    "import torch\n",
    "from torchvision import datasets, transforms\n",
    "\n",
    "# Define a transform to normalize the data\n",
    "transform = transforms.Compose([transforms.ToTensor(),\n",
    "                                transforms.Normalize((0.5, 0.5, 0.5), (0.5, 0.5, 0.5))])\n",
    "# Download and load the training data\n",
    "trainset = datasets.FashionMNIST('~/.pytorch/F_MNIST_data/', download=True, train=True, transform=transform)\n",
    "trainloader = torch.utils.data.DataLoader(trainset, batch_size=64, shuffle=True)\n",
    "\n",
    "# Download and load the test data\n",
    "testset = datasets.FashionMNIST('~/.pytorch/F_MNIST_data/', download=True, train=False, transform=transform)\n",
    "testloader = torch.utils.data.DataLoader(testset, batch_size=64, shuffle=True)"
   ]
  },
  {
   "cell_type": "markdown",
   "metadata": {},
   "source": [
    "Here I'll create a model like normal, using the same one from my solution for part 4."
   ]
  },
  {
   "cell_type": "code",
   "execution_count": 36,
   "metadata": {},
   "outputs": [],
   "source": [
    "from torch import nn, optim\n",
    "import torch.nn.functional as F\n",
    "\n",
    "class Classifier(nn.Module):\n",
    "    def __init__(self):\n",
    "        super().__init__()\n",
    "        self.fc1 = nn.Linear(784, 256)\n",
    "        self.fc2 = nn.Linear(256, 128)\n",
    "        self.fc3 = nn.Linear(128, 64)\n",
    "        self.fc4 = nn.Linear(64, 10)\n",
    "        \n",
    "    def forward(self, x):\n",
    "        # make sure input tensor is flattened\n",
    "        x = x.view(x.shape[0], -1) # (64, 784)\n",
    "        x = F.relu(self.fc1(x)) # (64, 256)\n",
    "        x = F.relu(self.fc2(x)) # (64, 128)\n",
    "        x = F.relu(self.fc3(x)) # (64, 64)\n",
    "        x = F.log_softmax(self.fc4(x), dim=1) # (64, 10)\n",
    "        \n",
    "        return x"
   ]
  },
  {
   "cell_type": "markdown",
   "metadata": {},
   "source": [
    "The goal of validation is to measure the model's performance on data that isn't part of the training set. Performance here is up to the developer to define though. Typically this is just accuracy, the percentage of classes the network predicted correctly. Other options are [precision and recall](https://en.wikipedia.org/wiki/Precision_and_recall#Definition_(classification_context)) and top-5 error rate. We'll focus on accuracy here. First I'll do a forward pass with one batch from the test set."
   ]
  },
  {
   "cell_type": "code",
   "execution_count": 37,
   "metadata": {},
   "outputs": [
    {
     "name": "stdout",
     "output_type": "stream",
     "text": [
      "torch.Size([64, 10])\n"
     ]
    }
   ],
   "source": [
    "model = Classifier()\n",
    "\n",
    "images, labels = next(iter(testloader))\n",
    "# Get the class probabilities\n",
    "ps = torch.exp(model(images))\n",
    "# Make sure the shape is appropriate, we should get 10 class probabilities for 64 examples\n",
    "print(ps.shape)"
   ]
  },
  {
   "cell_type": "markdown",
   "metadata": {},
   "source": [
    "The shape of a batch of unreshaped images:"
   ]
  },
  {
   "cell_type": "code",
   "execution_count": 34,
   "metadata": {},
   "outputs": [
    {
     "name": "stdout",
     "output_type": "stream",
     "text": [
      "torch.Size([64, 1, 28, 28])\n"
     ]
    }
   ],
   "source": [
    "print(images.size())"
   ]
  },
  {
   "cell_type": "code",
   "execution_count": 9,
   "metadata": {},
   "outputs": [
    {
     "data": {
      "text/plain": [
       "Classifier(\n",
       "  (fc1): Linear(in_features=784, out_features=256, bias=True)\n",
       "  (fc2): Linear(in_features=256, out_features=128, bias=True)\n",
       "  (fc3): Linear(in_features=128, out_features=64, bias=True)\n",
       "  (fc4): Linear(in_features=64, out_features=10, bias=True)\n",
       ")"
      ]
     },
     "execution_count": 9,
     "metadata": {},
     "output_type": "execute_result"
    }
   ],
   "source": [
    "model"
   ]
  },
  {
   "cell_type": "markdown",
   "metadata": {},
   "source": [
    "Take a look of the parameters of each layer:"
   ]
  },
  {
   "cell_type": "code",
   "execution_count": 8,
   "metadata": {},
   "outputs": [
    {
     "name": "stdout",
     "output_type": "stream",
     "text": [
      "0 \n",
      " torch.Size([256, 784]) \n",
      " Parameter containing:\n",
      "tensor([[ 1.4709e-02, -1.1666e-02,  3.2079e-02,  ..., -8.0882e-03,\n",
      "          1.4734e-02,  3.2867e-02],\n",
      "        [ 1.8580e-02,  2.4153e-02,  1.0082e-02,  ..., -1.5964e-02,\n",
      "          1.5288e-02, -7.7276e-03],\n",
      "        [-7.1002e-03,  8.6094e-03,  2.9983e-03,  ...,  3.0049e-02,\n",
      "         -2.4632e-02,  1.7179e-02],\n",
      "        ...,\n",
      "        [-1.2600e-02, -2.6775e-03,  2.4635e-02,  ..., -8.3455e-03,\n",
      "          7.5986e-03,  4.2110e-03],\n",
      "        [-2.5563e-02, -1.3951e-02,  3.0855e-02,  ..., -3.0868e-02,\n",
      "          1.9345e-02,  3.5088e-02],\n",
      "        [-6.3169e-03, -3.1417e-02, -2.3384e-02,  ...,  5.3291e-03,\n",
      "         -1.3928e-02,  6.3105e-03]]) \n",
      "\n",
      "1 \n",
      " torch.Size([256]) \n",
      " Parameter containing:\n",
      "tensor(1.00000e-02 *\n",
      "       [ 0.0108, -1.7493,  2.3472,  1.6324, -0.2564, -1.8735,  0.4802,\n",
      "        -0.1453,  1.7531, -2.5695, -2.5055,  1.4499, -0.6852, -0.9034,\n",
      "         0.0021, -0.4620, -3.3150,  1.2362,  2.2954, -1.6935, -2.6013,\n",
      "         1.1862,  2.6937,  1.4613,  3.3420,  2.2697,  3.0185, -0.7537,\n",
      "         3.5456,  2.2057,  3.3268, -1.2832, -0.0211, -0.9445,  2.3756,\n",
      "        -1.9044, -1.9941,  3.2844,  3.4272, -2.9285, -0.0809,  0.1606,\n",
      "         2.9442, -3.4717, -1.1734, -1.5296,  1.7746, -0.2079, -0.7260,\n",
      "         2.7288,  2.8231, -1.7044, -2.2441,  1.4450,  0.1398, -3.5157,\n",
      "         1.0118, -1.6462, -0.5763,  0.8883,  2.8634,  2.4749, -0.6563,\n",
      "        -0.9425,  0.2192, -1.2837, -2.6767,  2.8202,  0.6453,  2.7250,\n",
      "         3.0243,  0.6564, -0.8974,  0.5306, -1.1919,  2.4298, -1.2607,\n",
      "        -1.1128,  3.3022, -2.1725, -1.3139,  1.0809,  0.5581,  3.2037,\n",
      "         1.8343, -2.9345, -0.5554, -1.3797, -1.4515,  2.7360, -3.1005,\n",
      "         1.4542,  2.6384,  2.5860,  3.4722,  1.6949,  0.8559, -2.9815,\n",
      "        -3.5620, -0.7405,  3.3478, -2.5568,  0.6417, -3.1258, -2.3573,\n",
      "        -1.9323, -0.1681, -2.1283, -1.8849,  3.4219,  1.6342,  2.8407,\n",
      "        -2.6511,  0.8683,  2.3418, -3.3031,  1.5967, -0.0565, -1.0947,\n",
      "         0.7380, -2.3873, -2.2180,  1.6852, -2.9489, -3.1983,  3.0085,\n",
      "        -0.1355,  2.8811,  0.7265,  1.9025, -3.3426,  0.4338, -0.9803,\n",
      "         3.4004, -2.3578,  2.0365,  1.8485,  2.8905, -2.3040, -0.1769,\n",
      "         2.7118,  3.2981,  3.4756,  3.4941,  2.8254, -0.4941, -2.2331,\n",
      "         1.5929, -1.8190,  2.3354,  1.9600,  2.5435,  3.1231, -0.8644,\n",
      "        -3.1847,  3.0422, -2.2950,  1.8709,  1.8941, -0.3869,  0.7320,\n",
      "         3.1917, -0.0475,  1.5308, -2.4405,  0.7751,  3.3266, -1.7470,\n",
      "         2.2726, -3.3081, -2.2642,  2.2641, -2.8210,  0.3975, -3.5353,\n",
      "         1.9413,  1.9030, -3.1448, -0.5312,  0.2872,  3.2799, -0.9482,\n",
      "        -0.0728, -3.4428, -1.9543, -1.2657, -2.4085, -1.7974,  2.2761,\n",
      "         2.5082,  1.6865, -1.0098, -0.0557, -1.0941,  1.2923, -1.4972,\n",
      "         0.0881, -2.2496,  3.0054,  0.3493, -1.0669, -3.1478, -2.2402,\n",
      "        -0.4526, -2.7727,  3.0155,  3.3103, -0.8894, -0.0751,  1.6911,\n",
      "        -1.6925, -1.2905, -1.4874,  0.3694, -1.4322,  2.5316, -1.3836,\n",
      "         3.1682, -2.6749, -0.5603, -3.0102,  3.2208, -1.8848,  2.4453,\n",
      "         2.5972,  0.0762, -0.3954,  0.6654, -0.4744,  1.4894, -1.5057,\n",
      "         2.3072,  2.0271, -3.3884, -3.0954, -0.1488, -0.9468,  1.0521,\n",
      "         2.4465,  3.1669,  2.8948,  2.5718,  1.5700, -1.4466, -3.2859,\n",
      "         2.3629,  3.0582, -3.0309, -1.6052,  2.0098,  0.7166,  0.2188,\n",
      "        -3.0930,  3.5703, -0.9094, -1.8537]) \n",
      "\n",
      "2 \n",
      " torch.Size([128, 256]) \n",
      " Parameter containing:\n",
      "tensor([[-3.0721e-02,  1.7235e-02, -4.6901e-02,  ..., -3.1507e-02,\n",
      "          4.4805e-02,  2.0923e-02],\n",
      "        [-2.9351e-02,  5.3325e-02,  5.3003e-02,  ...,  2.4953e-02,\n",
      "         -1.2503e-02, -1.4460e-03],\n",
      "        [-8.2477e-04, -7.2435e-04, -4.2256e-02,  ...,  3.9045e-02,\n",
      "          5.9808e-02,  1.1735e-02],\n",
      "        ...,\n",
      "        [ 2.1789e-02,  4.3683e-03,  1.8395e-02,  ...,  2.4397e-02,\n",
      "         -2.4751e-03, -2.0127e-02],\n",
      "        [ 4.5153e-02, -5.0187e-02, -3.1277e-02,  ..., -3.8239e-02,\n",
      "         -4.7039e-02,  6.1061e-02],\n",
      "        [-5.8438e-02,  2.9858e-02, -5.7111e-03,  ..., -2.4765e-02,\n",
      "         -3.3683e-02,  5.3999e-02]]) \n",
      "\n",
      "3 \n",
      " torch.Size([128]) \n",
      " Parameter containing:\n",
      "tensor(1.00000e-02 *\n",
      "       [ 5.8857, -3.6167,  1.1842,  5.8649,  4.0408,  1.9591, -3.8289,\n",
      "        -1.6524,  5.1330,  3.4903,  5.6754,  5.5874, -4.6808,  4.5045,\n",
      "        -3.8231,  1.4002,  4.3900, -2.8944,  3.0939, -4.9786, -3.6849,\n",
      "         0.5294, -2.3538, -5.6799,  2.9477,  4.1382, -0.1359, -2.2432,\n",
      "         1.6454,  0.4263,  0.1579, -4.4122,  4.4008, -4.6232,  5.2279,\n",
      "         0.7584,  3.2915,  2.2858,  2.0251, -3.1446,  1.3345,  3.0467,\n",
      "         3.7872, -5.7983, -1.0466, -3.7739,  3.9131,  5.1160,  2.8214,\n",
      "         5.0525, -4.4573,  0.8016,  3.0580,  2.2532,  5.9253,  0.5905,\n",
      "         1.6981, -1.9110, -3.6123, -0.9289,  1.5258, -1.2008,  0.1983,\n",
      "         5.7725,  1.0193,  4.2267, -2.3631,  1.7652,  2.6415,  5.4550,\n",
      "         6.0301,  2.5910,  1.5443,  1.7685,  5.9697,  4.0147, -3.6773,\n",
      "         4.2310, -1.5127,  4.9478, -6.1202,  6.1798, -4.1145, -3.8812,\n",
      "        -1.7611,  6.2202, -2.6143, -1.1465, -0.1235,  3.7574, -4.7777,\n",
      "        -5.4448, -2.4145,  4.6967, -4.4124, -1.4932,  2.8129, -0.9682,\n",
      "        -0.3097, -0.2694,  0.1621, -3.7684,  5.0531, -1.7395, -3.8966,\n",
      "         4.4768, -0.1209, -1.4647,  3.4808, -1.0139,  5.6464,  0.9457,\n",
      "         1.7422,  1.7088, -5.8273, -4.4718,  1.5718, -1.3144,  4.7265,\n",
      "         4.6494,  1.7477,  6.2374, -6.0303,  1.4429, -0.9428, -0.1364,\n",
      "        -0.5465, -3.3553]) \n",
      "\n",
      "4 \n",
      " torch.Size([64, 128]) \n",
      " Parameter containing:\n",
      "tensor(1.00000e-02 *\n",
      "       [[-5.0311, -3.9834,  0.8814,  ...,  2.0162,  3.8386, -5.4722],\n",
      "        [-0.0741,  6.9453, -1.0134,  ..., -3.9648,  6.6259, -5.4720],\n",
      "        [ 4.1874,  2.7101, -0.8781,  ...,  7.6182, -0.7333,  3.5939],\n",
      "        ...,\n",
      "        [ 4.8231,  6.4594,  4.3152,  ...,  4.8103,  5.5822,  1.8856],\n",
      "        [ 1.1173, -2.9298,  5.3450,  ...,  7.6074,  4.7700, -0.4600],\n",
      "        [-3.9142,  4.7965,  1.4887,  ..., -6.5061, -6.1156, -1.1485]]) \n",
      "\n",
      "5 \n",
      " torch.Size([64]) \n",
      " Parameter containing:\n",
      "tensor(1.00000e-02 *\n",
      "       [ 3.6280, -5.1832,  7.1515,  5.1431,  5.9786, -4.6852, -4.2025,\n",
      "         6.2005,  2.5739, -7.1319,  5.4291, -6.6377, -5.9258, -8.7448,\n",
      "         2.6953, -8.1374, -8.6346, -6.4625,  6.2221,  8.4190,  7.3722,\n",
      "        -0.2584,  4.8135,  5.8542,  0.4359, -1.2819,  5.0694,  4.4358,\n",
      "        -3.6594,  4.4506, -2.3612,  7.7006, -0.7435, -4.0368, -1.6235,\n",
      "         6.5184,  3.5620,  5.5635, -2.8935, -2.3934,  8.5354,  4.7115,\n",
      "        -4.1552, -7.3743,  2.2998, -5.3799, -1.2807, -0.4727, -2.0076,\n",
      "         8.2325,  1.5827, -7.3113,  8.7334, -8.7645,  0.4011,  6.2564,\n",
      "        -5.1370, -7.0798,  5.6679, -3.2615,  8.4423,  4.9918,  0.9727,\n",
      "        -2.1363]) \n",
      "\n",
      "6 \n",
      " torch.Size([10, 64]) \n",
      " Parameter containing:\n",
      "tensor([[-0.0979, -0.0772,  0.0104,  0.0952, -0.0396,  0.0872, -0.0261,\n",
      "         -0.0953, -0.0793, -0.0289, -0.0728,  0.0725,  0.0924,  0.1104,\n",
      "          0.0993,  0.1211,  0.0428, -0.1057, -0.0150, -0.0570, -0.0699,\n",
      "         -0.0977,  0.1139,  0.0948,  0.0819,  0.0446, -0.0380,  0.0115,\n",
      "         -0.1190, -0.0141, -0.1014,  0.0103, -0.0697,  0.0958, -0.1076,\n",
      "          0.0371, -0.0271, -0.0780,  0.0757, -0.0096, -0.1188, -0.0261,\n",
      "          0.0457,  0.0512, -0.0517, -0.0715,  0.0613, -0.0473, -0.0032,\n",
      "          0.0044, -0.0603,  0.0224, -0.1224,  0.0554, -0.1160,  0.0058,\n",
      "         -0.0297,  0.0224, -0.0059,  0.0871,  0.0060,  0.0857, -0.1032,\n",
      "          0.0354],\n",
      "        [-0.0022,  0.0850, -0.1037, -0.0941, -0.0400, -0.0783, -0.0838,\n",
      "         -0.0374, -0.1030, -0.0204,  0.1099,  0.0407, -0.0337,  0.1100,\n",
      "          0.0549, -0.0168,  0.0475, -0.0008, -0.0568,  0.0294,  0.0995,\n",
      "         -0.0358,  0.0022,  0.0724,  0.0301,  0.0962,  0.0768, -0.0168,\n",
      "          0.0963, -0.0673, -0.1147, -0.0154,  0.0230,  0.0001,  0.0466,\n",
      "          0.0034,  0.1159, -0.0195,  0.0728,  0.0873,  0.0323,  0.0232,\n",
      "         -0.0364, -0.0735, -0.0446, -0.0044, -0.1205,  0.0001, -0.1091,\n",
      "          0.0510,  0.0838, -0.0164,  0.0575,  0.0452,  0.0825,  0.0306,\n",
      "         -0.0672,  0.0146,  0.0093,  0.0385, -0.0042, -0.0378, -0.0832,\n",
      "         -0.0959],\n",
      "        [ 0.0349, -0.1190, -0.1187,  0.0303,  0.0401,  0.0232, -0.1026,\n",
      "         -0.1096, -0.1141, -0.0694, -0.0132,  0.0431, -0.0180,  0.1076,\n",
      "          0.0930, -0.0773, -0.0937,  0.0638,  0.1168, -0.0048,  0.1111,\n",
      "          0.0470,  0.1110,  0.0411,  0.0765, -0.0052,  0.1172,  0.1016,\n",
      "         -0.1153,  0.1246, -0.0930,  0.0040,  0.0722,  0.0482, -0.0873,\n",
      "         -0.0168,  0.0674,  0.0940,  0.0495, -0.0609, -0.0868,  0.0513,\n",
      "          0.0981, -0.1226,  0.1091, -0.0259,  0.0548,  0.1130, -0.0977,\n",
      "         -0.0809,  0.0687,  0.0735,  0.0939,  0.0860,  0.0885,  0.0931,\n",
      "         -0.0531,  0.0833, -0.0528, -0.0119, -0.1246,  0.1010,  0.0925,\n",
      "          0.0073],\n",
      "        [-0.0190, -0.0594,  0.0690,  0.1031, -0.0863, -0.1000, -0.0144,\n",
      "          0.0414,  0.1217,  0.0542,  0.0254,  0.1036, -0.0085,  0.0104,\n",
      "          0.0216, -0.0632,  0.0377, -0.0125, -0.0925, -0.1132,  0.0313,\n",
      "         -0.0885, -0.0142,  0.1169, -0.0947, -0.0374, -0.1048, -0.0784,\n",
      "          0.0288,  0.0124, -0.0435, -0.0448,  0.0241, -0.1164, -0.0009,\n",
      "          0.0992,  0.0746, -0.1098, -0.0970,  0.0701,  0.1112, -0.0924,\n",
      "         -0.0367, -0.0174,  0.0835, -0.1023,  0.0501,  0.0983,  0.0824,\n",
      "         -0.1018,  0.0289,  0.0285, -0.1202,  0.0062,  0.1168,  0.0373,\n",
      "         -0.0334,  0.0988, -0.0782, -0.0008, -0.0953, -0.0683,  0.0031,\n",
      "          0.0374],\n",
      "        [-0.0067, -0.1034,  0.0617, -0.1120,  0.1242,  0.0785, -0.0486,\n",
      "          0.0837, -0.0703, -0.0181,  0.0992,  0.0240,  0.0735, -0.0801,\n",
      "         -0.0988,  0.0044,  0.0311, -0.0164,  0.0888, -0.1071,  0.0949,\n",
      "          0.1231,  0.1183, -0.1123, -0.0768,  0.1209, -0.1090,  0.0853,\n",
      "          0.0472, -0.0525, -0.0219,  0.0106, -0.1236,  0.0109,  0.0164,\n",
      "         -0.1012, -0.0272,  0.0561,  0.1235,  0.0538,  0.0851, -0.0727,\n",
      "         -0.0250,  0.0479, -0.0192,  0.1041,  0.0807, -0.0212, -0.0717,\n",
      "         -0.0337, -0.0848,  0.0494,  0.0299, -0.0069,  0.0956,  0.0722,\n",
      "          0.0933, -0.0740,  0.0570,  0.0490,  0.0182, -0.0695, -0.0848,\n",
      "         -0.0751],\n",
      "        [ 0.1123, -0.0638,  0.0122,  0.0436, -0.0993, -0.0361,  0.0307,\n",
      "          0.0155,  0.0081, -0.0681,  0.0141,  0.0221, -0.0252,  0.0147,\n",
      "          0.0197,  0.1214, -0.1142,  0.0355, -0.0245, -0.1080,  0.0536,\n",
      "         -0.0406,  0.0951, -0.0442,  0.1233, -0.1121, -0.0778,  0.0079,\n",
      "          0.1103,  0.0401,  0.0503,  0.0984, -0.0672,  0.0819, -0.0529,\n",
      "          0.0683,  0.0929,  0.0309, -0.0474, -0.0619,  0.0436,  0.0290,\n",
      "         -0.0801, -0.0273,  0.0254,  0.0875,  0.0107,  0.0935,  0.0940,\n",
      "         -0.0527,  0.0657, -0.1122, -0.0012, -0.0769,  0.1003,  0.1226,\n",
      "          0.0992,  0.0537,  0.0222,  0.0742, -0.0777, -0.0644, -0.1164,\n",
      "         -0.0282],\n",
      "        [ 0.1248,  0.0872,  0.1200, -0.0986, -0.1250,  0.0423,  0.0003,\n",
      "          0.0198,  0.0205, -0.1237,  0.0097, -0.0990,  0.0499,  0.0241,\n",
      "          0.0921,  0.0308,  0.1166,  0.0659, -0.1021, -0.0252,  0.1128,\n",
      "          0.0522,  0.0893,  0.1101,  0.0702,  0.0511, -0.0334, -0.0370,\n",
      "          0.0889, -0.0642,  0.0503,  0.1077,  0.1209,  0.0431,  0.0485,\n",
      "          0.0131,  0.1198, -0.0489, -0.0009,  0.0500, -0.1017, -0.0977,\n",
      "          0.0205,  0.0350, -0.0239, -0.0487, -0.0252,  0.0540, -0.0727,\n",
      "          0.0172, -0.1106, -0.0383, -0.0773, -0.0732,  0.0560, -0.0992,\n",
      "         -0.0997,  0.0513,  0.0346, -0.1043, -0.0214, -0.0800,  0.0708,\n",
      "          0.0253],\n",
      "        [-0.0190, -0.0663,  0.1131, -0.1206,  0.1124,  0.0644,  0.0847,\n",
      "          0.0573, -0.0460, -0.1005,  0.0751,  0.1057,  0.0454,  0.0611,\n",
      "          0.1169,  0.1201, -0.0314,  0.0722,  0.1161, -0.0881,  0.0008,\n",
      "         -0.1154,  0.0427,  0.1196, -0.0829, -0.0013, -0.0833, -0.0081,\n",
      "         -0.0010, -0.0926, -0.0345,  0.0383,  0.0788, -0.0141,  0.1015,\n",
      "         -0.0607,  0.0988,  0.1243, -0.0006,  0.0887, -0.1017,  0.0181,\n",
      "         -0.0248, -0.0012,  0.0944, -0.1084,  0.1178,  0.1065, -0.0489,\n",
      "          0.1123, -0.0778, -0.1175, -0.0493,  0.0983,  0.0523,  0.0188,\n",
      "         -0.0676,  0.1109,  0.0577,  0.1171, -0.1115, -0.0765,  0.0706,\n",
      "          0.0877],\n",
      "        [-0.0322,  0.0058,  0.0595, -0.1036, -0.0484,  0.0957, -0.1030,\n",
      "          0.0066,  0.0886,  0.1119,  0.0313,  0.0233, -0.0839, -0.0521,\n",
      "         -0.0880,  0.1124,  0.0421, -0.1135, -0.0772,  0.1064,  0.0365,\n",
      "          0.0924,  0.0443,  0.0598,  0.0477,  0.1019, -0.0674, -0.0998,\n",
      "          0.0144, -0.0688,  0.0166,  0.0579,  0.0870,  0.0991,  0.1110,\n",
      "          0.0480, -0.0146,  0.0760,  0.0415, -0.0236, -0.0940, -0.1166,\n",
      "         -0.1022, -0.0247, -0.0340, -0.0893, -0.0300,  0.0274, -0.0659,\n",
      "         -0.0567, -0.0728, -0.0638,  0.0667, -0.1074,  0.0489, -0.0323,\n",
      "         -0.0008,  0.0203, -0.0521, -0.0578, -0.0953,  0.0291,  0.1205,\n",
      "          0.0160],\n",
      "        [ 0.0430,  0.0076, -0.0615, -0.0619,  0.1198,  0.0609,  0.0865,\n",
      "          0.0715,  0.1163,  0.0080,  0.0455, -0.0882, -0.0820,  0.1174,\n",
      "         -0.1000, -0.0159, -0.1231,  0.1120, -0.0899, -0.0848, -0.0481,\n",
      "         -0.0991,  0.0626,  0.0517, -0.0713, -0.0432, -0.0505, -0.1072,\n",
      "         -0.0975, -0.0901,  0.1235,  0.1002, -0.1215,  0.0511,  0.0458,\n",
      "          0.0234, -0.0346, -0.0724, -0.0931,  0.0785, -0.0915, -0.0164,\n",
      "         -0.0931,  0.0298,  0.0283, -0.0157, -0.1024,  0.0544, -0.0587,\n",
      "          0.1194, -0.0866, -0.0679,  0.0987, -0.0091, -0.0363, -0.1200,\n",
      "         -0.0409,  0.1030, -0.0837,  0.1128, -0.1158,  0.0475, -0.1096,\n",
      "         -0.0336]]) \n",
      "\n",
      "7 \n",
      " torch.Size([10]) \n",
      " Parameter containing:\n",
      "tensor([-0.0802,  0.0678, -0.0261,  0.0641,  0.1102,  0.0557,  0.0299,\n",
      "         0.1179, -0.0847,  0.0905]) \n",
      "\n"
     ]
    }
   ],
   "source": [
    "for i, parameter in enumerate(model.parameters()):\n",
    "    print(i, \"\\n\", parameter.size(), \"\\n\", parameter, \"\\n\")"
   ]
  },
  {
   "cell_type": "markdown",
   "metadata": {},
   "source": [
    "With the probabilities, we can get the most likely class using the `ps.topk` method. This returns the $k$ highest values. Since we just want the most likely class, we can use `ps.topk(1)`. This returns a tuple of the top-$k$ values and the top-$k$ indices. If the highest value is the fifth element, we'll get back 4 as the index."
   ]
  },
  {
   "cell_type": "code",
   "execution_count": 15,
   "metadata": {},
   "outputs": [
    {
     "name": "stdout",
     "output_type": "stream",
     "text": [
      "tensor([[ 7],\n",
      "        [ 7],\n",
      "        [ 7],\n",
      "        [ 7],\n",
      "        [ 7],\n",
      "        [ 7],\n",
      "        [ 7],\n",
      "        [ 7],\n",
      "        [ 7],\n",
      "        [ 4]])\n"
     ]
    }
   ],
   "source": [
    "top_p, top_class = ps.topk(1, dim=1)\n",
    "# Look at the most likely classes for the first 10 examples\n",
    "print(top_class[:10,:]) # top_class means the top k indeices, only print the first 10 examples"
   ]
  },
  {
   "cell_type": "code",
   "execution_count": 16,
   "metadata": {},
   "outputs": [
    {
     "name": "stdout",
     "output_type": "stream",
     "text": [
      "torch.Size([64, 1])\n"
     ]
    }
   ],
   "source": [
    "print(top_class.size())"
   ]
  },
  {
   "cell_type": "code",
   "execution_count": 18,
   "metadata": {},
   "outputs": [
    {
     "name": "stdout",
     "output_type": "stream",
     "text": [
      "tensor([[ 0.1209],\n",
      "        [ 0.1140],\n",
      "        [ 0.1110],\n",
      "        [ 0.1152],\n",
      "        [ 0.1166],\n",
      "        [ 0.1157],\n",
      "        [ 0.1148],\n",
      "        [ 0.1117],\n",
      "        [ 0.1134],\n",
      "        [ 0.1138]])\n"
     ]
    }
   ],
   "source": [
    "print(top_p[:10])"
   ]
  },
  {
   "cell_type": "code",
   "execution_count": 19,
   "metadata": {},
   "outputs": [
    {
     "data": {
      "text/plain": [
       "tensor([ 8,  5,  1,  9,  8,  4,  4,  0,  7,  1,  1,  3,  7,  5,\n",
       "         0,  1,  4,  3,  2,  8,  1,  1,  5,  7,  7,  8,  6,  3,\n",
       "         2,  7,  3,  6,  7,  7,  8,  8,  2,  0,  7,  6,  4,  9,\n",
       "         9,  8,  9,  4,  4,  2,  3,  8,  3,  8,  7,  0,  6,  6,\n",
       "         8,  5,  0,  0,  8,  4,  0,  3])"
      ]
     },
     "execution_count": 19,
     "metadata": {},
     "output_type": "execute_result"
    }
   ],
   "source": [
    "labels"
   ]
  },
  {
   "cell_type": "markdown",
   "metadata": {},
   "source": [
    "Now we can check if the predicted classes match the labels. This is simple to do by equating `top_class` and `labels`, but we have to be careful of the shapes. Here `top_class` is a 2D tensor with shape `(64, 1)` while `labels` is 1D with shape `(64)`. To get the equality to work out the way we want, `top_class` and `labels` must have the same shape.\n",
    "\n",
    "If we do\n",
    "\n",
    "```python\n",
    "equals = top_class == labels\n",
    "```\n",
    "\n",
    "`equals` will have shape `(64, 64)`, try it yourself. What it's doing is comparing the one element in each row of `top_class` with each element in `labels` which returns 64 True/False boolean values for each row."
   ]
  },
  {
   "cell_type": "code",
   "execution_count": 20,
   "metadata": {},
   "outputs": [
    {
     "name": "stdout",
     "output_type": "stream",
     "text": [
      "tensor([[ 0,  0,  0,  ...,  0,  0,  0],\n",
      "        [ 0,  0,  0,  ...,  0,  0,  0],\n",
      "        [ 0,  0,  0,  ...,  0,  0,  0],\n",
      "        ...,\n",
      "        [ 0,  0,  0,  ...,  0,  0,  0],\n",
      "        [ 0,  0,  0,  ...,  0,  0,  0],\n",
      "        [ 0,  0,  0,  ...,  0,  0,  0]], dtype=torch.uint8)\n",
      "\n",
      "Shape: torch.Size([64, 64])\n"
     ]
    }
   ],
   "source": [
    "print(top_class == labels)\n",
    "print(f'\\nShape: {(top_class == labels).shape}')"
   ]
  },
  {
   "cell_type": "code",
   "execution_count": 21,
   "metadata": {},
   "outputs": [],
   "source": [
    "equals = top_class == labels.view(*top_class.shape)"
   ]
  },
  {
   "cell_type": "code",
   "execution_count": 22,
   "metadata": {},
   "outputs": [
    {
     "data": {
      "text/plain": [
       "tensor([[ 0],\n",
       "        [ 0],\n",
       "        [ 0],\n",
       "        [ 0],\n",
       "        [ 0],\n",
       "        [ 0],\n",
       "        [ 0],\n",
       "        [ 0],\n",
       "        [ 1],\n",
       "        [ 0],\n",
       "        [ 0],\n",
       "        [ 0],\n",
       "        [ 1],\n",
       "        [ 0],\n",
       "        [ 0],\n",
       "        [ 0],\n",
       "        [ 0],\n",
       "        [ 0],\n",
       "        [ 0],\n",
       "        [ 0],\n",
       "        [ 0],\n",
       "        [ 0],\n",
       "        [ 0],\n",
       "        [ 1],\n",
       "        [ 1],\n",
       "        [ 0],\n",
       "        [ 0],\n",
       "        [ 0],\n",
       "        [ 0],\n",
       "        [ 1],\n",
       "        [ 0],\n",
       "        [ 0],\n",
       "        [ 1],\n",
       "        [ 1],\n",
       "        [ 0],\n",
       "        [ 0],\n",
       "        [ 0],\n",
       "        [ 0],\n",
       "        [ 1],\n",
       "        [ 0],\n",
       "        [ 0],\n",
       "        [ 0],\n",
       "        [ 0],\n",
       "        [ 0],\n",
       "        [ 0],\n",
       "        [ 0],\n",
       "        [ 0],\n",
       "        [ 0],\n",
       "        [ 0],\n",
       "        [ 0],\n",
       "        [ 0],\n",
       "        [ 0],\n",
       "        [ 1],\n",
       "        [ 0],\n",
       "        [ 0],\n",
       "        [ 0],\n",
       "        [ 0],\n",
       "        [ 0],\n",
       "        [ 0],\n",
       "        [ 0],\n",
       "        [ 0],\n",
       "        [ 0],\n",
       "        [ 0],\n",
       "        [ 0]], dtype=torch.uint8)"
      ]
     },
     "execution_count": 22,
     "metadata": {},
     "output_type": "execute_result"
    }
   ],
   "source": [
    "equals"
   ]
  },
  {
   "cell_type": "code",
   "execution_count": 23,
   "metadata": {},
   "outputs": [
    {
     "data": {
      "text/plain": [
       "torch.Tensor"
      ]
     },
     "execution_count": 23,
     "metadata": {},
     "output_type": "execute_result"
    }
   ],
   "source": [
    "type(equals)"
   ]
  },
  {
   "cell_type": "markdown",
   "metadata": {},
   "source": [
    "`torch.uint8` is the `torch.ByteTensor`.  \n",
    "Refer to: [TORCH.TENSOR](https://pytorch.org/docs/stable/tensors.html)"
   ]
  },
  {
   "cell_type": "code",
   "execution_count": 25,
   "metadata": {},
   "outputs": [
    {
     "data": {
      "text/plain": [
       "torch.uint8"
      ]
     },
     "execution_count": 25,
     "metadata": {},
     "output_type": "execute_result"
    }
   ],
   "source": [
    "equals.dtype"
   ]
  },
  {
   "cell_type": "markdown",
   "metadata": {},
   "source": [
    "Now we need to calculate the percentage of correct predictions. `equals` has binary values, either 0 or 1. This means that if we just sum up all the values and divide by the number of values, we get the percentage of correct predictions. This is the same operation as taking the mean, so we can get the accuracy with a call to `torch.mean`. If only it was that simple. If you try `torch.mean(equals)`, you'll get an error\n",
    "\n",
    "```\n",
    "RuntimeError: mean is not implemented for type torch.ByteTensor\n",
    "```\n",
    "\n",
    "This happens because `equals` has type `torch.ByteTensor` but `torch.mean` isn't implemented for tensors with that type. So we'll need to convert `equals` to a float tensor. Note that when we take `torch.mean` it returns a scalar tensor, to get the actual value as a float we'll need to do `accuracy.item()`."
   ]
  },
  {
   "cell_type": "code",
   "execution_count": 24,
   "metadata": {},
   "outputs": [
    {
     "ename": "RuntimeError",
     "evalue": "mean is not implemented for type torch.ByteTensor",
     "output_type": "error",
     "traceback": [
      "\u001b[0;31m---------------------------------------------------------------------------\u001b[0m",
      "\u001b[0;31mRuntimeError\u001b[0m                              Traceback (most recent call last)",
      "\u001b[0;32m<ipython-input-24-c9e0e8976e8b>\u001b[0m in \u001b[0;36m<module>\u001b[0;34m()\u001b[0m\n\u001b[0;32m----> 1\u001b[0;31m \u001b[0mtorch\u001b[0m\u001b[0;34m.\u001b[0m\u001b[0mmean\u001b[0m\u001b[0;34m(\u001b[0m\u001b[0mequals\u001b[0m\u001b[0;34m)\u001b[0m\u001b[0;34m\u001b[0m\u001b[0m\n\u001b[0m",
      "\u001b[0;31mRuntimeError\u001b[0m: mean is not implemented for type torch.ByteTensor"
     ]
    }
   ],
   "source": [
    "torch.mean(equals)"
   ]
  },
  {
   "cell_type": "code",
   "execution_count": 26,
   "metadata": {},
   "outputs": [
    {
     "name": "stdout",
     "output_type": "stream",
     "text": [
      "Accuracy: 14.0625%\n"
     ]
    }
   ],
   "source": [
    "accuracy = torch.mean(equals.type(torch.FloatTensor))\n",
    "print(f'Accuracy: {accuracy.item()*100}%')"
   ]
  },
  {
   "cell_type": "markdown",
   "metadata": {},
   "source": [
    "The network is untrained so it's making random guesses and we should see an accuracy around 10%. Now let's train our network and include our validation pass so we can measure how well the network is performing on the test set. Since we're not updating our parameters in the validation pass, we can speed up our code by turning off gradients using `torch.no_grad()`:\n",
    "\n",
    "```python\n",
    "# turn off gradients\n",
    "with torch.no_grad():\n",
    "    # validation pass here\n",
    "    for images, labels in testloader:\n",
    "        ...\n",
    "```\n",
    "\n",
    ">**Exercise:** Implement the validation loop below and print out the total accuracy after the loop. You can largely copy and paste the code from above, but I suggest typing it in because writing it out yourself is essential for building the skill. In general you'll always learn more by typing it rather than copy-pasting. You should be able to get an accuracy above 80%."
   ]
  },
  {
   "cell_type": "code",
   "execution_count": 44,
   "metadata": {},
   "outputs": [
    {
     "name": "stdout",
     "output_type": "stream",
     "text": [
      "Epoch: 1/30\n",
      "Training Loss: 0.519\n",
      "Test Loss: 0.415\n",
      "Test Accuracy: 0.847\n",
      "Epoch: 2/30\n",
      "Training Loss: 0.391\n",
      "Test Loss: 0.398\n",
      "Test Accuracy: 0.859\n",
      "Epoch: 3/30\n",
      "Training Loss: 0.356\n",
      "Test Loss: 0.391\n",
      "Test Accuracy: 0.861\n",
      "Epoch: 4/30\n",
      "Training Loss: 0.331\n",
      "Test Loss: 0.380\n",
      "Test Accuracy: 0.864\n",
      "Epoch: 5/30\n",
      "Training Loss: 0.314\n",
      "Test Loss: 0.389\n",
      "Test Accuracy: 0.861\n",
      "Epoch: 6/30\n",
      "Training Loss: 0.302\n",
      "Test Loss: 0.374\n",
      "Test Accuracy: 0.865\n",
      "Epoch: 7/30\n",
      "Training Loss: 0.290\n",
      "Test Loss: 0.357\n",
      "Test Accuracy: 0.878\n",
      "Epoch: 8/30\n",
      "Training Loss: 0.277\n",
      "Test Loss: 0.344\n",
      "Test Accuracy: 0.881\n",
      "Epoch: 9/30\n",
      "Training Loss: 0.276\n",
      "Test Loss: 0.363\n",
      "Test Accuracy: 0.868\n",
      "Epoch: 10/30\n",
      "Training Loss: 0.266\n",
      "Test Loss: 0.375\n",
      "Test Accuracy: 0.876\n",
      "Epoch: 11/30\n",
      "Training Loss: 0.257\n",
      "Test Loss: 0.349\n",
      "Test Accuracy: 0.881\n",
      "Epoch: 12/30\n",
      "Training Loss: 0.250\n",
      "Test Loss: 0.372\n",
      "Test Accuracy: 0.873\n",
      "Epoch: 13/30\n",
      "Training Loss: 0.244\n",
      "Test Loss: 0.395\n",
      "Test Accuracy: 0.876\n",
      "Epoch: 14/30\n",
      "Training Loss: 0.245\n",
      "Test Loss: 0.365\n",
      "Test Accuracy: 0.881\n",
      "Epoch: 15/30\n",
      "Training Loss: 0.237\n",
      "Test Loss: 0.393\n",
      "Test Accuracy: 0.878\n",
      "Epoch: 16/30\n",
      "Training Loss: 0.230\n",
      "Test Loss: 0.361\n",
      "Test Accuracy: 0.887\n",
      "Epoch: 17/30\n",
      "Training Loss: 0.228\n",
      "Test Loss: 0.386\n",
      "Test Accuracy: 0.877\n",
      "Epoch: 18/30\n",
      "Training Loss: 0.223\n",
      "Test Loss: 0.392\n",
      "Test Accuracy: 0.880\n",
      "Epoch: 19/30\n",
      "Training Loss: 0.214\n",
      "Test Loss: 0.390\n",
      "Test Accuracy: 0.881\n",
      "Epoch: 20/30\n",
      "Training Loss: 0.216\n",
      "Test Loss: 0.411\n",
      "Test Accuracy: 0.876\n",
      "Epoch: 21/30\n",
      "Training Loss: 0.207\n",
      "Test Loss: 0.376\n",
      "Test Accuracy: 0.887\n",
      "Epoch: 22/30\n",
      "Training Loss: 0.206\n",
      "Test Loss: 0.405\n",
      "Test Accuracy: 0.878\n",
      "Epoch: 23/30\n",
      "Training Loss: 0.204\n",
      "Test Loss: 0.403\n",
      "Test Accuracy: 0.881\n",
      "Epoch: 24/30\n",
      "Training Loss: 0.197\n",
      "Test Loss: 0.399\n",
      "Test Accuracy: 0.884\n",
      "Epoch: 25/30\n",
      "Training Loss: 0.195\n",
      "Test Loss: 0.399\n",
      "Test Accuracy: 0.883\n",
      "Epoch: 26/30\n",
      "Training Loss: 0.195\n",
      "Test Loss: 0.416\n",
      "Test Accuracy: 0.880\n",
      "Epoch: 27/30\n",
      "Training Loss: 0.192\n",
      "Test Loss: 0.432\n",
      "Test Accuracy: 0.875\n",
      "Epoch: 28/30\n",
      "Training Loss: 0.185\n",
      "Test Loss: 0.422\n",
      "Test Accuracy: 0.880\n",
      "Epoch: 29/30\n",
      "Training Loss: 0.187\n",
      "Test Loss: 0.435\n",
      "Test Accuracy: 0.871\n",
      "Epoch: 30/30\n",
      "Training Loss: 0.178\n",
      "Test Loss: 0.430\n",
      "Test Accuracy: 0.881\n"
     ]
    }
   ],
   "source": [
    "model = Classifier()\n",
    "criterion = nn.NLLLoss()\n",
    "optimizer = optim.Adam(model.parameters(), lr=0.003)\n",
    "\n",
    "epochs = 30\n",
    "steps = 0\n",
    "\n",
    "train_losses, test_losses = [], []\n",
    "for e in range(epochs):\n",
    "    running_loss = 0\n",
    "    for images, labels in trainloader:\n",
    "        \n",
    "        optimizer.zero_grad()\n",
    "        \n",
    "        log_ps = model(images)\n",
    "        loss = criterion(log_ps, labels)\n",
    "        loss.backward()\n",
    "        optimizer.step()\n",
    "        \n",
    "        running_loss += loss.item()\n",
    "        \n",
    "    else: # after above for loop completes, then run the \"else\" block\n",
    "        ## TODO: Implement the validation pass and print out the validation accuracy\n",
    "        test_loss = 0\n",
    "        accuracy = 0\n",
    "        # Turn off gradients for validation, saves memory and computations\n",
    "        with torch.no_grad():\n",
    "            for images, labels in testloader:\n",
    "                log_ps = model(images)\n",
    "                test_loss += criterion(log_ps, labels)\n",
    "                \n",
    "                ps = torch.exp(log_ps)\n",
    "                top_p, top_class = ps.topk(1, dim=1)\n",
    "                equals = top_class == labels.view(*top_class.shape)\n",
    "                accuracy += torch.mean(equals.type(torch.FloatTensor))\n",
    "                \n",
    "        train_losses.append(running_loss / len(trainloader))\n",
    "        test_losses.append(test_loss / len(testloader))\n",
    "        \n",
    "        print(f\"Epoch: {e+1}/{epochs}\")\n",
    "        print(f\"Training Loss: {(running_loss / len(trainloader)):<.3f}\")\n",
    "        print(f\"Test Loss: {(test_loss / len(testloader)):<.3f}\")\n",
    "        print(f\"Test Accuracy: {(accuracy/len(testloader)):<.3f}\")      "
   ]
  },
  {
   "cell_type": "code",
   "execution_count": 45,
   "metadata": {},
   "outputs": [],
   "source": [
    "%matplotlib inline\n",
    "# to solve the problem that the matplotlib doesn't show well in Retina monitor\n",
    "%config InlineBackend.figure_format = 'retina'\n",
    "\n",
    "import matplotlib.pyplot as plt"
   ]
  },
  {
   "cell_type": "code",
   "execution_count": 46,
   "metadata": {},
   "outputs": [
    {
     "data": {
      "text/plain": [
       "<matplotlib.legend.Legend at 0x7f6c54aab630>"
      ]
     },
     "execution_count": 46,
     "metadata": {},
     "output_type": "execute_result"
    },
    {
     "data": {
      "image/png": "[encoded data removed]",
      "text/plain": [
       "<matplotlib.figure.Figure at 0x7f6c54b366d8>"
      ]
     },
     "metadata": {
      "image/png": {
       "height": 250,
       "width": 380
      },
      "needs_background": "light"
     },
     "output_type": "display_data"
    }
   ],
   "source": [
    "plt.plot(train_losses, label='Training loss')\n",
    "plt.plot(test_losses, label='Validation loss')\n",
    "plt.legend(frameon=False)"
   ]
  },
  {
   "cell_type": "markdown",
   "metadata": {},
   "source": [
    "## Overfitting\n",
    "\n",
    "If we look at the training and validation losses as we train the network, we can see a phenomenon known as overfitting.\n",
    "\n",
    "<img src='assets/overfitting.png' width=450px>\n",
    "\n",
    "The network learns the training set better and better, resulting in lower training losses. However, it starts having problems generalizing to data outside the training set leading to the validation loss increasing. The ultimate goal of any deep learning model is to make predictions on new data, so we should strive to get the lowest validation loss possible. One option is to use the version of the model with the lowest validation loss, here the one around 8-10 training epochs. This strategy is called *early-stopping*. In practice, you'd save the model frequently as you're training then later choose the model with the lowest validation loss.\n",
    "\n",
    "The most common method to reduce overfitting (outside of early-stopping) is *dropout*, where we randomly drop input units. This forces the network to share information between weights, increasing it's ability to generalize to new data. Adding dropout in PyTorch is straightforward using the [`nn.Dropout`](https://pytorch.org/docs/stable/nn.html#torch.nn.Dropout) module.\n",
    "\n",
    "```python\n",
    "class Classifier(nn.Module):\n",
    "    def __init__(self):\n",
    "        super().__init__()\n",
    "        self.fc1 = nn.Linear(784, 256)\n",
    "        self.fc2 = nn.Linear(256, 128)\n",
    "        self.fc3 = nn.Linear(128, 64)\n",
    "        self.fc4 = nn.Linear(64, 10)\n",
    "        \n",
    "        # Dropout module with 0.2 drop probability\n",
    "        self.dropout = nn.Dropout(p=0.2)\n",
    "        \n",
    "    def forward(self, x):\n",
    "        # make sure input tensor is flattened\n",
    "        x = x.view(x.shape[0], -1)\n",
    "        \n",
    "        # Now with dropout\n",
    "        x = self.dropout(F.relu(self.fc1(x)))\n",
    "        x = self.dropout(F.relu(self.fc2(x)))\n",
    "        x = self.dropout(F.relu(self.fc3(x)))\n",
    "        \n",
    "        # output so no dropout here\n",
    "        x = F.log_softmax(self.fc4(x), dim=1)\n",
    "        \n",
    "        return x\n",
    "```\n",
    "\n",
    "During training we want to use dropout to prevent overfitting, but during inference we want to use the entire network. So, we need to turn off dropout during validation, testing, and whenever we're using the network to make predictions. To do this, you use `model.eval()`. This sets the model to evaluation mode where the dropout probability is 0. You can turn dropout back on by setting the model to train mode with `model.train()`. In general, the pattern for the validation loop will look like this, where you turn off gradients, set the model to evaluation mode, calculate the validation loss and metric, then set the model back to train mode.\n",
    "\n",
    "```python\n",
    "# turn off gradients\n",
    "with torch.no_grad():\n",
    "    \n",
    "    # set model to evaluation mode\n",
    "    model.eval()\n",
    "    \n",
    "    # validation pass here\n",
    "    for images, labels in testloader:\n",
    "        ...\n",
    "\n",
    "# set model back to train mode\n",
    "model.train()\n",
    "```"
   ]
  },
  {
   "cell_type": "markdown",
   "metadata": {},
   "source": [
    "> **Exercise:** Add dropout to your model and train it on Fashion-MNIST again. See if you can get a lower validation loss or higher accuracy."
   ]
  },
  {
   "cell_type": "code",
   "execution_count": 53,
   "metadata": {},
   "outputs": [],
   "source": [
    "## TODO: Define your model with dropout added\n",
    "class Classifier(nn.Module):\n",
    "    def __init__(self):\n",
    "        super().__init__()\n",
    "        self.fc1 = nn.Linear(784, 256)\n",
    "        self.fc2 = nn.Linear(256, 128)\n",
    "        self.fc3 = nn.Linear(128, 64)\n",
    "        self.fc4 = nn.Linear(64, 10)\n",
    "        \n",
    "        # Dropout module with 0.2 drop probability\n",
    "        self.dropout = nn.Dropout(p=0.2)\n",
    "        \n",
    "    def forward(self, x):\n",
    "        # make sure input tensor is flattened\n",
    "        x = x.view(x.shape[0], -1)\n",
    "        \n",
    "        # with dropout\n",
    "        x = self.dropout(F.relu(self.fc1(x)))\n",
    "        x = self.dropout(F.relu(self.fc2(x)))\n",
    "        x = self.dropout(F.relu(self.fc3(x)))\n",
    "        \n",
    "        # output so no dropout here\n",
    "        x = F.log_softmax(self.fc4(x), dim=1)\n",
    "        \n",
    "        return x"
   ]
  },
  {
   "cell_type": "code",
   "execution_count": 54,
   "metadata": {},
   "outputs": [
    {
     "name": "stdout",
     "output_type": "stream",
     "text": [
      "Epoch: 1/30\n",
      "Training Loss: 0.607\n",
      "Test Loss: 0.542\n",
      "Test Accuracy: 0.805\n",
      "Epoch: 2/30\n",
      "Training Loss: 0.487\n",
      "Test Loss: 0.428\n",
      "Test Accuracy: 0.847\n",
      "Epoch: 3/30\n",
      "Training Loss: 0.452\n",
      "Test Loss: 0.417\n",
      "Test Accuracy: 0.849\n",
      "Epoch: 4/30\n",
      "Training Loss: 0.433\n",
      "Test Loss: 0.427\n",
      "Test Accuracy: 0.845\n",
      "Epoch: 5/30\n",
      "Training Loss: 0.421\n",
      "Test Loss: 0.399\n",
      "Test Accuracy: 0.859\n",
      "Epoch: 6/30\n",
      "Training Loss: 0.409\n",
      "Test Loss: 0.403\n",
      "Test Accuracy: 0.852\n",
      "Epoch: 7/30\n",
      "Training Loss: 0.404\n",
      "Test Loss: 0.398\n",
      "Test Accuracy: 0.858\n",
      "Epoch: 8/30\n",
      "Training Loss: 0.403\n",
      "Test Loss: 0.394\n",
      "Test Accuracy: 0.862\n",
      "Epoch: 9/30\n",
      "Training Loss: 0.386\n",
      "Test Loss: 0.426\n",
      "Test Accuracy: 0.852\n",
      "Epoch: 10/30\n",
      "Training Loss: 0.391\n",
      "Test Loss: 0.406\n",
      "Test Accuracy: 0.860\n",
      "Epoch: 11/30\n",
      "Training Loss: 0.387\n",
      "Test Loss: 0.381\n",
      "Test Accuracy: 0.865\n",
      "Epoch: 12/30\n",
      "Training Loss: 0.377\n",
      "Test Loss: 0.380\n",
      "Test Accuracy: 0.867\n",
      "Epoch: 13/30\n",
      "Training Loss: 0.379\n",
      "Test Loss: 0.376\n",
      "Test Accuracy: 0.871\n",
      "Epoch: 14/30\n",
      "Training Loss: 0.377\n",
      "Test Loss: 0.384\n",
      "Test Accuracy: 0.866\n",
      "Epoch: 15/30\n",
      "Training Loss: 0.373\n",
      "Test Loss: 0.400\n",
      "Test Accuracy: 0.856\n",
      "Epoch: 16/30\n",
      "Training Loss: 0.366\n",
      "Test Loss: 0.359\n",
      "Test Accuracy: 0.875\n",
      "Epoch: 17/30\n",
      "Training Loss: 0.363\n",
      "Test Loss: 0.378\n",
      "Test Accuracy: 0.873\n",
      "Epoch: 18/30\n",
      "Training Loss: 0.368\n",
      "Test Loss: 0.397\n",
      "Test Accuracy: 0.873\n",
      "Epoch: 19/30\n",
      "Training Loss: 0.367\n",
      "Test Loss: 0.381\n",
      "Test Accuracy: 0.873\n",
      "Epoch: 20/30\n",
      "Training Loss: 0.353\n",
      "Test Loss: 0.444\n",
      "Test Accuracy: 0.859\n",
      "Epoch: 21/30\n",
      "Training Loss: 0.357\n",
      "Test Loss: 0.379\n",
      "Test Accuracy: 0.871\n",
      "Epoch: 22/30\n",
      "Training Loss: 0.354\n",
      "Test Loss: 0.389\n",
      "Test Accuracy: 0.869\n",
      "Epoch: 23/30\n",
      "Training Loss: 0.354\n",
      "Test Loss: 0.387\n",
      "Test Accuracy: 0.874\n",
      "Epoch: 24/30\n",
      "Training Loss: 0.352\n",
      "Test Loss: 0.379\n",
      "Test Accuracy: 0.871\n",
      "Epoch: 25/30\n",
      "Training Loss: 0.352\n",
      "Test Loss: 0.364\n",
      "Test Accuracy: 0.875\n",
      "Epoch: 26/30\n",
      "Training Loss: 0.354\n",
      "Test Loss: 0.370\n",
      "Test Accuracy: 0.871\n",
      "Epoch: 27/30\n",
      "Training Loss: 0.345\n",
      "Test Loss: 0.392\n",
      "Test Accuracy: 0.868\n",
      "Epoch: 28/30\n",
      "Training Loss: 0.350\n",
      "Test Loss: 0.379\n",
      "Test Accuracy: 0.874\n",
      "Epoch: 29/30\n",
      "Training Loss: 0.345\n",
      "Test Loss: 0.383\n",
      "Test Accuracy: 0.872\n",
      "Epoch: 30/30\n",
      "Training Loss: 0.348\n",
      "Test Loss: 0.386\n",
      "Test Accuracy: 0.875\n"
     ]
    }
   ],
   "source": [
    "## TODO: Train your model with dropout, and monitor the training progress with the validation loss and accuracy\n",
    "model = Classifier()\n",
    "criterion = nn.NLLLoss()\n",
    "optimizer = optim.Adam(model.parameters(), lr=0.003)\n",
    "\n",
    "epochs = 30\n",
    "steps = 0\n",
    "\n",
    "train_losses, test_losses = [], []\n",
    "for e in range(epochs):\n",
    "    running_loss = 0\n",
    "    for images, labels in trainloader:\n",
    "        \n",
    "        optimizer.zero_grad()\n",
    "        \n",
    "        log_ps = model(images)\n",
    "        loss = criterion(log_ps, labels)\n",
    "        loss.backward()\n",
    "        optimizer.step()\n",
    "        \n",
    "        running_loss += loss.item()\n",
    "        \n",
    "    else: # after above for loop completes, then run the \"else\" block\n",
    "        ## TODO: Implement the validation pass and print out the validation accuracy\n",
    "        test_loss = 0\n",
    "        accuracy = 0\n",
    "        # Turn off gradients for validation, saves memory and computations\n",
    "        with torch.no_grad():\n",
    "            model.eval()\n",
    "            for images, labels in testloader:\n",
    "                log_ps = model(images)\n",
    "                test_loss += criterion(log_ps, labels)\n",
    "                \n",
    "                ps = torch.exp(log_ps)\n",
    "                top_p, top_class = ps.topk(1, dim=1)\n",
    "                equals = top_class == labels.view(*top_class.shape)\n",
    "                accuracy += torch.mean(equals.type(torch.FloatTensor))\n",
    "                \n",
    "        # set model back to train mode\n",
    "        model.train()\n",
    "                \n",
    "        train_losses.append(running_loss / len(trainloader))\n",
    "        test_losses.append(test_loss / len(testloader))\n",
    "        \n",
    "        print(f\"Epoch: {e+1}/{epochs}\")\n",
    "        print(f\"Training Loss: {(running_loss / len(trainloader)):<.3f}\")\n",
    "        print(f\"Test Loss: {(test_loss / len(testloader)):<.3f}\")\n",
    "        print(f\"Test Accuracy: {(accuracy/len(testloader)):<.3f}\")      \n"
   ]
  },
  {
   "cell_type": "code",
   "execution_count": 55,
   "metadata": {},
   "outputs": [],
   "source": [
    "%matplotlib inline\n",
    "%config InlineBackend.figure_format = 'retina'\n",
    "\n",
    "import matplotlib.pyplot as plt"
   ]
  },
  {
   "cell_type": "code",
   "execution_count": 56,
   "metadata": {},
   "outputs": [
    {
     "data": {
      "text/plain": [
       "<matplotlib.legend.Legend at 0x7f6c5481aeb8>"
      ]
     },
     "execution_count": 56,
     "metadata": {},
     "output_type": "execute_result"
    },
    {
     "data": {
      "image/png": "[encoded data removed]",
      "text/plain": [
       "<matplotlib.figure.Figure at 0x7f6c5487a668>"
      ]
     },
     "metadata": {
      "image/png": {
       "height": 250,
       "width": 380
      },
      "needs_background": "light"
     },
     "output_type": "display_data"
    }
   ],
   "source": [
    "plt.plot(train_losses, label='Training loss')\n",
    "plt.plot(test_losses, label='Validation loss')\n",
    "plt.legend(frameon=False)"
   ]
  },
  {
   "cell_type": "markdown",
   "metadata": {},
   "source": [
    "## Inference\n",
    "\n",
    "Now that the model is trained, we can use it for inference. We've done this before, but now we need to remember to set the model in inference mode with `model.eval()`. You'll also want to turn off autograd with the `torch.no_grad()` context."
   ]
  },
  {
   "cell_type": "code",
   "execution_count": 57,
   "metadata": {},
   "outputs": [
    {
     "data": {
      "image/png": "[encoded data removed]",
      "text/plain": [
       "<matplotlib.figure.Figure at 0x7f6c54837f28>"
      ]
     },
     "metadata": {
      "image/png": {
       "height": 204,
       "width": 423
      },
      "needs_background": "light"
     },
     "output_type": "display_data"
    }
   ],
   "source": [
    "# Import helper module (should be in the repo)\n",
    "import helper\n",
    "\n",
    "# Test out your network!\n",
    "\n",
    "model.eval()\n",
    "\n",
    "dataiter = iter(testloader)\n",
    "images, labels = dataiter.next()\n",
    "img = images[0]\n",
    "# Convert 2D image to 1D vector\n",
    "img = img.view(1, 784)\n",
    "\n",
    "# Calculate the class probabilities (softmax) for img\n",
    "with torch.no_grad():\n",
    "    output = model.forward(img)\n",
    "\n",
    "ps = torch.exp(output)\n",
    "\n",
    "# Plot the image and probabilities\n",
    "helper.view_classify(img.view(1, 28, 28), ps, version='Fashion')"
   ]
  },
  {
   "cell_type": "markdown",
   "metadata": {},
   "source": [
    "## Next Up!\n",
    "\n",
    "In the next part, I'll show you how to save your trained models. In general, you won't want to train a model everytime you need it. Instead, you'll train once, save it, then load the model when you want to train more or use if for inference."
   ]
  }
 ],
 "metadata": {
  "kernelspec": {
   "display_name": "Python 3",
   "language": "python",
   "name": "python3"
  },
  "language_info": {
   "codemirror_mode": {
    "name": "ipython",
    "version": 3
   },
   "file_extension": ".py",
   "mimetype": "text/x-python",
   "name": "python",
   "nbconvert_exporter": "python",
   "pygments_lexer": "ipython3",
   "version": "3.6.3"
  }
 },
 "nbformat": 4,
 "nbformat_minor": 2
}

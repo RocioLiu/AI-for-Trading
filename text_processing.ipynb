{
  "nbformat": 4,
  "nbformat_minor": 0,
  "metadata": {
    "colab": {
      "name": "text_processing.ipynb",
      "provenance": [],
      "collapsed_sections": [],
      "toc_visible": true,
      "authorship_tag": "ABX9TyO1kacD37xH2zLF3ObXUdpv",
      "include_colab_link": true
    },
    "kernelspec": {
      "name": "python3",
      "display_name": "Python 3"
    },
    "language_info": {
      "name": "python"
    }
  },
  "cells": [
    {
      "cell_type": "markdown",
      "metadata": {
        "id": "view-in-github",
        "colab_type": "text"
      },
      "source": [
        "<a href=\"https://colab.research.google.com/github/RocioLiu/AI-for-Trading/blob/main/text_processing.ipynb\" target=\"_parent\"><img src=\"https://colab.research.google.com/assets/colab-badge.svg\" alt=\"Open In Colab\"/></a>"
      ]
    },
    {
      "cell_type": "markdown",
      "metadata": {
        "id": "ni0ZgUSojOHa"
      },
      "source": [
        "# **Text Processing**\n"
      ]
    },
    {
      "cell_type": "markdown",
      "metadata": {
        "id": "E-UQI1YCjV-f"
      },
      "source": [
        "## **Capturing Text Data**"
      ]
    },
    {
      "cell_type": "code",
      "metadata": {
        "colab": {
          "resources": {
            "http://localhost:8080/nbextensions/google.colab/files.js": {
              "data": "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",
              "ok": true,
              "headers": [
                [
                  "content-type",
                  "application/javascript"
                ]
              ],
              "status": 200,
              "status_text": ""
            }
          },
          "base_uri": "https://localhost:8080/",
          "height": 72
        },
        "id": "_0pVohOKjtt7",
        "outputId": "9a8cdc99-fbd9-4891-cc09-20d507d9cf1e"
      },
      "source": [
        "from google.colab import files\n",
        "uploaded = files.upload()"
      ],
      "execution_count": 2,
      "outputs": [
        {
          "output_type": "display_data",
          "data": {
            "text/html": [
              "\n",
              "     <input type=\"file\" id=\"files-27ce6c2d-93d7-40f9-9792-75cfbba78576\" name=\"files[]\" multiple disabled\n",
              "        style=\"border:none\" />\n",
              "     <output id=\"result-27ce6c2d-93d7-40f9-9792-75cfbba78576\">\n",
              "      Upload widget is only available when the cell has been executed in the\n",
              "      current browser session. Please rerun this cell to enable.\n",
              "      </output>\n",
              "      <script src=\"/nbextensions/google.colab/files.js\"></script> "
            ],
            "text/plain": [
              "<IPython.core.display.HTML object>"
            ]
          },
          "metadata": {
            "tags": []
          }
        },
        {
          "output_type": "stream",
          "text": [
            "Saving news.csv to news.csv\n"
          ],
          "name": "stdout"
        }
      ]
    },
    {
      "cell_type": "markdown",
      "metadata": {
        "id": "TmV28GGHjWGV"
      },
      "source": [
        "#### **Plain Text**"
      ]
    },
    {
      "cell_type": "code",
      "metadata": {
        "colab": {
          "base_uri": "https://localhost:8080/"
        },
        "id": "gFC8Ity3jCMm",
        "outputId": "c19452e6-1ab0-462b-83f3-b35c35839a34"
      },
      "source": [
        "import os\n",
        "\n",
        "# Read in a plain text file\n",
        "with open(\"hieroglyph.txt\", \"r\") as f:\n",
        "    text = f.read()\n",
        "    print(text)"
      ],
      "execution_count": 3,
      "outputs": [
        {
          "output_type": "stream",
          "text": [
            "Hieroglyphic writing dates from c. 3000 BC, and is composed of hundreds of symbols. A hieroglyph can represent a word, a sound, or a silent determinative; and the same symbol can serve different purposes in different contexts. Hieroglyphs were a formal script, used on stone monuments and in tombs, that could be as detailed as individual works of art. In day-to-day writing, scribes used a cursive form of writing, called hieratic, which was quicker and easier. While formal hieroglyphs may be read in rows or columns in either direction (though typically written from right to left), hieratic was always written from right to left, usually in horizontal rows. A new form of writing, Demotic, became the prevalent writing style, and it is this form of writing—along with formal hieroglyphs—that accompany the Greek text on the Rosetta Stone.[120]\n",
            "\n",
            "Around the first century AD, the Coptic alphabet started to be used alongside the Demotic script. Coptic is a modified Greek alphabet with the addition of some Demotic signs.[121] Although formal hieroglyphs were used in a ceremonial role until the fourth century, towards the end only a small handful of priests could still read them. As the traditional religious establishments were disbanded, knowledge of hieroglyphic writing was mostly lost. Attempts to decipher them date to the Byzantine[122] and Islamic periods in Egypt,[123] but only in the 1820s, after the discovery of the Rosetta Stone and years of research by Thomas Young and Jean-François Champollion, were hieroglyphs substantially deciphered.[124]\n"
          ],
          "name": "stdout"
        }
      ]
    },
    {
      "cell_type": "markdown",
      "metadata": {
        "id": "Kot4dtgJlWpc"
      },
      "source": [
        "#### **Tabular Data**"
      ]
    },
    {
      "cell_type": "code",
      "metadata": {
        "colab": {
          "base_uri": "https://localhost:8080/",
          "height": 205
        },
        "id": "Bepu1waujn54",
        "outputId": "c74652f5-57bf-4a6d-c5bf-7a867712db9d"
      },
      "source": [
        "import pandas as pd\n",
        "\n",
        "# Extract text column from a dataframe\n",
        "df = pd.read_csv(\"news.csv\")\n",
        "df.head()[['publisher', 'title']]"
      ],
      "execution_count": 4,
      "outputs": [
        {
          "output_type": "execute_result",
          "data": {
            "text/html": [
              "<div>\n",
              "<style scoped>\n",
              "    .dataframe tbody tr th:only-of-type {\n",
              "        vertical-align: middle;\n",
              "    }\n",
              "\n",
              "    .dataframe tbody tr th {\n",
              "        vertical-align: top;\n",
              "    }\n",
              "\n",
              "    .dataframe thead th {\n",
              "        text-align: right;\n",
              "    }\n",
              "</style>\n",
              "<table border=\"1\" class=\"dataframe\">\n",
              "  <thead>\n",
              "    <tr style=\"text-align: right;\">\n",
              "      <th></th>\n",
              "      <th>publisher</th>\n",
              "      <th>title</th>\n",
              "    </tr>\n",
              "  </thead>\n",
              "  <tbody>\n",
              "    <tr>\n",
              "      <th>0</th>\n",
              "      <td>Los Angeles Times</td>\n",
              "      <td>Fed official says weak data caused by weather,...</td>\n",
              "    </tr>\n",
              "    <tr>\n",
              "      <th>1</th>\n",
              "      <td>Livemint</td>\n",
              "      <td>Fed's Charles Plosser sees high bar for change...</td>\n",
              "    </tr>\n",
              "    <tr>\n",
              "      <th>2</th>\n",
              "      <td>IFA Magazine</td>\n",
              "      <td>US open: Stocks fall after Fed official hints ...</td>\n",
              "    </tr>\n",
              "    <tr>\n",
              "      <th>3</th>\n",
              "      <td>IFA Magazine</td>\n",
              "      <td>Fed risks falling 'behind the curve', Charles ...</td>\n",
              "    </tr>\n",
              "    <tr>\n",
              "      <th>4</th>\n",
              "      <td>Moneynews</td>\n",
              "      <td>Fed's Plosser: Nasty Weather Has Curbed Job Gr...</td>\n",
              "    </tr>\n",
              "  </tbody>\n",
              "</table>\n",
              "</div>"
            ],
            "text/plain": [
              "           publisher                                              title\n",
              "0  Los Angeles Times  Fed official says weak data caused by weather,...\n",
              "1           Livemint  Fed's Charles Plosser sees high bar for change...\n",
              "2       IFA Magazine  US open: Stocks fall after Fed official hints ...\n",
              "3       IFA Magazine  Fed risks falling 'behind the curve', Charles ...\n",
              "4          Moneynews  Fed's Plosser: Nasty Weather Has Curbed Job Gr..."
            ]
          },
          "metadata": {
            "tags": []
          },
          "execution_count": 4
        }
      ]
    },
    {
      "cell_type": "code",
      "metadata": {
        "colab": {
          "base_uri": "https://localhost:8080/",
          "height": 205
        },
        "id": "tvyHjeufmYto",
        "outputId": "91658602-92dc-429e-f416-66b53eadf8a6"
      },
      "source": [
        "# Convert text column to lowercase\n",
        "df['title'] = df['title'].str.lower()\n",
        "df.head()[['publisher', 'title']]"
      ],
      "execution_count": 5,
      "outputs": [
        {
          "output_type": "execute_result",
          "data": {
            "text/html": [
              "<div>\n",
              "<style scoped>\n",
              "    .dataframe tbody tr th:only-of-type {\n",
              "        vertical-align: middle;\n",
              "    }\n",
              "\n",
              "    .dataframe tbody tr th {\n",
              "        vertical-align: top;\n",
              "    }\n",
              "\n",
              "    .dataframe thead th {\n",
              "        text-align: right;\n",
              "    }\n",
              "</style>\n",
              "<table border=\"1\" class=\"dataframe\">\n",
              "  <thead>\n",
              "    <tr style=\"text-align: right;\">\n",
              "      <th></th>\n",
              "      <th>publisher</th>\n",
              "      <th>title</th>\n",
              "    </tr>\n",
              "  </thead>\n",
              "  <tbody>\n",
              "    <tr>\n",
              "      <th>0</th>\n",
              "      <td>Los Angeles Times</td>\n",
              "      <td>fed official says weak data caused by weather,...</td>\n",
              "    </tr>\n",
              "    <tr>\n",
              "      <th>1</th>\n",
              "      <td>Livemint</td>\n",
              "      <td>fed's charles plosser sees high bar for change...</td>\n",
              "    </tr>\n",
              "    <tr>\n",
              "      <th>2</th>\n",
              "      <td>IFA Magazine</td>\n",
              "      <td>us open: stocks fall after fed official hints ...</td>\n",
              "    </tr>\n",
              "    <tr>\n",
              "      <th>3</th>\n",
              "      <td>IFA Magazine</td>\n",
              "      <td>fed risks falling 'behind the curve', charles ...</td>\n",
              "    </tr>\n",
              "    <tr>\n",
              "      <th>4</th>\n",
              "      <td>Moneynews</td>\n",
              "      <td>fed's plosser: nasty weather has curbed job gr...</td>\n",
              "    </tr>\n",
              "  </tbody>\n",
              "</table>\n",
              "</div>"
            ],
            "text/plain": [
              "           publisher                                              title\n",
              "0  Los Angeles Times  fed official says weak data caused by weather,...\n",
              "1           Livemint  fed's charles plosser sees high bar for change...\n",
              "2       IFA Magazine  us open: stocks fall after fed official hints ...\n",
              "3       IFA Magazine  fed risks falling 'behind the curve', charles ...\n",
              "4          Moneynews  fed's plosser: nasty weather has curbed job gr..."
            ]
          },
          "metadata": {
            "tags": []
          },
          "execution_count": 5
        }
      ]
    },
    {
      "cell_type": "markdown",
      "metadata": {
        "id": "AeXgPy_Xmcp-"
      },
      "source": [
        "#### **Online Resource**"
      ]
    },
    {
      "cell_type": "code",
      "metadata": {
        "colab": {
          "base_uri": "https://localhost:8080/"
        },
        "id": "fmTgFFDpmcA9",
        "outputId": "289b3c40-0c89-47bb-f1ce-2bcd8ffa1284"
      },
      "source": [
        "import requests\n",
        "import json\n",
        "\n",
        "# Fetch data from a REST API\n",
        "r = requests.get(\"https://quotes.rest/qod.json\")\n",
        "res = r.json()\n",
        "print(res)"
      ],
      "execution_count": 6,
      "outputs": [
        {
          "output_type": "stream",
          "text": [
            "{'success': {'total': 1}, 'contents': {'quotes': [{'quote': \"Winning isn't everything.. It's the only thing.\", 'length': '47', 'author': 'Vincent van Gogh', 'tags': {'0': 'inspire', '2': 'winning'}, 'category': 'inspire', 'language': 'en', 'date': '2021-06-21', 'permalink': 'https://theysaidso.com/quote/vincent-van-gogh-winning-isnt-everythingits-the-only-thing', 'id': 'B7OFzrXc4MXRTfb4Ga0fxQeF', 'background': 'https://theysaidso.com/img/qod/qod-inspire.jpg', 'title': 'Inspiring Quote of the day'}]}, 'baseurl': 'https://theysaidso.com', 'copyright': {'year': 2023, 'url': 'https://theysaidso.com'}}\n"
          ],
          "name": "stdout"
        }
      ]
    },
    {
      "cell_type": "code",
      "metadata": {
        "colab": {
          "base_uri": "https://localhost:8080/"
        },
        "id": "P4gTdcizmwH0",
        "outputId": "a4d53f4e-f7af-460a-a520-6453849e6d71"
      },
      "source": [
        "print(json.dumps(res, indent=4))"
      ],
      "execution_count": 7,
      "outputs": [
        {
          "output_type": "stream",
          "text": [
            "{\n",
            "    \"success\": {\n",
            "        \"total\": 1\n",
            "    },\n",
            "    \"contents\": {\n",
            "        \"quotes\": [\n",
            "            {\n",
            "                \"quote\": \"Winning isn't everything.. It's the only thing.\",\n",
            "                \"length\": \"47\",\n",
            "                \"author\": \"Vincent van Gogh\",\n",
            "                \"tags\": {\n",
            "                    \"0\": \"inspire\",\n",
            "                    \"2\": \"winning\"\n",
            "                },\n",
            "                \"category\": \"inspire\",\n",
            "                \"language\": \"en\",\n",
            "                \"date\": \"2021-06-21\",\n",
            "                \"permalink\": \"https://theysaidso.com/quote/vincent-van-gogh-winning-isnt-everythingits-the-only-thing\",\n",
            "                \"id\": \"B7OFzrXc4MXRTfb4Ga0fxQeF\",\n",
            "                \"background\": \"https://theysaidso.com/img/qod/qod-inspire.jpg\",\n",
            "                \"title\": \"Inspiring Quote of the day\"\n",
            "            }\n",
            "        ]\n",
            "    },\n",
            "    \"baseurl\": \"https://theysaidso.com\",\n",
            "    \"copyright\": {\n",
            "        \"year\": 2023,\n",
            "        \"url\": \"https://theysaidso.com\"\n",
            "    }\n",
            "}\n"
          ],
          "name": "stdout"
        }
      ]
    },
    {
      "cell_type": "code",
      "metadata": {
        "colab": {
          "base_uri": "https://localhost:8080/"
        },
        "id": "ZW2WxbG7m4pC",
        "outputId": "db3d7d5a-e9fc-463f-f9fa-a7084f2a80f0"
      },
      "source": [
        "# Extract relevant object and field\n",
        "q = res[\"contents\"][\"quotes\"][0]\n",
        "print(q[\"quote\"], \"\\n--\", q[\"author\"])"
      ],
      "execution_count": 8,
      "outputs": [
        {
          "output_type": "stream",
          "text": [
            "Winning isn't everything.. It's the only thing. \n",
            "-- Vincent van Gogh\n"
          ],
          "name": "stdout"
        }
      ]
    },
    {
      "cell_type": "markdown",
      "metadata": {
        "id": "tkFxLGSgm4Kk"
      },
      "source": [
        "## **Cleaning**"
      ]
    },
    {
      "cell_type": "code",
      "metadata": {
        "colab": {
          "base_uri": "https://localhost:8080/"
        },
        "id": "4pQU-N2_m5nS",
        "outputId": "fcf8c609-2e33-49a8-fa29-c473c3b4857b"
      },
      "source": [
        "import requests\n",
        "\n",
        "# Fetch a web page\n",
        "r = requests.get(\"https://news.ycombinator.com\")\n",
        "print(r.text)\n",
        "\n",
        "# It looks like we got back an entire HTML source "
      ],
      "execution_count": 9,
      "outputs": [
        {
          "output_type": "stream",
          "text": [
            "<html lang=\"en\" op=\"news\"><head><meta name=\"referrer\" content=\"origin\"><meta name=\"viewport\" content=\"width=device-width, initial-scale=1.0\"><link rel=\"stylesheet\" type=\"text/css\" href=\"news.css?vk3lMsDnqyxpcJmXGtyi\">\n",
            "        <link rel=\"shortcut icon\" href=\"favicon.ico\">\n",
            "          <link rel=\"alternate\" type=\"application/rss+xml\" title=\"RSS\" href=\"rss\">\n",
            "        <title>Hacker News</title></head><body><center><table id=\"hnmain\" border=\"0\" cellpadding=\"0\" cellspacing=\"0\" width=\"85%\" bgcolor=\"#f6f6ef\">\n",
            "        <tr><td bgcolor=\"#ff6600\"><table border=\"0\" cellpadding=\"0\" cellspacing=\"0\" width=\"100%\" style=\"padding:2px\"><tr><td style=\"width:18px;padding-right:4px\"><a href=\"https://news.ycombinator.com\"><img src=\"y18.gif\" width=\"18\" height=\"18\" style=\"border:1px white solid;\"></a></td>\n",
            "                  <td style=\"line-height:12pt; height:10px;\"><span class=\"pagetop\"><b class=\"hnname\"><a href=\"news\">Hacker News</a></b>\n",
            "              <a href=\"newest\">new</a> | <a href=\"front\">past</a> | <a href=\"newcomments\">comments</a> | <a href=\"ask\">ask</a> | <a href=\"show\">show</a> | <a href=\"jobs\">jobs</a> | <a href=\"submit\">submit</a>            </span></td><td style=\"text-align:right;padding-right:4px;\"><span class=\"pagetop\">\n",
            "                              <a href=\"login?goto=news\">login</a>\n",
            "                          </span></td>\n",
            "              </tr></table></td></tr>\n",
            "<tr id=\"pagespace\" title=\"\" style=\"height:10px\"></tr><tr><td><table border=\"0\" cellpadding=\"0\" cellspacing=\"0\" class=\"itemlist\">\n",
            "              <tr class='athing' id='27577201'>\n",
            "      <td align=\"right\" valign=\"top\" class=\"title\"><span class=\"rank\">1.</span></td>      <td valign=\"top\" class=\"votelinks\"><center><a id='up_27577201' href='vote?id=27577201&amp;how=up&amp;goto=news'><div class='votearrow' title='upvote'></div></a></center></td><td class=\"title\"><a href=\"https://github.com/yggdrasil-network/yggdrasil-go\" class=\"storylink\">Yggdrasil – Early-stage implementation of an end-to-end encrypted IPv6 network</a><span class=\"sitebit comhead\"> (<a href=\"from?site=github.com/yggdrasil-network\"><span class=\"sitestr\">github.com/yggdrasil-network</span></a>)</span></td></tr><tr><td colspan=\"2\"></td><td class=\"subtext\">\n",
            "        <span class=\"score\" id=\"score_27577201\">269 points</span> by <a href=\"user?id=dragonsh\" class=\"hnuser\">dragonsh</a> <span class=\"age\"><a href=\"item?id=27577201\">6 hours ago</a></span> <span id=\"unv_27577201\"></span> | <a href=\"hide?id=27577201&amp;goto=news\">hide</a> | <a href=\"item?id=27577201\">55&nbsp;comments</a>              </td></tr>\n",
            "      <tr class=\"spacer\" style=\"height:5px\"></tr>\n",
            "                <tr class='athing' id='27577328'>\n",
            "      <td align=\"right\" valign=\"top\" class=\"title\"><span class=\"rank\">2.</span></td>      <td valign=\"top\" class=\"votelinks\"><center><a id='up_27577328' href='vote?id=27577328&amp;how=up&amp;goto=news'><div class='votearrow' title='upvote'></div></a></center></td><td class=\"title\"><a href=\"https://jpegxl.info\" class=\"storylink\">JPEG XL</a><span class=\"sitebit comhead\"> (<a href=\"from?site=jpegxl.info\"><span class=\"sitestr\">jpegxl.info</span></a>)</span></td></tr><tr><td colspan=\"2\"></td><td class=\"subtext\">\n",
            "        <span class=\"score\" id=\"score_27577328\">199 points</span> by <a href=\"user?id=tosh\" class=\"hnuser\">tosh</a> <span class=\"age\"><a href=\"item?id=27577328\">6 hours ago</a></span> <span id=\"unv_27577328\"></span> | <a href=\"hide?id=27577328&amp;goto=news\">hide</a> | <a href=\"item?id=27577328\">107&nbsp;comments</a>              </td></tr>\n",
            "      <tr class=\"spacer\" style=\"height:5px\"></tr>\n",
            "                <tr class='athing' id='27577460'>\n",
            "      <td align=\"right\" valign=\"top\" class=\"title\"><span class=\"rank\">3.</span></td>      <td valign=\"top\" class=\"votelinks\"><center><a id='up_27577460' href='vote?id=27577460&amp;how=up&amp;goto=news'><div class='votearrow' title='upvote'></div></a></center></td><td class=\"title\"><a href=\"https://david.li/paint/\" class=\"storylink\">Fluid Paint</a><span class=\"sitebit comhead\"> (<a href=\"from?site=david.li\"><span class=\"sitestr\">david.li</span></a>)</span></td></tr><tr><td colspan=\"2\"></td><td class=\"subtext\">\n",
            "        <span class=\"score\" id=\"score_27577460\">231 points</span> by <a href=\"user?id=pjerem\" class=\"hnuser\">pjerem</a> <span class=\"age\"><a href=\"item?id=27577460\">5 hours ago</a></span> <span id=\"unv_27577460\"></span> | <a href=\"hide?id=27577460&amp;goto=news\">hide</a> | <a href=\"item?id=27577460\">27&nbsp;comments</a>              </td></tr>\n",
            "      <tr class=\"spacer\" style=\"height:5px\"></tr>\n",
            "                <tr class='athing' id='27577525'>\n",
            "      <td align=\"right\" valign=\"top\" class=\"title\"><span class=\"rank\">4.</span></td>      <td valign=\"top\" class=\"votelinks\"><center><a id='up_27577525' href='vote?id=27577525&amp;how=up&amp;goto=news'><div class='votearrow' title='upvote'></div></a></center></td><td class=\"title\"><a href=\"https://librecellular.org/\" class=\"storylink\">LibreCellular</a><span class=\"sitebit comhead\"> (<a href=\"from?site=librecellular.org\"><span class=\"sitestr\">librecellular.org</span></a>)</span></td></tr><tr><td colspan=\"2\"></td><td class=\"subtext\">\n",
            "        <span class=\"score\" id=\"score_27577525\">167 points</span> by <a href=\"user?id=pabs3\" class=\"hnuser\">pabs3</a> <span class=\"age\"><a href=\"item?id=27577525\">5 hours ago</a></span> <span id=\"unv_27577525\"></span> | <a href=\"hide?id=27577525&amp;goto=news\">hide</a> | <a href=\"item?id=27577525\">17&nbsp;comments</a>              </td></tr>\n",
            "      <tr class=\"spacer\" style=\"height:5px\"></tr>\n",
            "                <tr class='athing' id='27576882'>\n",
            "      <td align=\"right\" valign=\"top\" class=\"title\"><span class=\"rank\">5.</span></td>      <td valign=\"top\" class=\"votelinks\"><center><a id='up_27576882' href='vote?id=27576882&amp;how=up&amp;goto=news'><div class='votearrow' title='upvote'></div></a></center></td><td class=\"title\"><a href=\"https://organicmaps.app/\" class=\"storylink\">OrganicMaps is Android and iOS offline maps for travel without trackers or ads</a><span class=\"sitebit comhead\"> (<a href=\"from?site=organicmaps.app\"><span class=\"sitestr\">organicmaps.app</span></a>)</span></td></tr><tr><td colspan=\"2\"></td><td class=\"subtext\">\n",
            "        <span class=\"score\" id=\"score_27576882\">192 points</span> by <a href=\"user?id=wertik13\" class=\"hnuser\">wertik13</a> <span class=\"age\"><a href=\"item?id=27576882\">7 hours ago</a></span> <span id=\"unv_27576882\"></span> | <a href=\"hide?id=27576882&amp;goto=news\">hide</a> | <a href=\"item?id=27576882\">65&nbsp;comments</a>              </td></tr>\n",
            "      <tr class=\"spacer\" style=\"height:5px\"></tr>\n",
            "                <tr class='athing' id='27571873'>\n",
            "      <td align=\"right\" valign=\"top\" class=\"title\"><span class=\"rank\">6.</span></td>      <td valign=\"top\" class=\"votelinks\"><center><a id='up_27571873' href='vote?id=27571873&amp;how=up&amp;goto=news'><div class='votearrow' title='upvote'></div></a></center></td><td class=\"title\"><a href=\"http://matthewearl.github.io/2021/06/20/quake-blender/\" class=\"storylink\">Path Tracing Quake in Blender</a><span class=\"sitebit comhead\"> (<a href=\"from?site=matthewearl.github.io\"><span class=\"sitestr\">matthewearl.github.io</span></a>)</span></td></tr><tr><td colspan=\"2\"></td><td class=\"subtext\">\n",
            "        <span class=\"score\" id=\"score_27571873\">33 points</span> by <a href=\"user?id=kipi\" class=\"hnuser\">kipi</a> <span class=\"age\"><a href=\"item?id=27571873\">2 hours ago</a></span> <span id=\"unv_27571873\"></span> | <a href=\"hide?id=27571873&amp;goto=news\">hide</a> | <a href=\"item?id=27571873\">6&nbsp;comments</a>              </td></tr>\n",
            "      <tr class=\"spacer\" style=\"height:5px\"></tr>\n",
            "                <tr class='athing' id='27577432'>\n",
            "      <td align=\"right\" valign=\"top\" class=\"title\"><span class=\"rank\">7.</span></td>      <td valign=\"top\" class=\"votelinks\"><center><a id='up_27577432' href='vote?id=27577432&amp;how=up&amp;goto=news'><div class='votearrow' title='upvote'></div></a></center></td><td class=\"title\"><a href=\"https://spandex.substack.com/p/why-your-livestreaming-setup-is-a\" class=\"storylink\">A good livestreaming setup is a well-tailored suit</a><span class=\"sitebit comhead\"> (<a href=\"from?site=spandex.substack.com\"><span class=\"sitestr\">spandex.substack.com</span></a>)</span></td></tr><tr><td colspan=\"2\"></td><td class=\"subtext\">\n",
            "        <span class=\"score\" id=\"score_27577432\">90 points</span> by <a href=\"user?id=darimo\" class=\"hnuser\">darimo</a> <span class=\"age\"><a href=\"item?id=27577432\">5 hours ago</a></span> <span id=\"unv_27577432\"></span> | <a href=\"hide?id=27577432&amp;goto=news\">hide</a> | <a href=\"item?id=27577432\">43&nbsp;comments</a>              </td></tr>\n",
            "      <tr class=\"spacer\" style=\"height:5px\"></tr>\n",
            "                <tr class='athing' id='27575635'>\n",
            "      <td align=\"right\" valign=\"top\" class=\"title\"><span class=\"rank\">8.</span></td>      <td valign=\"top\" class=\"votelinks\"><center><a id='up_27575635' href='vote?id=27575635&amp;how=up&amp;goto=news'><div class='votearrow' title='upvote'></div></a></center></td><td class=\"title\"><a href=\"https://news.usc.edu/174170/emily-nix-usc-professors-diy-online-teaching-hack/\" class=\"storylink\">USC professor’s DIY online teaching hack to engage students goes viral (2020)</a><span class=\"sitebit comhead\"> (<a href=\"from?site=usc.edu\"><span class=\"sitestr\">usc.edu</span></a>)</span></td></tr><tr><td colspan=\"2\"></td><td class=\"subtext\">\n",
            "        <span class=\"score\" id=\"score_27575635\">290 points</span> by <a href=\"user?id=grzm\" class=\"hnuser\">grzm</a> <span class=\"age\"><a href=\"item?id=27575635\">12 hours ago</a></span> <span id=\"unv_27575635\"></span> | <a href=\"hide?id=27575635&amp;goto=news\">hide</a> | <a href=\"item?id=27575635\">53&nbsp;comments</a>              </td></tr>\n",
            "      <tr class=\"spacer\" style=\"height:5px\"></tr>\n",
            "                <tr class='athing' id='27577193'>\n",
            "      <td align=\"right\" valign=\"top\" class=\"title\"><span class=\"rank\">9.</span></td>      <td valign=\"top\" class=\"votelinks\"><center><a id='up_27577193' href='vote?id=27577193&amp;how=up&amp;goto=news'><div class='votearrow' title='upvote'></div></a></center></td><td class=\"title\"><a href=\"https://github.com/kelindar/column\" class=\"storylink\">Column – High-performance, columnar, in-memory store with bitmap indexing in Go</a><span class=\"sitebit comhead\"> (<a href=\"from?site=github.com/kelindar\"><span class=\"sitestr\">github.com/kelindar</span></a>)</span></td></tr><tr><td colspan=\"2\"></td><td class=\"subtext\">\n",
            "        <span class=\"score\" id=\"score_27577193\">74 points</span> by <a href=\"user?id=ngaut\" class=\"hnuser\">ngaut</a> <span class=\"age\"><a href=\"item?id=27577193\">6 hours ago</a></span> <span id=\"unv_27577193\"></span> | <a href=\"hide?id=27577193&amp;goto=news\">hide</a> | <a href=\"item?id=27577193\">12&nbsp;comments</a>              </td></tr>\n",
            "      <tr class=\"spacer\" style=\"height:5px\"></tr>\n",
            "                <tr class='athing' id='27568340'>\n",
            "      <td align=\"right\" valign=\"top\" class=\"title\"><span class=\"rank\">10.</span></td>      <td valign=\"top\" class=\"votelinks\"><center><a id='up_27568340' href='vote?id=27568340&amp;how=up&amp;goto=news'><div class='votearrow' title='upvote'></div></a></center></td><td class=\"title\"><a href=\"https://adamtooze.substack.com/p/chartbook-21\" class=\"storylink\">Reading Grossman's “Stalingrad” and ”Life and Fate”</a><span class=\"sitebit comhead\"> (<a href=\"from?site=adamtooze.substack.com\"><span class=\"sitestr\">adamtooze.substack.com</span></a>)</span></td></tr><tr><td colspan=\"2\"></td><td class=\"subtext\">\n",
            "        <span class=\"score\" id=\"score_27568340\">45 points</span> by <a href=\"user?id=mathgenius\" class=\"hnuser\">mathgenius</a> <span class=\"age\"><a href=\"item?id=27568340\">5 hours ago</a></span> <span id=\"unv_27568340\"></span> | <a href=\"hide?id=27568340&amp;goto=news\">hide</a> | <a href=\"item?id=27568340\">6&nbsp;comments</a>              </td></tr>\n",
            "      <tr class=\"spacer\" style=\"height:5px\"></tr>\n",
            "                <tr class='athing' id='27578329'>\n",
            "      <td align=\"right\" valign=\"top\" class=\"title\"><span class=\"rank\">11.</span></td>      <td></td><td class=\"title\"><a href=\"https://www.ycombinator.com/companies/centaur-labs/jobs/4wh4Av2-senior-backend-engineer\" class=\"storylink\" rel=\"nofollow\">Centaur Labs (YC W19) Is Hiring a Senior Back End Engineer in Boston</a><span class=\"sitebit comhead\"> (<a href=\"from?site=ycombinator.com\"><span class=\"sitestr\">ycombinator.com</span></a>)</span></td></tr><tr><td colspan=\"2\"></td><td class=\"subtext\">\n",
            "        <span class=\"age\"><a href=\"item?id=27578329\">2 hours ago</a></span> | <a href=\"hide?id=27578329&amp;goto=news\">hide</a>      </td></tr>\n",
            "      <tr class=\"spacer\" style=\"height:5px\"></tr>\n",
            "                <tr class='athing' id='27573618'>\n",
            "      <td align=\"right\" valign=\"top\" class=\"title\"><span class=\"rank\">12.</span></td>      <td valign=\"top\" class=\"votelinks\"><center><a id='up_27573618' href='vote?id=27573618&amp;how=up&amp;goto=news'><div class='votearrow' title='upvote'></div></a></center></td><td class=\"title\"><a href=\"https://security.googleblog.com/2021/06/introducing-slsa-end-to-end-framework.html\" class=\"storylink\">SLSA, an End-to-End Framework for Supply Chain Integrity</a><span class=\"sitebit comhead\"> (<a href=\"from?site=googleblog.com\"><span class=\"sitestr\">googleblog.com</span></a>)</span></td></tr><tr><td colspan=\"2\"></td><td class=\"subtext\">\n",
            "        <span class=\"score\" id=\"score_27573618\">12 points</span> by <a href=\"user?id=rbinv\" class=\"hnuser\">rbinv</a> <span class=\"age\"><a href=\"item?id=27573618\">2 hours ago</a></span> <span id=\"unv_27573618\"></span> | <a href=\"hide?id=27573618&amp;goto=news\">hide</a> | <a href=\"item?id=27573618\">5&nbsp;comments</a>              </td></tr>\n",
            "      <tr class=\"spacer\" style=\"height:5px\"></tr>\n",
            "                <tr class='athing' id='27576120'>\n",
            "      <td align=\"right\" valign=\"top\" class=\"title\"><span class=\"rank\">13.</span></td>      <td valign=\"top\" class=\"votelinks\"><center><a id='up_27576120' href='vote?id=27576120&amp;how=up&amp;goto=news'><div class='votearrow' title='upvote'></div></a></center></td><td class=\"title\"><a href=\"https://www.hannahtech.co/post/turn-your-old-cracked-android-phone-into-a-backup-server-urbackup-linux-deploy-tutorial-part-i\" class=\"storylink\">Turn your old, cracked Android phone into a backup server</a><span class=\"sitebit comhead\"> (<a href=\"from?site=hannahtech.co\"><span class=\"sitestr\">hannahtech.co</span></a>)</span></td></tr><tr><td colspan=\"2\"></td><td class=\"subtext\">\n",
            "        <span class=\"score\" id=\"score_27576120\">138 points</span> by <a href=\"user?id=thunderbong\" class=\"hnuser\">thunderbong</a> <span class=\"age\"><a href=\"item?id=27576120\">10 hours ago</a></span> <span id=\"unv_27576120\"></span> | <a href=\"hide?id=27576120&amp;goto=news\">hide</a> | <a href=\"item?id=27576120\">74&nbsp;comments</a>              </td></tr>\n",
            "      <tr class=\"spacer\" style=\"height:5px\"></tr>\n",
            "                <tr class='athing' id='27566676'>\n",
            "      <td align=\"right\" valign=\"top\" class=\"title\"><span class=\"rank\">14.</span></td>      <td valign=\"top\" class=\"votelinks\"><center><a id='up_27566676' href='vote?id=27566676&amp;how=up&amp;goto=news'><div class='votearrow' title='upvote'></div></a></center></td><td class=\"title\"><a href=\"https://chrislaing.net/blog/the-memo/\" class=\"storylink\">The “API Mandate” memo at Amazon</a><span class=\"sitebit comhead\"> (<a href=\"from?site=chrislaing.net\"><span class=\"sitestr\">chrislaing.net</span></a>)</span></td></tr><tr><td colspan=\"2\"></td><td class=\"subtext\">\n",
            "        <span class=\"score\" id=\"score_27566676\">301 points</span> by <a href=\"user?id=laingc\" class=\"hnuser\">laingc</a> <span class=\"age\"><a href=\"item?id=27566676\">13 hours ago</a></span> <span id=\"unv_27566676\"></span> | <a href=\"hide?id=27566676&amp;goto=news\">hide</a> | <a href=\"item?id=27566676\">101&nbsp;comments</a>              </td></tr>\n",
            "      <tr class=\"spacer\" style=\"height:5px\"></tr>\n",
            "                <tr class='athing' id='27575916'>\n",
            "      <td align=\"right\" valign=\"top\" class=\"title\"><span class=\"rank\">15.</span></td>      <td valign=\"top\" class=\"votelinks\"><center><a id='up_27575916' href='vote?id=27575916&amp;how=up&amp;goto=news'><div class='votearrow' title='upvote'></div></a></center></td><td class=\"title\"><a href=\"https://www.bbc.com/news/stories-57520169\" class=\"storylink\">The Lazarus heist: How North Korea almost pulled off a billion-dollar hack</a><span class=\"sitebit comhead\"> (<a href=\"from?site=bbc.com\"><span class=\"sitestr\">bbc.com</span></a>)</span></td></tr><tr><td colspan=\"2\"></td><td class=\"subtext\">\n",
            "        <span class=\"score\" id=\"score_27575916\">107 points</span> by <a href=\"user?id=pseudolus\" class=\"hnuser\">pseudolus</a> <span class=\"age\"><a href=\"item?id=27575916\">11 hours ago</a></span> <span id=\"unv_27575916\"></span> | <a href=\"hide?id=27575916&amp;goto=news\">hide</a> | <a href=\"item?id=27575916\">27&nbsp;comments</a>              </td></tr>\n",
            "      <tr class=\"spacer\" style=\"height:5px\"></tr>\n",
            "                <tr class='athing' id='27556183'>\n",
            "      <td align=\"right\" valign=\"top\" class=\"title\"><span class=\"rank\">16.</span></td>      <td valign=\"top\" class=\"votelinks\"><center><a id='up_27556183' href='vote?id=27556183&amp;how=up&amp;goto=news'><div class='votearrow' title='upvote'></div></a></center></td><td class=\"title\"><a href=\"https://www.arp242.net/500k-commits.html\" class=\"storylink\">How to end up with 500k commits in your log</a><span class=\"sitebit comhead\"> (<a href=\"from?site=arp242.net\"><span class=\"sitestr\">arp242.net</span></a>)</span></td></tr><tr><td colspan=\"2\"></td><td class=\"subtext\">\n",
            "        <span class=\"score\" id=\"score_27556183\">61 points</span> by <a href=\"user?id=benhoyt\" class=\"hnuser\">benhoyt</a> <span class=\"age\"><a href=\"item?id=27556183\">6 hours ago</a></span> <span id=\"unv_27556183\"></span> | <a href=\"hide?id=27556183&amp;goto=news\">hide</a> | <a href=\"item?id=27556183\">31&nbsp;comments</a>              </td></tr>\n",
            "      <tr class=\"spacer\" style=\"height:5px\"></tr>\n",
            "                <tr class='athing' id='27575453'>\n",
            "      <td align=\"right\" valign=\"top\" class=\"title\"><span class=\"rank\">17.</span></td>      <td valign=\"top\" class=\"votelinks\"><center><a id='up_27575453' href='vote?id=27575453&amp;how=up&amp;goto=news'><div class='votearrow' title='upvote'></div></a></center></td><td class=\"title\"><a href=\"https://www.mindat.org/\" class=\"storylink\">Mindat.org, the largest open database of minerals, rocks, and meteorites</a><span class=\"sitebit comhead\"> (<a href=\"from?site=mindat.org\"><span class=\"sitestr\">mindat.org</span></a>)</span></td></tr><tr><td colspan=\"2\"></td><td class=\"subtext\">\n",
            "        <span class=\"score\" id=\"score_27575453\">153 points</span> by <a href=\"user?id=cdepman\" class=\"hnuser\">cdepman</a> <span class=\"age\"><a href=\"item?id=27575453\">12 hours ago</a></span> <span id=\"unv_27575453\"></span> | <a href=\"hide?id=27575453&amp;goto=news\">hide</a> | <a href=\"item?id=27575453\">17&nbsp;comments</a>              </td></tr>\n",
            "      <tr class=\"spacer\" style=\"height:5px\"></tr>\n",
            "                <tr class='athing' id='27575849'>\n",
            "      <td align=\"right\" valign=\"top\" class=\"title\"><span class=\"rank\">18.</span></td>      <td valign=\"top\" class=\"votelinks\"><center><a id='up_27575849' href='vote?id=27575849&amp;how=up&amp;goto=news'><div class='votearrow' title='upvote'></div></a></center></td><td class=\"title\"><a href=\"https://blog.dave.tf/post/finding-bottom-turtle/\" class=\"storylink\">Finding the Bottom Turtle</a><span class=\"sitebit comhead\"> (<a href=\"from?site=dave.tf\"><span class=\"sitestr\">dave.tf</span></a>)</span></td></tr><tr><td colspan=\"2\"></td><td class=\"subtext\">\n",
            "        <span class=\"score\" id=\"score_27575849\">112 points</span> by <a href=\"user?id=zdw\" class=\"hnuser\">zdw</a> <span class=\"age\"><a href=\"item?id=27575849\">11 hours ago</a></span> <span id=\"unv_27575849\"></span> | <a href=\"hide?id=27575849&amp;goto=news\">hide</a> | <a href=\"item?id=27575849\">44&nbsp;comments</a>              </td></tr>\n",
            "      <tr class=\"spacer\" style=\"height:5px\"></tr>\n",
            "                <tr class='athing' id='27575580'>\n",
            "      <td align=\"right\" valign=\"top\" class=\"title\"><span class=\"rank\">19.</span></td>      <td valign=\"top\" class=\"votelinks\"><center><a id='up_27575580' href='vote?id=27575580&amp;how=up&amp;goto=news'><div class='votearrow' title='upvote'></div></a></center></td><td class=\"title\"><a href=\"https://mainichi.jp/english/articles/20210619/p2g/00m/0na/014000c\" class=\"storylink\">Japan's government plans to encourage 4-day workweek, but experts split</a><span class=\"sitebit comhead\"> (<a href=\"from?site=mainichi.jp\"><span class=\"sitestr\">mainichi.jp</span></a>)</span></td></tr><tr><td colspan=\"2\"></td><td class=\"subtext\">\n",
            "        <span class=\"score\" id=\"score_27575580\">783 points</span> by <a href=\"user?id=m3at\" class=\"hnuser\">m3at</a> <span class=\"age\"><a href=\"item?id=27575580\">12 hours ago</a></span> <span id=\"unv_27575580\"></span> | <a href=\"hide?id=27575580&amp;goto=news\">hide</a> | <a href=\"item?id=27575580\">405&nbsp;comments</a>              </td></tr>\n",
            "      <tr class=\"spacer\" style=\"height:5px\"></tr>\n",
            "                <tr class='athing' id='27575732'>\n",
            "      <td align=\"right\" valign=\"top\" class=\"title\"><span class=\"rank\">20.</span></td>      <td valign=\"top\" class=\"votelinks\"><center><a id='up_27575732' href='vote?id=27575732&amp;how=up&amp;goto=news'><div class='votearrow' title='upvote'></div></a></center></td><td class=\"title\"><a href=\"https://www.vice.com/en/article/7kvkx9/dont-piss-off-bradley-the-parts-seller-keeping-atari-machines-alive\" class=\"storylink\">Don't Piss Off Bradley, the Parts Seller Keeping Atari Machines Alive</a><span class=\"sitebit comhead\"> (<a href=\"from?site=vice.com\"><span class=\"sitestr\">vice.com</span></a>)</span></td></tr><tr><td colspan=\"2\"></td><td class=\"subtext\">\n",
            "        <span class=\"score\" id=\"score_27575732\">114 points</span> by <a href=\"user?id=zdw\" class=\"hnuser\">zdw</a> <span class=\"age\"><a href=\"item?id=27575732\">11 hours ago</a></span> <span id=\"unv_27575732\"></span> | <a href=\"hide?id=27575732&amp;goto=news\">hide</a> | <a href=\"item?id=27575732\">64&nbsp;comments</a>              </td></tr>\n",
            "      <tr class=\"spacer\" style=\"height:5px\"></tr>\n",
            "                <tr class='athing' id='27577514'>\n",
            "      <td align=\"right\" valign=\"top\" class=\"title\"><span class=\"rank\">21.</span></td>      <td valign=\"top\" class=\"votelinks\"><center><a id='up_27577514' href='vote?id=27577514&amp;how=up&amp;goto=news'><div class='votearrow' title='upvote'></div></a></center></td><td class=\"title\"><a href=\"item?id=27577514\" class=\"storylink\">Ask HN: How to learn proper Systems Programming?</a></td></tr><tr><td colspan=\"2\"></td><td class=\"subtext\">\n",
            "        <span class=\"score\" id=\"score_27577514\">121 points</span> by <a href=\"user?id=systems_learn\" class=\"hnuser\">systems_learn</a> <span class=\"age\"><a href=\"item?id=27577514\">5 hours ago</a></span> <span id=\"unv_27577514\"></span> | <a href=\"hide?id=27577514&amp;goto=news\">hide</a> | <a href=\"item?id=27577514\">29&nbsp;comments</a>              </td></tr>\n",
            "      <tr class=\"spacer\" style=\"height:5px\"></tr>\n",
            "                <tr class='athing' id='27576169'>\n",
            "      <td align=\"right\" valign=\"top\" class=\"title\"><span class=\"rank\">22.</span></td>      <td valign=\"top\" class=\"votelinks\"><center><a id='up_27576169' href='vote?id=27576169&amp;how=up&amp;goto=news'><div class='votearrow' title='upvote'></div></a></center></td><td class=\"title\"><a href=\"https://www.npr.org/2021/06/20/1006352654/enthusiastic-amateurs-advance-science-as-they-hunt-for-exotic-mushrooms\" class=\"storylink\">Enthusiastic amateurs advance science as they hunt for exotic mushrooms</a><span class=\"sitebit comhead\"> (<a href=\"from?site=npr.org\"><span class=\"sitestr\">npr.org</span></a>)</span></td></tr><tr><td colspan=\"2\"></td><td class=\"subtext\">\n",
            "        <span class=\"score\" id=\"score_27576169\">65 points</span> by <a href=\"user?id=jdnier\" class=\"hnuser\">jdnier</a> <span class=\"age\"><a href=\"item?id=27576169\">10 hours ago</a></span> <span id=\"unv_27576169\"></span> | <a href=\"hide?id=27576169&amp;goto=news\">hide</a> | <a href=\"item?id=27576169\">16&nbsp;comments</a>              </td></tr>\n",
            "      <tr class=\"spacer\" style=\"height:5px\"></tr>\n",
            "                <tr class='athing' id='27567051'>\n",
            "      <td align=\"right\" valign=\"top\" class=\"title\"><span class=\"rank\">23.</span></td>      <td valign=\"top\" class=\"votelinks\"><center><a id='up_27567051' href='vote?id=27567051&amp;how=up&amp;goto=news'><div class='votearrow' title='upvote'></div></a></center></td><td class=\"title\"><a href=\"https://scite.ai/\" class=\"storylink\">Scite: Smart Citations for Better Research</a><span class=\"sitebit comhead\"> (<a href=\"from?site=scite.ai\"><span class=\"sitestr\">scite.ai</span></a>)</span></td></tr><tr><td colspan=\"2\"></td><td class=\"subtext\">\n",
            "        <span class=\"score\" id=\"score_27567051\">25 points</span> by <a href=\"user?id=polm23\" class=\"hnuser\">polm23</a> <span class=\"age\"><a href=\"item?id=27567051\">4 hours ago</a></span> <span id=\"unv_27567051\"></span> | <a href=\"hide?id=27567051&amp;goto=news\">hide</a> | <a href=\"item?id=27567051\">10&nbsp;comments</a>              </td></tr>\n",
            "      <tr class=\"spacer\" style=\"height:5px\"></tr>\n",
            "                <tr class='athing' id='27546663'>\n",
            "      <td align=\"right\" valign=\"top\" class=\"title\"><span class=\"rank\">24.</span></td>      <td valign=\"top\" class=\"votelinks\"><center><a id='up_27546663' href='vote?id=27546663&amp;how=up&amp;goto=news'><div class='votearrow' title='upvote'></div></a></center></td><td class=\"title\"><a href=\"https://www.scientificamerican.com/article/human-evolution-led-to-an-extreme-thirst-for-water/\" class=\"storylink\">Humans are more dependent on water than many other mammals</a><span class=\"sitebit comhead\"> (<a href=\"from?site=scientificamerican.com\"><span class=\"sitestr\">scientificamerican.com</span></a>)</span></td></tr><tr><td colspan=\"2\"></td><td class=\"subtext\">\n",
            "        <span class=\"score\" id=\"score_27546663\">47 points</span> by <a href=\"user?id=yusuf_giftworks\" class=\"hnuser\">yusuf_giftworks</a> <span class=\"age\"><a href=\"item?id=27546663\">3 hours ago</a></span> <span id=\"unv_27546663\"></span> | <a href=\"hide?id=27546663&amp;goto=news\">hide</a> | <a href=\"item?id=27546663\">65&nbsp;comments</a>              </td></tr>\n",
            "      <tr class=\"spacer\" style=\"height:5px\"></tr>\n",
            "                <tr class='athing' id='27559748'>\n",
            "      <td align=\"right\" valign=\"top\" class=\"title\"><span class=\"rank\">25.</span></td>      <td valign=\"top\" class=\"votelinks\"><center><a id='up_27559748' href='vote?id=27559748&amp;how=up&amp;goto=news'><div class='votearrow' title='upvote'></div></a></center></td><td class=\"title\"><a href=\"https://dbohdan.com/wiki/jpeg-xl?\" class=\"storylink\">JPEG XL would be Turing-complete</a><span class=\"sitebit comhead\"> (<a href=\"from?site=dbohdan.com\"><span class=\"sitestr\">dbohdan.com</span></a>)</span></td></tr><tr><td colspan=\"2\"></td><td class=\"subtext\">\n",
            "        <span class=\"score\" id=\"score_27559748\">85 points</span> by <a href=\"user?id=networked\" class=\"hnuser\">networked</a> <span class=\"age\"><a href=\"item?id=27559748\">9 hours ago</a></span> <span id=\"unv_27559748\"></span> | <a href=\"hide?id=27559748&amp;goto=news\">hide</a> | <a href=\"item?id=27559748\">28&nbsp;comments</a>              </td></tr>\n",
            "      <tr class=\"spacer\" style=\"height:5px\"></tr>\n",
            "                <tr class='athing' id='27572746'>\n",
            "      <td align=\"right\" valign=\"top\" class=\"title\"><span class=\"rank\">26.</span></td>      <td valign=\"top\" class=\"votelinks\"><center><a id='up_27572746' href='vote?id=27572746&amp;how=up&amp;goto=news'><div class='votearrow' title='upvote'></div></a></center></td><td class=\"title\"><a href=\"https://groups.io/g/mpml/topic/83645454#36493\" class=\"storylink\">A dwarf planet coming within 11 AU of the sun over the next 10 years</a><span class=\"sitebit comhead\"> (<a href=\"from?site=groups.io\"><span class=\"sitestr\">groups.io</span></a>)</span></td></tr><tr><td colspan=\"2\"></td><td class=\"subtext\">\n",
            "        <span class=\"score\" id=\"score_27572746\">564 points</span> by <a href=\"user?id=MKais\" class=\"hnuser\">MKais</a> <span class=\"age\"><a href=\"item?id=27572746\">19 hours ago</a></span> <span id=\"unv_27572746\"></span> | <a href=\"hide?id=27572746&amp;goto=news\">hide</a> | <a href=\"item?id=27572746\">289&nbsp;comments</a>              </td></tr>\n",
            "      <tr class=\"spacer\" style=\"height:5px\"></tr>\n",
            "                <tr class='athing' id='27573393'>\n",
            "      <td align=\"right\" valign=\"top\" class=\"title\"><span class=\"rank\">27.</span></td>      <td valign=\"top\" class=\"votelinks\"><center><a id='up_27573393' href='vote?id=27573393&amp;how=up&amp;goto=news'><div class='votearrow' title='upvote'></div></a></center></td><td class=\"title\"><a href=\"https://discourse.nixos.org/t/nixos-unstable-s-iso-minimal-x86-64-linux-is-100-reproducible/13723\" class=\"storylink\">Nixos-unstable’s ISO_minimal.x86_64-Linux is 100% reproducible</a><span class=\"sitebit comhead\"> (<a href=\"from?site=nixos.org\"><span class=\"sitestr\">nixos.org</span></a>)</span></td></tr><tr><td colspan=\"2\"></td><td class=\"subtext\">\n",
            "        <span class=\"score\" id=\"score_27573393\">692 points</span> by <a href=\"user?id=todsacerdoti\" class=\"hnuser\">todsacerdoti</a> <span class=\"age\"><a href=\"item?id=27573393\">18 hours ago</a></span> <span id=\"unv_27573393\"></span> | <a href=\"hide?id=27573393&amp;goto=news\">hide</a> | <a href=\"item?id=27573393\">197&nbsp;comments</a>              </td></tr>\n",
            "      <tr class=\"spacer\" style=\"height:5px\"></tr>\n",
            "                <tr class='athing' id='27575174'>\n",
            "      <td align=\"right\" valign=\"top\" class=\"title\"><span class=\"rank\">28.</span></td>      <td valign=\"top\" class=\"votelinks\"><center><a id='up_27575174' href='vote?id=27575174&amp;how=up&amp;goto=news'><div class='votearrow' title='upvote'></div></a></center></td><td class=\"title\"><a href=\"https://github.com/sylefeb/Silice/tree/draft/projects/ice-v\" class=\"storylink\">The Ice-V: a simple, compact RISC-V RV32I implementation in Silice</a><span class=\"sitebit comhead\"> (<a href=\"from?site=github.com/sylefeb\"><span class=\"sitestr\">github.com/sylefeb</span></a>)</span></td></tr><tr><td colspan=\"2\"></td><td class=\"subtext\">\n",
            "        <span class=\"score\" id=\"score_27575174\">60 points</span> by <a href=\"user?id=kqr2\" class=\"hnuser\">kqr2</a> <span class=\"age\"><a href=\"item?id=27575174\">12 hours ago</a></span> <span id=\"unv_27575174\"></span> | <a href=\"hide?id=27575174&amp;goto=news\">hide</a> | <a href=\"item?id=27575174\">21&nbsp;comments</a>              </td></tr>\n",
            "      <tr class=\"spacer\" style=\"height:5px\"></tr>\n",
            "                <tr class='athing' id='27575955'>\n",
            "      <td align=\"right\" valign=\"top\" class=\"title\"><span class=\"rank\">29.</span></td>      <td valign=\"top\" class=\"votelinks\"><center><a id='up_27575955' href='vote?id=27575955&amp;how=up&amp;goto=news'><div class='votearrow' title='upvote'></div></a></center></td><td class=\"title\"><a href=\"https://physicstoday.scitation.org/do/10.1063/PT.5.9098/full/\" class=\"storylink\">What it was like to be peer reviewed in the 1860s (2017)</a><span class=\"sitebit comhead\"> (<a href=\"from?site=scitation.org\"><span class=\"sitestr\">scitation.org</span></a>)</span></td></tr><tr><td colspan=\"2\"></td><td class=\"subtext\">\n",
            "        <span class=\"score\" id=\"score_27575955\">42 points</span> by <a href=\"user?id=azhenley\" class=\"hnuser\">azhenley</a> <span class=\"age\"><a href=\"item?id=27575955\">11 hours ago</a></span> <span id=\"unv_27575955\"></span> | <a href=\"hide?id=27575955&amp;goto=news\">hide</a> | <a href=\"item?id=27575955\">4&nbsp;comments</a>              </td></tr>\n",
            "      <tr class=\"spacer\" style=\"height:5px\"></tr>\n",
            "                <tr class='athing' id='27575872'>\n",
            "      <td align=\"right\" valign=\"top\" class=\"title\"><span class=\"rank\">30.</span></td>      <td valign=\"top\" class=\"votelinks\"><center><a id='up_27575872' href='vote?id=27575872&amp;how=up&amp;goto=news'><div class='votearrow' title='upvote'></div></a></center></td><td class=\"title\"><a href=\"https://www.eclogiselle.com/p/policies-that-make-poor-less-poor.html\" class=\"storylink\">Policies that make the poor less poor</a><span class=\"sitebit comhead\"> (<a href=\"from?site=eclogiselle.com\"><span class=\"sitestr\">eclogiselle.com</span></a>)</span></td></tr><tr><td colspan=\"2\"></td><td class=\"subtext\">\n",
            "        <span class=\"score\" id=\"score_27575872\">172 points</span> by <a href=\"user?id=DoreenMichele\" class=\"hnuser\">DoreenMichele</a> <span class=\"age\"><a href=\"item?id=27575872\">11 hours ago</a></span> <span id=\"unv_27575872\"></span> | <a href=\"hide?id=27575872&amp;goto=news\">hide</a> | <a href=\"item?id=27575872\">251&nbsp;comments</a>              </td></tr>\n",
            "      <tr class=\"spacer\" style=\"height:5px\"></tr>\n",
            "            <tr class=\"morespace\" style=\"height:10px\"></tr><tr><td colspan=\"2\"></td><td class=\"title\"><a href=\"news?p=2\" class=\"morelink\" rel=\"next\">More</a></td></tr>\n",
            "  </table>\n",
            "</td></tr>\n",
            "<tr><td><img src=\"s.gif\" height=\"10\" width=\"0\"><table width=\"100%\" cellspacing=\"0\" cellpadding=\"1\"><tr><td bgcolor=\"#ff6600\"></td></tr></table><br><center><span class=\"yclinks\"><a href=\"newsguidelines.html\">Guidelines</a>\n",
            "        | <a href=\"newsfaq.html\">FAQ</a>\n",
            "        | <a href=\"lists\">Lists</a>\n",
            "        | <a href=\"https://github.com/HackerNews/API\">API</a>\n",
            "        | <a href=\"security.html\">Security</a>\n",
            "        | <a href=\"http://www.ycombinator.com/legal/\">Legal</a>\n",
            "        | <a href=\"http://www.ycombinator.com/apply/\">Apply to YC</a>\n",
            "        | <a href=\"mailto:hn@ycombinator.com\">Contact</a></span><br><br><form method=\"get\" action=\"//hn.algolia.com/\">Search:\n",
            "          <input type=\"text\" name=\"q\" value=\"\" size=\"17\" autocorrect=\"off\" spellcheck=\"false\" autocapitalize=\"off\" autocomplete=\"false\"></form>\n",
            "            </center></td></tr>\n",
            "      </table></center></body><script type='text/javascript' src='hn.js?vk3lMsDnqyxpcJmXGtyi'></script></html>\n",
            "\n"
          ],
          "name": "stdout"
        }
      ]
    },
    {
      "cell_type": "code",
      "metadata": {
        "colab": {
          "base_uri": "https://localhost:8080/"
        },
        "id": "8b0H7hbsnTSk",
        "outputId": "9123f663-bdd5-4a80-823a-577fcc1e9ebf"
      },
      "source": [
        "import re\n",
        "\n",
        "# Remove HTML tags using RegEx\n",
        "pattern = re.compile(r'<.*?>') # tags look like <...>  (Define a pattern to match all HTML tags)\n",
        "print(pattern.sub('', r.text)) # replace them with blank\n",
        "\n",
        "# There is a lot of javascript and a number of items we don't need.\n",
        "# In fact, this regular expression somehow didn't match some tags"
      ],
      "execution_count": 10,
      "outputs": [
        {
          "output_type": "stream",
          "text": [
            "\n",
            "        \n",
            "          \n",
            "        Hacker News\n",
            "        \n",
            "                  Hacker News\n",
            "              new | past | comments | ask | show | jobs | submit            \n",
            "                              login\n",
            "                          \n",
            "              \n",
            "\n",
            "              \n",
            "      1.      Yggdrasil – Early-stage implementation of an end-to-end encrypted IPv6 network (github.com/yggdrasil-network)\n",
            "        269 points by dragonsh 6 hours ago  | hide | 55&nbsp;comments              \n",
            "      \n",
            "                \n",
            "      2.      JPEG XL (jpegxl.info)\n",
            "        199 points by tosh 6 hours ago  | hide | 107&nbsp;comments              \n",
            "      \n",
            "                \n",
            "      3.      Fluid Paint (david.li)\n",
            "        231 points by pjerem 5 hours ago  | hide | 27&nbsp;comments              \n",
            "      \n",
            "                \n",
            "      4.      LibreCellular (librecellular.org)\n",
            "        167 points by pabs3 5 hours ago  | hide | 17&nbsp;comments              \n",
            "      \n",
            "                \n",
            "      5.      OrganicMaps is Android and iOS offline maps for travel without trackers or ads (organicmaps.app)\n",
            "        192 points by wertik13 7 hours ago  | hide | 65&nbsp;comments              \n",
            "      \n",
            "                \n",
            "      6.      Path Tracing Quake in Blender (matthewearl.github.io)\n",
            "        33 points by kipi 2 hours ago  | hide | 6&nbsp;comments              \n",
            "      \n",
            "                \n",
            "      7.      A good livestreaming setup is a well-tailored suit (spandex.substack.com)\n",
            "        90 points by darimo 5 hours ago  | hide | 43&nbsp;comments              \n",
            "      \n",
            "                \n",
            "      8.      USC professor’s DIY online teaching hack to engage students goes viral (2020) (usc.edu)\n",
            "        290 points by grzm 12 hours ago  | hide | 53&nbsp;comments              \n",
            "      \n",
            "                \n",
            "      9.      Column – High-performance, columnar, in-memory store with bitmap indexing in Go (github.com/kelindar)\n",
            "        74 points by ngaut 6 hours ago  | hide | 12&nbsp;comments              \n",
            "      \n",
            "                \n",
            "      10.      Reading Grossman's “Stalingrad” and ”Life and Fate” (adamtooze.substack.com)\n",
            "        45 points by mathgenius 5 hours ago  | hide | 6&nbsp;comments              \n",
            "      \n",
            "                \n",
            "      11.      Centaur Labs (YC W19) Is Hiring a Senior Back End Engineer in Boston (ycombinator.com)\n",
            "        2 hours ago | hide      \n",
            "      \n",
            "                \n",
            "      12.      SLSA, an End-to-End Framework for Supply Chain Integrity (googleblog.com)\n",
            "        12 points by rbinv 2 hours ago  | hide | 5&nbsp;comments              \n",
            "      \n",
            "                \n",
            "      13.      Turn your old, cracked Android phone into a backup server (hannahtech.co)\n",
            "        138 points by thunderbong 10 hours ago  | hide | 74&nbsp;comments              \n",
            "      \n",
            "                \n",
            "      14.      The “API Mandate” memo at Amazon (chrislaing.net)\n",
            "        301 points by laingc 13 hours ago  | hide | 101&nbsp;comments              \n",
            "      \n",
            "                \n",
            "      15.      The Lazarus heist: How North Korea almost pulled off a billion-dollar hack (bbc.com)\n",
            "        107 points by pseudolus 11 hours ago  | hide | 27&nbsp;comments              \n",
            "      \n",
            "                \n",
            "      16.      How to end up with 500k commits in your log (arp242.net)\n",
            "        61 points by benhoyt 6 hours ago  | hide | 31&nbsp;comments              \n",
            "      \n",
            "                \n",
            "      17.      Mindat.org, the largest open database of minerals, rocks, and meteorites (mindat.org)\n",
            "        153 points by cdepman 12 hours ago  | hide | 17&nbsp;comments              \n",
            "      \n",
            "                \n",
            "      18.      Finding the Bottom Turtle (dave.tf)\n",
            "        112 points by zdw 11 hours ago  | hide | 44&nbsp;comments              \n",
            "      \n",
            "                \n",
            "      19.      Japan's government plans to encourage 4-day workweek, but experts split (mainichi.jp)\n",
            "        783 points by m3at 12 hours ago  | hide | 405&nbsp;comments              \n",
            "      \n",
            "                \n",
            "      20.      Don't Piss Off Bradley, the Parts Seller Keeping Atari Machines Alive (vice.com)\n",
            "        114 points by zdw 11 hours ago  | hide | 64&nbsp;comments              \n",
            "      \n",
            "                \n",
            "      21.      Ask HN: How to learn proper Systems Programming?\n",
            "        121 points by systems_learn 5 hours ago  | hide | 29&nbsp;comments              \n",
            "      \n",
            "                \n",
            "      22.      Enthusiastic amateurs advance science as they hunt for exotic mushrooms (npr.org)\n",
            "        65 points by jdnier 10 hours ago  | hide | 16&nbsp;comments              \n",
            "      \n",
            "                \n",
            "      23.      Scite: Smart Citations for Better Research (scite.ai)\n",
            "        25 points by polm23 4 hours ago  | hide | 10&nbsp;comments              \n",
            "      \n",
            "                \n",
            "      24.      Humans are more dependent on water than many other mammals (scientificamerican.com)\n",
            "        47 points by yusuf_giftworks 3 hours ago  | hide | 65&nbsp;comments              \n",
            "      \n",
            "                \n",
            "      25.      JPEG XL would be Turing-complete (dbohdan.com)\n",
            "        85 points by networked 9 hours ago  | hide | 28&nbsp;comments              \n",
            "      \n",
            "                \n",
            "      26.      A dwarf planet coming within 11 AU of the sun over the next 10 years (groups.io)\n",
            "        564 points by MKais 19 hours ago  | hide | 289&nbsp;comments              \n",
            "      \n",
            "                \n",
            "      27.      Nixos-unstable’s ISO_minimal.x86_64-Linux is 100% reproducible (nixos.org)\n",
            "        692 points by todsacerdoti 18 hours ago  | hide | 197&nbsp;comments              \n",
            "      \n",
            "                \n",
            "      28.      The Ice-V: a simple, compact RISC-V RV32I implementation in Silice (github.com/sylefeb)\n",
            "        60 points by kqr2 12 hours ago  | hide | 21&nbsp;comments              \n",
            "      \n",
            "                \n",
            "      29.      What it was like to be peer reviewed in the 1860s (2017) (scitation.org)\n",
            "        42 points by azhenley 11 hours ago  | hide | 4&nbsp;comments              \n",
            "      \n",
            "                \n",
            "      30.      Policies that make the poor less poor (eclogiselle.com)\n",
            "        172 points by DoreenMichele 11 hours ago  | hide | 251&nbsp;comments              \n",
            "      \n",
            "            More\n",
            "  \n",
            "\n",
            "Guidelines\n",
            "        | FAQ\n",
            "        | Lists\n",
            "        | API\n",
            "        | Security\n",
            "        | Legal\n",
            "        | Apply to YC\n",
            "        | ContactSearch:\n",
            "          \n",
            "            \n",
            "      \n",
            "\n"
          ],
          "name": "stdout"
        }
      ]
    },
    {
      "cell_type": "code",
      "metadata": {
        "colab": {
          "base_uri": "https://localhost:8080/"
        },
        "id": "ai2Klb27oNYS",
        "outputId": "a041d0b9-f606-4beb-c1a1-8575a0651041"
      },
      "source": [
        "from bs4 import BeautifulSoup\n",
        "\n",
        "# Remove HTML tags using Beautiful Soup library\n",
        "soup = BeautifulSoup(r.text, \"html5lib\")\n",
        "print(soup.get_text())"
      ],
      "execution_count": 11,
      "outputs": [
        {
          "output_type": "stream",
          "text": [
            "\n",
            "        \n",
            "          \n",
            "        Hacker News\n",
            "        \n",
            "                  Hacker News\n",
            "              new | past | comments | ask | show | jobs | submit            \n",
            "                              login\n",
            "                          \n",
            "              \n",
            "\n",
            "              \n",
            "      1.      Yggdrasil – Early-stage implementation of an end-to-end encrypted IPv6 network (github.com/yggdrasil-network)\n",
            "        269 points by dragonsh 6 hours ago  | hide | 55 comments              \n",
            "      \n",
            "                \n",
            "      2.      JPEG XL (jpegxl.info)\n",
            "        199 points by tosh 6 hours ago  | hide | 107 comments              \n",
            "      \n",
            "                \n",
            "      3.      Fluid Paint (david.li)\n",
            "        231 points by pjerem 5 hours ago  | hide | 27 comments              \n",
            "      \n",
            "                \n",
            "      4.      LibreCellular (librecellular.org)\n",
            "        167 points by pabs3 5 hours ago  | hide | 17 comments              \n",
            "      \n",
            "                \n",
            "      5.      OrganicMaps is Android and iOS offline maps for travel without trackers or ads (organicmaps.app)\n",
            "        192 points by wertik13 7 hours ago  | hide | 65 comments              \n",
            "      \n",
            "                \n",
            "      6.      Path Tracing Quake in Blender (matthewearl.github.io)\n",
            "        33 points by kipi 2 hours ago  | hide | 6 comments              \n",
            "      \n",
            "                \n",
            "      7.      A good livestreaming setup is a well-tailored suit (spandex.substack.com)\n",
            "        90 points by darimo 5 hours ago  | hide | 43 comments              \n",
            "      \n",
            "                \n",
            "      8.      USC professor’s DIY online teaching hack to engage students goes viral (2020) (usc.edu)\n",
            "        290 points by grzm 12 hours ago  | hide | 53 comments              \n",
            "      \n",
            "                \n",
            "      9.      Column – High-performance, columnar, in-memory store with bitmap indexing in Go (github.com/kelindar)\n",
            "        74 points by ngaut 6 hours ago  | hide | 12 comments              \n",
            "      \n",
            "                \n",
            "      10.      Reading Grossman's “Stalingrad” and ”Life and Fate” (adamtooze.substack.com)\n",
            "        45 points by mathgenius 5 hours ago  | hide | 6 comments              \n",
            "      \n",
            "                \n",
            "      11.      Centaur Labs (YC W19) Is Hiring a Senior Back End Engineer in Boston (ycombinator.com)\n",
            "        2 hours ago | hide      \n",
            "      \n",
            "                \n",
            "      12.      SLSA, an End-to-End Framework for Supply Chain Integrity (googleblog.com)\n",
            "        12 points by rbinv 2 hours ago  | hide | 5 comments              \n",
            "      \n",
            "                \n",
            "      13.      Turn your old, cracked Android phone into a backup server (hannahtech.co)\n",
            "        138 points by thunderbong 10 hours ago  | hide | 74 comments              \n",
            "      \n",
            "                \n",
            "      14.      The “API Mandate” memo at Amazon (chrislaing.net)\n",
            "        301 points by laingc 13 hours ago  | hide | 101 comments              \n",
            "      \n",
            "                \n",
            "      15.      The Lazarus heist: How North Korea almost pulled off a billion-dollar hack (bbc.com)\n",
            "        107 points by pseudolus 11 hours ago  | hide | 27 comments              \n",
            "      \n",
            "                \n",
            "      16.      How to end up with 500k commits in your log (arp242.net)\n",
            "        61 points by benhoyt 6 hours ago  | hide | 31 comments              \n",
            "      \n",
            "                \n",
            "      17.      Mindat.org, the largest open database of minerals, rocks, and meteorites (mindat.org)\n",
            "        153 points by cdepman 12 hours ago  | hide | 17 comments              \n",
            "      \n",
            "                \n",
            "      18.      Finding the Bottom Turtle (dave.tf)\n",
            "        112 points by zdw 11 hours ago  | hide | 44 comments              \n",
            "      \n",
            "                \n",
            "      19.      Japan's government plans to encourage 4-day workweek, but experts split (mainichi.jp)\n",
            "        783 points by m3at 12 hours ago  | hide | 405 comments              \n",
            "      \n",
            "                \n",
            "      20.      Don't Piss Off Bradley, the Parts Seller Keeping Atari Machines Alive (vice.com)\n",
            "        114 points by zdw 11 hours ago  | hide | 64 comments              \n",
            "      \n",
            "                \n",
            "      21.      Ask HN: How to learn proper Systems Programming?\n",
            "        121 points by systems_learn 5 hours ago  | hide | 29 comments              \n",
            "      \n",
            "                \n",
            "      22.      Enthusiastic amateurs advance science as they hunt for exotic mushrooms (npr.org)\n",
            "        65 points by jdnier 10 hours ago  | hide | 16 comments              \n",
            "      \n",
            "                \n",
            "      23.      Scite: Smart Citations for Better Research (scite.ai)\n",
            "        25 points by polm23 4 hours ago  | hide | 10 comments              \n",
            "      \n",
            "                \n",
            "      24.      Humans are more dependent on water than many other mammals (scientificamerican.com)\n",
            "        47 points by yusuf_giftworks 3 hours ago  | hide | 65 comments              \n",
            "      \n",
            "                \n",
            "      25.      JPEG XL would be Turing-complete (dbohdan.com)\n",
            "        85 points by networked 9 hours ago  | hide | 28 comments              \n",
            "      \n",
            "                \n",
            "      26.      A dwarf planet coming within 11 AU of the sun over the next 10 years (groups.io)\n",
            "        564 points by MKais 19 hours ago  | hide | 289 comments              \n",
            "      \n",
            "                \n",
            "      27.      Nixos-unstable’s ISO_minimal.x86_64-Linux is 100% reproducible (nixos.org)\n",
            "        692 points by todsacerdoti 18 hours ago  | hide | 197 comments              \n",
            "      \n",
            "                \n",
            "      28.      The Ice-V: a simple, compact RISC-V RV32I implementation in Silice (github.com/sylefeb)\n",
            "        60 points by kqr2 12 hours ago  | hide | 21 comments              \n",
            "      \n",
            "                \n",
            "      29.      What it was like to be peer reviewed in the 1860s (2017) (scitation.org)\n",
            "        42 points by azhenley 11 hours ago  | hide | 4 comments              \n",
            "      \n",
            "                \n",
            "      30.      Policies that make the poor less poor (eclogiselle.com)\n",
            "        172 points by DoreenMichele 11 hours ago  | hide | 251 comments              \n",
            "      \n",
            "            More\n",
            "  \n",
            "\n",
            "Guidelines\n",
            "        | FAQ\n",
            "        | Lists\n",
            "        | API\n",
            "        | Security\n",
            "        | Legal\n",
            "        | Apply to YC\n",
            "        | ContactSearch:\n",
            "          \n",
            "            \n",
            "      \n",
            "\n"
          ],
          "name": "stdout"
        }
      ]
    },
    {
      "cell_type": "code",
      "metadata": {
        "colab": {
          "base_uri": "https://localhost:8080/"
        },
        "id": "Dhf4grGGoOTS",
        "outputId": "26582251-2b26-4d8c-ad7c-ca0b0bc590db"
      },
      "source": [
        "# Find all articles\n",
        "summaries = soup.find_all(\"tr\", class_=\"athing\")\n",
        "summaries[0]"
      ],
      "execution_count": 12,
      "outputs": [
        {
          "output_type": "execute_result",
          "data": {
            "text/plain": [
              "<tr class=\"athing\" id=\"27577201\">\n",
              "      <td align=\"right\" class=\"title\" valign=\"top\"><span class=\"rank\">1.</span></td>      <td class=\"votelinks\" valign=\"top\"><center><a href=\"vote?id=27577201&amp;how=up&amp;goto=news\" id=\"up_27577201\"><div class=\"votearrow\" title=\"upvote\"></div></a></center></td><td class=\"title\"><a class=\"storylink\" href=\"https://github.com/yggdrasil-network/yggdrasil-go\">Yggdrasil – Early-stage implementation of an end-to-end encrypted IPv6 network</a><span class=\"sitebit comhead\"> (<a href=\"from?site=github.com/yggdrasil-network\"><span class=\"sitestr\">github.com/yggdrasil-network</span></a>)</span></td></tr>"
            ]
          },
          "metadata": {
            "tags": []
          },
          "execution_count": 12
        }
      ]
    },
    {
      "cell_type": "code",
      "metadata": {
        "colab": {
          "base_uri": "https://localhost:8080/",
          "height": 35
        },
        "id": "qrSEIvJKvbre",
        "outputId": "9a922cd8-7a50-4eb5-de1e-e575fa6f5cfd"
      },
      "source": [
        "# Extract title\n",
        "summaries[0].find(\"a\", class_=\"storylink\").get_text().strip()"
      ],
      "execution_count": 13,
      "outputs": [
        {
          "output_type": "execute_result",
          "data": {
            "application/vnd.google.colaboratory.intrinsic+json": {
              "type": "string"
            },
            "text/plain": [
              "'Yggdrasil – Early-stage implementation of an end-to-end encrypted IPv6 network'"
            ]
          },
          "metadata": {
            "tags": []
          },
          "execution_count": 13
        }
      ]
    },
    {
      "cell_type": "code",
      "metadata": {
        "colab": {
          "base_uri": "https://localhost:8080/"
        },
        "id": "Wpjnr8EAwFqI",
        "outputId": "8d57a2df-158f-4880-a612-5461d2635e01"
      },
      "source": [
        "# Find all articles, extract titles\n",
        "articles = []\n",
        "summaries = soup.find_all(\"tr\", class_=\"athing\")\n",
        "for summary in summaries:\n",
        "  title = summary.find(\"a\", class_=\"storylink\").get_text().strip()\n",
        "  articles.append(title)\n",
        "\n",
        "print(len(articles), \"Article summaries found. Sample:\")\n",
        "print(articles[0])"
      ],
      "execution_count": 14,
      "outputs": [
        {
          "output_type": "stream",
          "text": [
            "30 Article summaries found. Sample:\n",
            "Yggdrasil – Early-stage implementation of an end-to-end encrypted IPv6 network\n"
          ],
          "name": "stdout"
        }
      ]
    },
    {
      "cell_type": "markdown",
      "metadata": {
        "id": "iuBOtV3Tzdcc"
      },
      "source": [
        "## **Normalization**"
      ]
    },
    {
      "cell_type": "markdown",
      "metadata": {
        "id": "-BP89x7zzt43"
      },
      "source": [
        "#### **Case Normalization**"
      ]
    },
    {
      "cell_type": "code",
      "metadata": {
        "colab": {
          "base_uri": "https://localhost:8080/"
        },
        "id": "b6suDNfLx94c",
        "outputId": "ede03722-6bf1-4e74-d1f0-ebc120c2a69c"
      },
      "source": [
        "# Sample text\n",
        "text = \"The first time you see The Second Renaissance it may look boring. Look at it at least twice and definitely watch part 2. It will change your view of the matrix. Are the human people the ones who started the war ? Is AI a bad thing ?\"\n",
        "print(text)"
      ],
      "execution_count": 15,
      "outputs": [
        {
          "output_type": "stream",
          "text": [
            "The first time you see The Second Renaissance it may look boring. Look at it at least twice and definitely watch part 2. It will change your view of the matrix. Are the human people the ones who started the war ? Is AI a bad thing ?\n"
          ],
          "name": "stdout"
        }
      ]
    },
    {
      "cell_type": "code",
      "metadata": {
        "colab": {
          "base_uri": "https://localhost:8080/"
        },
        "id": "PjapPTPNzwsf",
        "outputId": "26a0d3e9-1888-4618-83c0-2866c87feaf1"
      },
      "source": [
        "# Convert to lowercase\n",
        "text = text.lower() \n",
        "print(text)"
      ],
      "execution_count": 16,
      "outputs": [
        {
          "output_type": "stream",
          "text": [
            "the first time you see the second renaissance it may look boring. look at it at least twice and definitely watch part 2. it will change your view of the matrix. are the human people the ones who started the war ? is ai a bad thing ?\n"
          ],
          "name": "stdout"
        }
      ]
    },
    {
      "cell_type": "markdown",
      "metadata": {
        "id": "wz-lwM_vz0wX"
      },
      "source": [
        "#### **Punctuation Removal**"
      ]
    },
    {
      "cell_type": "code",
      "metadata": {
        "colab": {
          "base_uri": "https://localhost:8080/"
        },
        "id": "4DoYVVPzzyUP",
        "outputId": "61a0022f-987b-42fa-cf42-234fe0935423"
      },
      "source": [
        "import re\n",
        "\n",
        "# Remove punctuation characters\n",
        "# match everything that is not a lowercase a-z, uppercase A-Z, or digits 0-9, and replaces them with a space.\n",
        "text = re.sub(r\"[^a-zA-Z0-9]\", \" \", text) \n",
        "print(text)"
      ],
      "execution_count": 17,
      "outputs": [
        {
          "output_type": "stream",
          "text": [
            "the first time you see the second renaissance it may look boring  look at it at least twice and definitely watch part 2  it will change your view of the matrix  are the human people the ones who started the war   is ai a bad thing  \n"
          ],
          "name": "stdout"
        }
      ]
    },
    {
      "cell_type": "markdown",
      "metadata": {
        "id": "_lpqqJYq1X5p"
      },
      "source": [
        "## **Tokenization**"
      ]
    },
    {
      "cell_type": "code",
      "metadata": {
        "colab": {
          "base_uri": "https://localhost:8080/"
        },
        "id": "6KJoLeJkz5eR",
        "outputId": "726118bc-42aa-4505-8d6a-27f9fc507771"
      },
      "source": [
        "# Split text into tokens (words)\n",
        "words = text.split()\n",
        "print(words)"
      ],
      "execution_count": 18,
      "outputs": [
        {
          "output_type": "stream",
          "text": [
            "['the', 'first', 'time', 'you', 'see', 'the', 'second', 'renaissance', 'it', 'may', 'look', 'boring', 'look', 'at', 'it', 'at', 'least', 'twice', 'and', 'definitely', 'watch', 'part', '2', 'it', 'will', 'change', 'your', 'view', 'of', 'the', 'matrix', 'are', 'the', 'human', 'people', 'the', 'ones', 'who', 'started', 'the', 'war', 'is', 'ai', 'a', 'bad', 'thing']\n"
          ],
          "name": "stdout"
        }
      ]
    },
    {
      "cell_type": "markdown",
      "metadata": {
        "id": "rb_4cNy_1cbi"
      },
      "source": [
        "#### **NLTK: Natural Language ToolKit**"
      ]
    },
    {
      "cell_type": "code",
      "metadata": {
        "colab": {
          "base_uri": "https://localhost:8080/"
        },
        "id": "qkKP5uAw1a_B",
        "outputId": "9c912de9-f8ba-41a9-8bbd-eb9668404ad5"
      },
      "source": [
        "import os\n",
        "import nltk\n",
        "# nltk.data.path.append(os.path.join(os.getcwd(), \"nltk_data\"))\n",
        "# nltk.download('punkt')\n",
        "# nltk.download('stopwords')\n",
        "# nltk.download('averaged_perceptron_tagger')\n",
        "# nltk.download('maxent_ne_chunker')\n",
        "# nltk.download('words')\n",
        "# import all the resources for Natural Language Processing with Python\n",
        "nltk.download(\"book\")"
      ],
      "execution_count": 19,
      "outputs": [
        {
          "output_type": "stream",
          "text": [
            "[nltk_data] Downloading collection 'book'\n",
            "[nltk_data]    | \n",
            "[nltk_data]    | Downloading package abc to /root/nltk_data...\n",
            "[nltk_data]    |   Unzipping corpora/abc.zip.\n",
            "[nltk_data]    | Downloading package brown to /root/nltk_data...\n",
            "[nltk_data]    |   Unzipping corpora/brown.zip.\n",
            "[nltk_data]    | Downloading package chat80 to /root/nltk_data...\n",
            "[nltk_data]    |   Unzipping corpora/chat80.zip.\n",
            "[nltk_data]    | Downloading package cmudict to /root/nltk_data...\n",
            "[nltk_data]    |   Unzipping corpora/cmudict.zip.\n",
            "[nltk_data]    | Downloading package conll2000 to /root/nltk_data...\n",
            "[nltk_data]    |   Unzipping corpora/conll2000.zip.\n",
            "[nltk_data]    | Downloading package conll2002 to /root/nltk_data...\n",
            "[nltk_data]    |   Unzipping corpora/conll2002.zip.\n",
            "[nltk_data]    | Downloading package dependency_treebank to\n",
            "[nltk_data]    |     /root/nltk_data...\n",
            "[nltk_data]    |   Unzipping corpora/dependency_treebank.zip.\n",
            "[nltk_data]    | Downloading package genesis to /root/nltk_data...\n",
            "[nltk_data]    |   Unzipping corpora/genesis.zip.\n",
            "[nltk_data]    | Downloading package gutenberg to /root/nltk_data...\n",
            "[nltk_data]    |   Unzipping corpora/gutenberg.zip.\n",
            "[nltk_data]    | Downloading package ieer to /root/nltk_data...\n",
            "[nltk_data]    |   Unzipping corpora/ieer.zip.\n",
            "[nltk_data]    | Downloading package inaugural to /root/nltk_data...\n",
            "[nltk_data]    |   Unzipping corpora/inaugural.zip.\n",
            "[nltk_data]    | Downloading package movie_reviews to\n",
            "[nltk_data]    |     /root/nltk_data...\n",
            "[nltk_data]    |   Unzipping corpora/movie_reviews.zip.\n",
            "[nltk_data]    | Downloading package nps_chat to /root/nltk_data...\n",
            "[nltk_data]    |   Unzipping corpora/nps_chat.zip.\n",
            "[nltk_data]    | Downloading package names to /root/nltk_data...\n",
            "[nltk_data]    |   Unzipping corpora/names.zip.\n",
            "[nltk_data]    | Downloading package ppattach to /root/nltk_data...\n",
            "[nltk_data]    |   Unzipping corpora/ppattach.zip.\n",
            "[nltk_data]    | Downloading package reuters to /root/nltk_data...\n",
            "[nltk_data]    | Downloading package senseval to /root/nltk_data...\n",
            "[nltk_data]    |   Unzipping corpora/senseval.zip.\n",
            "[nltk_data]    | Downloading package state_union to /root/nltk_data...\n",
            "[nltk_data]    |   Unzipping corpora/state_union.zip.\n",
            "[nltk_data]    | Downloading package stopwords to /root/nltk_data...\n",
            "[nltk_data]    |   Unzipping corpora/stopwords.zip.\n",
            "[nltk_data]    | Downloading package swadesh to /root/nltk_data...\n",
            "[nltk_data]    |   Unzipping corpora/swadesh.zip.\n",
            "[nltk_data]    | Downloading package timit to /root/nltk_data...\n",
            "[nltk_data]    |   Unzipping corpora/timit.zip.\n",
            "[nltk_data]    | Downloading package treebank to /root/nltk_data...\n",
            "[nltk_data]    |   Unzipping corpora/treebank.zip.\n",
            "[nltk_data]    | Downloading package toolbox to /root/nltk_data...\n",
            "[nltk_data]    |   Unzipping corpora/toolbox.zip.\n",
            "[nltk_data]    | Downloading package udhr to /root/nltk_data...\n",
            "[nltk_data]    |   Unzipping corpora/udhr.zip.\n",
            "[nltk_data]    | Downloading package udhr2 to /root/nltk_data...\n",
            "[nltk_data]    |   Unzipping corpora/udhr2.zip.\n",
            "[nltk_data]    | Downloading package unicode_samples to\n",
            "[nltk_data]    |     /root/nltk_data...\n",
            "[nltk_data]    |   Unzipping corpora/unicode_samples.zip.\n",
            "[nltk_data]    | Downloading package webtext to /root/nltk_data...\n",
            "[nltk_data]    |   Unzipping corpora/webtext.zip.\n",
            "[nltk_data]    | Downloading package wordnet to /root/nltk_data...\n",
            "[nltk_data]    |   Unzipping corpora/wordnet.zip.\n",
            "[nltk_data]    | Downloading package wordnet_ic to /root/nltk_data...\n",
            "[nltk_data]    |   Unzipping corpora/wordnet_ic.zip.\n",
            "[nltk_data]    | Downloading package words to /root/nltk_data...\n",
            "[nltk_data]    |   Unzipping corpora/words.zip.\n",
            "[nltk_data]    | Downloading package maxent_treebank_pos_tagger to\n",
            "[nltk_data]    |     /root/nltk_data...\n",
            "[nltk_data]    |   Unzipping taggers/maxent_treebank_pos_tagger.zip.\n",
            "[nltk_data]    | Downloading package maxent_ne_chunker to\n",
            "[nltk_data]    |     /root/nltk_data...\n",
            "[nltk_data]    |   Unzipping chunkers/maxent_ne_chunker.zip.\n",
            "[nltk_data]    | Downloading package universal_tagset to\n",
            "[nltk_data]    |     /root/nltk_data...\n",
            "[nltk_data]    |   Unzipping taggers/universal_tagset.zip.\n",
            "[nltk_data]    | Downloading package punkt to /root/nltk_data...\n",
            "[nltk_data]    |   Unzipping tokenizers/punkt.zip.\n",
            "[nltk_data]    | Downloading package book_grammars to\n",
            "[nltk_data]    |     /root/nltk_data...\n",
            "[nltk_data]    |   Unzipping grammars/book_grammars.zip.\n",
            "[nltk_data]    | Downloading package city_database to\n",
            "[nltk_data]    |     /root/nltk_data...\n",
            "[nltk_data]    |   Unzipping corpora/city_database.zip.\n",
            "[nltk_data]    | Downloading package tagsets to /root/nltk_data...\n",
            "[nltk_data]    |   Unzipping help/tagsets.zip.\n",
            "[nltk_data]    | Downloading package panlex_swadesh to\n",
            "[nltk_data]    |     /root/nltk_data...\n",
            "[nltk_data]    | Downloading package averaged_perceptron_tagger to\n",
            "[nltk_data]    |     /root/nltk_data...\n",
            "[nltk_data]    |   Unzipping taggers/averaged_perceptron_tagger.zip.\n",
            "[nltk_data]    | \n",
            "[nltk_data]  Done downloading collection book\n"
          ],
          "name": "stdout"
        },
        {
          "output_type": "execute_result",
          "data": {
            "text/plain": [
              "True"
            ]
          },
          "metadata": {
            "tags": []
          },
          "execution_count": 19
        }
      ]
    },
    {
      "cell_type": "code",
      "metadata": {
        "colab": {
          "base_uri": "https://localhost:8080/"
        },
        "id": "57QxYuCO1jRf",
        "outputId": "38f400bc-dee0-49a9-8571-d31f6461d6dc"
      },
      "source": [
        "# Another sample text\n",
        "text = \"Dr. Smith graduated from the University of Washington. He later started an analytics firm called Lux, which catered to enterprise customers.\"\n",
        "print(text)"
      ],
      "execution_count": 20,
      "outputs": [
        {
          "output_type": "stream",
          "text": [
            "Dr. Smith graduated from the University of Washington. He later started an analytics firm called Lux, which catered to enterprise customers.\n"
          ],
          "name": "stdout"
        }
      ]
    },
    {
      "cell_type": "code",
      "metadata": {
        "colab": {
          "base_uri": "https://localhost:8080/"
        },
        "id": "3Rg2yTTj1mFx",
        "outputId": "ee6d8a8f-b087-4faa-976d-86586bea16c9"
      },
      "source": [
        "from nltk.tokenize import word_tokenize\n",
        "\n",
        "# Split text into words using NLTK\n",
        "words = word_tokenize(text)\n",
        "print(words)"
      ],
      "execution_count": 21,
      "outputs": [
        {
          "output_type": "stream",
          "text": [
            "['Dr.', 'Smith', 'graduated', 'from', 'the', 'University', 'of', 'Washington', '.', 'He', 'later', 'started', 'an', 'analytics', 'firm', 'called', 'Lux', ',', 'which', 'catered', 'to', 'enterprise', 'customers', '.']\n"
          ],
          "name": "stdout"
        }
      ]
    },
    {
      "cell_type": "code",
      "metadata": {
        "colab": {
          "base_uri": "https://localhost:8080/"
        },
        "id": "vDkyL_RM1nu2",
        "outputId": "b4fa73e0-8f92-4c0b-e2ac-6a9ea6d0f46c"
      },
      "source": [
        "from nltk.tokenize import sent_tokenize\n",
        "\n",
        "# Split text into sentences\n",
        "sentences = sent_tokenize(text)\n",
        "print(sentences)"
      ],
      "execution_count": 22,
      "outputs": [
        {
          "output_type": "stream",
          "text": [
            "['Dr. Smith graduated from the University of Washington.', 'He later started an analytics firm called Lux, which catered to enterprise customers.']\n"
          ],
          "name": "stdout"
        }
      ]
    },
    {
      "cell_type": "markdown",
      "metadata": {
        "id": "29RHKBLN1_An"
      },
      "source": [
        "## **Stop words removal**"
      ]
    },
    {
      "cell_type": "code",
      "metadata": {
        "colab": {
          "base_uri": "https://localhost:8080/"
        },
        "id": "gZW2Snqy1y8o",
        "outputId": "836add99-de4e-442a-ba2a-afd751581001"
      },
      "source": [
        "from nltk.corpus import stopwords\n",
        "print(stopwords.words(\"english\"))"
      ],
      "execution_count": 23,
      "outputs": [
        {
          "output_type": "stream",
          "text": [
            "['i', 'me', 'my', 'myself', 'we', 'our', 'ours', 'ourselves', 'you', \"you're\", \"you've\", \"you'll\", \"you'd\", 'your', 'yours', 'yourself', 'yourselves', 'he', 'him', 'his', 'himself', 'she', \"she's\", 'her', 'hers', 'herself', 'it', \"it's\", 'its', 'itself', 'they', 'them', 'their', 'theirs', 'themselves', 'what', 'which', 'who', 'whom', 'this', 'that', \"that'll\", 'these', 'those', 'am', 'is', 'are', 'was', 'were', 'be', 'been', 'being', 'have', 'has', 'had', 'having', 'do', 'does', 'did', 'doing', 'a', 'an', 'the', 'and', 'but', 'if', 'or', 'because', 'as', 'until', 'while', 'of', 'at', 'by', 'for', 'with', 'about', 'against', 'between', 'into', 'through', 'during', 'before', 'after', 'above', 'below', 'to', 'from', 'up', 'down', 'in', 'out', 'on', 'off', 'over', 'under', 'again', 'further', 'then', 'once', 'here', 'there', 'when', 'where', 'why', 'how', 'all', 'any', 'both', 'each', 'few', 'more', 'most', 'other', 'some', 'such', 'no', 'nor', 'not', 'only', 'own', 'same', 'so', 'than', 'too', 'very', 's', 't', 'can', 'will', 'just', 'don', \"don't\", 'should', \"should've\", 'now', 'd', 'll', 'm', 'o', 're', 've', 'y', 'ain', 'aren', \"aren't\", 'couldn', \"couldn't\", 'didn', \"didn't\", 'doesn', \"doesn't\", 'hadn', \"hadn't\", 'hasn', \"hasn't\", 'haven', \"haven't\", 'isn', \"isn't\", 'ma', 'mightn', \"mightn't\", 'mustn', \"mustn't\", 'needn', \"needn't\", 'shan', \"shan't\", 'shouldn', \"shouldn't\", 'wasn', \"wasn't\", 'weren', \"weren't\", 'won', \"won't\", 'wouldn', \"wouldn't\"]\n"
          ],
          "name": "stdout"
        }
      ]
    },
    {
      "cell_type": "code",
      "metadata": {
        "colab": {
          "base_uri": "https://localhost:8080/"
        },
        "id": "l2i2cbuC2MlM",
        "outputId": "1f708766-7c05-4667-8d1c-19ad27f9b9bb"
      },
      "source": [
        "# Reset text\n",
        "text = \"The first time you see The Second Renaissance it may look boring. Look at it at least twice and definitely watch part 2. It will change your view of the matrix. Are the human people the ones who started the war ? Is AI a bad thing ?\"\n",
        "\n",
        "# Normalize it\n",
        "text = re.sub(r\"[^a-zA-Z0-9]\", \" \", text.lower())\n",
        "\n",
        "# Tokenize it\n",
        "words = text.split()\n",
        "print(words)"
      ],
      "execution_count": 24,
      "outputs": [
        {
          "output_type": "stream",
          "text": [
            "['the', 'first', 'time', 'you', 'see', 'the', 'second', 'renaissance', 'it', 'may', 'look', 'boring', 'look', 'at', 'it', 'at', 'least', 'twice', 'and', 'definitely', 'watch', 'part', '2', 'it', 'will', 'change', 'your', 'view', 'of', 'the', 'matrix', 'are', 'the', 'human', 'people', 'the', 'ones', 'who', 'started', 'the', 'war', 'is', 'ai', 'a', 'bad', 'thing']\n"
          ],
          "name": "stdout"
        }
      ]
    },
    {
      "cell_type": "code",
      "metadata": {
        "colab": {
          "base_uri": "https://localhost:8080/"
        },
        "id": "XLSSb6qe25ot",
        "outputId": "c13224ef-7c9d-46d2-b158-5bd6344ad39d"
      },
      "source": [
        "# Remove stop words\n",
        "words = [w for w in words if w not in stopwords.words('english')]\n",
        "print(words)"
      ],
      "execution_count": 25,
      "outputs": [
        {
          "output_type": "stream",
          "text": [
            "['first', 'time', 'see', 'second', 'renaissance', 'may', 'look', 'boring', 'look', 'least', 'twice', 'definitely', 'watch', 'part', '2', 'change', 'view', 'matrix', 'human', 'people', 'ones', 'started', 'war', 'ai', 'bad', 'thing']\n"
          ],
          "name": "stdout"
        }
      ]
    },
    {
      "cell_type": "markdown",
      "metadata": {
        "id": "S62gwbyMDbGZ"
      },
      "source": [
        "## **Part-of-Speech Tagging**"
      ]
    },
    {
      "cell_type": "code",
      "metadata": {
        "colab": {
          "base_uri": "https://localhost:8080/"
        },
        "id": "77N1e7bl3MLy",
        "outputId": "ea285dfb-60a4-427c-b66b-5e505b763dd4"
      },
      "source": [
        "from nltk import pos_tag\n",
        "\n",
        "# Tag parts of speech (PoS)\n",
        "sentence = word_tokenize(\"I always lie down to tell a lie\")\n",
        "pos_tag(sentence)"
      ],
      "execution_count": 26,
      "outputs": [
        {
          "output_type": "execute_result",
          "data": {
            "text/plain": [
              "[('I', 'PRP'),\n",
              " ('always', 'RB'),\n",
              " ('lie', 'VBP'),\n",
              " ('down', 'RP'),\n",
              " ('to', 'TO'),\n",
              " ('tell', 'VB'),\n",
              " ('a', 'DT'),\n",
              " ('lie', 'NN')]"
            ]
          },
          "metadata": {
            "tags": []
          },
          "execution_count": 26
        }
      ]
    },
    {
      "cell_type": "markdown",
      "metadata": {
        "id": "3gbGlzRfEi-l"
      },
      "source": [
        "#### **Sentence Parsing**"
      ]
    },
    {
      "cell_type": "code",
      "metadata": {
        "colab": {
          "base_uri": "https://localhost:8080/"
        },
        "id": "Zyf7KK6lEMsP",
        "outputId": "ff4211db-e454-4c51-9397-fc8207301fc4"
      },
      "source": [
        "import nltk\n",
        "\n",
        "# Define a custom grammar\n",
        "my_grammar = nltk.CFG.fromstring(\"\"\"\n",
        "S -> NP VP\n",
        "PP -> P NP\n",
        "NP -> Det N | Det N PP | 'I'\n",
        "VP -> V NP | VP PP\n",
        "Det -> 'an' | 'my'\n",
        "N -> 'elephant' | 'pajamas'\n",
        "V -> 'shot'\n",
        "P -> 'in'\n",
        "\"\"\")\n",
        "parser = nltk.ChartParser(my_grammar)\n",
        "\n",
        "# Parse a sentence\n",
        "sentence = word_tokenize(\"I shot an elephant in my pajamas\")\n",
        "for tree in parser.parse(sentence):\n",
        "    print(tree)"
      ],
      "execution_count": 27,
      "outputs": [
        {
          "output_type": "stream",
          "text": [
            "(S\n",
            "  (NP I)\n",
            "  (VP\n",
            "    (VP (V shot) (NP (Det an) (N elephant)))\n",
            "    (PP (P in) (NP (Det my) (N pajamas)))))\n",
            "(S\n",
            "  (NP I)\n",
            "  (VP\n",
            "    (V shot)\n",
            "    (NP (Det an) (N elephant) (PP (P in) (NP (Det my) (N pajamas))))))\n"
          ],
          "name": "stdout"
        }
      ]
    },
    {
      "cell_type": "markdown",
      "metadata": {
        "id": "-OzQ5VxIGC2v"
      },
      "source": [
        "## **Named Entity Recognition**"
      ]
    },
    {
      "cell_type": "code",
      "metadata": {
        "colab": {
          "base_uri": "https://localhost:8080/"
        },
        "id": "zxmfNuiHFPdn",
        "outputId": "cdac9bd4-96b9-4111-96b8-de80b33a20dc"
      },
      "source": [
        "from nltk import pos_tag, ne_chunk\n",
        "from nltk import word_tokenize\n",
        "\n",
        "# Recognize named entities in a tagged sentence\n",
        "tagged = pos_tag(word_tokenize(\"Shohei Otani joined MLB Inc. in Los Angeles.\"))\n",
        "entities = ne_chunk(tagged)\n",
        "print(entities)"
      ],
      "execution_count": 28,
      "outputs": [
        {
          "output_type": "stream",
          "text": [
            "(S\n",
            "  (PERSON Shohei/NNP)\n",
            "  (PERSON Otani/NNP)\n",
            "  joined/VBD\n",
            "  (ORGANIZATION MLB/NNP Inc./NNP)\n",
            "  in/IN\n",
            "  (GPE Los/NNP Angeles/NNP)\n",
            "  ./.)\n"
          ],
          "name": "stdout"
        }
      ]
    },
    {
      "cell_type": "markdown",
      "metadata": {
        "id": "FLEjmj5q_YNH"
      },
      "source": [
        "## **Stemming & Lemmatization**"
      ]
    },
    {
      "cell_type": "markdown",
      "metadata": {
        "id": "v9jg2NMY_bsG"
      },
      "source": [
        "#### **Stemming**"
      ]
    },
    {
      "cell_type": "code",
      "metadata": {
        "colab": {
          "base_uri": "https://localhost:8080/"
        },
        "id": "eDlsyDTyVbJf",
        "outputId": "429c6910-180f-4022-fb8f-7fc297f8f6ed"
      },
      "source": [
        "from nltk.stem.porter import PorterStemmer\n",
        "\n",
        "# Reduce words to their stems\n",
        "stemmed = [PorterStemmer().stem(w) for w in words]\n",
        "print(stemmed)"
      ],
      "execution_count": 29,
      "outputs": [
        {
          "output_type": "stream",
          "text": [
            "['first', 'time', 'see', 'second', 'renaiss', 'may', 'look', 'bore', 'look', 'least', 'twice', 'definit', 'watch', 'part', '2', 'chang', 'view', 'matrix', 'human', 'peopl', 'one', 'start', 'war', 'ai', 'bad', 'thing']\n"
          ],
          "name": "stdout"
        }
      ]
    },
    {
      "cell_type": "markdown",
      "metadata": {
        "id": "Mu6S5ACHBiI2"
      },
      "source": [
        "#### **Lemmatization**"
      ]
    },
    {
      "cell_type": "code",
      "metadata": {
        "colab": {
          "base_uri": "https://localhost:8080/"
        },
        "id": "LGtbiG9tBAhV",
        "outputId": "251bec74-f42e-47f2-95de-41d91e063d41"
      },
      "source": [
        "from nltk.stem.wordnet import WordNetLemmatizer\n",
        "\n",
        "# Reduce words to their root form\n",
        "lemmed = [WordNetLemmatizer().lemmatize(w) for w in words]\n",
        "print(lemmed)"
      ],
      "execution_count": 30,
      "outputs": [
        {
          "output_type": "stream",
          "text": [
            "['first', 'time', 'see', 'second', 'renaissance', 'may', 'look', 'boring', 'look', 'least', 'twice', 'definitely', 'watch', 'part', '2', 'change', 'view', 'matrix', 'human', 'people', 'one', 'started', 'war', 'ai', 'bad', 'thing']\n"
          ],
          "name": "stdout"
        }
      ]
    },
    {
      "cell_type": "markdown",
      "metadata": {
        "id": "kgi7JEc0COxe"
      },
      "source": [
        "The lemmatizer needs to know or make an assumption about the PoS of each word it's trying to transform.  \n",
        "In this case, WordNetLemmatizer defaults to nouns, but we can override that by specifying the PoS parameter."
      ]
    },
    {
      "cell_type": "code",
      "metadata": {
        "colab": {
          "base_uri": "https://localhost:8080/"
        },
        "id": "VlvZCckiB5Nj",
        "outputId": "593db89c-3ca5-4543-985d-4478db889f6f"
      },
      "source": [
        "# Lemmatize verbs by specifying pos\n",
        "lemmed = [WordNetLemmatizer().lemmatize(w, pos='v') for w in lemmed]\n",
        "print(lemmed)"
      ],
      "execution_count": 33,
      "outputs": [
        {
          "output_type": "stream",
          "text": [
            "['first', 'time', 'see', 'second', 'renaissance', 'may', 'look', 'bore', 'look', 'least', 'twice', 'definitely', 'watch', 'part', '2', 'change', 'view', 'matrix', 'human', 'people', 'one', 'start', 'war', 'ai', 'bad', 'thing']\n"
          ],
          "name": "stdout"
        }
      ]
    },
    {
      "cell_type": "markdown",
      "metadata": {
        "id": "0p4bl7uFDm_f"
      },
      "source": [
        "#### Stemming vs Lemmatization\n",
        "\n",
        "* Stemming somtimes results in stems that are not complete words in English.  \n",
        "* Lemmatization is similar to Stemming with one difference, the final form is also meaningful words.  \n",
        "\n",
        "![](https://cdn-images-1.medium.com/max/800/1*SCIQUg-UcQCAe0k-KZBUsQ.png)"
      ]
    },
    {
      "cell_type": "code",
      "metadata": {
        "id": "2TLb7F-_DHCn"
      },
      "source": [
        ""
      ],
      "execution_count": null,
      "outputs": []
    }
  ]
}
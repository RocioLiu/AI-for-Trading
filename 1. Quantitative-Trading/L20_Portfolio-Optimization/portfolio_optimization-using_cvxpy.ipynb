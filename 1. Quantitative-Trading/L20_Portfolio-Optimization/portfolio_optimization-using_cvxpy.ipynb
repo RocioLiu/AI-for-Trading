{
 "cells": [
  {
   "cell_type": "markdown",
   "metadata": {},
   "source": [
    "# Portfolio Optimization using cvxpy"
   ]
  },
  {
   "cell_type": "markdown",
   "metadata": {},
   "source": [
    "## Install cvxpy and other libraries"
   ]
  },
  {
   "cell_type": "code",
   "execution_count": null,
   "metadata": {},
   "outputs": [
    {
     "name": "stdout",
     "output_type": "stream",
     "text": [
      "Requirement already satisfied: colour==0.1.5 in /opt/conda/lib/python3.6/site-packages (from -r requirements.txt (line 1)) (0.1.5)\n",
      "Collecting cvxpy==1.0.3 (from -r requirements.txt (line 2))\n",
      "\u001b[?25l  Downloading https://files.pythonhosted.org/packages/a1/59/2613468ffbbe3a818934d06b81b9f4877fe054afbf4f99d2f43f398a0b34/cvxpy-1.0.3.tar.gz (880kB)\n",
      "\u001b[K    100% |████████████████████████████████| 880kB 9.4MB/s eta 0:00:01  4% |█▌                              | 40kB 9.4MB/s eta 0:00:01    51% |████████████████▍               | 450kB 20.6MB/s eta 0:00:01\n",
      "\u001b[?25hRequirement already satisfied: cycler==0.10.0 in /opt/conda/lib/python3.6/site-packages/cycler-0.10.0-py3.6.egg (from -r requirements.txt (line 3)) (0.10.0)\n",
      "Collecting numpy==1.14.5 (from -r requirements.txt (line 4))\n",
      "\u001b[?25l  Downloading https://files.pythonhosted.org/packages/68/1e/116ad560de97694e2d0c1843a7a0075cc9f49e922454d32f49a80eb6f1f2/numpy-1.14.5-cp36-cp36m-manylinux1_x86_64.whl (12.2MB)\n",
      "\u001b[K    100% |████████████████████████████████| 12.2MB 1.4MB/s ta 0:00:011   10% |███▎                            | 1.2MB 11.7MB/s eta 0:00:01    23% |███████▌                        | 2.8MB 11.4MB/s eta 0:00:01    36% |███████████▋                    | 4.4MB 10.6MB/s eta 0:00:01    50% |████████████████▏               | 6.2MB 13.0MB/s eta 0:00:01    55% |█████████████████▊              | 6.7MB 13.2MB/s eta 0:00:01    59% |███████████████████▏            | 7.3MB 8.2MB/s eta 0:00:01    71% |██████████████████████▊         | 8.7MB 11.2MB/s eta 0:00:01    79% |█████████████████████████▍      | 9.7MB 10.3MB/s eta 0:00:01    83% |██████████████████████████▋     | 10.1MB 9.7MB/s eta 0:00:01\n",
      "\u001b[?25hCollecting pandas==0.21.1 (from -r requirements.txt (line 5))\n",
      "\u001b[?25l  Downloading https://files.pythonhosted.org/packages/3a/e1/6c514df670b887c77838ab856f57783c07e8760f2e3d5939203a39735e0e/pandas-0.21.1-cp36-cp36m-manylinux1_x86_64.whl (26.2MB)\n",
      "\u001b[K    100% |████████████████████████████████| 26.2MB 773kB/s ta 0:00:011  1% |▋                               | 512kB 10.6MB/s eta 0:00:03    3% |█▎                              | 1.0MB 9.2MB/s eta 0:00:03    5% |█▉                              | 1.5MB 13.1MB/s eta 0:00:02    7% |██▌                             | 2.0MB 10.4MB/s eta 0:00:03    13% |████▍                           | 3.6MB 11.3MB/s eta 0:00:03    17% |█████▋                          | 4.6MB 11.0MB/s eta 0:00:02    19% |██████▏                         | 5.1MB 8.9MB/s eta 0:00:03    21% |██████▊                         | 5.5MB 11.2MB/s eta 0:00:02    22% |███████▎                        | 6.0MB 8.2MB/s eta 0:00:03    26% |████████▋                       | 7.0MB 10.5MB/s eta 0:00:02    32% |██████████▌                     | 8.6MB 11.6MB/s eta 0:00:02    34% |███████████▏                    | 9.1MB 11.1MB/s eta 0:00:02    36% |███████████▉                    | 9.7MB 10.0MB/s eta 0:00:02    40% |█████████████▏                  | 10.8MB 9.5MB/s eta 0:00:02    42% |█████████████▊                  | 11.3MB 11.3MB/s eta 0:00:02    44% |██████████████▍                 | 11.8MB 12.2MB/s eta 0:00:02    50% |████████████████▎               | 13.3MB 7.9MB/s eta 0:00:02    52% |████████████████▉               | 13.8MB 12.0MB/s eta 0:00:02    56% |██████████████████              | 14.8MB 12.0MB/s eta 0:00:01    60% |███████████████████▍            | 15.9MB 9.5MB/s eta 0:00:02    62% |████████████████████            | 16.4MB 11.3MB/s eta 0:00:01    64% |████████████████████▋           | 16.9MB 7.7MB/s eta 0:00:02    66% |█████████████████████▏          | 17.4MB 10.0MB/s eta 0:00:01    68% |█████████████████████▉          | 17.9MB 8.1MB/s eta 0:00:02    72% |███████████████████████         | 18.9MB 10.7MB/s eta 0:00:01    75% |████████████████████████        | 19.7MB 10.7MB/s eta 0:00:01    76% |████████████████████████▋       | 20.2MB 9.9MB/s eta 0:00:01    78% |█████████████████████████▏      | 20.7MB 11.0MB/s eta 0:00:01    80% |█████████████████████████▉      | 21.1MB 8.8MB/s eta 0:00:01    84% |███████████████████████████     | 22.1MB 9.9MB/s eta 0:00:01    85% |███████████████████████████▌    | 22.6MB 7.3MB/s eta 0:00:01    87% |████████████████████████████    | 23.0MB 9.0MB/s eta 0:00:01    89% |████████████████████████████▋   | 23.4MB 11.4MB/s eta 0:00:01    93% |█████████████████████████████▉  | 24.4MB 15.1MB/s eta 0:00:01    97% |███████████████████████████████ | 25.5MB 22.1MB/s eta 0:00:01    99% |███████████████████████████████▊| 26.0MB 11.6MB/s eta 0:00:01\n",
      "\u001b[?25hCollecting plotly==2.2.3 (from -r requirements.txt (line 6))\n",
      "\u001b[?25l  Downloading https://files.pythonhosted.org/packages/99/a6/8214b6564bf4ace9bec8a26e7f89832792be582c042c47c912d3201328a0/plotly-2.2.3.tar.gz (1.1MB)\n",
      "\u001b[K    100% |████████████████████████████████| 1.1MB 6.3MB/s eta 0:00:01    44% |██████████████▎                 | 481kB 8.4MB/s eta 0:00:01\n",
      "\u001b[?25hRequirement already satisfied: pyparsing==2.2.0 in /opt/conda/lib/python3.6/site-packages (from -r requirements.txt (line 7)) (2.2.0)\n",
      "Requirement already satisfied: python-dateutil==2.6.1 in /opt/conda/lib/python3.6/site-packages (from -r requirements.txt (line 8)) (2.6.1)\n",
      "Requirement already satisfied: pytz==2017.3 in /opt/conda/lib/python3.6/site-packages (from -r requirements.txt (line 9)) (2017.3)\n",
      "Requirement already satisfied: requests==2.18.4 in /opt/conda/lib/python3.6/site-packages (from -r requirements.txt (line 10)) (2.18.4)\n",
      "Collecting scipy==1.0.0 (from -r requirements.txt (line 11))\n",
      "\u001b[?25l  Downloading https://files.pythonhosted.org/packages/d8/5e/caa01ba7be11600b6a9d39265440d7b3be3d69206da887c42bef049521f2/scipy-1.0.0-cp36-cp36m-manylinux1_x86_64.whl (50.0MB)\n",
      "\u001b[K    24% |███████▊                        | 12.1MB 9.7MB/s eta 0:00:043  0% |▏                               | 204kB 8.9MB/s eta 0:00:06    1% |▍                               | 604kB 17.7MB/s eta 0:00:03    2% |▊                               | 1.1MB 8.4MB/s eta 0:00:06    3% |█                               | 1.5MB 9.3MB/s eta 0:00:06    3% |█▎                              | 2.0MB 10.5MB/s eta 0:00:05    4% |█▋                              | 2.4MB 9.1MB/s eta 0:00:06    6% |██▏                             | 3.4MB 6.7MB/s eta 0:00:08    10% |███▍                            | 5.2MB 8.5MB/s eta 0:00:06    11% |███▋                            | 5.7MB 9.4MB/s eta 0:00:05    12% |████                            | 6.2MB 9.9MB/s eta 0:00:05    13% |████▎                           | 6.6MB 9.8MB/s eta 0:00:05    14% |████▌                           | 7.0MB 10.7MB/s eta 0:00:05    14% |████▊                           | 7.5MB 8.4MB/s eta 0:00:06    15% |█████                           | 7.8MB 8.5MB/s eta 0:00:05    16% |█████▎                          | 8.3MB 7.7MB/s eta 0:00:06    18% |█████▉                          | 9.1MB 8.0MB/s eta 0:00:06    19% |██████▍                         | 9.9MB 10.0MB/s eta 0:00:04    20% |██████▋                         | 10.4MB 9.4MB/s eta 0:00:05    21% |███████                         | 10.8MB 8.2MB/s eta 0:00:05    22% |███████▏                        | 11.2MB 9.2MB/s eta 0:00:05    23% |███████▍                        | 11.6MB 8.7MB/s eta 0:00:05"
     ]
    }
   ],
   "source": [
    "import sys\n",
    "!{sys.executable} -m pip install -r requirements.txt"
   ]
  },
  {
   "cell_type": "markdown",
   "metadata": {},
   "source": [
    "## Imports"
   ]
  },
  {
   "cell_type": "code",
   "execution_count": 3,
   "metadata": {},
   "outputs": [],
   "source": [
    "import cvxpy as cvx\n",
    "import numpy as np\n",
    "import quiz_tests"
   ]
  },
  {
   "cell_type": "markdown",
   "metadata": {},
   "source": [
    "## Optimization with cvxpy\n",
    "\n",
    "http://www.cvxpy.org/\n",
    "\n",
    "Practice using cvxpy to solve a simple optimization problem. Find the optimal weights on a two-asset portfolio given the variance of Stock A, the variance of Stock B, and the correlation between Stocks A and B. Create a function that takes in these values as arguments and returns the vector of optimal weights, i.e., \n",
    "\n",
    "$\\mathbf{x} = \\begin{bmatrix}\n",
    "x_A & x_B\n",
    "\\end{bmatrix}\n",
    "$\n",
    "\n",
    "\n",
    "Remember that the constraint in this problem is: $x_A + x_B = 1$\n",
    "\n"
   ]
  },
  {
   "cell_type": "markdown",
   "metadata": {},
   "source": [
    "## Hints\n",
    "\n",
    "### standard deviation\n",
    "standard deviation $\\sigma_A = \\sqrt(\\sigma^2_A)$, where $\\sigma^2_A$ is variance of $x_A$\n",
    "look at `np.sqrt()`\n",
    "\n",
    "### covariance\n",
    "correlation between the stocks is $\\rho_{A,B}$\n",
    "\n",
    "covariance between the stocks is $\\sigma_{A,B} = \\sigma_A \\times \\sigma_B \\times \\rho_{A,B}$\n",
    "\n",
    "### x vector\n",
    "create a vector of 2 x variables $\\mathbf{x} = \\begin{bmatrix}\n",
    "x_A & x_B\n",
    "\\end{bmatrix}\n",
    "$\n",
    "we can use `cvx.Variable(2)`\n",
    "\n",
    "### covariance matrix\n",
    "The covariance matrix $P = \n",
    "\\begin{bmatrix}\n",
    "\\sigma^2_A & \\sigma_{A,B} \\\\ \n",
    "\\sigma_{A,B} & \\sigma^2_B \n",
    "\\end{bmatrix}$\n",
    "\n",
    "We can create a 2 x 2 matrix using a 2-dimensional numpy array\n",
    "`np.array([[\"Cindy\", \"Liz\"],[\"Eddy\", \"Brok\"]])`\n",
    "\n",
    "### quadratic form\n",
    "We can write the portfolio variance $\\sigma^2_p = \\mathbf{x^T} \\mathbf{P} \\mathbf{x}$\n",
    "\n",
    "Recall that the $\\mathbf{x^T} \\mathbf{P} \\mathbf{x}$ is called the quadratic form.\n",
    "We can use the cvxpy function `quad_form(x,P)` to get the quadratic form.\n",
    "\n",
    "### objective function\n",
    "Next, we want to define the objective function.  In this case, we want to minimize something.  What do we want to minimize in this case?  We want to minimize the portfolio variance, which is defined by our quadratic form $\\mathbf{x^T} \\mathbf{P} \\mathbf{x}$\n",
    "\n",
    "We can find the objective function using cvxpy `objective = cvx.Minimize()`.  Can you guess what to pass into this function?\n",
    "\n",
    "\n",
    "### constraints\n",
    "We can also define our constraints in a list.  For example, if you wanted the $\\sum_{1}^{n}x = 1$, you could save a variable as `[sum(x)==1]`, where x was created using `cvx.Variable()`.\n",
    "\n",
    "### optimization\n",
    "So now that we have our objective function and constraints, we can solve for the values of $\\mathbf{x}$.\n",
    "cvxpy has the constructor `Problem(objective, constraints)`, which returns a `Problem` object.\n",
    "\n",
    "The `Problem` object has a function solve(), which returns the minimum of the solution.  In this case, this is the minimum variance of the portfolio.\n",
    "\n",
    "It also updates the vector $\\mathbf{x}$.\n",
    "\n",
    "We can check out the values of $x_A$ and $x_B$ that gave the minimum portfolio variance by using `x.value`"
   ]
  },
  {
   "cell_type": "code",
   "execution_count": 4,
   "metadata": {},
   "outputs": [
    {
     "name": "stdout",
     "output_type": "stream",
     "text": [
      "Tests Passed\n"
     ]
    }
   ],
   "source": [
    "import cvxpy as cvx\n",
    "import numpy as np\n",
    "\n",
    "def optimize_twoasset_portfolio(varA, varB, rAB):\n",
    "    \"\"\"Create a function that takes in the variance of Stock A, the variance of\n",
    "    Stock B, and the correlation between Stocks A and B as arguments and returns \n",
    "    the vector of optimal weights\n",
    "    \n",
    "    Parameters\n",
    "    ----------\n",
    "    varA : float\n",
    "        The variance of Stock A.\n",
    "        \n",
    "    varB : float\n",
    "        The variance of Stock B.    \n",
    "        \n",
    "    rAB : float\n",
    "        The correlation between Stocks A and B.\n",
    "        \n",
    "    Returns\n",
    "    -------\n",
    "    x : np.ndarray\n",
    "        A 2-element numpy ndarray containing the weights on Stocks A and B,\n",
    "        [x_A, x_B], that minimize the portfolio variance.\n",
    "    \n",
    "    \"\"\"\n",
    "    # TODO: Use cvxpy to determine the weights on the assets in a 2-asset\n",
    "    # portfolio that minimize portfolio variance.\n",
    "    \n",
    "    cov = np.sqrt(varA) * np.sqrt(varB) * rAB\n",
    "    \n",
    "    x = cvx.Variable(2)\n",
    "    \n",
    "    P = np.array([[varA, cov], [cov, varB]])\n",
    "    \n",
    "    objective = cvx.Minimize(cvx.quad_form(x, P))\n",
    "    \n",
    "    constraints = [sum(x) == 1]\n",
    "    \n",
    "    problem = cvx.Problem(objective, constraints)\n",
    "    \n",
    "    min_value = problem.solve()\n",
    "    \n",
    "    xA, xB = x.value\n",
    "    \n",
    "    return xA, xB\n",
    "\n",
    "quiz_tests.test_optimize_twoasset_portfolio(optimize_twoasset_portfolio)"
   ]
  },
  {
   "cell_type": "code",
   "execution_count": 5,
   "metadata": {},
   "outputs": [
    {
     "name": "stdout",
     "output_type": "stream",
     "text": [
      "Weight on Stock A: 0.281935\n",
      "Weight on Stock B: 0.718065\n"
     ]
    }
   ],
   "source": [
    "\"\"\"Test run optimize_twoasset_portfolio().\"\"\"\n",
    "xA,xB = optimize_twoasset_portfolio(0.1, 0.05, 0.25)\n",
    "print(\"Weight on Stock A: {:.6f}\".format(xA))\n",
    "print(\"Weight on Stock B: {:.6f}\".format(xB))"
   ]
  },
  {
   "cell_type": "markdown",
   "metadata": {},
   "source": [
    "If you're feeling stuck, you can check out the solution [here](m3l4_cvxpy_basic_solution.ipynb)"
   ]
  },
  {
   "cell_type": "code",
   "execution_count": null,
   "metadata": {},
   "outputs": [],
   "source": []
  }
 ],
 "metadata": {
  "kernelspec": {
   "display_name": "Python 3",
   "language": "python",
   "name": "python3"
  },
  "language_info": {
   "codemirror_mode": {
    "name": "ipython",
    "version": 3
   },
   "file_extension": ".py",
   "mimetype": "text/x-python",
   "name": "python",
   "nbconvert_exporter": "python",
   "pygments_lexer": "ipython3",
   "version": "3.6.3"
  }
 },
 "nbformat": 4,
 "nbformat_minor": 2
}
